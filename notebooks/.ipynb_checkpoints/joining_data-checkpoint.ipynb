{
 "cells": [
  {
   "cell_type": "code",
   "execution_count": 2,
   "metadata": {},
   "outputs": [],
   "source": [
    "# imports\n",
    "import requests\n",
    "from IPython.display import JSON \n",
    "import pandas as pd\n",
    "import os\n",
    "import requests\n",
    "import json\n",
    "import matplotlib"
   ]
  },
  {
   "cell_type": "markdown",
   "metadata": {},
   "source": [
    "Join the data from Part 1 with the data from Part 2 to create a new dataframe."
   ]
  },
  {
   "cell_type": "code",
   "execution_count": 3,
   "metadata": {},
   "outputs": [
    {
     "data": {
      "text/html": [
       "<div>\n",
       "<style scoped>\n",
       "    .dataframe tbody tr th:only-of-type {\n",
       "        vertical-align: middle;\n",
       "    }\n",
       "\n",
       "    .dataframe tbody tr th {\n",
       "        vertical-align: top;\n",
       "    }\n",
       "\n",
       "    .dataframe thead th {\n",
       "        text-align: right;\n",
       "    }\n",
       "</style>\n",
       "<table border=\"1\" class=\"dataframe\">\n",
       "  <thead>\n",
       "    <tr style=\"text-align: right;\">\n",
       "      <th></th>\n",
       "      <th>station ids</th>\n",
       "      <th>latitude</th>\n",
       "      <th>longitude</th>\n",
       "      <th>free bikes</th>\n",
       "      <th>empty slots</th>\n",
       "      <th>total bikes</th>\n",
       "    </tr>\n",
       "  </thead>\n",
       "  <tbody>\n",
       "    <tr>\n",
       "      <th>0</th>\n",
       "      <td>72bfd647b3d2b650546f42319729757d</td>\n",
       "      <td>45.617500</td>\n",
       "      <td>-73.606011</td>\n",
       "      <td>2</td>\n",
       "      <td>9</td>\n",
       "      <td>11</td>\n",
       "    </tr>\n",
       "    <tr>\n",
       "      <th>1</th>\n",
       "      <td>36c6491aa1b52e5ef7005f984738de27</td>\n",
       "      <td>45.516926</td>\n",
       "      <td>-73.564257</td>\n",
       "      <td>3</td>\n",
       "      <td>10</td>\n",
       "      <td>13</td>\n",
       "    </tr>\n",
       "    <tr>\n",
       "      <th>2</th>\n",
       "      <td>30f081e03c42b3e7b3a5c4cd5acc3286</td>\n",
       "      <td>45.541549</td>\n",
       "      <td>-73.565012</td>\n",
       "      <td>3</td>\n",
       "      <td>9</td>\n",
       "      <td>12</td>\n",
       "    </tr>\n",
       "    <tr>\n",
       "      <th>3</th>\n",
       "      <td>8db822a266b5ccb3a1e323ddc8721d62</td>\n",
       "      <td>45.506176</td>\n",
       "      <td>-73.711186</td>\n",
       "      <td>7</td>\n",
       "      <td>12</td>\n",
       "      <td>19</td>\n",
       "    </tr>\n",
       "    <tr>\n",
       "      <th>4</th>\n",
       "      <td>660275cd7d4368cc7590f1606c633bd6</td>\n",
       "      <td>45.512994</td>\n",
       "      <td>-73.682498</td>\n",
       "      <td>7</td>\n",
       "      <td>14</td>\n",
       "      <td>21</td>\n",
       "    </tr>\n",
       "    <tr>\n",
       "      <th>5</th>\n",
       "      <td>fddada5adc997290212b3f540c017274</td>\n",
       "      <td>45.514734</td>\n",
       "      <td>-73.691449</td>\n",
       "      <td>1</td>\n",
       "      <td>14</td>\n",
       "      <td>15</td>\n",
       "    </tr>\n",
       "    <tr>\n",
       "      <th>6</th>\n",
       "      <td>83d02cd8a043b8305a4031063005d32e</td>\n",
       "      <td>45.522341</td>\n",
       "      <td>-73.721679</td>\n",
       "      <td>0</td>\n",
       "      <td>15</td>\n",
       "      <td>15</td>\n",
       "    </tr>\n",
       "    <tr>\n",
       "      <th>7</th>\n",
       "      <td>888e6052f1aebab8d8a527776b3499b6</td>\n",
       "      <td>45.566869</td>\n",
       "      <td>-73.641017</td>\n",
       "      <td>2</td>\n",
       "      <td>12</td>\n",
       "      <td>14</td>\n",
       "    </tr>\n",
       "  </tbody>\n",
       "</table>\n",
       "</div>"
      ],
      "text/plain": [
       "                        station ids   latitude  longitude  free bikes  \\\n",
       "0  72bfd647b3d2b650546f42319729757d  45.617500 -73.606011           2   \n",
       "1  36c6491aa1b52e5ef7005f984738de27  45.516926 -73.564257           3   \n",
       "2  30f081e03c42b3e7b3a5c4cd5acc3286  45.541549 -73.565012           3   \n",
       "3  8db822a266b5ccb3a1e323ddc8721d62  45.506176 -73.711186           7   \n",
       "4  660275cd7d4368cc7590f1606c633bd6  45.512994 -73.682498           7   \n",
       "5  fddada5adc997290212b3f540c017274  45.514734 -73.691449           1   \n",
       "6  83d02cd8a043b8305a4031063005d32e  45.522341 -73.721679           0   \n",
       "7  888e6052f1aebab8d8a527776b3499b6  45.566869 -73.641017           2   \n",
       "\n",
       "   empty slots  total bikes  \n",
       "0            9           11  \n",
       "1           10           13  \n",
       "2            9           12  \n",
       "3           12           19  \n",
       "4           14           21  \n",
       "5           14           15  \n",
       "6           15           15  \n",
       "7           12           14  "
      ]
     },
     "execution_count": 3,
     "metadata": {},
     "output_type": "execute_result"
    }
   ],
   "source": [
    "mtl_stations = pd.read_csv('../data/stations_data.csv')\n",
    "\n",
    "\n",
    "mtl_stations"
   ]
  },
  {
   "cell_type": "code",
   "execution_count": 4,
   "metadata": {},
   "outputs": [],
   "source": [
    "latitude_list = []\n",
    "longitude_list = []\n",
    "for row in range(len(mtl_stations)):\n",
    "    latitude_list.append(mtl_stations['latitude'][row])\n",
    "    longitude_list.append(mtl_stations['longitude'][row])"
   ]
  },
  {
   "cell_type": "code",
   "execution_count": 5,
   "metadata": {},
   "outputs": [],
   "source": [
    "def get_bars(lat, long):\n",
    "    url = \"https://api.foursquare.com/v3/places/search\"\n",
    "    params = {\n",
    "  \t\"query\": \"restaurant\",\n",
    "  \t\"ll\": str(lat)+\",\"+str(long),\n",
    "  \t\"sort\":\"DISTANCE\",\n",
    "    \"fields\": 'name,rating,price,popularity,distance',\n",
    "    \"radius\":\"1000\",\n",
    "    \"limit\": 50}\n",
    "    headers = {\n",
    "    \"Accept\": \"application/json\",\n",
    "    \"Authorization\": \"fsq3abwKJ6iVdOjAznwWfKSu32hz7kDliaypJENWAblWw40=\"}\n",
    "    response = requests.request(\"GET\", url, params=params, headers=headers)\n",
    "    # return name and address\n",
    "    # print('get_bars function ran')\n",
    "    return response.json()"
   ]
  },
  {
   "cell_type": "code",
   "execution_count": 6,
   "metadata": {},
   "outputs": [],
   "source": [
    "output = []\n",
    "for row in range(len(mtl_stations)):\n",
    "    result = get_bars(mtl_stations['latitude'][row],mtl_stations['longitude'][row])\n",
    "    # store results somewhere\n",
    "    output.append(result)\n"
   ]
  },
  {
   "cell_type": "code",
   "execution_count": 7,
   "metadata": {},
   "outputs": [
    {
     "name": "stdout",
     "output_type": "stream",
     "text": [
      "6\n",
      "50\n",
      "41\n",
      "9\n",
      "41\n",
      "42\n",
      "20\n",
      "10\n",
      "[6, 50, 41, 9, 41, 42, 20, 10]\n"
     ]
    }
   ],
   "source": [
    "restaurant_count = []\n",
    "for item in output:\n",
    "    print(len(item['results']))\n",
    "    restaurant_count.append(len(item['results']))\n",
    "\n",
    "print(restaurant_count)\n"
   ]
  },
  {
   "cell_type": "code",
   "execution_count": 8,
   "metadata": {},
   "outputs": [
    {
     "data": {
      "text/html": [
       "<div>\n",
       "<style scoped>\n",
       "    .dataframe tbody tr th:only-of-type {\n",
       "        vertical-align: middle;\n",
       "    }\n",
       "\n",
       "    .dataframe tbody tr th {\n",
       "        vertical-align: top;\n",
       "    }\n",
       "\n",
       "    .dataframe thead th {\n",
       "        text-align: right;\n",
       "    }\n",
       "</style>\n",
       "<table border=\"1\" class=\"dataframe\">\n",
       "  <thead>\n",
       "    <tr style=\"text-align: right;\">\n",
       "      <th></th>\n",
       "      <th>latitude</th>\n",
       "      <th>longitude</th>\n",
       "      <th>restaurant count</th>\n",
       "      <th>num stalls</th>\n",
       "    </tr>\n",
       "  </thead>\n",
       "  <tbody>\n",
       "    <tr>\n",
       "      <th>0</th>\n",
       "      <td>45.617500</td>\n",
       "      <td>-73.606011</td>\n",
       "      <td>6</td>\n",
       "      <td>11</td>\n",
       "    </tr>\n",
       "    <tr>\n",
       "      <th>1</th>\n",
       "      <td>45.516926</td>\n",
       "      <td>-73.564257</td>\n",
       "      <td>50</td>\n",
       "      <td>13</td>\n",
       "    </tr>\n",
       "    <tr>\n",
       "      <th>2</th>\n",
       "      <td>45.541549</td>\n",
       "      <td>-73.565012</td>\n",
       "      <td>41</td>\n",
       "      <td>12</td>\n",
       "    </tr>\n",
       "    <tr>\n",
       "      <th>3</th>\n",
       "      <td>45.506176</td>\n",
       "      <td>-73.711186</td>\n",
       "      <td>9</td>\n",
       "      <td>19</td>\n",
       "    </tr>\n",
       "    <tr>\n",
       "      <th>4</th>\n",
       "      <td>45.512994</td>\n",
       "      <td>-73.682498</td>\n",
       "      <td>41</td>\n",
       "      <td>21</td>\n",
       "    </tr>\n",
       "    <tr>\n",
       "      <th>5</th>\n",
       "      <td>45.514734</td>\n",
       "      <td>-73.691449</td>\n",
       "      <td>42</td>\n",
       "      <td>15</td>\n",
       "    </tr>\n",
       "    <tr>\n",
       "      <th>6</th>\n",
       "      <td>45.522341</td>\n",
       "      <td>-73.721679</td>\n",
       "      <td>20</td>\n",
       "      <td>15</td>\n",
       "    </tr>\n",
       "    <tr>\n",
       "      <th>7</th>\n",
       "      <td>45.566869</td>\n",
       "      <td>-73.641017</td>\n",
       "      <td>10</td>\n",
       "      <td>14</td>\n",
       "    </tr>\n",
       "  </tbody>\n",
       "</table>\n",
       "</div>"
      ],
      "text/plain": [
       "    latitude  longitude  restaurant count  num stalls\n",
       "0  45.617500 -73.606011                 6          11\n",
       "1  45.516926 -73.564257                50          13\n",
       "2  45.541549 -73.565012                41          12\n",
       "3  45.506176 -73.711186                 9          19\n",
       "4  45.512994 -73.682498                41          21\n",
       "5  45.514734 -73.691449                42          15\n",
       "6  45.522341 -73.721679                20          15\n",
       "7  45.566869 -73.641017                10          14"
      ]
     },
     "execution_count": 8,
     "metadata": {},
     "output_type": "execute_result"
    }
   ],
   "source": [
    "mtl_results = pd.DataFrame({'latitude': latitude_list,\n",
    "                           'longitude': longitude_list,\n",
    "                           'restaurant count': restaurant_count,\n",
    "                           'num stalls': mtl_stations['total bikes']})\n",
    "mtl_results"
   ]
  },
  {
   "cell_type": "code",
   "execution_count": 9,
   "metadata": {},
   "outputs": [],
   "source": [
    "mtl_results.to_csv('../data/mtl_results.csv', index=False)"
   ]
  },
  {
   "cell_type": "code",
   "execution_count": null,
   "metadata": {},
   "outputs": [],
   "source": []
  },
  {
   "cell_type": "markdown",
   "metadata": {},
   "source": [
    "Provide a visualization that you used as part of your EDA process. Explain the initial pattern or relationship you discoved through this visualization. \n",
    "\n",
    "* no clear strong relationship with number of bike stalls available predicting restaurant counts (fig 1)\n",
    "* no clear strong relationship with restaurant count predicting number of bike stalls (fig 2)"
   ]
  },
  {
   "cell_type": "code",
   "execution_count": 10,
   "metadata": {},
   "outputs": [
    {
     "data": {
      "text/plain": [
       "<AxesSubplot: xlabel='num stalls', ylabel='restaurant count'>"
      ]
     },
     "execution_count": 10,
     "metadata": {},
     "output_type": "execute_result"
    },
    {
     "data": {
      "image/png": "[encoded data removed]",
      "text/plain": [
       "<Figure size 640x480 with 1 Axes>"
      ]
     },
     "metadata": {},
     "output_type": "display_data"
    }
   ],
   "source": [
    "# Fig 1 - EDA\n",
    "mtl_results.plot.scatter(x ='num stalls', y ='restaurant count')"
   ]
  },
  {
   "cell_type": "code",
   "execution_count": 11,
   "metadata": {},
   "outputs": [
    {
     "data": {
      "text/plain": [
       "<AxesSubplot: xlabel='restaurant count', ylabel='num stalls'>"
      ]
     },
     "execution_count": 11,
     "metadata": {},
     "output_type": "execute_result"
    },
    {
     "data": {
      "image/png": "[encoded data removed]",
      "text/plain": [
       "<Figure size 640x480 with 1 Axes>"
      ]
     },
     "metadata": {},
     "output_type": "display_data"
    }
   ],
   "source": [
    "# Fig 2 EDA\n",
    "mtl_results.plot.scatter(x ='restaurant count', y ='num stalls')"
   ]
  },
  {
   "cell_type": "code",
   "execution_count": 12,
   "metadata": {},
   "outputs": [
    {
     "data": {
      "text/html": [
       "<div>\n",
       "<style scoped>\n",
       "    .dataframe tbody tr th:only-of-type {\n",
       "        vertical-align: middle;\n",
       "    }\n",
       "\n",
       "    .dataframe tbody tr th {\n",
       "        vertical-align: top;\n",
       "    }\n",
       "\n",
       "    .dataframe thead th {\n",
       "        text-align: right;\n",
       "    }\n",
       "</style>\n",
       "<table border=\"1\" class=\"dataframe\">\n",
       "  <thead>\n",
       "    <tr style=\"text-align: right;\">\n",
       "      <th></th>\n",
       "      <th>latitude</th>\n",
       "      <th>longitude</th>\n",
       "      <th>restaurant count</th>\n",
       "      <th>num stalls</th>\n",
       "    </tr>\n",
       "  </thead>\n",
       "  <tbody>\n",
       "    <tr>\n",
       "      <th>0</th>\n",
       "      <td>45.617500</td>\n",
       "      <td>-73.606011</td>\n",
       "      <td>18</td>\n",
       "      <td>11</td>\n",
       "    </tr>\n",
       "    <tr>\n",
       "      <th>1</th>\n",
       "      <td>45.516926</td>\n",
       "      <td>-73.564257</td>\n",
       "      <td>602</td>\n",
       "      <td>13</td>\n",
       "    </tr>\n",
       "    <tr>\n",
       "      <th>2</th>\n",
       "      <td>45.541549</td>\n",
       "      <td>-73.565012</td>\n",
       "      <td>100</td>\n",
       "      <td>12</td>\n",
       "    </tr>\n",
       "    <tr>\n",
       "      <th>3</th>\n",
       "      <td>45.506176</td>\n",
       "      <td>-73.711186</td>\n",
       "      <td>29</td>\n",
       "      <td>19</td>\n",
       "    </tr>\n",
       "    <tr>\n",
       "      <th>4</th>\n",
       "      <td>45.512994</td>\n",
       "      <td>-73.682498</td>\n",
       "      <td>89</td>\n",
       "      <td>21</td>\n",
       "    </tr>\n",
       "    <tr>\n",
       "      <th>5</th>\n",
       "      <td>45.514734</td>\n",
       "      <td>-73.691449</td>\n",
       "      <td>89</td>\n",
       "      <td>15</td>\n",
       "    </tr>\n",
       "    <tr>\n",
       "      <th>6</th>\n",
       "      <td>45.522341</td>\n",
       "      <td>-73.721679</td>\n",
       "      <td>27</td>\n",
       "      <td>15</td>\n",
       "    </tr>\n",
       "    <tr>\n",
       "      <th>7</th>\n",
       "      <td>45.566869</td>\n",
       "      <td>-73.641017</td>\n",
       "      <td>31</td>\n",
       "      <td>14</td>\n",
       "    </tr>\n",
       "  </tbody>\n",
       "</table>\n",
       "</div>"
      ],
      "text/plain": [
       "    latitude  longitude  restaurant count  num stalls\n",
       "0  45.617500 -73.606011                18          11\n",
       "1  45.516926 -73.564257               602          13\n",
       "2  45.541549 -73.565012               100          12\n",
       "3  45.506176 -73.711186                29          19\n",
       "4  45.512994 -73.682498                89          21\n",
       "5  45.514734 -73.691449                89          15\n",
       "6  45.522341 -73.721679                27          15\n",
       "7  45.566869 -73.641017                31          14"
      ]
     },
     "execution_count": 12,
     "metadata": {},
     "output_type": "execute_result"
    }
   ],
   "source": [
    "mtl_results_yelp = pd.read_csv('../data/mtl_results_yelp.csv')\n",
    "mtl_results_yelp"
   ]
  },
  {
   "cell_type": "code",
   "execution_count": null,
   "metadata": {},
   "outputs": [],
   "source": []
  },
  {
   "cell_type": "markdown",
   "metadata": {},
   "source": [
    "# Database"
   ]
  },
  {
   "cell_type": "markdown",
   "metadata": {},
   "source": [
    "Put all your results in an SQLite3 database (remember, SQLite stores its databases as files in your local machine - make sure to create your database in your project's data/ directory!)"
   ]
  },
  {
   "cell_type": "code",
   "execution_count": null,
   "metadata": {},
   "outputs": [],
   "source": []
  },
  {
   "cell_type": "markdown",
   "metadata": {},
   "source": [
    "Look at the data before and after the join to validate your data."
   ]
  },
  {
   "cell_type": "code",
   "execution_count": null,
   "metadata": {},
   "outputs": [],
   "source": []
  }
 ],
 "metadata": {
  "kernelspec": {
   "display_name": "Python 3 (ipykernel)",
   "language": "python",
   "name": "python3"
  },
  "language_info": {
   "codemirror_mode": {
    "name": "ipython",
    "version": 3
   },
   "file_extension": ".py",
   "mimetype": "text/x-python",
   "name": "python",
   "nbconvert_exporter": "python",
   "pygments_lexer": "ipython3",
   "version": "3.10.8"
  }
 },
 "nbformat": 4,
 "nbformat_minor": 4
}
