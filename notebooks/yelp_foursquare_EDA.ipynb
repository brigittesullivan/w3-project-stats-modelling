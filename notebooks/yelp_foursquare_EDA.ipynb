{
 "cells": [
  {
   "cell_type": "code",
   "execution_count": 2,
   "metadata": {},
   "outputs": [],
   "source": [
    "# imports\n",
    "import requests\n",
    "from IPython.display import JSON \n",
    "import pandas as pd\n",
    "import os\n",
    "import requests\n",
    "import json\n",
    "import matplotlib"
   ]
  },
  {
   "cell_type": "markdown",
   "metadata": {},
   "source": [
    "# Foursquare"
   ]
  },
  {
   "cell_type": "code",
   "execution_count": null,
   "metadata": {
    "tags": []
   },
   "outputs": [],
   "source": [
    "## part 2"
   ]
  },
  {
   "cell_type": "code",
   "execution_count": 30,
   "metadata": {},
   "outputs": [
    {
     "data": {
      "text/html": [
       "<div>\n",
       "<style scoped>\n",
       "    .dataframe tbody tr th:only-of-type {\n",
       "        vertical-align: middle;\n",
       "    }\n",
       "\n",
       "    .dataframe tbody tr th {\n",
       "        vertical-align: top;\n",
       "    }\n",
       "\n",
       "    .dataframe thead th {\n",
       "        text-align: right;\n",
       "    }\n",
       "</style>\n",
       "<table border=\"1\" class=\"dataframe\">\n",
       "  <thead>\n",
       "    <tr style=\"text-align: right;\">\n",
       "      <th></th>\n",
       "      <th>station ids</th>\n",
       "      <th>latitude</th>\n",
       "      <th>longitude</th>\n",
       "      <th>free bikes</th>\n",
       "      <th>empty slots</th>\n",
       "      <th>total bikes</th>\n",
       "    </tr>\n",
       "  </thead>\n",
       "  <tbody>\n",
       "    <tr>\n",
       "      <th>0</th>\n",
       "      <td>72bfd647b3d2b650546f42319729757d</td>\n",
       "      <td>45.617500</td>\n",
       "      <td>-73.606011</td>\n",
       "      <td>2</td>\n",
       "      <td>9</td>\n",
       "      <td>11</td>\n",
       "    </tr>\n",
       "    <tr>\n",
       "      <th>1</th>\n",
       "      <td>36c6491aa1b52e5ef7005f984738de27</td>\n",
       "      <td>45.516926</td>\n",
       "      <td>-73.564257</td>\n",
       "      <td>3</td>\n",
       "      <td>10</td>\n",
       "      <td>13</td>\n",
       "    </tr>\n",
       "    <tr>\n",
       "      <th>2</th>\n",
       "      <td>30f081e03c42b3e7b3a5c4cd5acc3286</td>\n",
       "      <td>45.541549</td>\n",
       "      <td>-73.565012</td>\n",
       "      <td>3</td>\n",
       "      <td>9</td>\n",
       "      <td>12</td>\n",
       "    </tr>\n",
       "    <tr>\n",
       "      <th>3</th>\n",
       "      <td>8db822a266b5ccb3a1e323ddc8721d62</td>\n",
       "      <td>45.506176</td>\n",
       "      <td>-73.711186</td>\n",
       "      <td>7</td>\n",
       "      <td>12</td>\n",
       "      <td>19</td>\n",
       "    </tr>\n",
       "    <tr>\n",
       "      <th>4</th>\n",
       "      <td>660275cd7d4368cc7590f1606c633bd6</td>\n",
       "      <td>45.512994</td>\n",
       "      <td>-73.682498</td>\n",
       "      <td>7</td>\n",
       "      <td>14</td>\n",
       "      <td>21</td>\n",
       "    </tr>\n",
       "    <tr>\n",
       "      <th>5</th>\n",
       "      <td>fddada5adc997290212b3f540c017274</td>\n",
       "      <td>45.514734</td>\n",
       "      <td>-73.691449</td>\n",
       "      <td>1</td>\n",
       "      <td>14</td>\n",
       "      <td>15</td>\n",
       "    </tr>\n",
       "    <tr>\n",
       "      <th>6</th>\n",
       "      <td>83d02cd8a043b8305a4031063005d32e</td>\n",
       "      <td>45.522341</td>\n",
       "      <td>-73.721679</td>\n",
       "      <td>0</td>\n",
       "      <td>15</td>\n",
       "      <td>15</td>\n",
       "    </tr>\n",
       "    <tr>\n",
       "      <th>7</th>\n",
       "      <td>888e6052f1aebab8d8a527776b3499b6</td>\n",
       "      <td>45.566869</td>\n",
       "      <td>-73.641017</td>\n",
       "      <td>2</td>\n",
       "      <td>12</td>\n",
       "      <td>14</td>\n",
       "    </tr>\n",
       "  </tbody>\n",
       "</table>\n",
       "</div>"
      ],
      "text/plain": [
       "                        station ids   latitude  longitude  free bikes  \\\n",
       "0  72bfd647b3d2b650546f42319729757d  45.617500 -73.606011           2   \n",
       "1  36c6491aa1b52e5ef7005f984738de27  45.516926 -73.564257           3   \n",
       "2  30f081e03c42b3e7b3a5c4cd5acc3286  45.541549 -73.565012           3   \n",
       "3  8db822a266b5ccb3a1e323ddc8721d62  45.506176 -73.711186           7   \n",
       "4  660275cd7d4368cc7590f1606c633bd6  45.512994 -73.682498           7   \n",
       "5  fddada5adc997290212b3f540c017274  45.514734 -73.691449           1   \n",
       "6  83d02cd8a043b8305a4031063005d32e  45.522341 -73.721679           0   \n",
       "7  888e6052f1aebab8d8a527776b3499b6  45.566869 -73.641017           2   \n",
       "\n",
       "   empty slots  total bikes  \n",
       "0            9           11  \n",
       "1           10           13  \n",
       "2            9           12  \n",
       "3           12           19  \n",
       "4           14           21  \n",
       "5           14           15  \n",
       "6           15           15  \n",
       "7           12           14  "
      ]
     },
     "execution_count": 30,
     "metadata": {},
     "output_type": "execute_result"
    }
   ],
   "source": [
    "# import data from city_bikes - part 1\n",
    "mtl_stations = pd.read_csv('../data/stations_data.csv')\n",
    "mtl_stations['latitude'][0]\n",
    "\n",
    "\n",
    "mtl_stations\n"
   ]
  },
  {
   "cell_type": "code",
   "execution_count": 33,
   "metadata": {},
   "outputs": [
    {
     "data": {
      "text/plain": [
       "8"
      ]
     },
     "execution_count": 33,
     "metadata": {},
     "output_type": "execute_result"
    }
   ],
   "source": [
    "len(mtl_stations['station ids'])\n",
    "mtl_stations.shape[0]"
   ]
  },
  {
   "cell_type": "code",
   "execution_count": 34,
   "metadata": {},
   "outputs": [],
   "source": [
    "# extract data from Foursquare API\n",
    "\n",
    "def get_bars(lat, long):\n",
    "    url = \"https://api.foursquare.com/v3/places/search\"\n",
    "    params = {\n",
    "  \t\"query\": \"restaurant\",\n",
    "  \t\"ll\": str(lat)+\",\"+str(long),\n",
    "  \t\"sort\":\"DISTANCE\",\n",
    "    \"fields\": 'name,rating,price,popularity,distance',\n",
    "    \"radius\":\"1000\",\n",
    "    \"limit\": 50}\n",
    "    headers = {\n",
    "    \"Accept\": \"application/json\",\n",
    "    \"Authorization\": \"fsq3abwKJ6iVdOjAznwWfKSu32hz7kDliaypJENWAblWw40=\"}\n",
    "    response = requests.request(\"GET\", url, params=params, headers=headers)\n",
    "    # return name and address\n",
    "    # print('get_bars function ran')\n",
    "    return response.json()"
   ]
  },
  {
   "cell_type": "code",
   "execution_count": 35,
   "metadata": {},
   "outputs": [],
   "source": [
    "output = []\n",
    "for row in range(len(mtl_stations)):\n",
    "    result = get_bars(mtl_stations['latitude'][row],mtl_stations['longitude'][row])\n",
    "    # store results somewhere\n",
    "    output.append(result)\n"
   ]
  },
  {
   "cell_type": "code",
   "execution_count": 36,
   "metadata": {},
   "outputs": [
    {
     "data": {
      "application/json": [
       {
        "context": {
         "geo_bounds": {
          "circle": {
           "center": {
            "latitude": 45.617499783128075,
            "longitude": -73.60601127147675
           },
           "radius": 1000
          }
         }
        },
        "results": [
         {
          "distance": 240,
          "name": "Resto Capucine",
          "popularity": 0.9951572989805463,
          "price": 2
         },
         {
          "distance": 587,
          "name": "Biscuits Heavenly Taste Biscotti",
          "popularity": 0.8060433119812449,
          "price": 1
         },
         {
          "distance": 696,
          "name": "Restaurant Phoenix Oriental",
          "popularity": 0.9743182921486674,
          "price": 2
         },
         {
          "distance": 773,
          "name": "Restaurant Shekz",
          "popularity": 0.33895355032738556,
          "price": 2
         },
         {
          "distance": 941,
          "name": "Restaurant Prima Luna",
          "popularity": 0.9710385166416046,
          "price": 1,
          "rating": 7.4
         },
         {
          "distance": 964,
          "name": "Pizzeria Etc",
          "popularity": 0.8565423825141788,
          "price": 1
         }
        ]
       },
       {
        "context": {
         "geo_bounds": {
          "circle": {
           "center": {
            "latitude": 45.516926210319546,
            "longitude": -73.56425732374191
           },
           "radius": 1000
          }
         }
        },
        "results": [
         {
          "distance": 129,
          "name": "M4 Burritos",
          "popularity": 0.9397089643250411,
          "price": 1,
          "rating": 7.3
         },
         {
          "distance": 134,
          "name": "Taiyo Sushi",
          "popularity": 0.9238192216157335,
          "price": 2,
          "rating": 7
         },
         {
          "distance": 146,
          "name": "Resto Végo",
          "popularity": 0.9157085854340078,
          "price": 2,
          "rating": 6.9
         },
         {
          "distance": 157,
          "name": "Frite Alors",
          "popularity": 0.936760718472122,
          "price": 2,
          "rating": 7.7
         },
         {
          "distance": 158,
          "name": "Patrick'S Pub Irlandais",
          "popularity": 0.9489207525723149,
          "rating": 7.6
         },
         {
          "distance": 168,
          "name": "Second Cup",
          "popularity": 0.8731070248765644,
          "price": 1,
          "rating": 6
         },
         {
          "distance": 185,
          "name": "Casa Galicia",
          "popularity": 0.9021040292693323,
          "price": 4,
          "rating": 6.7
         },
         {
          "distance": 190,
          "name": "Le Parva café&bistro",
          "popularity": 0.9740696449080597,
          "price": 1,
          "rating": 7
         },
         {
          "distance": 194,
          "name": "Napoli Pizzeria",
          "popularity": 0.9148087192299039,
          "price": 2,
          "rating": 6
         },
         {
          "distance": 208,
          "name": "Pizzeria Dei Compari",
          "popularity": 0.947132860508898,
          "price": 2,
          "rating": 7.8
         },
         {
          "distance": 229,
          "name": "Omnivore",
          "popularity": 0.900422700309033,
          "price": 2,
          "rating": 7.7
         },
         {
          "distance": 232,
          "name": "Takumi Sushi",
          "popularity": 0.9644552849378973,
          "price": 2,
          "rating": 7.5
         },
         {
          "distance": 240,
          "name": "Menthe et Couscous",
          "popularity": 0.8569923156162308,
          "price": 2,
          "rating": 6.3
         },
         {
          "distance": 248,
          "name": "Burger King",
          "popularity": 0.8586973252661118,
          "price": 1,
          "rating": 5.9
         },
         {
          "distance": 263,
          "name": "S.O.Qun",
          "popularity": 0.8774524314148028,
          "price": 2,
          "rating": 7.8
         },
         {
          "distance": 285,
          "name": "Subway",
          "popularity": 0.23925784718851012,
          "price": 1,
          "rating": 6.5
         },
         {
          "distance": 294,
          "name": "Café Saint-Henri Quartier Latin",
          "popularity": 0.9318114543495507,
          "price": 1,
          "rating": 8.5
         },
         {
          "distance": 301,
          "name": "Saint-Houblon",
          "popularity": 0.9699255242312657,
          "price": 3,
          "rating": 8.3
         },
         {
          "distance": 327,
          "name": "Thai Express",
          "popularity": 0.8766472879690257,
          "price": 2,
          "rating": 5.9
         },
         {
          "distance": 359,
          "name": "Le Mousso",
          "popularity": 0.9365239115763051,
          "price": 2,
          "rating": 8.8
         },
         {
          "distance": 360,
          "name": "Restaurant Philippe",
          "popularity": 0.8912345927513409,
          "price": 1,
          "rating": 8.4
         },
         {
          "distance": 372,
          "name": "Restaurant de l'ITHQ",
          "popularity": 0.9080834033887066,
          "price": 2,
          "rating": 7.8
         },
         {
          "distance": 378,
          "name": "Subway",
          "popularity": 0.872396604189114,
          "price": 1,
          "rating": 6.4
         },
         {
          "distance": 380,
          "name": "Tutti Frutti",
          "popularity": 0.8613022011200966,
          "price": 1,
          "rating": 4.8
         },
         {
          "distance": 386,
          "name": "Sushi 4 Saisons",
          "popularity": 0.8862261269048155,
          "price": 2,
          "rating": 6.9
         },
         {
          "distance": 391,
          "name": "Aire de restauration - Place Dupuis - Food Court",
          "popularity": 0.9385130895011663,
          "rating": 6
         },
         {
          "distance": 404,
          "name": "Restaurant Pho Viet",
          "popularity": 0.9083912523532686,
          "price": 2,
          "rating": 6.2
         },
         {
          "distance": 426,
          "name": "La Fabrique Bistrot",
          "popularity": 0.9352096333045218,
          "price": 4,
          "rating": 8.7
         },
         {
          "distance": 429,
          "name": "Sushi Momo Végétalien",
          "popularity": 0.8994636323809749,
          "price": 2,
          "rating": 8.1
         },
         {
          "distance": 439,
          "name": "Amir Restaurant",
          "popularity": 0.854079590797684,
          "price": 2,
          "rating": 5.9
         },
         {
          "distance": 447,
          "name": "A&W Restaurant",
          "popularity": 0.9214629930023562,
          "price": 1,
          "rating": 6.2
         },
         {
          "distance": 452,
          "name": "Restaurant Carte Blanche",
          "popularity": 0.8766591283138165,
          "price": 3,
          "rating": 6.7
         },
         {
          "distance": 462,
          "name": "Café Cherrier",
          "popularity": 0.922741750239767,
          "price": 3,
          "rating": 7.6
         },
         {
          "distance": 464,
          "name": "Le Blossom",
          "popularity": 0.9043063334004287,
          "price": 2,
          "rating": 6.1
         },
         {
          "distance": 471,
          "name": "McDonald's",
          "popularity": 0.9786992197212783,
          "price": 1,
          "rating": 5.1
         },
         {
          "distance": 475,
          "name": "Café Lulu",
          "popularity": 0.938832778810519,
          "price": 1,
          "rating": 8.4
         },
         {
          "distance": 488,
          "name": "O'Thym",
          "popularity": 0.9398747291521129,
          "price": 3,
          "rating": 8.5
         },
         {
          "distance": 499,
          "name": "A&W Restaurant",
          "popularity": 0.9675100938939342,
          "price": 1,
          "rating": 6.3
         },
         {
          "distance": 503,
          "name": "La graine brûlée",
          "popularity": 0.9602874835715216,
          "price": 1,
          "rating": 7.9
         },
         {
          "distance": 512,
          "name": "L'Oeufrier",
          "popularity": 0.9263412150561824,
          "price": 2,
          "rating": 7.1
         },
         {
          "distance": 528,
          "name": "Pizza Pizza",
          "popularity": 0.9552434966906236,
          "price": 1,
          "rating": 6.5
         },
         {
          "distance": 533,
          "name": "Café Saigon",
          "popularity": 0.9142048616455711,
          "price": 2,
          "rating": 7.4
         },
         {
          "distance": 536,
          "name": "Ginkgo",
          "popularity": 0.9709674745728596,
          "price": 2,
          "rating": 6.5
         },
         {
          "distance": 543,
          "name": "Café Sfouf",
          "popularity": 0.90390376167754,
          "price": 1,
          "rating": 7.4
         },
         {
          "distance": 543,
          "name": "Pamplemousse Cafe",
          "popularity": 0.8877061700036705,
          "price": 1,
          "rating": 6.4
         },
         {
          "distance": 546,
          "name": "Rôtisserie St-Hubert",
          "popularity": 0.9467066080964278,
          "price": 2,
          "rating": 6.5
         },
         {
          "distance": 559,
          "name": "Le Square",
          "popularity": 0.8309198763868004,
          "price": 3,
          "rating": 6.3
         },
         {
          "distance": 563,
          "name": "Le Nil Bleu",
          "popularity": 0.9151165681944659,
          "price": 2,
          "rating": 7.9
         },
         {
          "distance": 590,
          "name": "En Couleur",
          "popularity": 0.945581775341298,
          "rating": 8.1
         },
         {
          "distance": 643,
          "name": "Resto Darbar",
          "popularity": 0.8945854103271488,
          "price": 2,
          "rating": 7.5
         }
        ]
       },
       {
        "context": {
         "geo_bounds": {
          "circle": {
           "center": {
            "latitude": 45.54154850456526,
            "longitude": -73.56501236557959
           },
           "radius": 1000
          }
         }
        },
        "results": [
         {
          "distance": 97,
          "name": "Pizzeria No.900",
          "popularity": 0.9174254354286797,
          "price": 1
         },
         {
          "distance": 105,
          "name": "Pizzeria Caldo",
          "popularity": 0.1573581822702677,
          "price": 1,
          "rating": 5.3
         },
         {
          "distance": 119,
          "name": "Mamie Clafoutis",
          "popularity": 0.9092200764886273,
          "price": 1,
          "rating": 7.9
         },
         {
          "distance": 129,
          "name": "Hoogan et Beaufort",
          "popularity": 0.9019619451318422,
          "rating": 8.5
         },
         {
          "distance": 183,
          "name": "Station W",
          "popularity": 0.9293249819434742,
          "price": 1
         },
         {
          "distance": 240,
          "name": "La Caféshop",
          "popularity": 0.8642622873178067,
          "price": 1
         },
         {
          "distance": 283,
          "name": "Mito Sushi",
          "popularity": 0.8289425388067301,
          "price": 2
         },
         {
          "distance": 411,
          "name": "Pizza Hut",
          "popularity": 0.9452265649975727,
          "price": 1,
          "rating": 6.1
         },
         {
          "distance": 436,
          "name": "McDonald's",
          "popularity": 0.9884083024497673,
          "price": 1,
          "rating": 5.1
         },
         {
          "distance": 449,
          "name": "Subway",
          "popularity": 0.8899321548243485,
          "price": 1,
          "rating": 6.3
         },
         {
          "distance": 477,
          "name": "Labarake",
          "popularity": 0.9225641450679044,
          "price": 3,
          "rating": 6.9
         },
         {
          "distance": 521,
          "name": "Vieux Montreal Pool Suit 1912",
          "popularity": 0.8768012124513066,
          "price": 1,
          "rating": 5.1
         },
         {
          "distance": 561,
          "name": "Deli Miami",
          "popularity": 0.9863954438353245,
          "price": 1,
          "rating": 6.4
         },
         {
          "distance": 574,
          "name": "Café Impérial Microtorréfacteur",
          "popularity": 0.874326580390021,
          "price": 1
         },
         {
          "distance": 595,
          "name": "Le Viet Sandwich",
          "popularity": 0.8765999265898623,
          "price": 2
         },
         {
          "distance": 608,
          "name": "Poke Bol",
          "popularity": 0.16203511846264962,
          "price": 2
         },
         {
          "distance": 625,
          "name": "Café des Bois",
          "popularity": 0.9130681885456504,
          "price": 1,
          "rating": 7.9
         },
         {
          "distance": 647,
          "name": "Croissantcroissant",
          "popularity": 0.911469741998887,
          "price": 1,
          "rating": 7.9
         },
         {
          "distance": 649,
          "name": "Sushi 111",
          "popularity": 0.8147341250577217,
          "price": 2
         },
         {
          "distance": 660,
          "name": "La BKRY",
          "popularity": 0.45729779651183444,
          "price": 1
         },
         {
          "distance": 672,
          "name": "Restaurant les Belles Soeurs",
          "popularity": 0.8897782303420676,
          "price": 1,
          "rating": 7.5
         },
         {
          "distance": 707,
          "name": "Restaurant Pho 911",
          "popularity": 0.8836567720852031,
          "price": 2
         },
         {
          "distance": 714,
          "name": "Restaurant Lune d'Asie",
          "popularity": 0.4457416199959743,
          "price": 2
         },
         {
          "distance": 728,
          "name": "Crémy Pâtisserie Inc",
          "popularity": 0.8143433936796239,
          "price": 1,
          "rating": 8.1
         },
         {
          "distance": 728,
          "name": "Haruko Sushi",
          "popularity": 0.9522834104929135,
          "price": 2
         },
         {
          "distance": 758,
          "name": "Kasa Sushi",
          "popularity": 0.8141776288525522,
          "price": 2,
          "rating": 7.9
         },
         {
          "distance": 802,
          "name": "Maneki Comptoir Asiat'",
          "popularity": 0.8896598268941591,
          "price": 2,
          "rating": 7.2
         },
         {
          "distance": 813,
          "name": "KFC",
          "popularity": 0.9619688125318209,
          "price": 1,
          "rating": 5.1
         },
         {
          "distance": 820,
          "name": "Au Coq Gaulois Inc",
          "popularity": 0.9645736883858058,
          "price": 2,
          "rating": 6.3
         },
         {
          "distance": 878,
          "name": "Ken Sushi",
          "popularity": 0.08452822146180897,
          "price": 2
         },
         {
          "distance": 905,
          "name": "Maam' Bolduc",
          "popularity": 0.9590797684028559,
          "price": 1,
          "rating": 7.9
         },
         {
          "distance": 911,
          "name": "Double Pizza",
          "popularity": 0.919994790248292,
          "price": 1
         },
         {
          "distance": 948,
          "name": "Cuisine Pronto MTL",
          "popularity": 0.850894538048948,
          "price": 1,
          "rating": 6.7
         },
         {
          "distance": 950,
          "name": "Depanneur Pingato",
          "popularity": 0.8514391939093267,
          "price": 1
         },
         {
          "distance": 964,
          "name": "Pizza Tifosi",
          "popularity": 0.9677587411345419,
          "price": 1
         },
         {
          "distance": 977,
          "name": "L'Oeufrier",
          "popularity": 0.9539884201427946,
          "price": 1,
          "rating": 7.1
         },
         {
          "distance": 988,
          "name": "Café Pista",
          "popularity": 0.9446819091371941,
          "price": 1
         },
         {
          "distance": 992,
          "name": "McDonald's",
          "popularity": 0.9850338041843778,
          "price": 1,
          "rating": 5.1
         },
         {
          "distance": 993,
          "name": "Cabin Montreal",
          "popularity": 0.8762447162461371,
          "price": 2
         },
         {
          "distance": 999,
          "name": "Boulangerie Au Pain Dore Ltee",
          "popularity": 0.9530885539386907,
          "price": 1,
          "rating": 7.8
         },
         {
          "distance": 1000,
          "name": "Gaston",
          "popularity": 0.9094568833844442
         }
        ]
       },
       {
        "context": {
         "geo_bounds": {
          "circle": {
           "center": {
            "latitude": 45.506175841460966,
            "longitude": -73.71118605136871
           },
           "radius": 1000
          }
         }
        },
        "results": [
         {
          "distance": 546,
          "name": "Nirvana Sushi",
          "popularity": 0.8788732727897036,
          "price": 2
         },
         {
          "distance": 755,
          "name": "Challenger la Piazza",
          "popularity": 0.9427992943154505,
          "price": 2,
          "rating": 7
         },
         {
          "distance": 881,
          "name": "Grillades Torino",
          "popularity": 0.9720686266384078,
          "price": 2
         },
         {
          "distance": 895,
          "name": "Allô! Mon Coco",
          "popularity": 0.9952875427732456,
          "price": 1,
          "rating": 8
         },
         {
          "distance": 902,
          "name": "McDonald's",
          "popularity": 0.9975608889730869,
          "price": 1,
          "rating": 5.8
         },
         {
          "distance": 913,
          "name": "Nickels Deli Express - Place Vertu",
          "popularity": 0.33103235966231337,
          "price": 2
         },
         {
          "distance": 917,
          "name": "Subway",
          "popularity": 0.9127721799258794,
          "price": 1,
          "rating": 5.6
         },
         {
          "distance": 952,
          "name": "Place Tevere",
          "popularity": 0.5532045893176409,
          "price": 2
         },
         {
          "distance": 1129,
          "name": "Tiki-Ming",
          "popularity": 0.9307931846975384,
          "price": 1
         }
        ]
       },
       {
        "context": {
         "geo_bounds": {
          "circle": {
           "center": {
            "latitude": 45.5129938566323,
            "longitude": -73.68249848484993
           },
           "radius": 1000
          }
         }
        },
        "results": [
         {
          "distance": 90,
          "name": "Decarie Hot Dog",
          "popularity": 0.9804160697159501,
          "price": 1,
          "rating": 8.1
         },
         {
          "distance": 103,
          "name": "Restaurant Kam Do",
          "popularity": 0.9471447008536888,
          "price": 1
         },
         {
          "distance": 104,
          "name": "A&W Restaurant",
          "popularity": 0.9900067489965307,
          "price": 1,
          "rating": 7.4
         },
         {
          "distance": 119,
          "name": "Shawarma Royal",
          "popularity": 0.34634192547686987,
          "price": 2
         },
         {
          "distance": 121,
          "name": "Pizza Pizza",
          "popularity": 0.9490036349858508,
          "price": 1,
          "rating": 6.3
         },
         {
          "distance": 122,
          "name": "Bol Orange",
          "popularity": 0.9311365546964727,
          "price": 2
         },
         {
          "distance": 127,
          "name": "Subway",
          "popularity": 0.8741608155629492,
          "price": 1,
          "rating": 6.4
         },
         {
          "distance": 134,
          "name": "Grillade Yasmine",
          "popularity": 0.09088648661449021,
          "price": 2
         },
         {
          "distance": 141,
          "name": "McDonald's",
          "popularity": 0.9992895793125496,
          "price": 1,
          "rating": 5.5
         },
         {
          "distance": 146,
          "name": "Café Tea Tac Toe",
          "popularity": 0.932450832968256,
          "price": 1
         },
         {
          "distance": 167,
          "name": "KFC",
          "popularity": 0.9495482908462295,
          "price": 1,
          "rating": 4.9
         },
         {
          "distance": 171,
          "name": "Ave Seoul",
          "popularity": 0.9117065488947038,
          "price": 2
         },
         {
          "distance": 198,
          "name": "Pho Moderne",
          "popularity": 0.9678653042376594,
          "price": 2
         },
         {
          "distance": 210,
          "name": "Kyoto Restaurants Japonais",
          "popularity": 0.9495601311910202,
          "price": 2,
          "rating": 7.4
         },
         {
          "distance": 250,
          "name": "Chez Khady",
          "popularity": 0.9453094474111086,
          "price": 2
         },
         {
          "distance": 254,
          "name": "Pâtisserie Dolci Più",
          "popularity": 0.9231206412730739,
          "price": 1,
          "rating": 6.6
         },
         {
          "distance": 256,
          "name": "Centrale Bergham",
          "popularity": 0.2945640977065252,
          "price": 1
         },
         {
          "distance": 312,
          "name": "Planete Pizza",
          "popularity": 0.995323063807618,
          "price": 1
         },
         {
          "distance": 373,
          "name": "Domino's Pizza",
          "popularity": 0.9423256805238168,
          "price": 1
         },
         {
          "distance": 395,
          "name": "Mon Ami",
          "popularity": 0.9811856921273547,
          "price": 2
         },
         {
          "distance": 412,
          "name": "Maison Samosa Express",
          "popularity": 0.5705862154705945,
          "price": 2
         },
         {
          "distance": 423,
          "name": "Boccalini",
          "popularity": 0.922374699551251,
          "price": 2,
          "rating": 6.1
         },
         {
          "distance": 425,
          "name": "Café le VSL",
          "popularity": 0.7907811075458517,
          "price": 1
         },
         {
          "distance": 435,
          "name": "Bistro Sawadika",
          "popularity": 0.9840155345323656,
          "price": 2,
          "rating": 6.9
         },
         {
          "distance": 443,
          "name": "Via Marcello",
          "popularity": 0.8936500230886724,
          "price": 3
         },
         {
          "distance": 464,
          "name": "123 Café",
          "popularity": 0.30118285044460497,
          "price": 1
         },
         {
          "distance": 510,
          "name": "Pizza Hut",
          "popularity": 0.9826657352262098,
          "price": 1,
          "rating": 6.8
         },
         {
          "distance": 540,
          "name": "Mankal chicken",
          "popularity": 0.08139053009223629,
          "price": 2
         },
         {
          "distance": 547,
          "name": "Restaurant Yi Pin Xiang",
          "popularity": 0.3056466604307517,
          "rating": 7.2
         },
         {
          "distance": 596,
          "name": "Ottavio",
          "popularity": 0.9820026759179228,
          "price": 2,
          "rating": 7.5
         },
         {
          "distance": 605,
          "name": "La Slice",
          "popularity": 0.470523461643203,
          "price": 1
         },
         {
          "distance": 620,
          "name": "Double Pizza",
          "popularity": 0.818120463667902,
          "price": 1
         },
         {
          "distance": 676,
          "name": "Rasputin",
          "popularity": 0.8769788176231692,
          "price": 3,
          "rating": 6
         },
         {
          "distance": 703,
          "name": "Restaurant du College",
          "popularity": 0.14981588263850243,
          "price": 2,
          "rating": 6.9
         },
         {
          "distance": 707,
          "name": "Depanneur Cafe Spot Parisoir",
          "popularity": 0.9681613128574305,
          "price": 1,
          "rating": 7.9
         },
         {
          "distance": 731,
          "name": "Pendeli's Pizza",
          "popularity": 0.9455936156860888,
          "price": 1
         },
         {
          "distance": 782,
          "name": "St-Hubert Express",
          "popularity": 0.9763903524870644,
          "price": 2,
          "rating": 6.5
         },
         {
          "distance": 805,
          "name": "Première Fondue",
          "popularity": 0.9382526019157678
         },
         {
          "distance": 821,
          "name": "Trattoria la Villetta",
          "popularity": 0.9583456670258238,
          "price": 3
         },
         {
          "distance": 867,
          "name": "Ben & Florentine",
          "popularity": 0.9729448121529299,
          "price": 1,
          "rating": 7.3
         },
         {
          "distance": 2378,
          "name": "District 961",
          "popularity": 0.8312395656961531,
          "price": 2
         }
        ]
       },
       {
        "context": {
         "geo_bounds": {
          "circle": {
           "center": {
            "latitude": 45.51473429416659,
            "longitude": -73.69144901633263
           },
           "radius": 1000
          }
         }
        },
        "results": [
         {
          "distance": 262,
          "name": "Première Fondue",
          "popularity": 0.9382526019157678
         },
         {
          "distance": 270,
          "name": "St-Hubert Express",
          "popularity": 0.9763903524870644,
          "price": 2,
          "rating": 6.5
         },
         {
          "distance": 273,
          "name": "Trattoria la Villetta",
          "popularity": 0.9583456670258238,
          "price": 3
         },
         {
          "distance": 299,
          "name": "123 Café",
          "popularity": 0.30118285044460497,
          "price": 1
         },
         {
          "distance": 324,
          "name": "Ben & Florentine",
          "popularity": 0.9729448121529299,
          "price": 1,
          "rating": 7.3
         },
         {
          "distance": 413,
          "name": "Lylac",
          "popularity": 0.9970872751814532,
          "price": 1,
          "rating": 8.5
         },
         {
          "distance": 416,
          "name": "Second Cup CAFÉ & Cie",
          "popularity": 0.9532779994553442,
          "price": 1,
          "rating": 7.1
         },
         {
          "distance": 508,
          "name": "Double Pizza",
          "popularity": 0.818120463667902,
          "price": 1
         },
         {
          "distance": 517,
          "name": "Ottavio",
          "popularity": 0.9820026759179228,
          "price": 2,
          "rating": 7.5
         },
         {
          "distance": 535,
          "name": "Centrale Bergham",
          "popularity": 0.2945640977065252,
          "price": 1
         },
         {
          "distance": 556,
          "name": "KFC",
          "popularity": 0.9495482908462295,
          "price": 1,
          "rating": 4.9
         },
         {
          "distance": 560,
          "name": "La Slice",
          "popularity": 0.470523461643203,
          "price": 1
         },
         {
          "distance": 568,
          "name": "Planete Pizza",
          "popularity": 0.995323063807618,
          "price": 1
         },
         {
          "distance": 582,
          "name": "McDonald's",
          "popularity": 0.9992895793125496,
          "price": 1,
          "rating": 5.5
         },
         {
          "distance": 605,
          "name": "Bistro Sawadika",
          "popularity": 0.9840155345323656,
          "price": 2,
          "rating": 6.9
         },
         {
          "distance": 615,
          "name": "Mankal chicken",
          "popularity": 0.08139053009223629,
          "price": 2
         },
         {
          "distance": 616,
          "name": "Grillade Yasmine",
          "popularity": 0.09088648661449021,
          "price": 2
         },
         {
          "distance": 647,
          "name": "Via Marcello",
          "popularity": 0.8936500230886724,
          "price": 3
         },
         {
          "distance": 674,
          "name": "A&W Restaurant",
          "popularity": 0.9900067489965307,
          "price": 1,
          "rating": 7.4
         },
         {
          "distance": 676,
          "name": "Subway",
          "popularity": 0.8741608155629492,
          "price": 1,
          "rating": 6.4
         },
         {
          "distance": 679,
          "name": "Pizza Pizza",
          "popularity": 0.9490036349858508,
          "price": 1,
          "rating": 6.3
         },
         {
          "distance": 684,
          "name": "Express Pizza & Poulet",
          "popularity": 0.7305492735948471,
          "price": 1
         },
         {
          "distance": 686,
          "name": "Restaurant Amara",
          "popularity": 0.7884011982428928,
          "price": 2
         },
         {
          "distance": 697,
          "name": "Restaurant Asie Moderne",
          "popularity": 0.9923748179546988,
          "price": 1,
          "rating": 8.2
         },
         {
          "distance": 697,
          "name": "Bol Orange",
          "popularity": 0.9311365546964727,
          "price": 2
         },
         {
          "distance": 715,
          "name": "Café Tea Tac Toe",
          "popularity": 0.932450832968256,
          "price": 1
         },
         {
          "distance": 724,
          "name": "Restaurant Kam Do",
          "popularity": 0.9471447008536888,
          "price": 1
         },
         {
          "distance": 775,
          "name": "Decarie Hot Dog",
          "popularity": 0.9804160697159501,
          "price": 1,
          "rating": 8.1
         },
         {
          "distance": 777,
          "name": "Restaurant Miran",
          "popularity": 0.8168180257409096,
          "price": 2
         },
         {
          "distance": 791,
          "name": "Nickels Deli - Saint-Laurent",
          "popularity": 0.9142759037143161,
          "price": 2,
          "rating": 5.3
         },
         {
          "distance": 823,
          "name": "Thai Express",
          "popularity": 0.12190818996649183,
          "price": 2,
          "rating": 5.8
         },
         {
          "distance": 825,
          "name": "Villa Madina",
          "popularity": 0.6209550422108292,
          "price": 2
         },
         {
          "distance": 836,
          "name": "Shawarma Royal",
          "popularity": 0.34634192547686987,
          "price": 2
         },
         {
          "distance": 848,
          "name": "Restaurant Au Vieux Duluth",
          "popularity": 0.8882981872432125,
          "price": 2,
          "rating": 5.9
         },
         {
          "distance": 880,
          "name": "Dagwoods la Sandwicherie",
          "popularity": 0.9003398178954971,
          "price": 1
         },
         {
          "distance": 893,
          "name": "Ave Seoul",
          "popularity": 0.9117065488947038,
          "price": 2
         },
         {
          "distance": 921,
          "name": "Pho Moderne",
          "popularity": 0.9678653042376594,
          "price": 2
         },
         {
          "distance": 933,
          "name": "Kyoto Restaurants Japonais",
          "popularity": 0.9495601311910202,
          "price": 2,
          "rating": 7.4
         },
         {
          "distance": 973,
          "name": "Chez Khady",
          "popularity": 0.9453094474111086,
          "price": 2
         },
         {
          "distance": 977,
          "name": "Pâtisserie Dolci Più",
          "popularity": 0.9231206412730739,
          "price": 1,
          "rating": 6.6
         },
         {
          "distance": 1144,
          "name": "Mamma's Restaurant Pizzeria",
          "popularity": 0.572030737535077,
          "price": 2
         },
         {
          "distance": 2104,
          "name": "District 961",
          "popularity": 0.8312395656961531,
          "price": 2
         }
        ]
       },
       {
        "context": {
         "geo_bounds": {
          "circle": {
           "center": {
            "latitude": 45.52234149817879,
            "longitude": -73.72167885303497
           },
           "radius": 1000
          }
         }
        },
        "results": [
         {
          "distance": 563,
          "name": "La Reine Patissiere",
          "popularity": 0.940904839148916,
          "price": 1
         },
         {
          "distance": 588,
          "name": "Nuit de Beyrouth",
          "popularity": 0.9204920847295073,
          "price": 2,
          "rating": 6.8
         },
         {
          "distance": 592,
          "name": "Le Cristal Chinois Bbq Express",
          "popularity": 0.9632712504588133
         },
         {
          "distance": 613,
          "name": "Café Al Sahraa",
          "popularity": 0.41733663284274836,
          "price": 2
         },
         {
          "distance": 613,
          "name": "Boulangerie-Patisseries Haddad",
          "popularity": 0.306368921462993,
          "price": 1
         },
         {
          "distance": 625,
          "name": "Restaurant Tong Por St-Laurent",
          "popularity": 0.9904093207194193,
          "price": 2,
          "rating": 6.6
         },
         {
          "distance": 697,
          "name": "Restaurant Kuljit India",
          "popularity": 0.9510520146346662,
          "price": 2,
          "rating": 8.5
         },
         {
          "distance": 715,
          "name": "Subway",
          "popularity": 0.870312703505926,
          "price": 1,
          "rating": 6.4
         },
         {
          "distance": 725,
          "name": "Expresso Bar",
          "popularity": 0.9969333506991723,
          "price": 1
         },
         {
          "distance": 746,
          "name": "Chez Lien",
          "popularity": 0.08607930662940905,
          "price": 2
         },
         {
          "distance": 763,
          "name": "Petinos",
          "popularity": 0.9878754869341795,
          "price": 1,
          "rating": 7.9
         },
         {
          "distance": 767,
          "name": "Restaurant Marco",
          "popularity": 0.04538404158329091,
          "price": 2
         },
         {
          "distance": 769,
          "name": "Subway",
          "popularity": 0.8990018589341322,
          "price": 1,
          "rating": 6.4
         },
         {
          "distance": 780,
          "name": "Yuzu sushi",
          "popularity": 0.807961447837361,
          "price": 2
         },
         {
          "distance": 783,
          "name": "Première Moisson",
          "popularity": 0.9875676379696177,
          "price": 1,
          "rating": 8.6
         },
         {
          "distance": 805,
          "name": "Pizza Pizza",
          "popularity": 0.9149034419882307,
          "price": 1,
          "rating": 6.2
         },
         {
          "distance": 806,
          "name": "Fourchette Antillaise",
          "popularity": 0.07743585493209562,
          "price": 2,
          "rating": 7.5
         },
         {
          "distance": 825,
          "name": "Ristorante Vino Rosso",
          "popularity": 0.976863966278698,
          "price": 3
         },
         {
          "distance": 855,
          "name": "Benny&Co",
          "popularity": 0.992138011058882,
          "price": 2
         },
         {
          "distance": 980,
          "name": "Pizzeria Marios",
          "popularity": 0.9640290325254272,
          "price": 1,
          "rating": 5.8
         }
        ]
       },
       {
        "context": {
         "geo_bounds": {
          "circle": {
           "center": {
            "latitude": 45.566869345371856,
            "longitude": -73.64101678133011
           },
           "radius": 1000
          }
         }
        },
        "results": [
         {
          "distance": 144,
          "name": "Restaurant Chez Marie",
          "popularity": 0.8245734515789099,
          "price": 2
         },
         {
          "distance": 195,
          "name": "Romina Boulangerie",
          "popularity": 0.9006950282392223,
          "price": 1
         },
         {
          "distance": 455,
          "name": "Boulangerie & Pâtisserie Salerno",
          "popularity": 0.9842405010833916,
          "price": 1,
          "rating": 8.1
         },
         {
          "distance": 472,
          "name": "McDonald's",
          "popularity": 0.9968623086304274,
          "price": 1,
          "rating": 5
         },
         {
          "distance": 831,
          "name": "Andréamise",
          "popularity": 0.12015581893744746,
          "price": 2
         },
         {
          "distance": 912,
          "name": "Restaurant la Piccola",
          "popularity": 0.9413784529405497,
          "price": 2
         },
         {
          "distance": 947,
          "name": "Les Deux Copains",
          "popularity": 0.9932036420900576,
          "price": 1
         },
         {
          "distance": 972,
          "name": "Zagrum",
          "popularity": 0.8758303041784576,
          "price": 2,
          "rating": 8
         },
         {
          "distance": 982,
          "name": "Le Jardin des Puits",
          "popularity": 0.8294990350118996,
          "price": 2
         },
         {
          "distance": 997,
          "name": "Petit Nguyen",
          "popularity": 0.95758788495921,
          "price": 2
         }
        ]
       }
      ],
      "text/plain": [
       "<IPython.core.display.JSON object>"
      ]
     },
     "execution_count": 36,
     "metadata": {
      "application/json": {
       "expanded": false,
       "root": "root"
      }
     },
     "output_type": "execute_result"
    }
   ],
   "source": [
    "# foursquare results for each city bike's station location\n",
    "JSON(output)"
   ]
  },
  {
   "cell_type": "code",
   "execution_count": 18,
   "metadata": {},
   "outputs": [
    {
     "name": "stdout",
     "output_type": "stream",
     "text": [
      "6\n",
      "50\n",
      "41\n",
      "9\n",
      "41\n",
      "42\n",
      "20\n",
      "10\n",
      "[6, 50, 41, 9, 41, 42, 20, 10]\n"
     ]
    }
   ],
   "source": [
    "restaurant_count = []\n",
    "for item in output:\n",
    "    print(len(item['results']))\n",
    "    restaurant_count.append(len(item['results']))\n",
    "\n",
    "print(restaurant_count)\n",
    "\n",
    "    \n",
    "# need to investigate why max 10 results for each station. Outcome - found that there was a limit of 10 for results, updated result to 50 (maximum API allows)"
   ]
  },
  {
   "cell_type": "code",
   "execution_count": 37,
   "metadata": {},
   "outputs": [
    {
     "data": {
      "text/html": [
       "<div>\n",
       "<style scoped>\n",
       "    .dataframe tbody tr th:only-of-type {\n",
       "        vertical-align: middle;\n",
       "    }\n",
       "\n",
       "    .dataframe tbody tr th {\n",
       "        vertical-align: top;\n",
       "    }\n",
       "\n",
       "    .dataframe thead th {\n",
       "        text-align: right;\n",
       "    }\n",
       "</style>\n",
       "<table border=\"1\" class=\"dataframe\">\n",
       "  <thead>\n",
       "    <tr style=\"text-align: right;\">\n",
       "      <th></th>\n",
       "      <th>latitude</th>\n",
       "      <th>longitude</th>\n",
       "      <th>restaurant count</th>\n",
       "      <th>num stalls</th>\n",
       "    </tr>\n",
       "  </thead>\n",
       "  <tbody>\n",
       "    <tr>\n",
       "      <th>0</th>\n",
       "      <td>45.617500</td>\n",
       "      <td>-73.606011</td>\n",
       "      <td>6</td>\n",
       "      <td>11</td>\n",
       "    </tr>\n",
       "    <tr>\n",
       "      <th>1</th>\n",
       "      <td>45.516926</td>\n",
       "      <td>-73.564257</td>\n",
       "      <td>50</td>\n",
       "      <td>13</td>\n",
       "    </tr>\n",
       "    <tr>\n",
       "      <th>2</th>\n",
       "      <td>45.541549</td>\n",
       "      <td>-73.565012</td>\n",
       "      <td>41</td>\n",
       "      <td>12</td>\n",
       "    </tr>\n",
       "    <tr>\n",
       "      <th>3</th>\n",
       "      <td>45.506176</td>\n",
       "      <td>-73.711186</td>\n",
       "      <td>9</td>\n",
       "      <td>19</td>\n",
       "    </tr>\n",
       "    <tr>\n",
       "      <th>4</th>\n",
       "      <td>45.512994</td>\n",
       "      <td>-73.682498</td>\n",
       "      <td>41</td>\n",
       "      <td>21</td>\n",
       "    </tr>\n",
       "    <tr>\n",
       "      <th>5</th>\n",
       "      <td>45.514734</td>\n",
       "      <td>-73.691449</td>\n",
       "      <td>42</td>\n",
       "      <td>15</td>\n",
       "    </tr>\n",
       "    <tr>\n",
       "      <th>6</th>\n",
       "      <td>45.522341</td>\n",
       "      <td>-73.721679</td>\n",
       "      <td>20</td>\n",
       "      <td>15</td>\n",
       "    </tr>\n",
       "    <tr>\n",
       "      <th>7</th>\n",
       "      <td>45.566869</td>\n",
       "      <td>-73.641017</td>\n",
       "      <td>10</td>\n",
       "      <td>14</td>\n",
       "    </tr>\n",
       "  </tbody>\n",
       "</table>\n",
       "</div>"
      ],
      "text/plain": [
       "    latitude  longitude  restaurant count  num stalls\n",
       "0  45.617500 -73.606011                 6          11\n",
       "1  45.516926 -73.564257                50          13\n",
       "2  45.541549 -73.565012                41          12\n",
       "3  45.506176 -73.711186                 9          19\n",
       "4  45.512994 -73.682498                41          21\n",
       "5  45.514734 -73.691449                42          15\n",
       "6  45.522341 -73.721679                20          15\n",
       "7  45.566869 -73.641017                10          14"
      ]
     },
     "execution_count": 37,
     "metadata": {},
     "output_type": "execute_result"
    }
   ],
   "source": [
    "mtl_results = pd.DataFrame({'latitude': latitude_list,\n",
    "                           'longitude': longitude_list,\n",
    "                           'restaurant count': restaurant_count,\n",
    "                           'num stalls': mtl_stations['total bikes']})\n",
    "mtl_results"
   ]
  },
  {
   "cell_type": "markdown",
   "metadata": {
    "jp-MarkdownHeadingCollapsed": true,
    "tags": []
   },
   "source": [
    "# Yelp"
   ]
  },
  {
   "cell_type": "markdown",
   "metadata": {},
   "source": [
    "Send a request to Yelp with a small radius (1000m) for all the bike stations in your city of choice. "
   ]
  },
  {
   "cell_type": "code",
   "execution_count": 36,
   "metadata": {},
   "outputs": [
    {
     "data": {
      "application/json": {
       "businesses": [
        {
         "alias": "grillades-sizzle-montréal",
         "categories": [
          {
           "alias": "portuguese",
           "title": "Portuguese"
          }
         ],
         "coordinates": {
          "latitude": 45.62398,
          "longitude": -73.60103
         },
         "display_phone": "+1 514-494-9953",
         "distance": 808.7412450713655,
         "id": "BpnevNTdiTqQpLD21cRg1A",
         "image_url": "https://s3-media1.fl.yelpcdn.com/bphoto/Pc-ERLWBNYwo48vOIUOPmQ/o.jpg",
         "is_closed": false,
         "location": {
          "address1": "7300, boul Maurice-Duplessis",
          "address2": null,
          "address3": "",
          "city": "Montreal",
          "country": "CA",
          "display_address": [
           "7300, boul Maurice-Duplessis",
           "Montreal, QC H1E 1M4",
           "Canada"
          ],
          "state": "QC",
          "zip_code": "H1E 1M4"
         },
         "name": "Grillades Sizzle",
         "phone": "+15144949953",
         "price": "$$",
         "rating": 3.5,
         "review_count": 3,
         "transactions": [],
         "url": "https://www.yelp.com/biz/grillades-sizzle-montr%C3%A9al?adjust_creative=4Zavm-Q-lLCd4B0u0a5gMA&utm_campaign=yelp_api_v3&utm_medium=api_v3_business_search&utm_source=4Zavm-Q-lLCd4B0u0a5gMA"
        },
        {
         "alias": "capucine-montreal-nord",
         "categories": [
          {
           "alias": "italian",
           "title": "Italian"
          }
         ],
         "coordinates": {
          "latitude": 45.6196699281717,
          "longitude": -73.6097039384337
         },
         "display_phone": "+1 514-328-7604",
         "distance": 375.11099955442694,
         "id": "vRJPrk-VH75uxLiVVprBhA",
         "image_url": "https://s3-media2.fl.yelpcdn.com/bphoto/BOs9f6hjfSGjgEE64IT0lw/o.jpg",
         "is_closed": false,
         "location": {
          "address1": "7000 Boulevard Maurice Duplessis",
          "address2": "",
          "address3": "",
          "city": "Montreal-Nord",
          "country": "CA",
          "display_address": [
           "7000 Boulevard Maurice Duplessis",
           "Montreal-Nord, QC H1G",
           "Canada"
          ],
          "state": "QC",
          "zip_code": "H1G"
         },
         "name": "Capucine",
         "phone": "+15143287604",
         "rating": 5,
         "review_count": 4,
         "transactions": [],
         "url": "https://www.yelp.com/biz/capucine-montreal-nord?adjust_creative=4Zavm-Q-lLCd4B0u0a5gMA&utm_campaign=yelp_api_v3&utm_medium=api_v3_business_search&utm_source=4Zavm-Q-lLCd4B0u0a5gMA"
        },
        {
         "alias": "shekz-restaurant-montréal",
         "categories": [
          {
           "alias": "sushi",
           "title": "Sushi Bars"
          },
          {
           "alias": "italian",
           "title": "Italian"
          },
          {
           "alias": "thai",
           "title": "Thai"
          }
         ],
         "coordinates": {
          "latitude": 45.62356,
          "longitude": -73.6015
         },
         "display_phone": "+1 514-494-5555",
         "distance": 748.7847338099829,
         "id": "qXByAmujOzT_9lm1_KGsiw",
         "image_url": "https://s3-media1.fl.yelpcdn.com/bphoto/9yafDhaaq7YxRTNeNNn1Uw/o.jpg",
         "is_closed": false,
         "location": {
          "address1": "7272 Boulevard Maurice-Duplessis",
          "address2": "",
          "address3": "",
          "city": "Montreal",
          "country": "CA",
          "display_address": [
           "7272 Boulevard Maurice-Duplessis",
           "Montreal, QC H1E 6Z7",
           "Canada"
          ],
          "state": "QC",
          "zip_code": "H1E 6Z7"
         },
         "name": "Shekz Restaurant",
         "phone": "+15144945555",
         "rating": 1.5,
         "review_count": 2,
         "transactions": [],
         "url": "https://www.yelp.com/biz/shekz-restaurant-montr%C3%A9al?adjust_creative=4Zavm-Q-lLCd4B0u0a5gMA&utm_campaign=yelp_api_v3&utm_medium=api_v3_business_search&utm_source=4Zavm-Q-lLCd4B0u0a5gMA"
        },
        {
         "alias": "restaurant-prima-luna-montréal-2",
         "categories": [
          {
           "alias": "italian",
           "title": "Italian"
          },
          {
           "alias": "sushi",
           "title": "Sushi Bars"
          }
         ],
         "coordinates": {
          "latitude": 45.617234,
          "longitude": -73.594176
         },
         "display_phone": "+1 514-494-6666",
         "distance": 920.9606954257648,
         "id": "TyKGLi1V1PFRHYmHDjFUMQ",
         "image_url": "https://s3-media2.fl.yelpcdn.com/bphoto/MW1rfW_yS72eV46bVzOQ5w/o.jpg",
         "is_closed": false,
         "location": {
          "address1": "7301Boulevard Henri-Bourassa E",
          "address2": "",
          "address3": "",
          "city": "Montreal",
          "country": "CA",
          "display_address": [
           "7301Boulevard Henri-Bourassa E",
           "Montreal, QC H1E 2Z6",
           "Canada"
          ],
          "state": "QC",
          "zip_code": "H1E 2Z6"
         },
         "name": "Restaurant Prima Luna",
         "phone": "+15144946666",
         "price": "$$$",
         "rating": 4,
         "review_count": 14,
         "transactions": [],
         "url": "https://www.yelp.com/biz/restaurant-prima-luna-montr%C3%A9al-2?adjust_creative=4Zavm-Q-lLCd4B0u0a5gMA&utm_campaign=yelp_api_v3&utm_medium=api_v3_business_search&utm_source=4Zavm-Q-lLCd4B0u0a5gMA"
        },
        {
         "alias": "dagostino-pizza-montréal-2",
         "categories": [
          {
           "alias": "pizza",
           "title": "Pizza"
          }
         ],
         "coordinates": {
          "latitude": 45.62479,
          "longitude": -73.59907
         },
         "display_phone": "+1 514-494-7470",
         "distance": 975.9182287074672,
         "id": "2P1Rvd4IboY8z7oRoT8b8g",
         "image_url": "https://s3-media4.fl.yelpcdn.com/bphoto/GxNsOS9x-VpK0tkjiwRFcg/o.jpg",
         "is_closed": false,
         "location": {
          "address1": "7470 Maurice-Duplessis Boul",
          "address2": "",
          "address3": "",
          "city": "Montreal",
          "country": "CA",
          "display_address": [
           "7470 Maurice-Duplessis Boul",
           "Montreal, QC H1E 3Y1",
           "Canada"
          ],
          "state": "QC",
          "zip_code": "H1E 3Y1"
         },
         "name": "Dagostino Pizza",
         "phone": "+15144947470",
         "rating": 4.5,
         "review_count": 3,
         "transactions": [],
         "url": "https://www.yelp.com/biz/dagostino-pizza-montr%C3%A9al-2?adjust_creative=4Zavm-Q-lLCd4B0u0a5gMA&utm_campaign=yelp_api_v3&utm_medium=api_v3_business_search&utm_source=4Zavm-Q-lLCd4B0u0a5gMA"
        },
        {
         "alias": "boulangerie-adriatica-montreal",
         "categories": [
          {
           "alias": "italian",
           "title": "Italian"
          },
          {
           "alias": "pizza",
           "title": "Pizza"
          }
         ],
         "coordinates": {
          "latitude": 45.61521,
          "longitude": -73.60971
         },
         "display_phone": "+1 514-312-7308",
         "distance": 365.54278795308244,
         "id": "DOVOYnq3y-milXVI03GIrg",
         "image_url": "https://s3-media4.fl.yelpcdn.com/bphoto/WS2uJFGveAaP9-a0XabaHg/o.jpg",
         "is_closed": false,
         "location": {
          "address1": "11500 Albert Hudon",
          "address2": null,
          "address3": null,
          "city": "Montreal",
          "country": "CA",
          "display_address": [
           "11500 Albert Hudon",
           "Montreal, QC H1G 3J6",
           "Canada"
          ],
          "state": "QC",
          "zip_code": "H1G 3J6"
         },
         "name": "Boulangerie Adriatica",
         "phone": "+15143127308",
         "rating": 4,
         "review_count": 1,
         "transactions": [],
         "url": "https://www.yelp.com/biz/boulangerie-adriatica-montreal?adjust_creative=4Zavm-Q-lLCd4B0u0a5gMA&utm_campaign=yelp_api_v3&utm_medium=api_v3_business_search&utm_source=4Zavm-Q-lLCd4B0u0a5gMA"
        },
        {
         "alias": "la-veranda-montréal",
         "categories": [
          {
           "alias": "italian",
           "title": "Italian"
          }
         ],
         "coordinates": {
          "latitude": 45.609744,
          "longitude": -73.611445
         },
         "display_phone": "+1 514-759-6363",
         "distance": 960.3954444826957,
         "id": "zbWm7G5L2PJMLpvYz-jFEw",
         "image_url": "https://s3-media4.fl.yelpcdn.com/bphoto/cj2yYMmfZXsM3tQ7S_YitQ/o.jpg",
         "is_closed": false,
         "location": {
          "address1": "6363 Boulevard Henri Bourassa E",
          "address2": null,
          "address3": "",
          "city": "Montreal",
          "country": "CA",
          "display_address": [
           "6363 Boulevard Henri Bourassa E",
           "Montreal, QC H1G 2V5",
           "Canada"
          ],
          "state": "QC",
          "zip_code": "H1G 2V5"
         },
         "name": "La Veranda",
         "phone": "+15147596363",
         "rating": 5,
         "review_count": 1,
         "transactions": [],
         "url": "https://www.yelp.com/biz/la-veranda-montr%C3%A9al?adjust_creative=4Zavm-Q-lLCd4B0u0a5gMA&utm_campaign=yelp_api_v3&utm_medium=api_v3_business_search&utm_source=4Zavm-Q-lLCd4B0u0a5gMA"
        },
        {
         "alias": "phoenix-oriental-montréal",
         "categories": [
          {
           "alias": "sushi",
           "title": "Sushi Bars"
          },
          {
           "alias": "chinese",
           "title": "Chinese"
          }
         ],
         "coordinates": {
          "latitude": 45.6232500747916,
          "longitude": -73.6022581905127
         },
         "display_phone": "+1 514-903-3888",
         "distance": 702.8722051176178,
         "id": "P5E4LDGFYp4fTprBTERQgw",
         "image_url": "",
         "is_closed": false,
         "location": {
          "address1": "7230 Boulevard Maurice-Duplessis",
          "address2": "",
          "address3": null,
          "city": "Montreal",
          "country": "CA",
          "display_address": [
           "7230 Boulevard Maurice-Duplessis",
           "Montreal, QC H1E 4A7",
           "Canada"
          ],
          "state": "QC",
          "zip_code": "H1E 4A7"
         },
         "name": "Phoenix Oriental",
         "phone": "+15149033888",
         "rating": 0,
         "review_count": 0,
         "transactions": [],
         "url": "https://www.yelp.com/biz/phoenix-oriental-montr%C3%A9al?adjust_creative=4Zavm-Q-lLCd4B0u0a5gMA&utm_campaign=yelp_api_v3&utm_medium=api_v3_business_search&utm_source=4Zavm-Q-lLCd4B0u0a5gMA"
        },
        {
         "alias": "subway-restaurants-montreal-46",
         "categories": [
          {
           "alias": "hotdogs",
           "title": "Fast Food"
          },
          {
           "alias": "sandwiches",
           "title": "Sandwiches"
          }
         ],
         "coordinates": {
          "latitude": 45.62583,
          "longitude": -73.59857
         },
         "display_phone": "+1 514-643-3733",
         "distance": 1088.9247002615953,
         "id": "3z6sA-VuwNx6ylDObHcMsg",
         "image_url": "",
         "is_closed": false,
         "location": {
          "address1": "7519 Blvd. Maurice-Duplessis",
          "address2": null,
          "address3": null,
          "city": "Montreal",
          "country": "CA",
          "display_address": [
           "7519 Blvd. Maurice-Duplessis",
           "Montreal, QC H1E 7N2",
           "Canada"
          ],
          "state": "QC",
          "zip_code": "H1E 7N2"
         },
         "name": "Subway Restaurants",
         "phone": "+15146433733",
         "rating": 0,
         "review_count": 0,
         "transactions": [],
         "url": "https://www.yelp.com/biz/subway-restaurants-montreal-46?adjust_creative=4Zavm-Q-lLCd4B0u0a5gMA&utm_campaign=yelp_api_v3&utm_medium=api_v3_business_search&utm_source=4Zavm-Q-lLCd4B0u0a5gMA"
        },
        {
         "alias": "sushi-rdp-montréal",
         "categories": [
          {
           "alias": "sushi",
           "title": "Sushi Bars"
          },
          {
           "alias": "japanese",
           "title": "Japanese"
          }
         ],
         "coordinates": {
          "latitude": 45.6247,
          "longitude": -73.5992799
         },
         "display_phone": "+1 514-648-4825",
         "distance": 957.3003001042193,
         "id": "0eoYso7iJeEjw4_Rndn6ZA",
         "image_url": "",
         "is_closed": false,
         "location": {
          "address1": "7462 Boulevard Maurice-Duplessis",
          "address2": "",
          "address3": "",
          "city": "Montreal",
          "country": "CA",
          "display_address": [
           "7462 Boulevard Maurice-Duplessis",
           "Montreal, QC H1E 3Y1",
           "Canada"
          ],
          "state": "QC",
          "zip_code": "H1E 3Y1"
         },
         "name": "Sushi RDP",
         "phone": "+15146484825",
         "rating": 0,
         "review_count": 0,
         "transactions": [],
         "url": "https://www.yelp.com/biz/sushi-rdp-montr%C3%A9al?adjust_creative=4Zavm-Q-lLCd4B0u0a5gMA&utm_campaign=yelp_api_v3&utm_medium=api_v3_business_search&utm_source=4Zavm-Q-lLCd4B0u0a5gMA"
        },
        {
         "alias": "fromages-cda-les-montréal-2",
         "categories": [
          {
           "alias": "delis",
           "title": "Delis"
          },
          {
           "alias": "sandwiches",
           "title": "Sandwiches"
          },
          {
           "alias": "cheese",
           "title": "Cheese Shops"
          }
         ],
         "coordinates": {
          "latitude": 45.62232,
          "longitude": -73.60248
         },
         "display_phone": "+1 514-648-7997",
         "distance": 610.4386013911605,
         "id": "lMkzxsEjAIP3esaUXtgw1g",
         "image_url": "",
         "is_closed": false,
         "location": {
          "address1": "11760 4E Av",
          "address2": "",
          "address3": "",
          "city": "Montreal",
          "country": "CA",
          "display_address": [
           "11760 4E Av",
           "Montreal, QC H1E 5Y2",
           "Canada"
          ],
          "state": "QC",
          "zip_code": "H1E 5Y2"
         },
         "name": "Fromages Cda (Les)",
         "phone": "+15146487997",
         "rating": 0,
         "review_count": 0,
         "transactions": [],
         "url": "https://www.yelp.com/biz/fromages-cda-les-montr%C3%A9al-2?adjust_creative=4Zavm-Q-lLCd4B0u0a5gMA&utm_campaign=yelp_api_v3&utm_medium=api_v3_business_search&utm_source=4Zavm-Q-lLCd4B0u0a5gMA"
        },
        {
         "alias": "tim-hortons-montréal-76",
         "categories": [
          {
           "alias": "coffee",
           "title": "Coffee & Tea"
          },
          {
           "alias": "breakfast_brunch",
           "title": "Breakfast & Brunch"
          }
         ],
         "coordinates": {
          "latitude": 45.6263,
          "longitude": -73.59795
         },
         "display_phone": "+1 514-881-8880",
         "distance": 1165.6244356839118,
         "id": "PfOpCNpPZOR2d_qp1jmmQw",
         "image_url": "https://s3-media2.fl.yelpcdn.com/bphoto/yYHBXV0pWbHB-56gVrba1g/o.jpg",
         "is_closed": false,
         "location": {
          "address1": "7545 Boulevard Maurice-Duplessis",
          "address2": "",
          "address3": "",
          "city": "Montreal",
          "country": "CA",
          "display_address": [
           "7545 Boulevard Maurice-Duplessis",
           "Montreal, QC H1E 7N2",
           "Canada"
          ],
          "state": "QC",
          "zip_code": "H1E 7N2"
         },
         "name": "Tim Hortons",
         "phone": "+15148818880",
         "rating": 1,
         "review_count": 3,
         "transactions": [],
         "url": "https://www.yelp.com/biz/tim-hortons-montr%C3%A9al-76?adjust_creative=4Zavm-Q-lLCd4B0u0a5gMA&utm_campaign=yelp_api_v3&utm_medium=api_v3_business_search&utm_source=4Zavm-Q-lLCd4B0u0a5gMA"
        },
        {
         "alias": "anna-depanneurs-montreal-nord",
         "categories": [
          {
           "alias": "pizza",
           "title": "Pizza"
          }
         ],
         "coordinates": {
          "latitude": 45.6168,
          "longitude": -73.61503
         },
         "display_phone": "+1 514-323-4141",
         "distance": 702.4499044314283,
         "id": "rT3-M94l2y-OVFQlavHB3A",
         "image_url": "",
         "is_closed": false,
         "location": {
          "address1": "11836 Langelier Boul",
          "address2": "",
          "address3": "",
          "city": "Montreal-Nord",
          "country": "CA",
          "display_address": [
           "11836 Langelier Boul",
           "Montreal-Nord, QC H1G 3M3",
           "Canada"
          ],
          "state": "QC",
          "zip_code": "H1G 3M3"
         },
         "name": "Anna Depanneurs",
         "phone": "+15143234141",
         "rating": 0,
         "review_count": 0,
         "transactions": [],
         "url": "https://www.yelp.com/biz/anna-depanneurs-montreal-nord?adjust_creative=4Zavm-Q-lLCd4B0u0a5gMA&utm_campaign=yelp_api_v3&utm_medium=api_v3_business_search&utm_source=4Zavm-Q-lLCd4B0u0a5gMA"
        },
        {
         "alias": "90454687-charcuterie-anna-montreal-nord",
         "categories": [
          {
           "alias": "delis",
           "title": "Delis"
          },
          {
           "alias": "sandwiches",
           "title": "Sandwiches"
          },
          {
           "alias": "gourmet",
           "title": "Specialty Food"
          }
         ],
         "coordinates": {
          "latitude": 45.6168,
          "longitude": -73.61503
         },
         "display_phone": "+1 514-323-1541",
         "distance": 702.4499044314283,
         "id": "PKWWY8C7vOYQmF1LuZ1KYg",
         "image_url": "",
         "is_closed": false,
         "location": {
          "address1": "11836 Langelier Boul",
          "address2": "",
          "address3": "",
          "city": "Montreal-Nord",
          "country": "CA",
          "display_address": [
           "11836 Langelier Boul",
           "Montreal-Nord, QC H1G 3M3",
           "Canada"
          ],
          "state": "QC",
          "zip_code": "H1G 3M3"
         },
         "name": "90454687 Charcuterie Anna",
         "phone": "+15143231541",
         "rating": 0,
         "review_count": 0,
         "transactions": [],
         "url": "https://www.yelp.com/biz/90454687-charcuterie-anna-montreal-nord?adjust_creative=4Zavm-Q-lLCd4B0u0a5gMA&utm_campaign=yelp_api_v3&utm_medium=api_v3_business_search&utm_source=4Zavm-Q-lLCd4B0u0a5gMA"
        },
        {
         "alias": "restaurant-les-dauphines-anjou",
         "categories": [
          {
           "alias": "french",
           "title": "French"
          },
          {
           "alias": "breakfast_brunch",
           "title": "Breakfast & Brunch"
          }
         ],
         "coordinates": {
          "latitude": 45.6113868722621,
          "longitude": -73.5968592494546
         },
         "display_phone": "+1 514-493-0987",
         "distance": 984.2421036912689,
         "id": "MnlUcHSM24uqbX53n9-3Rg",
         "image_url": "",
         "is_closed": false,
         "location": {
          "address1": "11200 Renaude Lapointe Rue",
          "address2": "",
          "address3": "",
          "city": "Anjou",
          "country": "CA",
          "display_address": [
           "11200 Renaude Lapointe Rue",
           "Anjou, QC H1J 2V7",
           "Canada"
          ],
          "state": "QC",
          "zip_code": "H1J 2V7"
         },
         "name": "Restaurant Les Dauphines",
         "phone": "+15144930987",
         "rating": 0,
         "review_count": 0,
         "transactions": [],
         "url": "https://www.yelp.com/biz/restaurant-les-dauphines-anjou?adjust_creative=4Zavm-Q-lLCd4B0u0a5gMA&utm_campaign=yelp_api_v3&utm_medium=api_v3_business_search&utm_source=4Zavm-Q-lLCd4B0u0a5gMA"
        },
        {
         "alias": "kurde-pizza-montreal-nord",
         "categories": [
          {
           "alias": "pizza",
           "title": "Pizza"
          }
         ],
         "coordinates": {
          "latitude": 45.61783,
          "longitude": -73.6151
         },
         "display_phone": "+1 514-761-7761",
         "distance": 704.0954164153674,
         "id": "u48um-b_-w1JlX0baFG7Cw",
         "image_url": "",
         "is_closed": false,
         "location": {
          "address1": "11861 Langelier Boul",
          "address2": "",
          "address3": "",
          "city": "Montreal-Nord",
          "country": "CA",
          "display_address": [
           "11861 Langelier Boul",
           "Montreal-Nord, QC H1G 3M4",
           "Canada"
          ],
          "state": "QC",
          "zip_code": "H1G 3M4"
         },
         "name": "Kurde Pizza",
         "phone": "+15147617761",
         "rating": 0,
         "review_count": 0,
         "transactions": [],
         "url": "https://www.yelp.com/biz/kurde-pizza-montreal-nord?adjust_creative=4Zavm-Q-lLCd4B0u0a5gMA&utm_campaign=yelp_api_v3&utm_medium=api_v3_business_search&utm_source=4Zavm-Q-lLCd4B0u0a5gMA"
        },
        {
         "alias": "pizzaria-baraka-food-montreal-nord",
         "categories": [
          {
           "alias": "pizza",
           "title": "Pizza"
          }
         ],
         "coordinates": {
          "latitude": 45.6118995,
          "longitude": -73.6144415
         },
         "display_phone": "+1 514-313-6245",
         "distance": 898.1661968942586,
         "id": "dafrw8OOsVK26g2F15uyIQ",
         "image_url": "",
         "is_closed": false,
         "location": {
          "address1": "6353 De Dijon Rue",
          "address2": "",
          "address3": "",
          "city": "Montreal-Nord",
          "country": "CA",
          "display_address": [
           "6353 De Dijon Rue",
           "Montreal-Nord, QC H1G 2L9",
           "Canada"
          ],
          "state": "QC",
          "zip_code": "H1G 2L9"
         },
         "name": "Pizzaria Baraka Food",
         "phone": "+15143136245",
         "rating": 0,
         "review_count": 0,
         "transactions": [],
         "url": "https://www.yelp.com/biz/pizzaria-baraka-food-montreal-nord?adjust_creative=4Zavm-Q-lLCd4B0u0a5gMA&utm_campaign=yelp_api_v3&utm_medium=api_v3_business_search&utm_source=4Zavm-Q-lLCd4B0u0a5gMA"
        }
       ],
       "region": {
        "center": {
         "latitude": 45.617499783128075,
         "longitude": -73.60601127147675
        }
       },
       "total": 17
      },
      "text/plain": [
       "<IPython.core.display.JSON object>"
      ]
     },
     "execution_count": 36,
     "metadata": {
      "application/json": {
       "expanded": false,
       "root": "root"
      }
     },
     "output_type": "execute_result"
    }
   ],
   "source": [
    "\n",
    "\n",
    "api_key = '7RCOn31VBzs-zHTKVq2nNFM9DeGzMtf4BqHC1768r8hN3PtZVhktVyuPqlxekvYR6rO7ko_zeB05kyJqqjR5ypILgmFaklqLCqvE6BnzqgfZus5a_wGJKLkoEbA-ZHYx'\n",
    "endpoint = 'https://api.yelp.com/v3/businesses/search'\n",
    "headers = {'Authorization': 'bearer %s' % api_key} # ???????\n",
    "\n",
    "parameters = {'term': 'restaurant',\n",
    "            'latitude': mtl_stations['latitude'][0],\n",
    "              'longitude': mtl_stations['longitude'][0],\n",
    "              'radius': 1000}\n",
    "\n",
    "response = requests.get(url = endpoint, \n",
    "                        params = parameters,\n",
    "                        headers = headers)\n",
    "\n",
    "business_data = response.json()\n",
    "JSON(business_data)\n",
    "            \n"
   ]
  },
  {
   "cell_type": "markdown",
   "metadata": {},
   "source": [
    "Parse through the response to get the POI (such as restaurants, bars, etc) details you want (ratings, name, location, etc)"
   ]
  },
  {
   "cell_type": "code",
   "execution_count": 37,
   "metadata": {},
   "outputs": [
    {
     "ename": "SyntaxError",
     "evalue": "unexpected EOF while parsing (4085597234.py, line 2)",
     "output_type": "error",
     "traceback": [
      "\u001b[0;36m  Input \u001b[0;32mIn [37]\u001b[0;36m\u001b[0m\n\u001b[0;31m    \u001b[0m\n\u001b[0m    ^\u001b[0m\n\u001b[0;31mSyntaxError\u001b[0m\u001b[0;31m:\u001b[0m unexpected EOF while parsing\n"
     ]
    }
   ],
   "source": [
    "yelp_restaurant_name = []\n",
    "for index in range(len(business_data['businesses']):\n",
    "                   \n",
    "    "
   ]
  },
  {
   "cell_type": "markdown",
   "metadata": {},
   "source": [
    "Put your parsed results into a DataFrame"
   ]
  },
  {
   "cell_type": "markdown",
   "metadata": {},
   "source": []
  },
  {
   "cell_type": "markdown",
   "metadata": {},
   "source": [
    "# Comparing Results"
   ]
  },
  {
   "cell_type": "markdown",
   "metadata": {},
   "source": [
    "Which API provided you with more complete data? Provide an explanation. "
   ]
  },
  {
   "cell_type": "markdown",
   "metadata": {},
   "source": []
  },
  {
   "cell_type": "markdown",
   "metadata": {},
   "source": [
    "Get the top 10 restaurants according to their rating"
   ]
  },
  {
   "cell_type": "code",
   "execution_count": null,
   "metadata": {},
   "outputs": [],
   "source": []
  },
  {
   "cell_type": "markdown",
   "metadata": {
    "jp-MarkdownHeadingCollapsed": true,
    "tags": []
   },
   "source": [
    "# archive - ignore"
   ]
  },
  {
   "cell_type": "code",
   "execution_count": 13,
   "metadata": {},
   "outputs": [
    {
     "data": {
      "text/plain": [
       "array([45.61749978, 45.51692621, 45.5415485 , 45.50617584, 45.51299386,\n",
       "       45.51473429, 45.5223415 , 45.56686935])"
      ]
     },
     "execution_count": 13,
     "metadata": {},
     "output_type": "execute_result"
    }
   ],
   "source": [
    "# np array - other option \n",
    "latitude_list_2 = mtl_stations['latitude'].values\n",
    "latitude_list_2"
   ]
  },
  {
   "cell_type": "markdown",
   "metadata": {
    "tags": []
   },
   "source": [
    "## joining Data blocks (to be removed)"
   ]
  },
  {
   "cell_type": "code",
   "execution_count": 12,
   "metadata": {},
   "outputs": [],
   "source": [
    "latitude_list = []\n",
    "for row in range(len(mtl_stations)):\n",
    "    latitude_list.append(mtl_stations['latitude'][row])"
   ]
  },
  {
   "cell_type": "code",
   "execution_count": 14,
   "metadata": {},
   "outputs": [],
   "source": [
    "latitude_list = []\n",
    "longitude_list = []\n",
    "for row in range(len(mtl_stations)):\n",
    "    latitude_list.append(mtl_stations['latitude'][row])\n",
    "    longitude_list.append(mtl_stations['longitude'][row])"
   ]
  },
  {
   "cell_type": "code",
   "execution_count": 19,
   "metadata": {},
   "outputs": [
    {
     "data": {
      "text/html": [
       "<div>\n",
       "<style scoped>\n",
       "    .dataframe tbody tr th:only-of-type {\n",
       "        vertical-align: middle;\n",
       "    }\n",
       "\n",
       "    .dataframe tbody tr th {\n",
       "        vertical-align: top;\n",
       "    }\n",
       "\n",
       "    .dataframe thead th {\n",
       "        text-align: right;\n",
       "    }\n",
       "</style>\n",
       "<table border=\"1\" class=\"dataframe\">\n",
       "  <thead>\n",
       "    <tr style=\"text-align: right;\">\n",
       "      <th></th>\n",
       "      <th>latitude</th>\n",
       "      <th>longitude</th>\n",
       "      <th>restaurant count</th>\n",
       "      <th>num stalls</th>\n",
       "    </tr>\n",
       "  </thead>\n",
       "  <tbody>\n",
       "    <tr>\n",
       "      <th>0</th>\n",
       "      <td>45.617500</td>\n",
       "      <td>-73.606011</td>\n",
       "      <td>6</td>\n",
       "      <td>11</td>\n",
       "    </tr>\n",
       "    <tr>\n",
       "      <th>1</th>\n",
       "      <td>45.516926</td>\n",
       "      <td>-73.564257</td>\n",
       "      <td>50</td>\n",
       "      <td>13</td>\n",
       "    </tr>\n",
       "    <tr>\n",
       "      <th>2</th>\n",
       "      <td>45.541549</td>\n",
       "      <td>-73.565012</td>\n",
       "      <td>41</td>\n",
       "      <td>12</td>\n",
       "    </tr>\n",
       "    <tr>\n",
       "      <th>3</th>\n",
       "      <td>45.506176</td>\n",
       "      <td>-73.711186</td>\n",
       "      <td>9</td>\n",
       "      <td>19</td>\n",
       "    </tr>\n",
       "    <tr>\n",
       "      <th>4</th>\n",
       "      <td>45.512994</td>\n",
       "      <td>-73.682498</td>\n",
       "      <td>41</td>\n",
       "      <td>21</td>\n",
       "    </tr>\n",
       "    <tr>\n",
       "      <th>5</th>\n",
       "      <td>45.514734</td>\n",
       "      <td>-73.691449</td>\n",
       "      <td>42</td>\n",
       "      <td>15</td>\n",
       "    </tr>\n",
       "    <tr>\n",
       "      <th>6</th>\n",
       "      <td>45.522341</td>\n",
       "      <td>-73.721679</td>\n",
       "      <td>20</td>\n",
       "      <td>15</td>\n",
       "    </tr>\n",
       "    <tr>\n",
       "      <th>7</th>\n",
       "      <td>45.566869</td>\n",
       "      <td>-73.641017</td>\n",
       "      <td>10</td>\n",
       "      <td>14</td>\n",
       "    </tr>\n",
       "  </tbody>\n",
       "</table>\n",
       "</div>"
      ],
      "text/plain": [
       "    latitude  longitude  restaurant count  num stalls\n",
       "0  45.617500 -73.606011                 6          11\n",
       "1  45.516926 -73.564257                50          13\n",
       "2  45.541549 -73.565012                41          12\n",
       "3  45.506176 -73.711186                 9          19\n",
       "4  45.512994 -73.682498                41          21\n",
       "5  45.514734 -73.691449                42          15\n",
       "6  45.522341 -73.721679                20          15\n",
       "7  45.566869 -73.641017                10          14"
      ]
     },
     "execution_count": 19,
     "metadata": {},
     "output_type": "execute_result"
    }
   ],
   "source": []
  },
  {
   "cell_type": "code",
   "execution_count": 28,
   "metadata": {},
   "outputs": [],
   "source": []
  },
  {
   "cell_type": "code",
   "execution_count": null,
   "metadata": {},
   "outputs": [],
   "source": []
  },
  {
   "cell_type": "code",
   "execution_count": null,
   "metadata": {},
   "outputs": [],
   "source": []
  },
  {
   "cell_type": "code",
   "execution_count": 20,
   "metadata": {
    "tags": []
   },
   "outputs": [
    {
     "data": {
      "text/html": [
       "<div>\n",
       "<style scoped>\n",
       "    .dataframe tbody tr th:only-of-type {\n",
       "        vertical-align: middle;\n",
       "    }\n",
       "\n",
       "    .dataframe tbody tr th {\n",
       "        vertical-align: top;\n",
       "    }\n",
       "\n",
       "    .dataframe thead th {\n",
       "        text-align: right;\n",
       "    }\n",
       "</style>\n",
       "<table border=\"1\" class=\"dataframe\">\n",
       "  <thead>\n",
       "    <tr style=\"text-align: right;\">\n",
       "      <th></th>\n",
       "      <th>latitude</th>\n",
       "      <th>longitude</th>\n",
       "      <th>total bikes</th>\n",
       "    </tr>\n",
       "  </thead>\n",
       "  <tbody>\n",
       "    <tr>\n",
       "      <th>0</th>\n",
       "      <td>45.617500</td>\n",
       "      <td>-73.606011</td>\n",
       "      <td>11</td>\n",
       "    </tr>\n",
       "    <tr>\n",
       "      <th>1</th>\n",
       "      <td>45.516926</td>\n",
       "      <td>-73.564257</td>\n",
       "      <td>13</td>\n",
       "    </tr>\n",
       "    <tr>\n",
       "      <th>2</th>\n",
       "      <td>45.541549</td>\n",
       "      <td>-73.565012</td>\n",
       "      <td>12</td>\n",
       "    </tr>\n",
       "    <tr>\n",
       "      <th>3</th>\n",
       "      <td>45.506176</td>\n",
       "      <td>-73.711186</td>\n",
       "      <td>19</td>\n",
       "    </tr>\n",
       "    <tr>\n",
       "      <th>4</th>\n",
       "      <td>45.512994</td>\n",
       "      <td>-73.682498</td>\n",
       "      <td>21</td>\n",
       "    </tr>\n",
       "    <tr>\n",
       "      <th>5</th>\n",
       "      <td>45.514734</td>\n",
       "      <td>-73.691449</td>\n",
       "      <td>15</td>\n",
       "    </tr>\n",
       "    <tr>\n",
       "      <th>6</th>\n",
       "      <td>45.522341</td>\n",
       "      <td>-73.721679</td>\n",
       "      <td>15</td>\n",
       "    </tr>\n",
       "    <tr>\n",
       "      <th>7</th>\n",
       "      <td>45.566869</td>\n",
       "      <td>-73.641017</td>\n",
       "      <td>14</td>\n",
       "    </tr>\n",
       "  </tbody>\n",
       "</table>\n",
       "</div>"
      ],
      "text/plain": [
       "    latitude  longitude  total bikes\n",
       "0  45.617500 -73.606011           11\n",
       "1  45.516926 -73.564257           13\n",
       "2  45.541549 -73.565012           12\n",
       "3  45.506176 -73.711186           19\n",
       "4  45.512994 -73.682498           21\n",
       "5  45.514734 -73.691449           15\n",
       "6  45.522341 -73.721679           15\n",
       "7  45.566869 -73.641017           14"
      ]
     },
     "execution_count": 20,
     "metadata": {},
     "output_type": "execute_result"
    }
   ],
   "source": [
    "mtl_stations[['latitude','longitude','total bikes']]"
   ]
  },
  {
   "cell_type": "code",
   "execution_count": 21,
   "metadata": {},
   "outputs": [
    {
     "data": {
      "text/plain": [
       "<Axes: xlabel='num stalls', ylabel='restaurant count'>"
      ]
     },
     "execution_count": 21,
     "metadata": {},
     "output_type": "execute_result"
    },
    {
     "data": {
      "image/png": "[encoded data removed]",
      "text/plain": [
       "<Figure size 432x288 with 1 Axes>"
      ]
     },
     "metadata": {
      "needs_background": "light"
     },
     "output_type": "display_data"
    }
   ],
   "source": [
    "# EDA visulalize the data\n",
    "mtl_results.plot.scatter(x ='num stalls', y ='restaurant count')"
   ]
  },
  {
   "cell_type": "code",
   "execution_count": 22,
   "metadata": {
    "tags": []
   },
   "outputs": [
    {
     "data": {
      "text/plain": [
       "<Axes: xlabel='restaurant count', ylabel='num stalls'>"
      ]
     },
     "execution_count": 22,
     "metadata": {},
     "output_type": "execute_result"
    },
    {
     "data": {
      "image/png": "[encoded data removed]",
      "text/plain": [
       "<Figure size 432x288 with 1 Axes>"
      ]
     },
     "metadata": {
      "needs_background": "light"
     },
     "output_type": "display_data"
    }
   ],
   "source": [
    "mtl_results.plot.scatter(x ='restaurant count', y ='num stalls')"
   ]
  },
  {
   "cell_type": "markdown",
   "metadata": {
    "jp-MarkdownHeadingCollapsed": true,
    "tags": []
   },
   "source": [
    "## code from part 1 "
   ]
  },
  {
   "cell_type": "code",
   "execution_count": 3,
   "metadata": {},
   "outputs": [
    {
     "data": {
      "application/json": {
       "networks": [
        {
         "company": [
          "ЗАО «СитиБайк»"
         ],
         "href": "/v2/networks/velobike-moscow",
         "id": "velobike-moscow",
         "location": {
          "city": "Moscow",
          "country": "RU",
          "latitude": 55.75,
          "longitude": 37.616667
         },
         "name": "Velobike"
        },
        {
         "company": [
          "Urban Infrastructure Partner"
         ],
         "href": "/v2/networks/baerum-bysykkel",
         "id": "baerum-bysykkel",
         "location": {
          "city": "Bærum",
          "country": "NO",
          "latitude": 59.89455,
          "longitude": 10.546343
         },
         "name": "Bysykkel"
        },
        {
         "company": [
          "Comunicare S.r.l."
         ],
         "href": "/v2/networks/bicincitta-siena",
         "id": "bicincitta-siena",
         "location": {
          "city": "Siena",
          "country": "IT",
          "latitude": 43.3186,
          "longitude": 11.3306
         },
         "name": "Bicincittà",
         "source": "https://www.bicincitta.com/frmLeStazioni.aspx?ID=202"
        },
        {
         "company": [
          "Cyclopolis Systems"
         ],
         "href": "/v2/networks/cyclopolis-maroussi",
         "id": "cyclopolis-maroussi",
         "location": {
          "city": "Maroussi",
          "country": "GR",
          "latitude": 38.0568722388,
          "longitude": 23.8083299536
         },
         "name": "Cyclopolis"
        },
        {
         "company": [
          "Groundwork",
          "Slough Borough Council",
          "ITS"
         ],
         "href": "/v2/networks/cycle-hire-slough",
         "id": "cycle-hire-slough",
         "location": {
          "city": "Slough",
          "country": "GB",
          "latitude": 51.51135,
          "longitude": -0.591562
         },
         "name": "Cycle Hire"
        },
        {
         "company": [
          "Cyclopolis Systems"
         ],
         "href": "/v2/networks/cyclopolis-nafplio",
         "id": "cyclopolis-nafplio",
         "location": {
          "city": "Nafplio",
          "country": "GR",
          "latitude": 37.5639397319,
          "longitude": 22.8093402872
         },
         "name": "Cyclopolis"
        },
        {
         "company": [
          "Comunicare S.r.l."
         ],
         "href": "/v2/networks/bicincitta-parco-dei-colli-di-bergamo",
         "id": "bicincitta-parco-dei-colli-di-bergamo",
         "location": {
          "city": "Parco dei Colli di Bergamo",
          "country": "IT",
          "latitude": 45.72295637032245,
          "longitude": 9.649230073016383
         },
         "name": "Bicincittà",
         "source": "https://www.bicincitta.com/frmLeStazioni.aspx?ID=203"
        },
        {
         "company": [
          "Cyclopolis Systems"
         ],
         "href": "/v2/networks/cyclopolis-aigialeia",
         "id": "cyclopolis-aigialeia",
         "location": {
          "city": "Aigialeia",
          "country": "GR",
          "latitude": 38.2511101325,
          "longitude": 22.0821570196
         },
         "name": "Cyclopolis"
        },
        {
         "company": [
          "Cyclopolis Systems"
         ],
         "href": "/v2/networks/cyclopolis-marathon",
         "id": "cyclopolis-marathon",
         "location": {
          "city": "Marathon",
          "country": "GR",
          "latitude": 38.0855680022,
          "longitude": 23.9776389963
         },
         "name": "Cyclopolis"
        },
        {
         "company": [
          "Comunicare S.r.l."
         ],
         "href": "/v2/networks/bicincitta-mantova",
         "id": "bicincitta-mantova",
         "location": {
          "city": "Mantova",
          "country": "IT",
          "latitude": 45.15866370764634,
          "longitude": 10.783718973016335
         },
         "name": "Bicincittà",
         "source": "https://www.bicincitta.com/frmLeStazioni.aspx?ID=204"
        },
        {
         "company": [
          "Cyclopolis Systems"
         ],
         "href": "/v2/networks/cyclopolis-neasmyrni",
         "id": "cyclopolis-neasmyrni",
         "location": {
          "city": "Νea Smyrni",
          "country": "GR",
          "latitude": 37.9381,
          "longitude": 23.7126
         },
         "name": "Cyclopolis"
        },
        {
         "company": [
          "Cyclopolis Systems"
         ],
         "href": "/v2/networks/cyclopolis-moschatotavros",
         "id": "cyclopolis-moschatotavros",
         "location": {
          "city": "Μoschato-Tavros",
          "country": "GR",
          "latitude": 37.9538991434,
          "longitude": 23.6824746661
         },
         "name": "Cyclopolis"
        },
        {
         "company": [
          "Cyclopolis Systems"
         ],
         "href": "/v2/networks/cyclopolis-arxaiaolympia",
         "id": "cyclopolis-arxaiaolympia",
         "location": {
          "city": "Αrxaia Olympia",
          "country": "GR",
          "latitude": 37.6419700934,
          "longitude": 21.6247265179
         },
         "name": "Cyclopolis"
        },
        {
         "company": [
          "Cyclopolis Systems"
         ],
         "href": "/v2/networks/cyclopolis-kiato",
         "id": "cyclopolis-kiato",
         "location": {
          "city": "Kιato",
          "country": "GR",
          "latitude": 38.0132674508,
          "longitude": 22.7493819902
         },
         "name": "Cyclopolis"
        },
        {
         "company": [
          "Comunicare S.r.l."
         ],
         "href": "/v2/networks/bicincitta-assemini",
         "id": "bicincitta-assemini",
         "location": {
          "city": "Assemini",
          "country": "IT",
          "latitude": 39.28956306007679,
          "longitude": 9.006601555294765
         },
         "name": "Bicincittà",
         "source": "https://www.bicincitta.com/frmLeStazioni.aspx?ID=205"
        },
        {
         "company": [
          "Cyclopolis Systems"
         ],
         "href": "/v2/networks/cyclopolis-rhodes",
         "id": "cyclopolis-rhodes",
         "location": {
          "city": "Rhodes",
          "country": "GR",
          "latitude": 36.4509118,
          "longitude": 28.2246966
         },
         "name": "Cyclopolis"
        },
        {
         "company": [
          "Cyclopolis Systems"
         ],
         "href": "/v2/networks/cyclopolis-florina",
         "id": "cyclopolis-florina",
         "location": {
          "city": "Florina",
          "country": "GR",
          "latitude": 40.8016111,
          "longitude": 21.4245222
         },
         "name": "Cyclopolis"
        },
        {
         "company": [
          "Comunicare S.r.l."
         ],
         "href": "/v2/networks/bicincitta-tortoli",
         "id": "bicincitta-tortoli",
         "location": {
          "city": "Tortolì",
          "country": "IT",
          "latitude": 39.92664489852196,
          "longitude": 9.654953570777934
         },
         "name": "Bicincittà",
         "source": "https://www.bicincitta.com/frmLeStazioni.aspx?ID=206"
        },
        {
         "company": [
          "Cyclopolis Systems"
         ],
         "href": "/v2/networks/cyclopolis-limnos",
         "id": "cyclopolis-limnos",
         "location": {
          "city": "Limnos",
          "country": "GR",
          "latitude": 39.8747861,
          "longitude": 25.0586722
         },
         "name": "Cyclopolis"
        },
        {
         "company": [
          "Comunicare S.r.l."
         ],
         "href": "/v2/networks/bicincitta-gaeta",
         "id": "bicincitta-gaeta",
         "location": {
          "city": "Gaeta",
          "country": "IT",
          "latitude": 41.209620965538036,
          "longitude": 13.584335125656139
         },
         "name": "Bicincittà",
         "source": "https://www.bicincitta.com/frmLeStazioni.aspx?ID=207"
        },
        {
         "company": [
          "Comunicare S.r.l."
         ],
         "href": "/v2/networks/bicincitta-borgarello",
         "id": "bicincitta-borgarello",
         "location": {
          "city": "Borgarello",
          "country": "IT",
          "latitude": 45.23963753440171,
          "longitude": 9.136150475640875
         },
         "name": "Bicincittà",
         "source": "https://www.bicincitta.com/frmLeStazioni.aspx?ID=208"
        },
        {
         "company": [
          "Comunicare S.r.l."
         ],
         "href": "/v2/networks/bicincitta-pizzighettone-formigara",
         "id": "bicincitta-pizzighettone-formigara",
         "location": {
          "city": "Pizzighettone e Formigara",
          "country": "IT",
          "latitude": 45.186748819167434,
          "longitude": 9.778087948479424
         },
         "name": "Bicincittà",
         "source": "https://www.bicincitta.com/frmLeStazioni.aspx?ID=209"
        },
        {
         "company": [
          "The National Transport Authority"
         ],
         "href": "/v2/networks/cork",
         "id": "cork",
         "location": {
          "city": "Cork",
          "country": "IE",
          "latitude": 51.893604,
          "longitude": -8.494174
         },
         "name": "Coca-Cola Zero® Bikes"
        },
        {
         "company": [
          "The National Transport Authority"
         ],
         "href": "/v2/networks/limerick",
         "id": "limerick",
         "location": {
          "city": "Limerick",
          "country": "IE",
          "latitude": 52.668746,
          "longitude": -8.627809
         },
         "name": "Coca-Cola Zero® Bikes"
        },
        {
         "company": [
          "BTS Group Holdings"
         ],
         "href": "/v2/networks/punpunbikeshare",
         "id": "punpunbikeshare",
         "location": {
          "city": "Bangkok",
          "country": "TH",
          "latitude": 13.75,
          "longitude": 100.516667
         },
         "name": "Pun Pun Bike Share"
        },
        {
         "company": [
          "The National Transport Authority"
         ],
         "href": "/v2/networks/galway",
         "id": "galway",
         "location": {
          "city": "Galway",
          "country": "IE",
          "latitude": 53.2783491544,
          "longitude": -9.05069143207
         },
         "name": "Coca-Cola Zero® Bikes"
        },
        {
         "company": [
          "Bike U Sp. z o.o."
         ],
         "href": "/v2/networks/bbbike",
         "id": "bbbike",
         "location": {
          "city": "Bielsko-Biała",
          "country": "PL",
          "latitude": 49.8225,
          "longitude": 19.044444
         },
         "name": "BBBike"
        },
        {
         "company": [
          "Comunicare S.r.l."
         ],
         "href": "/v2/networks/bicincitta-montecatini-terme",
         "id": "bicincitta-montecatini-terme",
         "location": {
          "city": "Montecatini Terme",
          "country": "IT",
          "latitude": 43.88362791665083,
          "longitude": 10.764385656591799
         },
         "name": "Bicincittà",
         "source": "https://www.bicincitta.com/frmLeStazioni.aspx?ID=210"
        },
        {
         "company": [
          "Bike U Sp. z o.o."
         ],
         "href": "/v2/networks/bikeu-bra",
         "id": "bikeu-bra",
         "location": {
          "city": "Bydgoszcz",
          "country": "PL",
          "latitude": 53.12193,
          "longitude": 18.00038
         },
         "name": "Bydgoski rower aglomeracyjny"
        },
        {
         "company": [
          "PBSC",
          "Serco Group plc"
         ],
         "href": "/v2/networks/santander-cycles",
         "id": "santander-cycles",
         "location": {
          "city": "London",
          "country": "GB",
          "latitude": 51.51121389999999,
          "longitude": -0.1198244
         },
         "name": "Santander Cycles"
        },
        {
         "company": [
          "PBSC",
          "Alta Bicycle Share, Inc"
         ],
         "gbfs_href": "https://asp.publicbikesystem.net/ube/gbfs/v1/gbfs.json",
         "href": "/v2/networks/we-cycle",
         "id": "we-cycle",
         "location": {
          "city": "Aspen, CO",
          "country": "US",
          "latitude": 39.194951,
          "longitude": -106.837002
         },
         "name": "WE-cycle"
        },
        {
         "company": [
          "Comunicare S.r.l."
         ],
         "href": "/v2/networks/bicincitta-carrara",
         "id": "bicincitta-carrara",
         "location": {
          "city": "Carrara",
          "country": "IT",
          "latitude": 44.07731805550891,
          "longitude": 10.097172450401331
         },
         "name": "Bicincittà",
         "source": "https://www.bicincitta.com/frmLeStazioni.aspx?ID=211"
        },
        {
         "company": [
          "PBSC",
          "Alta Bicycle Share, Inc"
         ],
         "href": "/v2/networks/wowcycle-reykjavik",
         "id": "wowcycle-reykjavik",
         "location": {
          "city": "Reykjavík",
          "country": "IS",
          "latitude": 64.128288,
          "longitude": -21.827774
         },
         "name": "WOW Citybike"
        },
        {
         "company": [
          "Transparenzportal Hamburg"
         ],
         "href": "/v2/networks/stadtrad-hamburg",
         "id": "stadtrad-hamburg",
         "license": {
          "name": "Data licence Germany – attribution – version 2.0",
          "url": "https://www.govdata.de/dl-de/by-2-0"
         },
         "location": {
          "city": "Hamburg",
          "country": "DE",
          "latitude": 53.57532,
          "longitude": 10.01534
         },
         "name": "StadtRAD Hamburg'"
        },
        {
         "company": [
          "Comunicare S.r.l."
         ],
         "href": "/v2/networks/tigullionbike",
         "id": "tigullionbike",
         "location": {
          "city": "Sestri Levante - Lavagna",
          "country": "IT",
          "latitude": 44.272554,
          "longitude": 9.395714
         },
         "name": "Tigullionbike",
         "source": "https://www.bicincitta.com/frmLeStazioni.aspx?ID=80"
        },
        {
         "company": [
          "Comunicare S.r.l."
         ],
         "href": "/v2/networks/arbike",
         "id": "arbike",
         "location": {
          "city": "Arezzo",
          "country": "IT",
          "latitude": 43.473333,
          "longitude": 11.87
         },
         "name": "ARbike",
         "source": "https://www.bicincitta.com/frmLeStazioni.aspx?ID=84"
        },
        {
         "company": [
          "Velobike.kz, LLP",
          "Smoove"
         ],
         "href": "/v2/networks/velobike",
         "id": "velobike",
         "location": {
          "city": "Astana",
          "country": "KZ",
          "latitude": 51.166667,
          "longitude": 71.416667
         },
         "name": "Velobike"
        },
        {
         "company": null,
         "ebikes": true,
         "gbfs_href": "https://velib-metropole-opendata.smoove.pro/opendata/Velib_Metropole/gbfs.json",
         "href": "/v2/networks/velib",
         "id": "velib",
         "license": {
          "name": "OPEN LICENCE 2.0",
          "url": "etalab.gouv.fr/wp-content/uploads/2018/11/open-licence.pdf"
         },
         "location": {
          "city": "Paris",
          "country": "FR",
          "latitude": 48.856614,
          "longitude": 2.3522219
         },
         "name": "Vélib' Métropole"
        },
        {
         "company": [
          "Comunicare S.r.l."
         ],
         "href": "/v2/networks/ascoli-piceno",
         "id": "ascoli-piceno",
         "location": {
          "city": "Ascoli Piceno",
          "country": "IT",
          "latitude": 42.85,
          "longitude": 13.583333
         },
         "name": "Ascoli Piceno",
         "source": "https://www.bicincitta.com/frmLeStazioni.aspx?ID=73"
        },
        {
         "company": [
          "Comunicare S.r.l."
         ],
         "href": "/v2/networks/bigi",
         "id": "bigi",
         "location": {
          "city": "Bergamo",
          "country": "IT",
          "latitude": 45.695,
          "longitude": 9.67
         },
         "name": "BiGi",
         "source": "https://www.bicincitta.com/frmLeStazioni.aspx?ID=133"
        },
        {
         "company": [
          "ICNITA S.L."
         ],
         "href": "/v2/networks/girocleta",
         "id": "girocleta",
         "location": {
          "city": "Girona",
          "country": "ES",
          "latitude": 41.9794005,
          "longitude": 2.8214264
         },
         "name": "Girocleta"
        },
        {
         "company": [
          "Comunicare S.r.l."
         ],
         "href": "/v2/networks/alba",
         "id": "alba",
         "location": {
          "city": "Alba",
          "country": "IT",
          "latitude": 44.716667,
          "longitude": 8.083333
         },
         "name": "Alba",
         "source": "https://www.bicincitta.com/frmLeStazioni.aspx?ID=139"
        },
        {
         "company": [
          "ClearChannel"
         ],
         "ebikes": true,
         "href": "/v2/networks/bikemi",
         "id": "bikemi",
         "location": {
          "city": "Milano",
          "country": "IT",
          "latitude": 45.4654542,
          "longitude": 9.186516
         },
         "name": "BikeMi"
        },
        {
         "company": [
          "Comunicare S.r.l."
         ],
         "href": "/v2/networks/biella",
         "id": "biella",
         "location": {
          "city": "Biella",
          "country": "IT",
          "latitude": 45.5775,
          "longitude": 8.051111
         },
         "name": "Biella",
         "source": "https://www.bicincitta.com/frmLeStazioni.aspx?ID=112"
        },
        {
         "company": [
          "Comunicare S.r.l."
         ],
         "href": "/v2/networks/chivasso",
         "id": "chivasso",
         "location": {
          "city": "Chivasso",
          "country": "IT",
          "latitude": 45.189765,
          "longitude": 7.888935
         },
         "name": "Chivasso",
         "source": "https://www.bicincitta.com/frmLeStazioni.aspx?ID=201"
        },
        {
         "company": [
          "ClearChannel"
         ],
         "href": "/v2/networks/bizi",
         "id": "bizi",
         "location": {
          "city": "Zaragoza",
          "country": "ES",
          "latitude": 41.6487908,
          "longitude": -0.8895811
         },
         "name": "Bizi"
        },
        {
         "company": null,
         "gbfs_href": "https://gbfs.mex.lyftbikes.com/gbfs/gbfs.json",
         "href": "/v2/networks/ecobici",
         "id": "ecobici",
         "location": {
          "city": "Cd de México",
          "country": "MX",
          "latitude": 19.4326077,
          "longitude": -99.133208
         },
         "name": "EcoBici"
        },
        {
         "company": [
          "Comunicare S.r.l."
         ],
         "href": "/v2/networks/bici-in-busto",
         "id": "bici-in-busto",
         "location": {
          "city": "Busto Arsizio",
          "country": "IT",
          "latitude": 45.610555,
          "longitude": 8.852062
         },
         "name": "Bici in Busto",
         "source": "https://www.bicincitta.com/frmLeStazioni.aspx?ID=66"
        },
        {
         "company": [
          "ClearChannel"
         ],
         "href": "/v2/networks/velo-antwerpen",
         "id": "velo-antwerpen",
         "location": {
          "city": "Antwerpen",
          "country": "BE",
          "latitude": 51.216667,
          "longitude": 4.4
         },
         "name": "Velo Antwerpen"
        },
        {
         "company": [
          "Comunicare S.r.l."
         ],
         "href": "/v2/networks/cuneo",
         "id": "cuneo",
         "location": {
          "city": "Cuneo",
          "country": "IT",
          "latitude": 44.384238,
          "longitude": 7.541428
         },
         "name": "Cuneo",
         "source": "https://www.bicincitta.com/frmLeStazioni.aspx?ID=39"
        },
        {
         "company": [
          "ClearChannel"
         ],
         "href": "/v2/networks/malmobybike",
         "id": "malmobybike",
         "location": {
          "city": "Malmö",
          "country": "SE",
          "latitude": 55.605,
          "longitude": 13.0038
         },
         "name": "Malmö by bike"
        },
        {
         "company": [
          "ClearChannel"
         ],
         "href": "/v2/networks/bicilascondes",
         "id": "bicilascondes",
         "location": {
          "city": "Las Condes",
          "country": "CL",
          "latitude": -33.401944,
          "longitude": -70.55
         },
         "name": "Bici las Condes"
        },
        {
         "company": "Empresa Municipal de Transportes de Madrid, S.A.",
         "href": "/v2/networks/bicimad",
         "id": "bicimad",
         "location": {
          "city": "Madrid",
          "country": "ES",
          "latitude": 40.4168,
          "longitude": -3.7038
         },
         "name": "BiciMAD"
        },
        {
         "company": [
          "Brainbox Technology",
          "Smoove SAS"
         ],
         "href": "/v2/networks/easybike-didymoteicho",
         "id": "easybike-didymoteicho",
         "location": {
          "city": "Didymoteicho",
          "country": "GR",
          "latitude": 41.3502539849,
          "longitude": 26.4972960949
         },
         "name": "EasyBike"
        },
        {
         "company": [
          "Comunicare S.r.l."
         ],
         "href": "/v2/networks/free-bike-sharing",
         "id": "free-bike-sharing",
         "location": {
          "city": "Frosinone",
          "country": "IT",
          "latitude": 41.645081,
          "longitude": 13.342123
         },
         "name": "FRee Bike sharing",
         "source": "https://www.bicincitta.com/frmLeStazioni.aspx?ID=53"
        },
        {
         "company": [
          "Brainbox Technology",
          "Smoove SAS"
         ],
         "href": "/v2/networks/easybike-glyfada",
         "id": "easybike-glyfada",
         "location": {
          "city": "Glyfada",
          "country": "GR",
          "latitude": 37.8715809825,
          "longitude": 23.7355544376
         },
         "name": "EasyBike"
        },
        {
         "company": [
          "Brainbox Technology",
          "Smoove SAS"
         ],
         "href": "/v2/networks/easybike-igoumenitsa",
         "id": "easybike-igoumenitsa",
         "location": {
          "city": "Igoumenitsa",
          "country": "GR",
          "latitude": 39.5005770633,
          "longitude": 20.2635206985
         },
         "name": "EasyBike"
        },
        {
         "company": [
          "Comunicare S.r.l."
         ],
         "href": "/v2/networks/lecce",
         "id": "lecce",
         "location": {
          "city": "Lecce",
          "country": "IT",
          "latitude": 40.35040350928062,
          "longitude": 18.177824020385742
         },
         "name": "lecce",
         "source": "https://www.bicincitta.com/frmLeStazioni.aspx?ID=159"
        },
        {
         "company": [
          "Brainbox Technology",
          "Smoove SAS"
         ],
         "href": "/v2/networks/easybike-ioannina",
         "id": "easybike-ioannina",
         "location": {
          "city": "Ioannina",
          "country": "GR",
          "latitude": 39.6639818,
          "longitude": 20.8522784
         },
         "name": "EasyBike"
        },
        {
         "company": [
          "Brainbox Technology",
          "Smoove SAS"
         ],
         "href": "/v2/networks/easybike-karditsa",
         "id": "easybike-karditsa",
         "location": {
          "city": "Karditsa",
          "country": "GR",
          "latitude": 39.3634604,
          "longitude": 21.9211192
         },
         "name": "EasyBike"
        },
        {
         "company": [
          "Comunicare S.r.l."
         ],
         "href": "/v2/networks/manerba-in-bici",
         "id": "manerba-in-bici",
         "location": {
          "city": "Manerba del Garda",
          "country": "IT",
          "latitude": 45.561179,
          "longitude": 10.559406
         },
         "name": "Manerba in Bici",
         "source": "https://www.bicincitta.com/frmLeStazioni.aspx?ID=102"
        },
        {
         "company": [
          "Brainbox Technology",
          "Smoove SAS"
         ],
         "href": "/v2/networks/easybike-kavala",
         "id": "easybike-kavala",
         "location": {
          "city": "Kavala",
          "country": "GR",
          "latitude": 40.9369068,
          "longitude": 24.4122164
         },
         "name": "EasyBike"
        },
        {
         "company": [
          "Brainbox Technology",
          "Smoove SAS"
         ],
         "href": "/v2/networks/easybike-kinouria",
         "id": "easybike-kinouria",
         "location": {
          "city": "Kinouria",
          "country": "GR",
          "latitude": 37.1476704305,
          "longitude": 22.8933729935
         },
         "name": "EasyBike"
        },
        {
         "company": [
          "Brainbox Technology",
          "Smoove SAS"
         ],
         "href": "/v2/networks/easybike-komotini",
         "id": "easybike-komotini",
         "location": {
          "city": "Komotini",
          "country": "GR",
          "latitude": 41.117833,
          "longitude": 25.4041307
         },
         "name": "EasyBike"
        },
        {
         "company": [
          "Brainbox Technology",
          "Smoove SAS"
         ],
         "href": "/v2/networks/easybike-patra",
         "id": "easybike-patra",
         "location": {
          "city": "Patra",
          "country": "GR",
          "latitude": 38.2410966371,
          "longitude": 21.7259683418
         },
         "name": "EasyBike"
        },
        {
         "company": [
          "Comunicare S.r.l."
         ],
         "href": "/v2/networks/mar-e-bici",
         "id": "mar-e-bici",
         "location": {
          "city": "Marciana Marina",
          "country": "IT",
          "latitude": 42.805855,
          "longitude": 10.196514
         },
         "name": "Mar e Bici",
         "source": "https://www.bicincitta.com/frmLeStazioni.aspx?ID=90"
        },
        {
         "company": [
          "Brainbox Technology",
          "Smoove SAS"
         ],
         "href": "/v2/networks/easybike-rethymno",
         "id": "easybike-rethymno",
         "location": {
          "city": "Rethymno",
          "country": "GR",
          "latitude": 35.3667571777,
          "longitude": 24.4832845736
         },
         "name": "EasyBike"
        },
        {
         "company": [
          "Brainbox Technology",
          "Smoove SAS"
         ],
         "href": "/v2/networks/easybike-samos",
         "id": "easybike-samos",
         "location": {
          "city": "Samos",
          "country": "GR",
          "latitude": 37.754065919,
          "longitude": 26.9787850189
         },
         "name": "EasyBike"
        },
        {
         "company": [
          "Comunicare S.r.l."
         ],
         "href": "/v2/networks/novara",
         "id": "novara",
         "location": {
          "city": "Novara",
          "country": "IT",
          "latitude": 45.44574,
          "longitude": 8.622165
         },
         "name": "Novara",
         "source": "https://www.bicincitta.com/frmLeStazioni.aspx?ID=131"
        },
        {
         "company": [
          "Brainbox Technology",
          "Smoove SAS"
         ],
         "href": "/v2/networks/easybike-nicosia",
         "id": "easybike-nicosia",
         "location": {
          "city": "Nicosia",
          "country": "CY",
          "latitude": 35.1739302,
          "longitude": 33.364726
         },
         "name": "EasyBike"
        },
        {
         "company": [
          "Brainbox Technology",
          "Smoove SAS"
         ],
         "href": "/v2/networks/easybike-mani",
         "id": "easybike-mani",
         "location": {
          "city": "Mani",
          "country": "GR",
          "latitude": 41.4097472,
          "longitude": 26.4024952
         },
         "name": "EasyBike"
        },
        {
         "company": [
          "Brainbox Technology",
          "Smoove SAS"
         ],
         "href": "/v2/networks/easybike-irakleio",
         "id": "easybike-irakleio",
         "location": {
          "city": "Irakleio",
          "country": "GR",
          "latitude": 35.338735,
          "longitude": 25.144213
         },
         "name": "EasyBike"
        },
        {
         "company": [
          "Brainbox Technology",
          "Smoove SAS"
         ],
         "href": "/v2/networks/thessbike",
         "id": "thessbike",
         "location": {
          "city": "Thessaloniki",
          "country": "GR",
          "latitude": 40.6403167,
          "longitude": 22.9352716
         },
         "name": "ThessBike"
        },
        {
         "company": [
          "Brainbox Technology",
          "Smoove SAS"
         ],
         "href": "/v2/networks/athens-bikes",
         "id": "athens-bikes",
         "location": {
          "city": "Athens",
          "country": "GR",
          "latitude": 37.9838,
          "longitude": 23.7275
         },
         "name": "AthensBikes"
        },
        {
         "company": [
          "Comunicare S.r.l."
         ],
         "href": "/v2/networks/goodbike",
         "id": "goodbike",
         "location": {
          "city": "Padova",
          "country": "IT",
          "latitude": 45.4064349,
          "longitude": 11.8767611
         },
         "name": "GoodBike",
         "source": "http://www.goodbikepadova.it/frmLeStazioni.aspx?ID=59"
        },
        {
         "company": [
          "PegBike"
         ],
         "href": "/v2/networks/ciclosampa",
         "id": "ciclosampa",
         "location": {
          "city": "São Paulo",
          "country": "BR",
          "latitude": -23.55,
          "longitude": -46.6333
         },
         "name": "CicloSampa"
        },
        {
         "company": null,
         "gbfs_href": "https://acoruna.publicbikesystem.net/customer/gbfs/v2/gbfs.json",
         "href": "/v2/networks/bicicorunha",
         "id": "bicicorunha",
         "location": {
          "city": "A Coruña",
          "country": "ES",
          "latitude": 43.3623,
          "longitude": -8.4115
         },
         "name": "Bicicoruña"
        },
        {
         "company": [
          "Tuimil S.A."
         ],
         "href": "/v2/networks/bici-ferrol-terra",
         "id": "bici-ferrol-terra",
         "location": {
          "city": "Ferrol - Narón",
          "country": "ES",
          "latitude": 43.4896,
          "longitude": -8.2193
         },
         "name": "BiciFerrolTerra"
        },
        {
         "company": [
          "Social Bicycles Inc."
         ],
         "gbfs_href": "http://curtinbikeshare.com/opendata/gbfs.json",
         "href": "/v2/networks/curtin-bike-share",
         "id": "curtin-bike-share",
         "location": {
          "city": "Curtin University, Perth, WA",
          "country": "AU",
          "latitude": -32.0034172153127,
          "longitude": 115.89431270956993
         },
         "name": "Curtin Bike Share"
        },
        {
         "company": [
          "Social Bicycles Inc."
         ],
         "gbfs_href": "https://monashbikeshare.com/opendata/gbfs.json",
         "href": "/v2/networks/monash-bikeshare",
         "id": "monash-bikeshare",
         "location": {
          "city": "Melbourne, AU",
          "country": "AU",
          "latitude": -37.91238410208696,
          "longitude": 145.1362281292677
         },
         "name": "Monash BikeShare"
        },
        {
         "company": [
          "Comunicare S.r.l."
         ],
         "href": "/v2/networks/mimuovofe",
         "id": "mimuovofe",
         "location": {
          "city": "Ferrara",
          "country": "IT",
          "latitude": 44.8350382,
          "longitude": 11.6240562
         },
         "name": "Mi Muovo in Bici",
         "source": "http://www.mimuovoinbici.it/frmLeStazioni.aspx?ID=142"
        },
        {
         "company": [
          "Motivate International, Inc.",
          "PBSC Urban Solutions",
          "BIXI Montréal"
         ],
         "ebikes": true,
         "gbfs_href": "https://gbfs.velobixi.com/gbfs/gbfs.json",
         "href": "/v2/networks/bixi-montreal",
         "id": "bixi-montreal",
         "location": {
          "city": "Montréal, QC",
          "country": "CA",
          "latitude": 45.508693,
          "longitude": -73.553928
         },
         "name": "Bixi"
        },
        {
         "company": [
          "Comunicare S.r.l."
         ],
         "href": "/v2/networks/parma",
         "id": "parma",
         "location": {
          "city": "Parma",
          "country": "IT",
          "latitude": 44.801485,
          "longitude": 10.3279036
         },
         "name": "Mi Muovo in Bici",
         "source": "http://www.mimuovoinbici.it/frmLeStazioni.aspx?ID=58"
        },
        {
         "company": [
          "Motivate International, Inc.",
          "PBSC Urban Solutions"
         ],
         "gbfs_href": "https://tor.publicbikesystem.net/ube/gbfs/v1/",
         "href": "/v2/networks/bixi-toronto",
         "id": "bixi-toronto",
         "location": {
          "city": "Toronto, ON",
          "country": "CA",
          "latitude": 43.653226,
          "longitude": -79.3831843
         },
         "name": "Bike Share Toronto"
        },
        {
         "company": [
          "Social Bicycles Inc."
         ],
         "gbfs_href": "https://hamilton.socialbicycles.com/opendata/gbfs.json",
         "href": "/v2/networks/sobi-hamilton",
         "id": "sobi-hamilton",
         "location": {
          "city": "Hamilton, ON",
          "country": "CA",
          "latitude": 43.25643601915583,
          "longitude": -79.86929655075073
         },
         "name": "SoBi"
        },
        {
         "company": [
          "Clean Energy Coalition",
          "BCycle, LLC"
         ],
         "gbfs_href": "https://gbfs.bcycle.com/bcycle_arborbike/gbfs.json",
         "href": "/v2/networks/arborbike",
         "id": "arborbike",
         "location": {
          "city": "Ann Arbor, MI",
          "country": "US",
          "latitude": 42.27853,
          "longitude": -83.74536
         },
         "name": "ArborBike"
        },
        {
         "company": [
          "Comunicare S.r.l."
         ],
         "href": "/v2/networks/pavia-in-bici",
         "id": "pavia-in-bici",
         "location": {
          "city": "Pavia",
          "country": "IT",
          "latitude": 45.1847248,
          "longitude": 9.1582069
         },
         "name": "Pavia in bici",
         "source": "https://www.bicincitta.com/frmLeStazioni.aspx?ID=45"
        },
        {
         "company": [
          "Comunicare S.r.l."
         ],
         "href": "/v2/networks/bici-perugia",
         "id": "bici-perugia",
         "location": {
          "city": "Perugia",
          "country": "IT",
          "latitude": 43.1107168,
          "longitude": 12.3908279
         },
         "name": "Bici Perugia",
         "source": "https://www.bicincitta.com/frmLeStazioni.aspx?ID=122"
        },
        {
         "company": [
          "BCycle, LLC"
         ],
         "gbfs_href": "https://gbfs.bcycle.com/bcycle_austin/gbfs.json",
         "href": "/v2/networks/austin",
         "id": "austin",
         "location": {
          "city": "Austin, TX",
          "country": "US",
          "latitude": 30.26408,
          "longitude": -97.74355
         },
         "name": "Austin B-cycle"
        },
        {
         "company": [
          "Motivate International, Inc",
          "PBSC"
         ],
         "ebikes": true,
         "gbfs_href": "https://chat.publicbikesystem.net/ube/gbfs/v1/",
         "href": "/v2/networks/bike-chattanooga",
         "id": "bike-chattanooga",
         "location": {
          "city": "Chattanooga, TN",
          "country": "US",
          "latitude": 35.0456297,
          "longitude": -85.3096801
         },
         "name": "Bike Chattanooga"
        },
        {
         "company": [
          "Comunicare S.r.l."
         ],
         "href": "/v2/networks/piacenza",
         "id": "piacenza",
         "location": {
          "city": "Piacenza",
          "country": "IT",
          "latitude": 45.0473754,
          "longitude": 9.6865813
         },
         "name": "Mi Muovo in Bici",
         "source": "http://www.mimuovoinbici.it/frmLeStazioni.aspx?ID=148"
        },
        {
         "company": [
          "Comunicare S.r.l."
         ],
         "href": "/v2/networks/pinerolo",
         "id": "pinerolo",
         "location": {
          "city": "Pinerolo",
          "country": "IT",
          "latitude": 44.8850256,
          "longitude": 7.3499953
         },
         "name": "Pinerolo",
         "source": "https://www.bicincitta.com/frmLeStazioni.aspx?ID=71"
        },
        {
         "company": [
          "Portland Bureau of Transportation (PBOT)",
          "Lyft Inc."
         ],
         "gbfs_href": "https://gbfs.biketownpdx.com/gbfs/gbfs.json",
         "href": "/v2/networks/biketown",
         "id": "biketown",
         "location": {
          "city": "Portland, OR",
          "country": "US",
          "latitude": 45.52175423291714,
          "longitude": -122.68107935786247
         },
         "name": "BIKETOWN"
        },
        {
         "company": [
          "Comunicare S.r.l."
         ],
         "href": "/v2/networks/reggio-emilia",
         "id": "reggio-emilia",
         "location": {
          "city": "Reggio Emilia",
          "country": "IT",
          "latitude": 44.6989932,
          "longitude": 10.6296859
         },
         "name": "Mi Muovo in Bici",
         "source": "http://www.mimuovoinbici.it/frmLeStazioni.aspx?ID=155"
        },
        {
         "company": [
          "CycleHop, LLC",
          "Social Bicycles Inc."
         ],
         "gbfs_href": "http://britebikes.socialbicycles.com/opendata/gbfs.json",
         "href": "/v2/networks/britebikes",
         "id": "britebikes",
         "location": {
          "city": "San Ramon, CA",
          "country": "US",
          "latitude": 37.759444753878,
          "longitude": -121.955134881881
         },
         "name": "BRiteBikes"
        },
        {
         "company": [
          "ValleyRide",
          "Social Bicycles Inc."
         ],
         "gbfs_href": "http://boise.greenbike.com/opendata/gbfs.json",
         "href": "/v2/networks/boise-greenbike",
         "id": "boise-greenbike",
         "location": {
          "city": "Boise, ID",
          "country": "US",
          "latitude": 43.6153060610528,
          "longitude": -116.201761349309
         },
         "name": "Boise GreenBike"
        },
        {
         "company": [
          "BCycle, LLC"
         ],
         "gbfs_href": "https://gbfs.bcycle.com/bcycle_boulder/gbfs.json",
         "href": "/v2/networks/boulder",
         "id": "boulder",
         "location": {
          "city": "Boulder, CO",
          "country": "US",
          "latitude": 40.00811,
          "longitude": -105.26385
         },
         "name": "Boulder B-cycle"
        },
        {
         "company": [
          "Comunicare S.r.l."
         ],
         "href": "/v2/networks/rimini",
         "id": "rimini",
         "location": {
          "city": "Rimini",
          "country": "IT",
          "latitude": 44.0570817,
          "longitude": 12.5646003
         },
         "name": "Mi Muovo in Bici",
         "source": "http://www.mimuovoinbici.it/frmLeStazioni.aspx?ID=149"
        },
        {
         "company": [
          "BCycle, LLC"
         ],
         "gbfs_href": "https://gbfs.bcycle.com/bcycle_broward/gbfs.json",
         "href": "/v2/networks/broward",
         "id": "broward",
         "location": {
          "city": "Fort Lauderdale, FL",
          "country": "US",
          "latitude": 26.12026,
          "longitude": -80.14819
         },
         "name": "Broward B-cycle"
        },
        {
         "company": [
          "BCycle, LLC"
         ],
         "gbfs_href": "https://gbfs.bcycle.com/bcycle_bublr/gbfs.json",
         "href": "/v2/networks/bublr-bikes",
         "id": "bublr-bikes",
         "location": {
          "city": "Milwaukee, WI",
          "country": "US",
          "latitude": 43.0369,
          "longitude": -87.89667
         },
         "name": "Bublr Bikes"
        },
        {
         "company": [
          "Shared Mobility Inc.",
          "Social Bicycles Inc."
         ],
         "gbfs_href": "https://reddybikeshare.socialbicycles.com/opendata/gbfs.json",
         "href": "/v2/networks/reddy-bike-share",
         "id": "reddy-bike-share",
         "location": {
          "city": "Buffalo, NY",
          "country": "US",
          "latitude": 42.89373841865211,
          "longitude": -78.8718044757843
         },
         "name": "Reddy Bike Share"
        },
        {
         "company": [
          "Motivate International, Inc.",
          "PBSC Urban Solutions"
         ],
         "ebikes": true,
         "gbfs_href": "https://gbfs.capitalbikeshare.com/gbfs/gbfs.json",
         "href": "/v2/networks/capital-bikeshare",
         "id": "capital-bikeshare",
         "location": {
          "city": "Washington, DC",
          "country": "US",
          "latitude": 38.8967584,
          "longitude": -77.03701629999999
         },
         "name": "Capital BikeShare"
        },
        {
         "company": [
          "BCycle, LLC"
         ],
         "gbfs_href": "https://gbfs.bcycle.com/bcycle_charlotte/gbfs.json",
         "href": "/v2/networks/charlotte",
         "id": "charlotte",
         "location": {
          "city": "Charlotte, NC",
          "country": "US",
          "latitude": 35.22716,
          "longitude": -80.83855
         },
         "name": "Charlotte B-cycle"
        },
        {
         "company": [
          "Comunicare S.r.l."
         ],
         "href": "/v2/networks/saluzzo",
         "id": "saluzzo",
         "location": {
          "city": "Saluzzo",
          "country": "IT",
          "latitude": 44.6445404,
          "longitude": 7.492735499999999
         },
         "name": "Saluzzo",
         "source": "https://www.bicincitta.com/frmLeStazioni.aspx?ID=51"
        },
        {
         "company": [
          "BCycle, LLC"
         ],
         "gbfs_href": "https://gbfs.bcycle.com/bcycle_cincyredbike/gbfs.json",
         "href": "/v2/networks/cincy-red-bike",
         "id": "cincy-red-bike",
         "location": {
          "city": "Cincinnati, OH",
          "country": "US",
          "latitude": 39.10138,
          "longitude": -84.51217
         },
         "name": "Cincy Red Bike"
        },
        {
         "company": [
          "Comunicare S.r.l."
         ],
         "href": "/v2/networks/savigliano",
         "id": "savigliano",
         "location": {
          "city": "Savigliano",
          "country": "IT",
          "latitude": 44.6470327,
          "longitude": 7.662463499999999
         },
         "name": "Savigliano",
         "source": "https://www.bicincitta.com/frmLeStazioni.aspx?ID=52"
        },
        {
         "company": [
          "NYC Bike Share, LLC",
          "Motivate International, Inc.",
          "PBSC Urban Solutions"
         ],
         "ebikes": true,
         "gbfs_href": "https://gbfs.citibikenyc.com/gbfs/gbfs.json",
         "href": "/v2/networks/citi-bike-nyc",
         "id": "citi-bike-nyc",
         "location": {
          "city": "New York, NY",
          "country": "US",
          "latitude": 40.7143528,
          "longitude": -74.00597309999999
         },
         "name": "Citi Bike"
        },
        {
         "company": [
          "CycleHop, LLC"
         ],
         "gbfs_href": "https://gbfs.hopr.city/api/gbfs/8/",
         "href": "/v2/networks/coast-bike-share",
         "id": "coast-bike-share",
         "location": {
          "city": "Tampa, FL",
          "country": "US",
          "latitude": 27.9627193250593,
          "longitude": -82.438056400783
         },
         "name": "Coast Bike Share"
        },
        {
         "company": [
          "Comunicare S.r.l."
         ],
         "href": "/v2/networks/terni",
         "id": "terni",
         "location": {
          "city": "Terni",
          "country": "IT",
          "latitude": 42.5636168,
          "longitude": 12.6426604
         },
         "name": "Terni",
         "source": "https://www.bicincitta.com/frmLeStazioni.aspx?ID=134"
        },
        {
         "company": [
          "Motivate International, Inc.",
          "PBSC Urban Solutions"
         ],
         "ebikes": true,
         "gbfs_href": "https://gbfs.cogobikeshare.com/gbfs/gbfs.json",
         "href": "/v2/networks/cogo",
         "id": "cogo",
         "location": {
          "city": "Columbus, OH",
          "country": "US",
          "latitude": 39.983333,
          "longitude": -82.983333
         },
         "name": "CoGo"
        },
        {
         "company": [
          "BCycle, LLC"
         ],
         "gbfs_href": "https://gbfs.bcycle.com/bcycle_denver/gbfs.json",
         "href": "/v2/networks/denver",
         "id": "denver",
         "location": {
          "city": "Denver, CO",
          "country": "US",
          "latitude": 39.72055,
          "longitude": -104.95253
         },
         "name": "Denver B-cycle"
        },
        {
         "company": [
          "Motivate International, Inc.",
          "PBSC Urban Solutions"
         ],
         "ebikes": true,
         "gbfs_href": "https://gbfs.divvybikes.com/gbfs/gbfs.json",
         "href": "/v2/networks/divvy",
         "id": "divvy",
         "location": {
          "city": "Chicago, IL",
          "country": "US",
          "latitude": 41.8781136,
          "longitude": -87.6297982
         },
         "name": "Divvy"
        },
        {
         "company": [
          "Comunicare S.r.l."
         ],
         "href": "/v2/networks/tirano-in-bici",
         "id": "tirano-in-bici",
         "location": {
          "city": "Tirano",
          "country": "IT",
          "latitude": 46.216168,
          "longitude": 10.1696056
         },
         "name": "Tirano in Bici",
         "source": "https://www.bicincitta.com/frmLeStazioni.aspx?ID=141"
        },
        {
         "company": [
          "BCycle, LLC"
         ],
         "gbfs_href": "https://gbfs.bcycle.com/bcycle_elpaso/gbfs.json",
         "href": "/v2/networks/elpaso",
         "id": "elpaso",
         "location": {
          "city": "El Paso, TX",
          "country": "US",
          "latitude": 31.76148,
          "longitude": -106.48507
         },
         "name": "El Paso B-cycle"
        },
        {
         "company": [
          "BCycle, LLC"
         ],
         "gbfs_href": "https://gbfs.bcycle.com/bcycle_fortworth/gbfs.json",
         "href": "/v2/networks/fortworth",
         "id": "fortworth",
         "location": {
          "city": "Fort Worth, TX",
          "country": "US",
          "latitude": 32.7516,
          "longitude": -97.32888
         },
         "name": "Fort Worth Bike Sharing"
        },
        {
         "company": [
          "Comunicare S.r.l."
         ],
         "href": "/v2/networks/udine",
         "id": "udine",
         "location": {
          "city": "Udine",
          "country": "IT",
          "latitude": 46.0710668,
          "longitude": 13.2345794
         },
         "name": "Udine",
         "source": "https://www.bicincitta.com/frmLeStazioni.aspx?ID=126"
        },
        {
         "company": [
          "BCycle, LLC"
         ],
         "gbfs_href": "https://gbfs.bcycle.com/bcycle_greatrides/gbfs.json",
         "href": "/v2/networks/greatrides",
         "id": "greatrides",
         "location": {
          "city": "Fargo, ND",
          "country": "US",
          "latitude": 46.89248,
          "longitude": -96.80095
         },
         "name": "Great Rides Bike Share"
        },
        {
         "company": [
          "BCycle, LLC"
         ],
         "gbfs_href": "https://gbfs.bcycle.com/bcycle_greenbikeslc/gbfs.json",
         "href": "/v2/networks/greenbikeslc",
         "id": "greenbikeslc",
         "location": {
          "city": "Salt Lake City",
          "country": "US",
          "latitude": 40.76745,
          "longitude": -111.88736
         },
         "name": "GREENbike"
        },
        {
         "company": [
          "CycleHop, LLC",
          "Social Bicycles Inc."
         ],
         "gbfs_href": "https://grid.socialbicycles.com/opendata/gbfs.json",
         "href": "/v2/networks/grid-bike-share",
         "id": "grid-bike-share",
         "location": {
          "city": "Phoenix, AZ",
          "country": "US",
          "latitude": 33.4591031356657,
          "longitude": -112.074010667085
         },
         "name": "Grid Bike Share"
        },
        {
         "company": [
          "BCycle, LLC"
         ],
         "gbfs_href": "https://gbfs.bcycle.com/bcycle_heartland/gbfs.json",
         "href": "/v2/networks/omaha",
         "id": "omaha",
         "location": {
          "city": "Omaha, NE",
          "country": "US",
          "latitude": 41.25832,
          "longitude": -96.00853
         },
         "name": "Heartland B-cycle"
        },
        {
         "company": [
          "BCycle, LLC"
         ],
         "gbfs_href": "https://gbfs.bcycle.com/bcycle_houston/gbfs.json",
         "href": "/v2/networks/houston",
         "id": "houston",
         "location": {
          "city": "Houston, TX",
          "country": "US",
          "latitude": 29.75983,
          "longitude": -95.36949
         },
         "name": "Houston B-cycle"
        },
        {
         "company": [
          "Motivate International, Inc.",
          "PBSC Urban Solutions"
         ],
         "ebikes": true,
         "gbfs_href": "https://gbfs.bluebikes.com/gbfs/gbfs.json",
         "href": "/v2/networks/blue-bikes",
         "id": "blue-bikes",
         "location": {
          "city": "Boston, MA",
          "country": "US",
          "latitude": 42.3584308,
          "longitude": -71.0597732
         },
         "name": "Blue Bikes"
        },
        {
         "company": [
          "Comunicare S.r.l."
         ],
         "href": "/v2/networks/ustica",
         "id": "ustica",
         "location": {
          "city": "Ustica",
          "country": "IT",
          "latitude": 38.7031179,
          "longitude": 13.1682675
         },
         "name": "Ustica",
         "source": "https://www.bicincitta.com/frmLeStazioni.aspx?ID=138"
        },
        {
         "company": [
          "City of Philadelphia",
          "Bicycle Transit Systems",
          "BCycle, LLC"
         ],
         "gbfs_href": "https://gbfs.bcycle.com/bcycle_indego/gbfs.json",
         "href": "/v2/networks/indego",
         "id": "indego",
         "location": {
          "city": "Philadelphia, PA",
          "country": "US",
          "latitude": 39.95378,
          "longitude": -75.16374
         },
         "name": "Indego"
        },
        {
         "company": [
          "BCycle, LLC"
         ],
         "gbfs_href": "https://gbfs.bcycle.com/bcycle_pacersbikeshare/gbfs.json",
         "href": "/v2/networks/indiana-pacers-bikeshare",
         "id": "indiana-pacers-bikeshare",
         "location": {
          "city": "Indianapolis, IN",
          "country": "US",
          "latitude": 39.76593,
          "longitude": -86.16216
         },
         "name": "Indiana Pacers Bikeshare"
        },
        {
         "company": [
          "CycleHop, LLC",
          "Social Bicycles Inc."
         ],
         "gbfs_href": "https://juicebikeshare.com/opendata/gbfs.json",
         "href": "/v2/networks/juice-bike-share",
         "id": "juice-bike-share",
         "location": {
          "city": "Orlando, FL",
          "country": "US",
          "latitude": 28.536663311743688,
          "longitude": -81.37922197580338
         },
         "name": "Juice"
        },
        {
         "company": [
          "Comunicare S.r.l."
         ],
         "href": "/v2/networks/bici-co",
         "id": "bici-co",
         "location": {
          "city": "Como",
          "country": "IT",
          "latitude": 45.8080597,
          "longitude": 9.0851765
         },
         "name": "BICI&CO",
         "source": "https://www.bicincitta.com/frmLeStazioni.aspx?ID=157"
        },
        {
         "company": [
          "BCycle, LLC"
         ],
         "gbfs_href": "https://gbfs.bcycle.com/bcycle_kc/gbfs.json",
         "href": "/v2/networks/kansascity",
         "id": "kansascity",
         "location": {
          "city": "Kansas City, MO",
          "country": "US",
          "latitude": 39.0999,
          "longitude": -94.5857
         },
         "name": "B-cycle"
        },
        {
         "company": [
          "BCycle, LLC"
         ],
         "gbfs_href": "https://gbfs.bcycle.com/bcycle_linkdayton/gbfs.json",
         "href": "/v2/networks/linkdayton",
         "id": "linkdayton",
         "location": {
          "city": "Dayton, OH",
          "country": "US",
          "latitude": 39.75626,
          "longitude": -84.21119
         },
         "name": "Link"
        },
        {
         "company": [
          "BCycle, LLC"
         ],
         "gbfs_href": "https://gbfs.bcycle.com/bcycle_madison/gbfs.json",
         "href": "/v2/networks/madison",
         "id": "madison",
         "location": {
          "city": "Madison, WI",
          "country": "US",
          "latitude": 43.07571,
          "longitude": -89.38527
         },
         "name": "B-cycle"
        },
        {
         "company": [
          "Los Angeles County Metropolitan Transportation Authority (Metro)",
          "Bicycle Transit Systems",
          "BCycle, LLC"
         ],
         "gbfs_href": "https://gbfs.bcycle.com/bcycle_lametro/gbfs.json",
         "href": "/v2/networks/metro-bike-share",
         "id": "metro-bike-share",
         "location": {
          "city": "Los Angeles, CA",
          "country": "US",
          "latitude": 34.04855,
          "longitude": -118.25905
         },
         "name": "Metro Bike Share"
        },
        {
         "company": [
          "Mountain Rides",
          "Social Bicycles Inc."
         ],
         "gbfs_href": "http://mrbikeshare.org/opendata/gbfs.json",
         "href": "/v2/networks/mountain-rides-bike-share",
         "id": "mountain-rides-bike-share",
         "location": {
          "city": "Ketchum / Sun Valley, ID",
          "country": "US",
          "latitude": 43.5194695168239,
          "longitude": -114.317415758737
         },
         "name": "Mountain Rides Bike Share"
        },
        {
         "company": [
          "Nice Ride Minnesota",
          "Lyft"
         ],
         "gbfs_href": "https://gbfs.niceridemn.com/gbfs/gbfs.json",
         "href": "/v2/networks/nice-ride",
         "id": "nice-ride",
         "location": {
          "city": "Minneapolis, MN",
          "country": "US",
          "latitude": 44.983334,
          "longitude": -93.26666999999999
         },
         "name": "Nice Ride"
        },
        {
         "company": [
          "Comunicare S.r.l."
         ],
         "href": "/v2/networks/speziainbici",
         "id": "speziainbici",
         "location": {
          "city": "La Spezia",
          "country": "IT",
          "latitude": 44.1024504,
          "longitude": 9.824082599999999
         },
         "name": "Speziainbici",
         "source": "https://www.bicincitta.com/frmLeStazioni.aspx?ID=137"
        },
        {
         "company": [
          "BCycle, LLC"
         ],
         "gbfs_href": "https://gbfs.bcycle.com/bcycle_sanantonio/gbfs.json",
         "href": "/v2/networks/sanantonio",
         "id": "sanantonio",
         "location": {
          "city": "San Antonio, TX",
          "country": "US",
          "latitude": 29.43701,
          "longitude": -98.48236
         },
         "name": "SWell Cycle"
        },
        {
         "company": [
          "Social Bicycles Inc."
         ],
         "gbfs_href": "https://usf.socialbicycles.com/opendata/gbfs.json",
         "href": "/v2/networks/share-a-bull-bikes",
         "id": "share-a-bull-bikes",
         "location": {
          "city": "University of South Florida, FL",
          "country": "US",
          "latitude": 28.060548696070995,
          "longitude": -82.4076198041439
         },
         "name": "Share-a-Bull Bikes"
        },
        {
         "company": [
          "Comunicare S.r.l."
         ],
         "href": "/v2/networks/venezia",
         "id": "venezia",
         "location": {
          "city": "Venezia",
          "country": "IT",
          "latitude": 45.4408474,
          "longitude": 12.3155151
         },
         "name": "Venezia",
         "source": "https://www.bicincitta.com/frmLeStazioni.aspx?ID=93"
        },
        {
         "company": [
          "Social Bicycles Inc."
         ],
         "gbfs_href": "http://sobilongbeach.com/opendata/gbfs.json",
         "href": "/v2/networks/sobi-long-beach",
         "id": "sobi-long-beach",
         "location": {
          "city": "Long Beach, NY",
          "country": "US",
          "latitude": 40.5833058203002,
          "longitude": -73.6482682794673
         },
         "name": "SoBi"
        },
        {
         "company": [
          "BCycle, LLC"
         ],
         "gbfs_href": "https://gbfs.bcycle.com/bcycle_spartanburg/gbfs.json",
         "href": "/v2/networks/spartanburg",
         "id": "spartanburg",
         "location": {
          "city": "Spartanburg, SC",
          "country": "US",
          "latitude": 34.94867,
          "longitude": -81.93345
         },
         "name": "Spartanburg BCycle"
        },
        {
         "company": [
          "Topeka Metropolitan Transit Authority",
          "Social Bicycles Inc."
         ],
         "gbfs_href": "http://topekametrobikes.org/opendata/gbfs.json",
         "href": "/v2/networks/topeka-metro-bikes",
         "id": "topeka-metro-bikes",
         "location": {
          "city": "Topeka, KS",
          "country": "US",
          "latitude": 39.0337646098385,
          "longitude": -95.7027213202284
         },
         "name": "Topeka Metro Bikes"
        },
        {
         "company": [
          "Comunicare S.r.l."
         ],
         "href": "/v2/networks/to-bike",
         "id": "to-bike",
         "location": {
          "city": "Torino",
          "country": "IT",
          "latitude": 45.07098200000001,
          "longitude": 7.685676
         },
         "name": "[TO]BIKE",
         "source": "http://www.tobike.it/frmLeStazioni.aspx?ID=22"
        },
        {
         "company": [
          "Social Bicycles Inc."
         ],
         "gbfs_href": "http://ubike.virginia.edu/opendata/gbfs.json",
         "href": "/v2/networks/ubike",
         "id": "ubike",
         "location": {
          "city": "University of Virginia, VA",
          "country": "US",
          "latitude": 38.0357625021372,
          "longitude": -78.5072994363201
         },
         "name": "UBike"
        },
        {
         "company": [
          "CycleHop, LLC",
          "Social Bicycles Inc"
         ],
         "gbfs_href": "https://relaybikeshare.socialbicycles.com/opendata/gbfs.json",
         "href": "/v2/networks/relay-atlanta",
         "id": "relay-atlanta",
         "location": {
          "city": "Atlanta, GA",
          "country": "US",
          "latitude": 33.7627941119619,
          "longitude": -84.38727110624313
         },
         "name": "Relay Bike Share"
        },
        {
         "company": [
          "Tembici",
          "PBSC Urban Solutions"
         ],
         "gbfs_href": "https://rec.publicbikesystem.net/ube/gbfs/v1/",
         "href": "/v2/networks/bikerecife",
         "id": "bikerecife",
         "location": {
          "city": "Recife",
          "country": "BR",
          "latitude": -8.047129,
          "longitude": -34.873437
         },
         "name": "BikeRecife"
        },
        {
         "company": [
          "Tembici",
          "PBSC Urban Solutions"
         ],
         "gbfs_href": "https://saopaulo.publicbikesystem.net/ube/gbfs/v1/",
         "href": "/v2/networks/bikesampa",
         "id": "bikesampa",
         "location": {
          "city": "São Paulo",
          "country": "BR",
          "latitude": -23.55,
          "longitude": -46.6333
         },
         "name": "BikeSampa"
        },
        {
         "company": [
          "Tembici",
          "PBSC Urban Solutions"
         ],
         "gbfs_href": "https://riodejaneiro.publicbikesystem.net/ube/gbfs/v1/",
         "href": "/v2/networks/bikerio",
         "id": "bikerio",
         "location": {
          "city": "Rio de Janeiro",
          "country": "BR",
          "latitude": -22.904315,
          "longitude": -43.184776
         },
         "name": "BikeRio"
        },
        {
         "company": [
          "Tembici",
          "PBSC Urban Solutions"
         ],
         "gbfs_href": "https://salvador.publicbikesystem.net/ube/gbfs/v1/",
         "href": "/v2/networks/bikesalvador",
         "id": "bikesalvador",
         "location": {
          "city": "Salvador",
          "country": "BR",
          "latitude": -12.973959,
          "longitude": -38.508171
         },
         "name": "BikeSalvador"
        },
        {
         "company": [
          "Tembici",
          "PBSC Urban Solutions"
         ],
         "gbfs_href": "https://poa.publicbikesystem.net/ube/gbfs/v1/",
         "href": "/v2/networks/bikepoa",
         "id": "bikepoa",
         "location": {
          "city": "Porto Alegre",
          "country": "BR",
          "latitude": -30.033079,
          "longitude": -51.23654
         },
         "name": "BikePOA"
        },
        {
         "company": [
          "BKT bici publica S.A. de C.V.",
          "PBSC Urban Solutions"
         ],
         "gbfs_href": "https://guad.publicbikesystem.net/ube/gbfs/v1/",
         "href": "/v2/networks/mibici-guadalajara",
         "id": "mibici-guadalajara",
         "location": {
          "city": "Guadalajara",
          "country": "MX",
          "latitude": 20.6737883,
          "longitude": -103.3704325
         },
         "name": "MIBICI"
        },
        {
         "company": [
          "Your Bike",
          "Urban Sharing"
         ],
         "gbfs_href": "https://gbfs.urbansharing.com/edinburghcyclehire.com/gbfs.json",
         "href": "/v2/networks/edinburgh-cycle-hire",
         "id": "edinburgh-cycle-hire",
         "license": {
          "name": "OGL v3 license",
          "url": "http://www.nationalarchives.gov.uk/doc/open-government-licence/version/3/"
         },
         "location": {
          "city": "Edinburgh",
          "country": "UK",
          "latitude": 55.9411885,
          "longitude": -3.2753783
         },
         "name": "Just Eat Cycles"
        },
        {
         "company": [
          "PBSC",
          "Alta Bicycle Share, Inc"
         ],
         "gbfs_href": "https://gbfs.melbourne.8d.com/gbfs/gbfs.json",
         "href": "/v2/networks/melbourne-bike-share",
         "id": "melbourne-bike-share",
         "location": {
          "city": "Melbourne",
          "country": "AU",
          "latitude": -37.814107,
          "longitude": 144.96328
         },
         "name": "Melbourne Bike Share"
        },
        {
         "company": [
          "PBSC Urban Solutions"
         ],
         "gbfs_href": "https://valencefr.publicbikesystem.net/ube/gbfs/v1/",
         "href": "/v2/networks/libelo",
         "id": "libelo",
         "location": {
          "city": "Valence",
          "country": "FR",
          "latitude": 44.922726,
          "longitude": 4.905634
         },
         "name": "Libélo"
        },
        {
         "company": [
          "Tembici",
          "PBSC Urban Solutions"
         ],
         "gbfs_href": "https://santiago.publicbikesystem.net/ube/gbfs/v1/",
         "href": "/v2/networks/bikesantiago",
         "id": "bikesantiago",
         "location": {
          "city": "Santiago",
          "country": "CL",
          "latitude": -33.45,
          "longitude": -70.67
         },
         "name": "BikeSantiago"
        },
        {
         "company": null,
         "gbfs_href": "https://gbfs.urbansharing.com/oslobysykkel.no/gbfs.json",
         "href": "/v2/networks/oslo-bysykkel",
         "id": "oslo-bysykkel",
         "location": {
          "city": "Oslo",
          "country": "NO",
          "latitude": 59.913869,
          "longitude": 10.752245
         },
         "name": "Bysykkel"
        },
        {
         "company": null,
         "gbfs_href": "https://gbfs.urbansharing.com/bergenbysykkel.no/gbfs.json",
         "href": "/v2/networks/bergen-bysykkel",
         "id": "bergen-bysykkel",
         "location": {
          "city": "Bergen",
          "country": "NO",
          "latitude": 60.391263,
          "longitude": 5.322054
         },
         "name": "Bysykkel"
        },
        {
         "company": null,
         "gbfs_href": "https://gbfs.urbansharing.com/trondheimbysykkel.no/gbfs.json",
         "href": "/v2/networks/trondheim-bysykkel",
         "id": "trondheim-bysykkel",
         "location": {
          "city": "Trondheim",
          "country": "NO",
          "latitude": 63.4307238,
          "longitude": 10.3936781
         },
         "name": "Bysykkel"
        },
        {
         "company": [
          "Keolis",
          "Rennes Metropole"
         ],
         "href": "/v2/networks/le-velo-star",
         "id": "le-velo-star",
         "location": {
          "city": "Rennes",
          "country": "FR",
          "latitude": 48.114167,
          "longitude": -1.680833
         },
         "name": "LE vélo Star",
         "source": "https://data.explore.star.fr/explore/dataset/vls-stations-etat-tr/"
        },
        {
         "company": [
          "Keolis Bordeaux Métropole"
         ],
         "ebikes": true,
         "href": "/v2/networks/v3-bordeaux",
         "id": "v3-bordeaux",
         "location": {
          "city": "Bordeaux",
          "country": "FR",
          "latitude": 44.837789,
          "longitude": -0.57918
         },
         "name": "V³"
        },
        {
         "company": [
          "Keolis"
         ],
         "href": "/v2/networks/vlille",
         "id": "vlille",
         "location": {
          "city": "Lille",
          "country": "FR",
          "latitude": 50.62925,
          "longitude": 3.057256
         },
         "name": "V'Lille",
         "source": "https://opendata.lillemetropole.fr/explore/dataset/vlille-realtime/"
        },
        {
         "company": [
          "Keolis",
          "STAP"
         ],
         "href": "/v2/networks/idecycle",
         "id": "idecycle",
         "location": {
          "city": "Pau",
          "country": "FR",
          "latitude": 43.2951,
          "longitude": -0.370797
         },
         "name": "IDECycle"
        },
        {
         "company": [
          "Labici Bicicletas Públicas SL"
         ],
         "href": "/v2/networks/bicialtea",
         "id": "bicialtea",
         "location": {
          "city": "Altea",
          "country": "ES",
          "latitude": 38.6029075,
          "longitude": -0.0450666
         },
         "name": "Bicialtea"
        },
        {
         "company": [
          "Labici Bicicletas Públicas SL"
         ],
         "href": "/v2/networks/bicidorm",
         "id": "bicidorm",
         "location": {
          "city": "Benidorm",
          "country": "ES",
          "latitude": 38.5410566,
          "longitude": -0.1224937
         },
         "name": "Bicidorm"
        },
        {
         "company": [
          "Labici Bicicletas Públicas SL"
         ],
         "href": "/v2/networks/saforbici",
         "id": "saforbici",
         "location": {
          "city": "Gandía",
          "country": "ES",
          "latitude": 38.968032,
          "longitude": -0.1844671
         },
         "name": "SaforBici"
        },
        {
         "company": [
          "Comunicare S.r.l."
         ],
         "href": "/v2/networks/ciclopi",
         "id": "ciclopi",
         "location": {
          "city": "Pisa",
          "country": "IT",
          "latitude": 43.7228386,
          "longitude": 10.4016888
         },
         "name": "Ciclopi",
         "source": "https://www.bicincitta.com/frmLeStazioni.aspx?ID=144"
        },
        {
         "company": [
          "Labici Bicicletas Públicas SL"
         ],
         "href": "/v2/networks/gbici",
         "id": "gbici",
         "location": {
          "city": "Getafe",
          "country": "ES",
          "latitude": 40.3082504,
          "longitude": -3.7323934
         },
         "name": "Gbici"
        },
        {
         "company": [
          "Labici Bicicletas Públicas SL"
         ],
         "href": "/v2/networks/muybici",
         "id": "muybici",
         "location": {
          "city": "Murcia",
          "country": "ES",
          "latitude": 37.9922399,
          "longitude": -1.1306544
         },
         "name": "MuyBici"
        },
        {
         "company": [
          "Labici Bicicletas Públicas SL"
         ],
         "href": "/v2/networks/ponfemobi",
         "id": "ponfemobi",
         "location": {
          "city": "Ponferrada",
          "country": "ES",
          "latitude": 42.5499958,
          "longitude": -6.598259000000001
         },
         "name": "PonfeMobi"
        },
        {
         "company": [
          "Labici Bicicletas Públicas SL"
         ],
         "href": "/v2/networks/vaibike",
         "id": "vaibike",
         "location": {
          "city": "Vilagarcía de Arousa",
          "country": "ES",
          "latitude": 42.5999265,
          "longitude": -8.7885744
         },
         "name": "VaiBike"
        },
        {
         "company": [
          "Comunicare S.r.l."
         ],
         "href": "/v2/networks/cagliari",
         "id": "cagliari",
         "location": {
          "city": "Cagliari",
          "country": "IT",
          "latitude": 39.220817,
          "longitude": 9.121399
         },
         "name": "Cagliari",
         "source": "https://www.bicincitta.com/frmLeStazioni.aspx?ID=177"
        },
        {
         "company": [
          "Buenos Aires Ciudad"
         ],
         "gbfs_href": "https://apitransporte.buenosaires.gob.ar/ecobici/gbfs/",
         "href": "/v2/networks/ecobici-buenos-aires",
         "id": "ecobici-buenos-aires",
         "license": {
          "name": "Open Data Commons Open Database License 1.0 (ODbL)",
          "url": "https://opendatacommons.org/licenses/odbl/"
         },
         "location": {
          "city": "Buenos Aires",
          "country": "AR",
          "latitude": -34.630665,
          "longitude": -58.41156
         },
         "name": "Ecobici",
         "source": "https://www.buenosaires.gob.ar/desarrollourbano/transporte/apitransporte"
        },
        {
         "company": [
          "EMEL"
         ],
         "href": "/v2/networks/gira",
         "id": "gira",
         "location": {
          "city": "Lisbon",
          "country": "PT",
          "latitude": 38.724954,
          "longitude": -9.149334
         },
         "name": "Gira"
        },
        {
         "company": [
          "Comunicare S.r.l."
         ],
         "href": "/v2/networks/gimme-bike",
         "id": "gimme-bike",
         "location": {
          "city": "Varese",
          "country": "IT",
          "latitude": 45.8183902,
          "longitude": 8.823913
         },
         "name": "Gimme Bike",
         "source": "https://www.bicincitta.com/frmLeStazioni.aspx?ID=50"
        },
        {
         "company": [
          "JCDecaux"
         ],
         "href": "/v2/networks/cyclic",
         "id": "cyclic",
         "license": {
          "name": "Open Licence",
          "url": "https://developer.jcdecaux.com/#/opendata/licence"
         },
         "location": {
          "city": "Rouen",
          "country": "FR",
          "latitude": 49.44323199999999,
          "longitude": 1.099971
         },
         "name": "cy'clic",
         "source": "https://developer.jcdecaux.com"
        },
        {
         "company": [
          "JCDecaux"
         ],
         "href": "/v2/networks/velo",
         "id": "velo",
         "license": {
          "name": "Open Licence",
          "url": "https://developer.jcdecaux.com/#/opendata/licence"
         },
         "location": {
          "city": "Toulouse",
          "country": "FR",
          "latitude": 43.604652,
          "longitude": 1.444209
         },
         "name": "Vélô",
         "source": "https://developer.jcdecaux.com"
        },
        {
         "company": [
          "JCDecaux"
         ],
         "href": "/v2/networks/veloh",
         "id": "veloh",
         "license": {
          "name": "Open Licence",
          "url": "https://developer.jcdecaux.com/#/opendata/licence"
         },
         "location": {
          "city": "Luxembourg",
          "country": "LU",
          "latitude": 49.6301025,
          "longitude": 6.1520185
         },
         "name": "Veloh",
         "source": "https://developer.jcdecaux.com"
        },
        {
         "company": [
          "JCDecaux"
         ],
         "href": "/v2/networks/valenbisi",
         "id": "valenbisi",
         "license": {
          "name": "Open Licence",
          "url": "https://developer.jcdecaux.com/#/opendata/licence"
         },
         "location": {
          "city": "Valencia",
          "country": "ES",
          "latitude": 39.4699075,
          "longitude": -0.3762881
         },
         "name": "Valenbisi",
         "source": "https://developer.jcdecaux.com"
        },
        {
         "company": [
          "Comunicare S.r.l."
         ],
         "href": "/v2/networks/sellero",
         "id": "sellero",
         "location": {
          "city": "Sellero",
          "country": "IT",
          "latitude": 46.06304765446406,
          "longitude": 10.353434085845947
         },
         "name": "Sellero",
         "source": "https://www.bicincitta.com/frmLeStazioni.aspx?ID=85"
        },
        {
         "company": [
          "JCDecaux"
         ],
         "href": "/v2/networks/lundahoj",
         "id": "lundahoj",
         "license": {
          "name": "Open Licence",
          "url": "https://developer.jcdecaux.com/#/opendata/licence"
         },
         "location": {
          "city": "Lund",
          "country": "SE",
          "latitude": 55.7046601,
          "longitude": 13.1910073
         },
         "name": "Lundahoj",
         "source": "https://developer.jcdecaux.com"
        },
        {
         "company": [
          "Comunicare S.r.l."
         ],
         "href": "/v2/networks/ugento",
         "id": "ugento",
         "location": {
          "city": "Ugento",
          "country": "IT",
          "latitude": 39.9273518,
          "longitude": 18.1582962
         },
         "name": "Ugento",
         "source": "https://www.bicincitta.com/frmLeStazioni.aspx?ID=103"
        },
        {
         "company": [
          "JCDecaux"
         ],
         "href": "/v2/networks/tusbic",
         "id": "tusbic",
         "license": {
          "name": "Open Licence",
          "url": "https://developer.jcdecaux.com/#/opendata/licence"
         },
         "location": {
          "city": "Santander",
          "country": "ES",
          "latitude": 43.46230569999999,
          "longitude": -3.8099803
         },
         "name": "Tusbic",
         "source": "https://developer.jcdecaux.com"
        },
        {
         "company": [
          "JCDecaux"
         ],
         "href": "/v2/networks/velam",
         "id": "velam",
         "license": {
          "name": "Open Licence",
          "url": "https://developer.jcdecaux.com/#/opendata/licence"
         },
         "location": {
          "city": "Amiens",
          "country": "FR",
          "latitude": 49.894067,
          "longitude": 2.295753
         },
         "name": "Vélam",
         "source": "https://developer.jcdecaux.com"
        },
        {
         "company": [
          "JCDecaux"
         ],
         "href": "/v2/networks/bysykkel-lillestrom",
         "id": "bysykkel-lillestrom",
         "license": {
          "name": "Open Licence",
          "url": "https://developer.jcdecaux.com/#/opendata/licence"
         },
         "location": {
          "city": "Lillestrøm",
          "country": "NO",
          "latitude": 59.9559696,
          "longitude": 11.0503785
         },
         "name": "Bysykkel",
         "source": "https://developer.jcdecaux.com"
        },
        {
         "company": [
          "JCDecaux"
         ],
         "href": "/v2/networks/velocite-mulhouse",
         "id": "velocite-mulhouse",
         "license": {
          "name": "Open Licence",
          "url": "https://developer.jcdecaux.com/#/opendata/licence"
         },
         "location": {
          "city": "Mulhouse",
          "country": "FR",
          "latitude": 47.750839,
          "longitude": 7.335888
         },
         "name": "VéloCité",
         "source": "https://developer.jcdecaux.com"
        },
        {
         "company": [
          "Comunicare S.r.l."
         ],
         "href": "/v2/networks/prata-camportaccio",
         "id": "prata-camportaccio",
         "location": {
          "city": "Prata Camportaccio",
          "country": "IT",
          "latitude": 46.3042146,
          "longitude": 9.3964914
         },
         "name": "Prata Camportaccio",
         "source": "https://www.bicincitta.com/frmLeStazioni.aspx?ID=108"
        },
        {
         "company": [
          "JCDecaux"
         ],
         "href": "/v2/networks/velov",
         "id": "velov",
         "license": {
          "name": "Open Licence",
          "url": "https://developer.jcdecaux.com/#/opendata/licence"
         },
         "location": {
          "city": "Lyon",
          "country": "FR",
          "latitude": 45.764043,
          "longitude": 4.835659
         },
         "name": "Vélo'V",
         "source": "https://developer.jcdecaux.com"
        },
        {
         "company": [
          "JCDecaux"
         ],
         "href": "/v2/networks/bicikelj",
         "id": "bicikelj",
         "license": {
          "name": "Open Licence",
          "url": "https://developer.jcdecaux.com/#/opendata/licence"
         },
         "location": {
          "city": "Ljubljana",
          "country": "SI",
          "latitude": 46.05645089999999,
          "longitude": 14.5080702
         },
         "name": "Bicikelj",
         "source": "https://developer.jcdecaux.com"
        },
        {
         "company": [
          "Comunicare S.r.l."
         ],
         "href": "/v2/networks/civitavecchia",
         "id": "civitavecchia",
         "location": {
          "city": "Civitavecchia",
          "country": "IT",
          "latitude": 42.0937524,
          "longitude": 11.7922462
         },
         "name": "Civitavecchia",
         "source": "https://www.bicincitta.com/frmLeStazioni.aspx?ID=127"
        },
        {
         "company": [
          "JCDecaux"
         ],
         "href": "/v2/networks/sevici",
         "id": "sevici",
         "license": {
          "name": "Open Licence",
          "url": "https://developer.jcdecaux.com/#/opendata/licence"
         },
         "location": {
          "city": "Sevilla",
          "country": "ES",
          "latitude": 37.3880961,
          "longitude": -5.9823299
         },
         "name": "Sevici",
         "source": "https://developer.jcdecaux.com"
        },
        {
         "company": [
          "Comunicare S.r.l."
         ],
         "href": "/v2/networks/longanoinbici",
         "id": "longanoinbici",
         "location": {
          "city": "Barcellona Pozzo di Gotto",
          "country": "IT",
          "latitude": 38.149812517944284,
          "longitude": 15.212116241455078
         },
         "name": "LonganoinBici",
         "source": "https://www.bicincitta.com/frmLeStazioni.aspx?ID=140"
        },
        {
         "company": [
          "JCDecaux"
         ],
         "href": "/v2/networks/li-bia-velo",
         "id": "li-bia-velo",
         "license": {
          "name": "Open Licence",
          "url": "https://developer.jcdecaux.com/#/opendata/licence"
         },
         "location": {
          "city": "Namur",
          "country": "BE",
          "latitude": 50.465328,
          "longitude": 4.867665
         },
         "name": "Li bia velo",
         "source": "https://developer.jcdecaux.com"
        },
        {
         "company": [
          "JCDecaux"
         ],
         "href": "/v2/networks/velostanlib",
         "id": "velostanlib",
         "license": {
          "name": "Open Licence",
          "url": "https://developer.jcdecaux.com/#/opendata/licence"
         },
         "location": {
          "city": "Nancy",
          "country": "FR",
          "latitude": 48.692054,
          "longitude": 6.184417
         },
         "name": "vélOstan'lib",
         "source": "https://developer.jcdecaux.com"
        },
        {
         "company": [
          "JCDecaux"
         ],
         "href": "/v2/networks/cristolib",
         "id": "cristolib",
         "license": {
          "name": "Open Licence",
          "url": "https://developer.jcdecaux.com/#/opendata/licence"
         },
         "location": {
          "city": "Créteil",
          "country": "FR",
          "latitude": 48.790367,
          "longitude": 2.455572
         },
         "name": "Cristolib",
         "source": "https://developer.jcdecaux.com"
        },
        {
         "company": [
          "JCDecaux"
         ],
         "href": "/v2/networks/villo",
         "id": "villo",
         "license": {
          "name": "Open Licence",
          "url": "https://developer.jcdecaux.com/#/opendata/licence"
         },
         "location": {
          "city": "Bruxelles",
          "country": "BE",
          "latitude": 50.8503396,
          "longitude": 4.3517103
         },
         "name": "villo",
         "source": "https://developer.jcdecaux.com"
        },
        {
         "company": [
          "Comunicare S.r.l."
         ],
         "href": "/v2/networks/cassano-d-adda",
         "id": "cassano-d-adda",
         "location": {
          "city": "Cassano d'Adda",
          "country": "IT",
          "latitude": 45.5309616,
          "longitude": 9.5155813
         },
         "name": "Cassano d'Adda",
         "source": "https://www.bicincitta.com/frmLeStazioni.aspx?ID=143"
        },
        {
         "company": [
          "JCDecaux"
         ],
         "href": "/v2/networks/velo2",
         "id": "velo2",
         "license": {
          "name": "Open Licence",
          "url": "https://developer.jcdecaux.com/#/opendata/licence"
         },
         "location": {
          "city": "Cergy",
          "country": "FR",
          "latitude": 49.03561699999999,
          "longitude": 2.060325
         },
         "name": "Velo2",
         "source": "https://developer.jcdecaux.com"
        },
        {
         "company": [
          "JCDecaux"
         ],
         "href": "/v2/networks/vilnius-cyclocity",
         "id": "vilnius-cyclocity",
         "license": {
          "name": "Open Licence",
          "url": "https://developer.jcdecaux.com/#/opendata/licence"
         },
         "location": {
          "city": "Vilnius",
          "country": "LT",
          "latitude": 54.6871555,
          "longitude": 25.2796514
         },
         "name": "Cyclocity",
         "source": "https://developer.jcdecaux.com"
        },
        {
         "company": [
          "JCDecaux"
         ],
         "href": "/v2/networks/toyama-cyclocity",
         "id": "toyama-cyclocity",
         "license": {
          "name": "Open Licence",
          "url": "https://developer.jcdecaux.com/#/opendata/licence"
         },
         "location": {
          "city": "富山市",
          "country": "JP",
          "latitude": 36.6959518,
          "longitude": 137.2136768
         },
         "name": "cyclocity",
         "source": "https://developer.jcdecaux.com"
        },
        {
         "company": [
          "Comunicare S.r.l."
         ],
         "href": "/v2/networks/bianzone-in-bici",
         "id": "bianzone-in-bici",
         "location": {
          "city": "Bianzone",
          "country": "IT",
          "latitude": 46.188197,
          "longitude": 10.109354
         },
         "name": "Bianzone in Bici",
         "source": "https://www.bicincitta.com/frmLeStazioni.aspx?ID=147"
        },
        {
         "company": [
          "LeVélo AMP Métropole",
          "Ville de Marseille",
          "Fifteen SAS"
         ],
         "href": "/v2/networks/le-velo",
         "id": "le-velo",
         "location": {
          "city": "Marseille",
          "country": "FR",
          "latitude": 43.296482,
          "longitude": 5.36978
         },
         "name": "LeVélo"
        },
        {
         "company": [
          "JCDecaux"
         ],
         "href": "/v2/networks/bicloo",
         "id": "bicloo",
         "license": {
          "name": "Open Licence",
          "url": "https://developer.jcdecaux.com/#/opendata/licence"
         },
         "location": {
          "city": "Nantes",
          "country": "FR",
          "latitude": 47.218371,
          "longitude": -1.553621
         },
         "name": "Bicloo",
         "source": "https://developer.jcdecaux.com"
        },
        {
         "company": [
          "JCDecaux"
         ],
         "href": "/v2/networks/velocite-besancon",
         "id": "velocite-besancon",
         "license": {
          "name": "Open Licence",
          "url": "https://developer.jcdecaux.com/#/opendata/licence"
         },
         "location": {
          "city": "Besançon",
          "country": "FR",
          "latitude": 47.237829,
          "longitude": 6.024053899999999
         },
         "name": "VéloCité",
         "source": "https://developer.jcdecaux.com"
        },
        {
         "company": [
          "Comunicare S.r.l."
         ],
         "href": "/v2/networks/rietinbici",
         "id": "rietinbici",
         "location": {
          "city": "Rieti",
          "country": "IT",
          "latitude": 42.40262397383167,
          "longitude": 12.86099910736084
         },
         "name": "Rietinbici",
         "source": "https://www.bicincitta.com/frmLeStazioni.aspx?ID=158"
        },
        {
         "company": [
          "JCDecaux"
         ],
         "href": "/v2/networks/dublinbikes",
         "id": "dublinbikes",
         "license": {
          "name": "Open Licence",
          "url": "https://developer.jcdecaux.com/#/opendata/licence"
         },
         "location": {
          "city": "Dublin",
          "country": "IE",
          "latitude": 53.3498053,
          "longitude": -6.2603097
         },
         "name": "dublinbikes",
         "source": "https://developer.jcdecaux.com"
        },
        {
         "company": null,
         "href": "/v2/networks/bicipalma",
         "id": "bicipalma",
         "location": {
          "city": "Palma",
          "country": "ES",
          "latitude": 39.57119,
          "longitude": 2.646634
         },
         "name": "Bicipalma"
        },
        {
         "company": [
          "Cyacle Bicycle Rental LLC"
         ],
         "href": "/v2/networks/adcb-bikeshare",
         "id": "adcb-bikeshare",
         "location": {
          "city": "Abu Dhabi",
          "country": "AE",
          "latitude": 24.450278,
          "longitude": 54.39
         },
         "name": "ADCB Bikeshare"
        },
        {
         "company": [
          "Comunicare S.r.l."
         ],
         "href": "/v2/networks/castellucchio",
         "id": "castellucchio",
         "location": {
          "city": "Castellucchio",
          "country": "IT",
          "latitude": 45.15047821582959,
          "longitude": 10.651202201843262
         },
         "name": "Castellucchio",
         "source": "https://www.bicincitta.com/frmLeStazioni.aspx?ID=161"
        },
        {
         "company": [
          "Veolia"
         ],
         "href": "/v2/networks/velobleu",
         "id": "velobleu",
         "location": {
          "city": "Nice",
          "country": "FR",
          "latitude": 43.695949,
          "longitude": 7.271413
         },
         "name": "Vélo Bleu"
        },
        {
         "company": [
          "Comunicare S.r.l."
         ],
         "href": "/v2/networks/notoinbici",
         "id": "notoinbici",
         "location": {
          "city": "Noto",
          "country": "IT",
          "latitude": 36.889437754839854,
          "longitude": 15.074658393859863
         },
         "name": "NotoinBici",
         "source": "https://www.bicincitta.com/frmLeStazioni.aspx?ID=162"
        },
        {
         "company": [
          "Comunicare S.r.l."
         ],
         "href": "/v2/networks/enna",
         "id": "enna",
         "location": {
          "city": "Enna",
          "country": "IT",
          "latitude": 37.56342572664775,
          "longitude": 14.27973747253418
         },
         "name": "Enna",
         "source": "https://www.bicincitta.com/frmLeStazioni.aspx?ID=163"
        },
        {
         "company": [
          "Comunicare S.r.l."
         ],
         "href": "/v2/networks/pordenone",
         "id": "pordenone",
         "location": {
          "city": "Pordenone",
          "country": "IT",
          "latitude": 45.94790101663391,
          "longitude": 12.674491020251475
         },
         "name": "Pordenone",
         "source": "https://www.bicincitta.com/frmLeStazioni.aspx?ID=164"
        },
        {
         "company": [
          "Veolia"
         ],
         "href": "/v2/networks/vel-in",
         "id": "vel-in",
         "location": {
          "city": "Calais",
          "country": "FR",
          "latitude": 50.95,
          "longitude": 1.85
         },
         "name": "Vél'in"
        },
        {
         "company": [
          "Comunicare S.r.l."
         ],
         "href": "/v2/networks/carbonia",
         "id": "carbonia",
         "location": {
          "city": "Carbonia",
          "country": "IT",
          "latitude": 39.167222,
          "longitude": 8.522222
         },
         "name": "Carbonia",
         "source": "https://www.bicincitta.com/frmLeStazioni.aspx?ID=173"
        },
        {
         "company": [
          "Municipiul Cluj-Napoca"
         ],
         "href": "/v2/networks/clujbike",
         "id": "clujbike",
         "location": {
          "city": "Cluj-Napoca",
          "country": "RO",
          "latitude": 46.775,
          "longitude": 23.5975
         },
         "name": "Cluj Bike"
        },
        {
         "company": [
          "Comunicare S.r.l."
         ],
         "href": "/v2/networks/mobike",
         "id": "mobike",
         "location": {
          "city": "Genova",
          "country": "IT",
          "latitude": 44.40430089372731,
          "longitude": 8.92908986230462
         },
         "name": "MoBike",
         "source": "https://www.bicincitta.com/frmLeStazioni.aspx?ID=175"
        },
        {
         "company": [
          "Prefeiture de Sorocaba",
          "Urbes"
         ],
         "href": "/v2/networks/integrabike",
         "id": "integrabike",
         "location": {
          "city": "Sorocaba",
          "country": "BR",
          "latitude": -23.5015,
          "longitude": -47.4526
         },
         "name": "Integrabike"
        },
        {
         "company": [
          "Comunicare S.r.l."
         ],
         "href": "/v2/networks/scegli-in-bici",
         "id": "scegli-in-bici",
         "location": {
          "city": "Cremona",
          "country": "IT",
          "latitude": 45.134914104864116,
          "longitude": 10.0222648619018
         },
         "name": "Scegli in Bici",
         "source": "https://www.bicincitta.com/frmLeStazioni.aspx?ID=178"
        },
        {
         "company": [
          "Associação dos Amigos da Riviera de São Lourenço",
          "Sobloco"
         ],
         "href": "/v2/networks/rivibike",
         "id": "rivibike",
         "location": {
          "city": "São Lourenço",
          "country": "BR",
          "latitude": -22.1124,
          "longitude": -45.028
         },
         "name": "RiviBike"
        },
        {
         "company": [
          "Comunicare S.r.l."
         ],
         "href": "/v2/networks/e-motion-trento",
         "id": "e-motion-trento",
         "location": {
          "city": "Trento",
          "country": "IT",
          "latitude": 46.06643205823519,
          "longitude": 11.122145390351879
         },
         "name": "e.motion",
         "source": "https://www.bicincitta.com/frmLeStazioni.aspx?ID=187"
        },
        {
         "company": [
          "Duke Energy Brasil",
          "Governo de Ipaussu"
         ],
         "href": "/v2/networks/dukebike",
         "id": "dukebike",
         "location": {
          "city": "Ipaússu",
          "country": "BR",
          "latitude": -23.0553,
          "longitude": -49.6237
         },
         "name": "DukeBike"
        },
        {
         "company": [
          "Barcelona de Serveis Municipals, S.A. (BSM)",
          "CESPA",
          "PBSC"
         ],
         "gbfs_href": "https://api.bsmsa.eu/ext/api/bsm/gbfs/v2/",
         "href": "/v2/networks/bicing",
         "id": "bicing",
         "location": {
          "city": "Barcelona",
          "country": "ES",
          "latitude": 41.3850639,
          "longitude": 2.1734035
         },
         "name": "Bicing"
        },
        {
         "company": [
          "Baksi Bike Sharing System"
         ],
         "href": "/v2/networks/baksi-antalya",
         "id": "baksi-antalya",
         "location": {
          "city": "Antalya",
          "country": "TR",
          "latitude": 36.862048,
          "longitude": 30.638866
         },
         "name": "Baksi"
        },
        {
         "company": [
          "Baksi Bike Sharing System"
         ],
         "href": "/v2/networks/baksi-bisim",
         "id": "baksi-bisim",
         "location": {
          "city": "Izmir",
          "country": "TR",
          "latitude": 38.4134047464,
          "longitude": 27.0325753524
         },
         "name": "Baksi"
        },
        {
         "company": [
          "Comunicare S.r.l."
         ],
         "href": "/v2/networks/e-motion-rovereto",
         "id": "e-motion-rovereto",
         "location": {
          "city": "Rovereto",
          "country": "IT",
          "latitude": 45.88710661061543,
          "longitude": 11.042242751867644
         },
         "name": "e.motion",
         "source": "https://www.bicincitta.com/frmLeStazioni.aspx?ID=189"
        },
        {
         "company": [
          "Baksi Bike Sharing System"
         ],
         "href": "/v2/networks/baksi-istanbul",
         "id": "baksi-istanbul",
         "location": {
          "city": "Istanbul",
          "country": "TR",
          "latitude": 40.9696887925,
          "longitude": 29.0475373717
         },
         "name": "Isbike"
        },
        {
         "company": [
          "Baksi Bike Sharing System"
         ],
         "href": "/v2/networks/baksi-kobis",
         "id": "baksi-kobis",
         "location": {
          "city": "Kocaeli",
          "country": "TR",
          "latitude": 40.7674733342,
          "longitude": 29.9755885985
         },
         "name": "Baksi"
        },
        {
         "company": [
          "Helsinki City Transport",
          "Helsinki Regional Transport",
          "CityBikeFinland",
          "Smoove SAS",
          "Moventia",
          "Alepa"
         ],
         "href": "/v2/networks/citybikes-helsinki",
         "id": "citybikes-helsinki",
         "location": {
          "city": "Helsinki",
          "country": "FI",
          "latitude": 60.16985569999999,
          "longitude": 24.938379
         },
         "name": "City bikes"
        },
        {
         "company": [
          "Comunicare S.r.l."
         ],
         "href": "/v2/networks/monopoli-bike",
         "id": "monopoli-bike",
         "location": {
          "city": "Monopoli",
          "country": "IT",
          "latitude": 40.94519109440738,
          "longitude": 17.311687995336918
         },
         "name": "Monopoli BIKE",
         "source": "https://www.bicincitta.com/frmLeStazioni.aspx?ID=191"
        },
        {
         "company": [
          "Turku Region Traffic Föli",
          "Nextbike Polska"
         ],
         "href": "/v2/networks/foli",
         "id": "foli",
         "location": {
          "city": "Turku",
          "country": "FI",
          "latitude": 60.4506,
          "longitude": 22.2666
         },
         "name": "Föli-fillari"
        },
        {
         "company": [
          "Comunicare S.r.l."
         ],
         "href": "/v2/networks/bicimia",
         "id": "bicimia",
         "location": {
          "city": "Brescia",
          "country": "IT",
          "latitude": 45.5378,
          "longitude": 10.2173
         },
         "name": "bicimia",
         "source": "https://bicimia.bresciamobilita.it/frmLeStazioni.aspx?ID=40"
        },
        {
         "company": [
          "FSM Ground Services Ltd."
         ],
         "href": "/v2/networks/telofun",
         "id": "telofun",
         "location": {
          "city": "Tel Aviv-Yaffo, Giv'atayim, Ramat-Gan",
          "country": "IL",
          "latitude": 32.087053,
          "longitude": 34.789776
         },
         "name": "Tel-O-Fun"
        },
        {
         "company": [
          "Comunicare S.r.l."
         ],
         "href": "/v2/networks/andria",
         "id": "andria",
         "location": {
          "city": "Andria",
          "country": "IT",
          "latitude": 41.224346932834,
          "longitude": 16.296983922753956
         },
         "name": "Andria in Bici",
         "source": "https://www.bicincitta.com/frmLeStazioni.aspx?ID=192"
        },
        {
         "company": [
          "Open Source Bike Share"
         ],
         "href": "/v2/networks/whitebikes",
         "id": "whitebikes",
         "location": {
          "city": "Bratislava",
          "country": "SK",
          "latitude": 48.149424,
          "longitude": 17.113922
         },
         "name": "WhiteBikes"
        },
        {
         "company": [
          "Dopravný podnik Bratislava",
          "Bratislavská integrovaná doprava, a.s.",
          "Hlavné mesto SR Bratislava"
         ],
         "href": "/v2/networks/slovnaft-bajk",
         "id": "slovnaft-bajk",
         "location": {
          "city": "Bratislava",
          "country": "SK",
          "latitude": 48.1356952,
          "longitude": 16.9758332
         },
         "name": "Slovnaft BAjk"
        },
        {
         "company": [
          "Open Source Bike Share"
         ],
         "href": "/v2/networks/cykl",
         "id": "cykl",
         "location": {
          "city": "Wageningen",
          "country": "NL",
          "latitude": 51.974,
          "longitude": 5.6671
         },
         "name": "Cykl"
        },
        {
         "company": [
          "Open Source Bike Share"
         ],
         "href": "/v2/networks/bicyklezadobreskutky",
         "id": "bicyklezadobreskutky",
         "location": {
          "city": "Prešov",
          "country": "SK",
          "latitude": 48.996275,
          "longitude": 21.234341
         },
         "name": "Bicykle za dobré skutky"
        },
        {
         "company": [
          "Social Bicycles Inc."
         ],
         "href": "/v2/networks/socialbicycles-wavelo",
         "id": "socialbicycles-wavelo",
         "location": {
          "city": "Kraków",
          "country": "PL",
          "latitude": 50.06143,
          "longitude": 19.93658
         },
         "name": "Wavelo"
        },
        {
         "company": [
          "Comunicare S.r.l."
         ],
         "href": "/v2/networks/bicinquartucciu",
         "id": "bicinquartucciu",
         "location": {
          "city": "Quartucciu",
          "country": "IT",
          "latitude": 39.25043149806156,
          "longitude": 9.179296426489255
         },
         "name": "BicinQuartucciu",
         "source": "https://www.bicincitta.com/frmLeStazioni.aspx?ID=193"
        },
        {
         "company": [
          "Mainzer Verkehrsgesellschaft mbH (MVG)"
         ],
         "href": "/v2/networks/mvgmeinrad",
         "id": "mvgmeinrad",
         "location": {
          "city": "Mainz",
          "country": "DE",
          "latitude": 49.992862,
          "longitude": 8.247253
         },
         "name": "MVGmeinrad"
        },
        {
         "company": [
          "Sistema de Bicicletas Públicas del Valle de Aburrá"
         ],
         "href": "/v2/networks/encicla",
         "id": "encicla",
         "location": {
          "city": "Medellin",
          "country": "CO",
          "latitude": 6.254942,
          "longitude": -75.567982
         },
         "name": "EnCicla"
        },
        {
         "company": [
          "Comunicare S.r.l."
         ],
         "href": "/v2/networks/olbia-bike",
         "id": "olbia-bike",
         "location": {
          "city": "Olbia",
          "country": "IT",
          "latitude": 40.9240543,
          "longitude": 9.4994397
         },
         "name": "Olbia Bike",
         "source": "https://www.bicincitta.com/frmLeStazioni.aspx?ID=194"
        },
        {
         "company": [
          "Vanncouver Bike Share Inc.",
          "CycleHop LLC",
          "City of Vancouver",
          "Shaw Communications Inc.",
          "Fifteen"
         ],
         "gbfs_href": "https://vancouver-gbfs.smoove.pro/gbfs/2/gbfs.json",
         "href": "/v2/networks/mobibikes",
         "id": "mobibikes",
         "location": {
          "city": "Vancouver",
          "country": "CA",
          "latitude": 49.2827,
          "longitude": -123.1207
         },
         "name": "Mobi"
        },
        {
         "company": [
          "Comunicare S.r.l."
         ],
         "href": "/v2/networks/savona",
         "id": "savona",
         "location": {
          "city": "Savona",
          "country": "IT",
          "latitude": 44.29516444397244,
          "longitude": 8.463126708984431
         },
         "name": "Savona",
         "source": "https://www.bicincitta.com/frmLeStazioni.aspx?ID=195"
        },
        {
         "company": [
          "CityBike France",
          "PBSC Urban Solutions"
         ],
         "gbfs_href": "https://clermontferrand.publicbikesystem.net/customer/ube/gbfs/v1/",
         "href": "/v2/networks/c-velo",
         "id": "c-velo",
         "location": {
          "city": "Clermont-Ferrand",
          "country": "FR",
          "latitude": 45.7831,
          "longitude": 3.0824
         },
         "name": "C.vélo"
        },
        {
         "company": [
          "Smoove"
         ],
         "gbfs_href": "https://saint-etienne-fr-smoove.klervi.net/gbfs/gbfs.json",
         "href": "/v2/networks/velivert",
         "id": "velivert",
         "location": {
          "city": "Saint-Étienne",
          "country": "FR",
          "latitude": 45.396667,
          "longitude": 4.290833
         },
         "name": "VéliVert"
        },
        {
         "company": [
          "Comunicare S.r.l."
         ],
         "href": "/v2/networks/brindisi",
         "id": "brindisi",
         "location": {
          "city": "Brindisi",
          "country": "IT",
          "latitude": 40.637580319936106,
          "longitude": 17.940774547082572
         },
         "name": "BrindisiByBike",
         "source": "https://www.bicincitta.com/frmLeStazioni.aspx?ID=197"
        },
        {
         "company": [
          "TCRA Public Transport Region Avignon",
          "Fifteen"
         ],
         "gbfs_href": "",
         "href": "/v2/networks/velopop",
         "id": "velopop",
         "location": {
          "city": "Avignon",
          "country": "FR",
          "latitude": 43.943689,
          "longitude": 4.805833
         },
         "name": "Vélopop"
        },
        {
         "company": [
          "Smoove"
         ],
         "href": "/v2/networks/batumvelo",
         "id": "batumvelo",
         "location": {
          "city": "Batumi",
          "country": "GE",
          "latitude": 41.660906,
          "longitude": 41.678835
         },
         "name": "Batumvelo"
        },
        {
         "company": [
          "Comunicare S.r.l."
         ],
         "href": "/v2/networks/tradate",
         "id": "tradate",
         "location": {
          "city": "Tradate",
          "country": "IT",
          "latitude": 45.70938576720161,
          "longitude": 8.915993391601548
         },
         "name": "Tradate",
         "source": "https://www.bicincitta.com/frmLeStazioni.aspx?ID=198"
        },
        {
         "company": [
          "Mobilicidade Tecnologia LTD",
          "Grupo Serttel LTDA"
         ],
         "href": "/v2/networks/bikebh",
         "id": "bikebh",
         "location": {
          "city": "Belo Horizonte",
          "country": "BR",
          "latitude": -19.920793,
          "longitude": -43.922165
         },
         "name": "BikeBH"
        },
        {
         "company": [
          "Mobilicidade Tecnologia LTD",
          "Grupo Serttel LTDA"
         ],
         "href": "/v2/networks/bikepetrolina",
         "id": "bikepetrolina",
         "location": {
          "city": "Petrolina",
          "country": "BR",
          "latitude": -9.389049,
          "longitude": -40.502751
         },
         "name": "BikePetrolina"
        },
        {
         "company": [
          "Comunicare S.r.l."
         ],
         "href": "/v2/networks/jesinbici",
         "id": "jesinbici",
         "location": {
          "city": "Jesi",
          "country": "IT",
          "latitude": 43.522601,
          "longitude": 13.244448
         },
         "name": "JesinBici",
         "source": "https://www.bicincitta.com/frmLeStazioni.aspx?ID=236"
        },
        {
         "company": [
          "Comunicare S.r.l."
         ],
         "href": "/v2/networks/nbici",
         "id": "nbici",
         "location": {
          "city": "Pamplona",
          "country": "ES",
          "latitude": 42.8116631,
          "longitude": -1.6482653
         },
         "name": "nbici",
         "source": "https://www.bicincitta.com/frmLeStazioni.aspx?ID=230"
        },
        {
         "company": [
          "Tembici"
         ],
         "gbfs_href": "https://brasilia.publicbikesystem.net/customer/ube/gbfs/v1/",
         "href": "/v2/networks/bikebrasilia",
         "id": "bikebrasilia",
         "location": {
          "city": "Brasília",
          "country": "BR",
          "latitude": -15.795115,
          "longitude": -47.887424
         },
         "name": "BikeBrasilia"
        },
        {
         "company": [
          "Mobilicidade Tecnologia LTD",
          "Grupo Serttel LTDA"
         ],
         "href": "/v2/networks/debikegoiania",
         "id": "debikegoiania",
         "location": {
          "city": "Goiânia",
          "country": "BR",
          "latitude": -16.670492,
          "longitude": -49.259535
         },
         "name": "GynDebike"
        },
        {
         "company": [
          "Comunicare S.r.l."
         ],
         "href": "/v2/networks/treviso",
         "id": "treviso",
         "location": {
          "city": "Treviso",
          "country": "IT",
          "latitude": 45.6669011,
          "longitude": 12.243039
         },
         "name": "Treviso",
         "source": "https://www.bicincitta.com/frmLeStazioni.aspx?ID=179"
        },
        {
         "company": [
          "Mobilicidade Tecnologia LTD",
          "Grupo Serttel LTDA"
         ],
         "href": "/v2/networks/bicicletar",
         "id": "bicicletar",
         "location": {
          "city": "Fortaleza",
          "country": "BR",
          "latitude": -3.7321944,
          "longitude": -38.510347
         },
         "name": "Bicicletar"
        },
        {
         "company": [
          "Mobilicidade Tecnologia LTD",
          "Grupo Serttel LTDA"
         ],
         "href": "/v2/networks/cajubike",
         "id": "cajubike",
         "location": {
          "city": "Aracajú",
          "country": "BR",
          "latitude": -10.987263,
          "longitude": -37.051898
         },
         "name": "CajuBike"
        },
        {
         "company": [
          "Mobilicidade Tecnologia LTD",
          "Grupo Serttel LTDA"
         ],
         "href": "/v2/networks/bikebelem",
         "id": "bikebelem",
         "location": {
          "city": "Belém",
          "country": "BR",
          "latitude": -1.4600794,
          "longitude": -48.490865
         },
         "name": "Bike Belém"
        },
        {
         "company": [
          "Comunicare S.r.l."
         ],
         "href": "/v2/networks/sondrio",
         "id": "sondrio",
         "location": {
          "city": "Sondrio",
          "country": "IT",
          "latitude": 46.1698583,
          "longitude": 9.8787674
         },
         "name": "Sondrio",
         "source": "https://www.bicincitta.com/frmLeStazioni.aspx?ID=213"
        },
        {
         "company": [
          "Mobilicidade Tecnologia LTD",
          "Grupo Serttel LTDA"
         ],
         "href": "/v2/networks/bikesantos",
         "id": "bikesantos",
         "location": {
          "city": "Santos",
          "country": "BR",
          "latitude": -23.954052,
          "longitude": -46.333345
         },
         "name": "BikeSantos"
        },
        {
         "company": [
          "Comunicare S.r.l."
         ],
         "href": "/v2/networks/vercelli",
         "id": "vercelli",
         "location": {
          "city": "Vercelli",
          "country": "IT",
          "latitude": 45.32022720000001,
          "longitude": 8.418573499999999
         },
         "name": "Vercelli",
         "source": "https://www.bicincitta.com/frmLeStazioni.aspx?ID=235"
        },
        {
         "company": [
          "Comunicare S.r.l."
         ],
         "href": "/v2/networks/portofino-park-and-bike",
         "id": "portofino-park-and-bike",
         "location": {
          "city": "Santa Margherita Ligure - Portofino - Camogli",
          "country": "IT",
          "latitude": 44.335084,
          "longitude": 9.211264
         },
         "name": "Portofino Park and Bike",
         "source": "https://www.bicincitta.com/frmLeStazioni.aspx?ID=128"
        },
        {
         "company": [
          "Mobilicidade Tecnologia LTD",
          "Municipalidad de Rosario"
         ],
         "gbfs_href": "https://www.mibicitubici.gob.ar/opendata/gbfs.json",
         "href": "/v2/networks/mibicitubici",
         "id": "mibicitubici",
         "location": {
          "city": "Rosario",
          "country": "AR",
          "latitude": -32.95,
          "longitude": -60.65
         },
         "name": "Mi bici tu bici"
        },
        {
         "company": [
          "DecoBike LLC"
         ],
         "href": "/v2/networks/decobike-miami-beach",
         "id": "decobike-miami-beach",
         "location": {
          "city": "Miami Beach, FL",
          "country": "US",
          "latitude": 25.790654,
          "longitude": -80.1300455
         },
         "name": "Citi Bike Miami"
        },
        {
         "company": [
          "Comunicare S.r.l."
         ],
         "href": "/v2/networks/meglio-in-bici",
         "id": "meglio-in-bici",
         "location": {
          "city": "Cernusco sul Naviglio - Pioltello - Carugate",
          "country": "IT",
          "latitude": 45.520541,
          "longitude": 9.341984
         },
         "name": "Meglio in Bici",
         "source": "https://www.bicincitta.com/frmLeStazioni.aspx?ID=121"
        },
        {
         "company": [
          "BCycle, LLC"
         ],
         "gbfs_href": "https://gbfs.bcycle.com/bcycle_desmoines/gbfs.json",
         "href": "/v2/networks/desmoines",
         "id": "desmoines",
         "location": {
          "city": "Des Moines, IA",
          "country": "US",
          "latitude": 41.6005448,
          "longitude": -93.6091064
         },
         "name": "Des Moines B-cycle"
        },
        {
         "company": [
          "Comunicare S.r.l."
         ],
         "href": "/v2/networks/ossola",
         "id": "ossola",
         "location": {
          "city": "Santa Maria Maggiore - Malesco - Villette",
          "country": "IT",
          "latitude": 46.127196,
          "longitude": 8.499169
         },
         "name": "Comunità Montana Valli dell'Ossola",
         "source": "https://www.bicincitta.com/frmLeStazioni.aspx?ID=152"
        },
        {
         "company": [
          "BCycle, LLC"
         ],
         "gbfs_href": "https://gbfs.bcycle.com/bcycle_greenville/gbfs.json",
         "href": "/v2/networks/greenville",
         "id": "greenville",
         "location": {
          "city": "Greenville, SC",
          "country": "US",
          "latitude": 34.85261759999999,
          "longitude": -82.3940104
         },
         "name": "Greenville B-cycle"
        },
        {
         "company": [
          "Comunicare S.r.l."
         ],
         "href": "/v2/networks/bicincitta-mezzolombardo",
         "id": "bicincitta-mezzolombardo",
         "location": {
          "city": "Mezzolombardo",
          "country": "IT",
          "latitude": 46.21400260000001,
          "longitude": 11.0967867
         },
         "name": "Bicincittà",
         "source": "https://www.bicincitta.com/frmLeStazioni.aspx?ID=228"
        },
        {
         "company": [
          "Comunicare S.r.l."
         ],
         "href": "/v2/networks/bicincitta-scafati",
         "id": "bicincitta-scafati",
         "location": {
          "city": "Scafati",
          "country": "IT",
          "latitude": 40.7620174,
          "longitude": 14.5363969
         },
         "name": "Bicincittà",
         "source": "https://www.bicincitta.com/frmLeStazioni.aspx?ID=106"
        },
        {
         "company": [
          "Comunicare S.r.l."
         ],
         "href": "/v2/networks/bicincitta-livorno",
         "id": "bicincitta-livorno",
         "location": {
          "city": "Livorno",
          "country": "IT",
          "latitude": 43.548473,
          "longitude": 10.3105674
         },
         "name": "Bicincittà",
         "source": "https://www.bicincitta.com/frmLeStazioni.aspx?ID=226"
        },
        {
         "company": [
          "Comunicare S.r.l."
         ],
         "href": "/v2/networks/bicincitta-forli",
         "id": "bicincitta-forli",
         "location": {
          "city": "Forlì",
          "country": "IT",
          "latitude": 44.2227398,
          "longitude": 12.0407312
         },
         "name": "Mi Muovo in Bici",
         "source": "http://www.mimuovoinbici.it/frmLeStazioni.aspx?ID=119"
        },
        {
         "company": [
          "Comunicare S.r.l."
         ],
         "href": "/v2/networks/bicincitta-rivarolo-canavese",
         "id": "bicincitta-rivarolo-canavese",
         "location": {
          "city": "Rivarolo Canavese",
          "country": "IT",
          "latitude": 45.306633,
          "longitude": 7.723242
         },
         "name": "Bicincittà",
         "source": "https://www.bicincitta.com/frmLeStazioni.aspx?ID=227"
        },
        {
         "company": [
          "Comunicare S.r.l."
         ],
         "href": "/v2/networks/bicincitta-monserrato",
         "id": "bicincitta-monserrato",
         "location": {
          "city": "Monserrato",
          "country": "IT",
          "latitude": 39.2560191,
          "longitude": 9.1453579
         },
         "name": "Bicincittà",
         "source": "https://www.bicincitta.com/frmLeStazioni.aspx?ID=220"
        },
        {
         "company": [
          "Comunicare S.r.l."
         ],
         "href": "/v2/networks/bicincitta-mezzocorona",
         "id": "bicincitta-mezzocorona",
         "location": {
          "city": "Mezzocorona",
          "country": "IT",
          "latitude": 46.2339047,
          "longitude": 11.1277461
         },
         "name": "Bicincittà",
         "source": "https://www.bicincitta.com/frmLeStazioni.aspx?ID=229"
        },
        {
         "company": [
          "Comunicare S.r.l."
         ],
         "href": "/v2/networks/bicincitta-san-lazzaro-di-savena",
         "id": "bicincitta-san-lazzaro-di-savena",
         "location": {
          "city": "San Lazzaro di Savena",
          "country": "IT",
          "latitude": 44.4702725,
          "longitude": 11.409399
         },
         "name": "Mi Muovo in Bici",
         "source": "http://www.mimuovoinbici.it/frmLeStazioni.aspx?ID=100"
        },
        {
         "company": [
          "Comunicare S.r.l."
         ],
         "href": "/v2/networks/bicincitta-san-teodoro",
         "id": "bicincitta-san-teodoro",
         "location": {
          "city": "San Teodoro",
          "country": "IT",
          "latitude": 40.7722837,
          "longitude": 9.6695458
         },
         "name": "Bicincittà",
         "source": "https://www.bicincitta.com/frmLeStazioni.aspx?ID=225"
        },
        {
         "company": [
          "Comunicare S.r.l."
         ],
         "href": "/v2/networks/bicincitta-parco-molentargius-saline",
         "id": "bicincitta-parco-molentargius-saline",
         "location": {
          "city": "Parco Naturale Molentargius - Saline",
          "country": "IT",
          "latitude": 39.2052545,
          "longitude": 9.146761099999999
         },
         "name": "Bicincittà",
         "source": "https://www.bicincitta.com/frmLeStazioni.aspx?ID=151"
        },
        {
         "company": [
          "Comunicare S.r.l."
         ],
         "href": "/v2/networks/parkinbici",
         "id": "parkinbici",
         "location": {
          "city": "Parco Nazionale del Gargano",
          "country": "IT",
          "latitude": 41.7817081,
          "longitude": 15.8516421
         },
         "name": "Parkinbici",
         "source": "https://www.bicincitta.com/frmLeStazioni.aspx?ID=105"
        },
        {
         "company": [
          "Comunicare S.r.l."
         ],
         "href": "/v2/networks/bicincitta-gallipoli",
         "id": "bicincitta-gallipoli",
         "location": {
          "city": "Gallipoli",
          "country": "IT",
          "latitude": 40.0558554,
          "longitude": 17.9925085
         },
         "name": "Bicincittà",
         "source": "https://www.bicincitta.com/frmLeStazioni.aspx?ID=109"
        },
        {
         "company": [
          "Comunicare S.r.l."
         ],
         "href": "/v2/networks/bicincitta-castel-guelfo-the-style-outlets",
         "id": "bicincitta-castel-guelfo-the-style-outlets",
         "location": {
          "city": "Castel Guelfo di Bologna",
          "country": "IT",
          "latitude": 44.4328527,
          "longitude": 11.6750857
         },
         "name": "Bicincittà",
         "source": "https://www.bicincitta.com/frmLeStazioni.aspx?ID=233"
        },
        {
         "company": [
          "Comunicare S.r.l."
         ],
         "href": "/v2/networks/bicincitta-san-michele-alladige",
         "id": "bicincitta-san-michele-alladige",
         "location": {
          "city": "San Michele All'adige",
          "country": "IT",
          "latitude": 46.1878653,
          "longitude": 11.1330423
         },
         "name": "Bicincittà",
         "source": "https://www.bicincitta.com/frmLeStazioni.aspx?ID=231"
        },
        {
         "company": [
          "Comunicare S.r.l."
         ],
         "href": "/v2/networks/bicincitta-modena",
         "id": "bicincitta-modena",
         "location": {
          "city": "Modena",
          "country": "IT",
          "latitude": 44.647128,
          "longitude": 10.9252269
         },
         "name": "Mi Muovo in bici",
         "source": "http://www.mimuovoinbici.it/frmLeStazioni.aspx?ID=180"
        },
        {
         "company": [
          "Comunicare S.r.l."
         ],
         "href": "/v2/networks/bicincitta-brancaleone",
         "id": "bicincitta-brancaleone",
         "location": {
          "city": "Brancaleone",
          "country": "IT",
          "latitude": 37.9679084,
          "longitude": 16.0757749
         },
         "name": "Bicincittà",
         "source": "https://www.bicincitta.com/frmLeStazioni.aspx?ID=104"
        },
        {
         "company": [
          "Comunicare S.r.l."
         ],
         "href": "/v2/networks/bicincitta-scandiano",
         "id": "bicincitta-scandiano",
         "location": {
          "city": "Scandiano",
          "country": "IT",
          "latitude": 44.5982342,
          "longitude": 10.6909273
         },
         "name": "Mi Muovo in Bici",
         "source": "http://www.mimuovoinbici.it/frmLeStazioni.aspx?ID=94"
        },
        {
         "company": [
          "Comunicare S.r.l."
         ],
         "href": "/v2/networks/bicincitta-elmas",
         "id": "bicincitta-elmas",
         "location": {
          "city": "Elmas",
          "country": "IT",
          "latitude": 39.2634329,
          "longitude": 9.0515805
         },
         "name": "Bicincittà",
         "source": "https://www.bicincitta.com/frmLeStazioni.aspx?ID=218"
        },
        {
         "company": [
          "Comunicare S.r.l."
         ],
         "href": "/v2/networks/bicincitta-tivat",
         "id": "bicincitta-tivat",
         "location": {
          "city": "TV",
          "country": "ME",
          "latitude": 42.4349809,
          "longitude": 18.7066398
         },
         "name": "Bicincittà",
         "source": "https://www.bicincitta.com/frmLeStazioni.aspx?ID=87"
        },
        {
         "company": [
          "Comunicare S.r.l."
         ],
         "href": "/v2/networks/bicincitta-acquaviva-delle-fonti",
         "id": "bicincitta-acquaviva-delle-fonti",
         "location": {
          "city": "Acquaviva delle fonti",
          "country": "IT",
          "latitude": 40.9303721,
          "longitude": 16.8414374
         },
         "name": "Bicincittà",
         "source": "https://www.bicincitta.com/frmLeStazioni.aspx?ID=160"
        },
        {
         "company": [
          "Comunicare S.r.l."
         ],
         "href": "/v2/networks/we-love-bike",
         "id": "we-love-bike",
         "location": {
          "city": "Lodi",
          "country": "IT",
          "latitude": 45.3097228,
          "longitude": 9.503715999999999
         },
         "name": "We Love bike",
         "source": "https://www.bicincitta.com/frmLeStazioni.aspx?ID=190"
        },
        {
         "company": [
          "Comunicare S.r.l."
         ],
         "href": "/v2/networks/bicincitta-acquarica-del-capo",
         "id": "bicincitta-acquarica-del-capo",
         "location": {
          "city": "Acquarica del Capo",
          "country": "IT",
          "latitude": 39.9144573,
          "longitude": 18.2450324
         },
         "name": "Bicincittà",
         "source": "https://www.bicincitta.com/frmLeStazioni.aspx?ID=146"
        },
        {
         "company": [
          "Comunicare S.r.l."
         ],
         "href": "/v2/networks/bicincitta-vicolungo-the-style-outlets",
         "id": "bicincitta-vicolungo-the-style-outlets",
         "location": {
          "city": "Vicolungo",
          "country": "IT",
          "latitude": 45.47167229999999,
          "longitude": 8.4633922
         },
         "name": "Bicincittà",
         "source": "https://www.bicincitta.com/frmLeStazioni.aspx?ID=232"
        },
        {
         "company": [
          "Comunicare S.r.l."
         ],
         "href": "/v2/networks/bicincitta-porto-torres",
         "id": "bicincitta-porto-torres",
         "location": {
          "city": "Porto Torres",
          "country": "IT",
          "latitude": 40.8333682,
          "longitude": 8.402292899999999
         },
         "name": "Bicincittà",
         "source": "https://www.bicincitta.com/frmLeStazioni.aspx?ID=221"
        },
        {
         "company": [
          "Comunicare S.r.l."
         ],
         "href": "/v2/networks/bicincitta-cisterna-di-latina",
         "id": "bicincitta-cisterna-di-latina",
         "location": {
          "city": "Cisterna di Latina",
          "country": "IT",
          "latitude": 41.5754029,
          "longitude": 12.8284772
         },
         "name": "Bicincittà",
         "source": "https://www.bicincitta.com/frmLeStazioni.aspx?ID=217"
        },
        {
         "company": [
          "Comunicare S.r.l."
         ],
         "href": "/v2/networks/bicincitta-casaletto-spartano",
         "id": "bicincitta-casaletto-spartano",
         "location": {
          "city": "Casaletto Spartano",
          "country": "IT",
          "latitude": 40.1532801,
          "longitude": 15.6211479
         },
         "name": "Bicincittà",
         "source": "https://www.bicincitta.com/frmLeStazioni.aspx?ID=199"
        },
        {
         "company": [
          "Comunicare S.r.l."
         ],
         "href": "/v2/networks/bicincitta-selargius",
         "id": "bicincitta-selargius",
         "location": {
          "city": "Selargius",
          "country": "IT",
          "latitude": 39.2596768,
          "longitude": 9.1629372
         },
         "name": "Bicincittà",
         "source": "https://www.bicincitta.com/frmLeStazioni.aspx?ID=219"
        },
        {
         "company": [
          "Comunicare S.r.l."
         ],
         "href": "/v2/networks/bicincitta-monza",
         "id": "bicincitta-monza",
         "location": {
          "city": "Monza",
          "country": "IT",
          "latitude": 45.5845001,
          "longitude": 9.2744485
         },
         "name": "Bicincittà",
         "source": "https://www.bicincitta.com/frmLeStazioni.aspx?ID=224"
        },
        {
         "company": [
          "Comunicare S.r.l."
         ],
         "href": "/v2/networks/bicincitta-morigerati",
         "id": "bicincitta-morigerati",
         "location": {
          "city": "Morigerati",
          "country": "IT",
          "latitude": 40.1422031,
          "longitude": 15.5298525
         },
         "name": "Bicincittà",
         "source": "https://www.bicincitta.com/frmLeStazioni.aspx?ID=200"
        },
        {
         "company": [
          "Comunicare S.r.l."
         ],
         "href": "/v2/networks/bicincitta-san-donato-milanese",
         "id": "bicincitta-san-donato-milanese",
         "location": {
          "city": "San Donato Milanese",
          "country": "IT",
          "latitude": 45.4092402,
          "longitude": 9.2684867
         },
         "name": "Bicincittà",
         "source": "https://www.bicincitta.com/frmLeStazioni.aspx?ID=234"
        },
        {
         "company": [
          "Comunicare S.r.l."
         ],
         "href": "/v2/networks/bicincitta-ente-parco-del-circeo",
         "id": "bicincitta-ente-parco-del-circeo",
         "location": {
          "city": "Parco Nazionale del Circeo",
          "country": "IT",
          "latitude": 41.3151015,
          "longitude": 13.0330782
         },
         "name": "Bicincittà",
         "source": "https://www.bicincitta.com/frmLeStazioni.aspx?ID=135"
        },
        {
         "company": [
          "Comunicare S.r.l."
         ],
         "href": "/v2/networks/bicincitta-cesena",
         "id": "bicincitta-cesena",
         "location": {
          "city": "Cesena",
          "country": "IT",
          "latitude": 44.1396438,
          "longitude": 12.2464292
         },
         "name": "Mi Muovo in bici",
         "source": "http://www.mimuovoinbici.it/frmLeStazioni.aspx?ID=120"
        },
        {
         "company": [
          "Comunicare S.r.l."
         ],
         "href": "/v2/networks/lecco",
         "id": "lecco",
         "location": {
          "city": "Lecco",
          "country": "IT",
          "latitude": 45.8565698,
          "longitude": 9.397670399999999
         },
         "name": "Bicincittà",
         "source": "https://www.bicincitta.com/frmLeStazioni.aspx?ID=49"
        },
        {
         "company": [
          "Comunicare S.r.l."
         ],
         "href": "/v2/networks/bicincitta-alghero",
         "id": "bicincitta-alghero",
         "location": {
          "city": "Alghero",
          "country": "IT",
          "latitude": 40.5579517,
          "longitude": 8.319294900000001
         },
         "name": "Bicincittà",
         "source": "https://www.bicincitta.com/frmLeStazioni.aspx?ID=237"
        },
        {
         "company": [
          "Comunicare S.r.l."
         ],
         "href": "/v2/networks/bicincitta-san-giovanni-in-persiceto",
         "id": "bicincitta-san-giovanni-in-persiceto",
         "location": {
          "city": "San Giovanni in Persiceto",
          "country": "IT",
          "latitude": 44.6405433,
          "longitude": 11.1893053
         },
         "name": "Mi Muovo in Bici",
         "source": "http://www.mimuovoinbici.it/frmLeStazioni.aspx?ID=101"
        },
        {
         "company": [
          "Comunicare S.r.l."
         ],
         "href": "/v2/networks/bicincitta-ente-parco-san-rossore",
         "id": "bicincitta-ente-parco-san-rossore",
         "location": {
          "city": "Parco naturale Migliarino San Rossore Massaciuccoli",
          "country": "IT",
          "latitude": 43.723826,
          "longitude": 10.339509
         },
         "name": "Bicincittà",
         "source": "https://www.bicincitta.com/frmLeStazioni.aspx?ID=145"
        },
        {
         "company": [
          "Comunicare S.r.l."
         ],
         "href": "/v2/networks/bicincitta-treviglio",
         "id": "bicincitta-treviglio",
         "location": {
          "city": "Treviglio",
          "country": "IT",
          "latitude": 45.5293372,
          "longitude": 9.591435899999999
         },
         "name": "Bicincittà",
         "source": "https://www.bicincitta.com/frmLeStazioni.aspx?ID=174"
        },
        {
         "company": [
          "Comunicare S.r.l."
         ],
         "href": "/v2/networks/bicincitta-lavis",
         "id": "bicincitta-lavis",
         "location": {
          "city": "Lavis",
          "country": "IT",
          "latitude": 46.1408423,
          "longitude": 11.1124935
         },
         "name": "Bicincittà",
         "source": "https://www.bicincitta.com/frmLeStazioni.aspx?ID=238"
        },
        {
         "company": [
          "Comunicare S.r.l."
         ],
         "href": "/v2/networks/bicincitta-ente-parco-di-montemarcello-magra",
         "id": "bicincitta-ente-parco-di-montemarcello-magra",
         "location": {
          "city": "Ente Parco Montemarcello Magra",
          "country": "IT",
          "latitude": 44.1143897,
          "longitude": 9.9635986
         },
         "name": "Bicincittà",
         "source": "https://www.bicincitta.com/frmLeStazioni.aspx?ID=132"
        },
        {
         "company": [
          "Comunicare S.r.l."
         ],
         "href": "/v2/networks/bicischio",
         "id": "bicischio",
         "location": {
          "city": "Schio",
          "country": "IT",
          "latitude": 45.7170517,
          "longitude": 11.3597702
         },
         "name": "BiciSchio",
         "source": "https://www.bicincitta.com/frmLeStazioni.aspx?ID=91"
        },
        {
         "company": [
          "Comunicare S.r.l."
         ],
         "href": "/v2/networks/bicincitta-imola",
         "id": "bicincitta-imola",
         "location": {
          "city": "Imola",
          "country": "IT",
          "latitude": 44.3559128,
          "longitude": 11.7161197
         },
         "name": "Mi Muovo in bici",
         "source": "http://www.mimuovoinbici.it/frmLeStazioni.aspx?ID=196"
        },
        {
         "company": [
          "Nextbike GmbH"
         ],
         "href": "/v2/networks/nextbike-leipzig",
         "id": "nextbike-leipzig",
         "location": {
          "city": "Leipzig",
          "country": "DE",
          "latitude": 51.3415,
          "longitude": 12.3625
         },
         "name": "Nextbike"
        },
        {
         "company": [
          "Nextbike GmbH"
         ],
         "href": "/v2/networks/nextbike-wiesbaden",
         "id": "nextbike-wiesbaden",
         "location": {
          "city": "Wiesbaden",
          "country": "DE",
          "latitude": 50.0709,
          "longitude": 8.24322
         },
         "name": "Nextbike"
        },
        {
         "company": [
          "Nextbike GmbH"
         ],
         "href": "/v2/networks/visa-frankfurt",
         "id": "visa-frankfurt",
         "location": {
          "city": "Frankfurt",
          "country": "DE",
          "latitude": 50.1072,
          "longitude": 8.66375
         },
         "name": "VISA"
        },
        {
         "company": [
          "Nextbike GmbH"
         ],
         "href": "/v2/networks/kvb-rad-koln",
         "id": "kvb-rad-koln",
         "location": {
          "city": "Köln",
          "country": "DE",
          "latitude": 50.9429,
          "longitude": 6.95649
         },
         "name": "KVB Rad"
        },
        {
         "company": [
          "Nextbike GmbH"
         ],
         "href": "/v2/networks/facherrad-karlsruhe",
         "id": "facherrad-karlsruhe",
         "location": {
          "city": "Karlsruhe",
          "country": "DE",
          "latitude": 49.0102,
          "longitude": 8.41827
         },
         "name": "Fächerrad"
        },
        {
         "company": [
          "Nextbike GmbH"
         ],
         "href": "/v2/networks/burgenland-neusiedler-see",
         "id": "burgenland-neusiedler-see",
         "location": {
          "city": "Neusiedler See",
          "country": "AT",
          "latitude": 47.839,
          "longitude": 16.761
         },
         "name": "Burgenland"
        },
        {
         "company": [
          "Nextbike GmbH"
         ],
         "href": "/v2/networks/nextbike-dusseldorf",
         "id": "nextbike-dusseldorf",
         "location": {
          "city": "Düsseldorf",
          "country": "DE",
          "latitude": 51.2243,
          "longitude": 6.77204
         },
         "name": "Nextbike"
        },
        {
         "company": [
          "Nextbike GmbH"
         ],
         "href": "/v2/networks/nextbike-stpolten",
         "id": "nextbike-stpolten",
         "location": {
          "city": "St.Pölten",
          "country": "AT",
          "latitude": 48.2058,
          "longitude": 15.6232
         },
         "name": "Nextbike"
        },
        {
         "company": [
          "Nextbike GmbH"
         ],
         "href": "/v2/networks/nextbike-modling",
         "id": "nextbike-modling",
         "location": {
          "city": "Mödling",
          "country": "AT",
          "latitude": 48.1047,
          "longitude": 16.3202
         },
         "name": "Nextbike"
        },
        {
         "company": [
          "Nextbike GmbH"
         ],
         "href": "/v2/networks/nextbike-sursee",
         "id": "nextbike-sursee",
         "location": {
          "city": "Sursee",
          "country": "CH",
          "latitude": 47.1713,
          "longitude": 8.10877
         },
         "name": "Nextbike"
        },
        {
         "company": [
          "Nextbike GmbH"
         ],
         "href": "/v2/networks/nextbike-luzern",
         "id": "nextbike-luzern",
         "location": {
          "city": "Luzern",
          "country": "CH",
          "latitude": 47.0472,
          "longitude": 8.30446
         },
         "name": "Nextbike"
        },
        {
         "company": [
          "Nextbike GmbH"
         ],
         "href": "/v2/networks/sixt-riga",
         "id": "sixt-riga",
         "location": {
          "city": "Rīga",
          "country": "LV",
          "latitude": 56.9453,
          "longitude": 24.1033
         },
         "name": "SiXT"
        },
        {
         "company": [
          "Nextbike GmbH"
         ],
         "href": "/v2/networks/metropolradruhr-dortmund",
         "id": "metropolradruhr-dortmund",
         "location": {
          "city": "Dortmund",
          "country": "DE",
          "latitude": 51.5141,
          "longitude": 7.46255
         },
         "name": "metropolradruhr"
        },
        {
         "company": [
          "Nextbike GmbH"
         ],
         "href": "/v2/networks/metropolradruhr-bochum",
         "id": "metropolradruhr-bochum",
         "location": {
          "city": "Bochum",
          "country": "DE",
          "latitude": 51.4813,
          "longitude": 7.2133
         },
         "name": "metropolradruhr"
        },
        {
         "company": [
          "Nextbike GmbH"
         ],
         "href": "/v2/networks/metropolradruhr-bottrop",
         "id": "metropolradruhr-bottrop",
         "location": {
          "city": "Bottrop",
          "country": "DE",
          "latitude": 51.5263,
          "longitude": 6.94611
         },
         "name": "metropolradruhr"
        },
        {
         "company": [
          "Nextbike GmbH"
         ],
         "href": "/v2/networks/metropolradruhr-duisburg",
         "id": "metropolradruhr-duisburg",
         "location": {
          "city": "Duisburg",
          "country": "DE",
          "latitude": 51.4487,
          "longitude": 6.77513
         },
         "name": "metropolradruhr"
        },
        {
         "company": [
          "Nextbike GmbH"
         ],
         "href": "/v2/networks/metropolradruhr-essen",
         "id": "metropolradruhr-essen",
         "location": {
          "city": "Essen",
          "country": "DE",
          "latitude": 51.4425,
          "longitude": 7.02301
         },
         "name": "metropolradruhr"
        },
        {
         "company": [
          "Nextbike GmbH"
         ],
         "href": "/v2/networks/metropolradruhr-gelsenkirchen",
         "id": "metropolradruhr-gelsenkirchen",
         "location": {
          "city": "Gelsenkirchen",
          "country": "DE",
          "latitude": 51.5404,
          "longitude": 7.07039
         },
         "name": "metropolradruhr"
        },
        {
         "company": [
          "Nextbike GmbH"
         ],
         "href": "/v2/networks/metropolradruhr-hamm",
         "id": "metropolradruhr-hamm",
         "location": {
          "city": "Hamm",
          "country": "DE",
          "latitude": 51.6775,
          "longitude": 7.84836
         },
         "name": "metropolradruhr"
        },
        {
         "company": [
          "Nextbike GmbH"
         ],
         "href": "/v2/networks/metropolradruhr-herne",
         "id": "metropolradruhr-herne",
         "location": {
          "city": "Herne",
          "country": "DE",
          "latitude": 51.5363,
          "longitude": 7.21493
         },
         "name": "metropolradruhr"
        },
        {
         "company": [
          "Nextbike GmbH"
         ],
         "href": "/v2/networks/metropolradruhr-mulheim-adr",
         "id": "metropolradruhr-mulheim-adr",
         "location": {
          "city": "Mülheim a.d.R.",
          "country": "DE",
          "latitude": 51.4308,
          "longitude": 6.87401
         },
         "name": "metropolradruhr"
        },
        {
         "company": [
          "Nextbike GmbH"
         ],
         "href": "/v2/networks/metropolradruhr-oberhausen",
         "id": "metropolradruhr-oberhausen",
         "location": {
          "city": "Oberhausen",
          "country": "DE",
          "latitude": 51.4936,
          "longitude": 6.85169
         },
         "name": "metropolradruhr"
        },
        {
         "company": [
          "Nextbike GmbH"
         ],
         "href": "/v2/networks/nextbike-wachau",
         "id": "nextbike-wachau",
         "location": {
          "city": "Wachau",
          "country": "AT",
          "latitude": 48.3188,
          "longitude": 15.4166
         },
         "name": "Nextbike"
        },
        {
         "company": [
          "Nextbike GmbH"
         ],
         "href": "/v2/networks/nextbike-tulln",
         "id": "nextbike-tulln",
         "location": {
          "city": "Tulln",
          "country": "AT",
          "latitude": 48.3269,
          "longitude": 16.0569
         },
         "name": "Nextbike"
        },
        {
         "company": [
          "Nextbike GmbH"
         ],
         "href": "/v2/networks/nextbike-thermenregion",
         "id": "nextbike-thermenregion",
         "location": {
          "city": "Thermenregion",
          "country": "AT",
          "latitude": 47.9892,
          "longitude": 16.2646
         },
         "name": "Nextbike"
        },
        {
         "company": [
          "Nextbike GmbH"
         ],
         "href": "/v2/networks/wrm-wroclaw",
         "id": "wrm-wroclaw",
         "location": {
          "city": "Wrocław",
          "country": "PL",
          "latitude": 51.1097,
          "longitude": 17.0485
         },
         "name": "WRM"
        },
        {
         "company": [
          "Nextbike GmbH"
         ],
         "href": "/v2/networks/nextbike-offenburg",
         "id": "nextbike-offenburg",
         "location": {
          "city": "Offenburg",
          "country": "DE",
          "latitude": 48.4721,
          "longitude": 7.94243
         },
         "name": "Nextbike"
        },
        {
         "company": [
          "Nextbike GmbH"
         ],
         "href": "/v2/networks/nextbike-wrneustadt",
         "id": "nextbike-wrneustadt",
         "location": {
          "city": "Wr.Neustadt",
          "country": "AT",
          "latitude": 47.8167,
          "longitude": 16.2426
         },
         "name": "Nextbike"
        },
        {
         "company": [
          "Nextbike GmbH"
         ],
         "href": "/v2/networks/nextbike-potsdam",
         "id": "nextbike-potsdam",
         "location": {
          "city": "Potsdam",
          "country": "DE",
          "latitude": 52.3997,
          "longitude": 13.0676
         },
         "name": "Nextbike"
        },
        {
         "company": [
          "Nextbike GmbH"
         ],
         "href": "/v2/networks/nextbike-gutersloh",
         "id": "nextbike-gutersloh",
         "location": {
          "city": "Gütersloh",
          "country": "DE",
          "latitude": 51.9049,
          "longitude": 8.39275
         },
         "name": "Nextbike"
        },
        {
         "company": [
          "Nextbike GmbH"
         ],
         "href": "/v2/networks/nextbike-10vorwien",
         "id": "nextbike-10vorwien",
         "location": {
          "city": "10vorWien",
          "country": "AT",
          "latitude": 48.3403,
          "longitude": 16.279
         },
         "name": "Nextbike"
        },
        {
         "company": [
          "Nextbike GmbH"
         ],
         "href": "/v2/networks/usedomrad-usedom",
         "id": "usedomrad-usedom",
         "location": {
          "city": "Usedom",
          "country": "DE",
          "latitude": 53.9779,
          "longitude": 13.9925
         },
         "name": "UsedomRad"
        },
        {
         "company": [
          "Nextbike GmbH"
         ],
         "href": "/v2/networks/nextbike-norderstedt",
         "id": "nextbike-norderstedt",
         "location": {
          "city": "Norderstedt",
          "country": "DE",
          "latitude": 53.6969,
          "longitude": 10.002
         },
         "name": "Nextbike"
        },
        {
         "company": [
          "Nextbike GmbH"
         ],
         "href": "/v2/networks/swa-rad-augsburg",
         "id": "swa-rad-augsburg",
         "location": {
          "city": "Augsburg",
          "country": "DE",
          "latitude": 48.3647,
          "longitude": 10.8916
         },
         "name": "SWA Rad"
        },
        {
         "company": [
          "Nextbike GmbH"
         ],
         "href": "/v2/networks/nextbike-limassol",
         "id": "nextbike-limassol",
         "location": {
          "city": "Limassol",
          "country": "CY",
          "latitude": 34.6823,
          "longitude": 33.0464
         },
         "name": "Nextbike"
        },
        {
         "company": [
          "Nextbike GmbH"
         ],
         "href": "/v2/networks/prm-poznan",
         "id": "prm-poznan",
         "location": {
          "city": "Poznań",
          "country": "PL",
          "latitude": 52.4077,
          "longitude": 16.9323
         },
         "name": "PRM"
        },
        {
         "company": [
          "Nextbike GmbH"
         ],
         "href": "/v2/networks/nextbike-christchurch",
         "id": "nextbike-christchurch",
         "location": {
          "city": "Christchurch",
          "country": "NZ",
          "latitude": -43.5341,
          "longitude": 172.621
         },
         "name": "Nextbike"
        },
        {
         "company": [
          "Nextbike GmbH"
         ],
         "href": "/v2/networks/vrn-heidelberg",
         "id": "vrn-heidelberg",
         "location": {
          "city": "Heidelberg",
          "country": "DE",
          "latitude": 49.4023,
          "longitude": 8.67577
         },
         "name": "VRN"
        },
        {
         "company": [
          "Nextbike GmbH"
         ],
         "href": "/v2/networks/vrn-mannheim",
         "id": "vrn-mannheim",
         "location": {
          "city": "Mannheim",
          "country": "DE",
          "latitude": 49.4869,
          "longitude": 8.45638
         },
         "name": "VRN"
        },
        {
         "company": [
          "Nextbike GmbH"
         ],
         "href": "/v2/networks/stadtrad-innsbruck",
         "id": "stadtrad-innsbruck",
         "location": {
          "city": "Innsbruck",
          "country": "AT",
          "latitude": 47.2632,
          "longitude": 11.3961
         },
         "name": "Stadtrad"
        },
        {
         "company": [
          "Nextbike GmbH"
         ],
         "href": "/v2/networks/nextbike-nicosia",
         "id": "nextbike-nicosia",
         "location": {
          "city": "Nicosia",
          "country": "CY",
          "latitude": 35.1728,
          "longitude": 33.3653
         },
         "name": "Nextbike"
        },
        {
         "company": [
          "Nextbike GmbH"
         ],
         "href": "/v2/networks/veturilo-warszawa",
         "id": "veturilo-warszawa",
         "location": {
          "city": "Warszawa",
          "country": "PL",
          "latitude": 52.2265,
          "longitude": 21.0127
         },
         "name": "VETURILO"
        },
        {
         "company": [
          "Nextbike GmbH"
         ],
         "href": "/v2/networks/nextbike-hollabrunn",
         "id": "nextbike-hollabrunn",
         "location": {
          "city": "Hollabrunn",
          "country": "AT",
          "latitude": 48.562,
          "longitude": 16.0785
         },
         "name": "Nextbike"
        },
        {
         "company": [
          "Nextbike GmbH"
         ],
         "href": "/v2/networks/nextbike-wienerwald",
         "id": "nextbike-wienerwald",
         "location": {
          "city": "WienerWald",
          "country": "AT",
          "latitude": 48.1926,
          "longitude": 16.141
         },
         "name": "Nextbike"
        },
        {
         "company": [
          "Nextbike GmbH"
         ],
         "href": "/v2/networks/nextbike-zagreb",
         "id": "nextbike-zagreb",
         "location": {
          "city": "Zagreb",
          "country": "HR",
          "latitude": 45.7984,
          "longitude": 15.9789
         },
         "name": "Nextbike"
        },
        {
         "company": [
          "Nextbike GmbH"
         ],
         "href": "/v2/networks/nextbike-glasgow",
         "id": "nextbike-glasgow",
         "location": {
          "city": "Glasgow",
          "country": "GB",
          "latitude": 55.8589,
          "longitude": -4.25549
         },
         "name": "Nextbike"
        },
        {
         "company": [
          "Nextbike GmbH"
         ],
         "href": "/v2/networks/belfastbikes-belfast",
         "id": "belfastbikes-belfast",
         "location": {
          "city": "Belfast",
          "country": "GB",
          "latitude": 54.5969,
          "longitude": -5.92918
         },
         "name": "BelfastBikes"
        },
        {
         "company": [
          "Nextbike GmbH"
         ],
         "href": "/v2/networks/nextbike-stirling",
         "id": "nextbike-stirling",
         "location": {
          "city": "Stirling",
          "country": "GB",
          "latitude": 56.1165,
          "longitude": -3.9369
         },
         "name": "Nextbike"
        },
        {
         "company": [
          "Nextbike GmbH"
         ],
         "href": "/v2/networks/grad-sibenik-sibenik",
         "id": "grad-sibenik-sibenik",
         "location": {
          "city": "Šibenik",
          "country": "HR",
          "latitude": 43.733,
          "longitude": 15.8982
         },
         "name": "Grad Šibenik"
        },
        {
         "company": [
          "Nextbike GmbH"
         ],
         "href": "/v2/networks/lrm-lublin-lublin",
         "id": "lrm-lublin-lublin",
         "location": {
          "city": "Lublin",
          "country": "PL",
          "latitude": 51.2469,
          "longitude": 22.5697
         },
         "name": "LRM Lublin"
        },
        {
         "company": [
          "Nextbike GmbH"
         ],
         "href": "/v2/networks/healthy-ride-pittsburgh-pittsburgh",
         "id": "healthy-ride-pittsburgh-pittsburgh",
         "location": {
          "city": "Pittsburgh",
          "country": "US",
          "latitude": 40.4459,
          "longitude": -79.9945
         },
         "name": "Healthy Ride"
        },
        {
         "company": [
          "Nextbike GmbH"
         ],
         "href": "/v2/networks/grm-grodzisk-grodzisk-mazowiecki",
         "id": "grm-grodzisk-grodzisk-mazowiecki",
         "location": {
          "city": "Grodzisk Mazowiecki",
          "country": "PL",
          "latitude": 52.113,
          "longitude": 20.6265
         },
         "name": "GRM Grodzisk"
        },
        {
         "company": [
          "Nextbike GmbH"
         ],
         "href": "/v2/networks/nextbike-quickborn",
         "id": "nextbike-quickborn",
         "location": {
          "city": "Quickborn",
          "country": "DE",
          "latitude": 53.7333,
          "longitude": 9.90272
         },
         "name": "Nextbike"
        },
        {
         "company": [
          "Nextbike GmbH"
         ],
         "href": "/v2/networks/vrn-ludwigshafen",
         "id": "vrn-ludwigshafen",
         "location": {
          "city": "Ludwigshafen",
          "country": "DE",
          "latitude": 49.4741,
          "longitude": 8.43287
         },
         "name": "VRN"
        },
        {
         "company": [
          "Nextbike GmbH"
         ],
         "href": "/v2/networks/vrn-speyer",
         "id": "vrn-speyer",
         "location": {
          "city": "Speyer",
          "country": "DE",
          "latitude": 49.3126,
          "longitude": 8.45295
         },
         "name": "VRN"
        },
        {
         "company": [
          "Nextbike GmbH"
         ],
         "href": "/v2/networks/nextbike-lviv",
         "id": "nextbike-lviv",
         "location": {
          "city": "Lviv",
          "country": "UA",
          "latitude": 49.8402,
          "longitude": 24.0182
         },
         "name": "Nextbike"
        },
        {
         "company": [
          "Nextbike GmbH"
         ],
         "href": "/v2/networks/nextbike-wurzburg",
         "id": "nextbike-wurzburg",
         "location": {
          "city": "Würzburg",
          "country": "DE",
          "latitude": 49.8,
          "longitude": 9.93333
         },
         "name": "Nextbike"
        },
        {
         "company": [
          "Nextbike GmbH"
         ],
         "href": "/v2/networks/nextbike-serfaus",
         "id": "nextbike-serfaus",
         "location": {
          "city": "Serfaus",
          "country": "AT",
          "latitude": 47.0387,
          "longitude": 10.6048
         },
         "name": "Nextbike"
        },
        {
         "company": [
          "Nextbike GmbH"
         ],
         "href": "/v2/networks/nextbike-malta",
         "id": "nextbike-malta",
         "location": {
          "city": "Malta",
          "country": "MT",
          "latitude": 35.9192,
          "longitude": 14.4889
         },
         "name": "Nextbike"
        },
        {
         "company": [
          "Nextbike GmbH"
         ],
         "href": "/v2/networks/grad-karlovac-karlovac",
         "id": "grad-karlovac-karlovac",
         "location": {
          "city": "Karlovac",
          "country": "HR",
          "latitude": 45.4905,
          "longitude": 15.5503
         },
         "name": "Grad Karlovac"
        },
        {
         "company": [
          "Nextbike GmbH"
         ],
         "href": "/v2/networks/grad-slavonski-brod-slavonski-brod",
         "id": "grad-slavonski-brod-slavonski-brod",
         "location": {
          "city": "Slavonski Brod",
          "country": "HR",
          "latitude": 45.1656,
          "longitude": 18.0183
         },
         "name": "Grad Slavonski Brod"
        },
        {
         "company": [
          "Nextbike GmbH"
         ],
         "href": "/v2/networks/santander-cycles-mk-milton-keynes",
         "id": "santander-cycles-mk-milton-keynes",
         "location": {
          "city": "Milton Keynes",
          "country": "GB",
          "latitude": 52.0406,
          "longitude": -0.759417
         },
         "name": "Santander Cycles MK"
        },
        {
         "company": [
          "Nextbike GmbH"
         ],
         "href": "/v2/networks/nextbike-hergiswil",
         "id": "nextbike-hergiswil",
         "location": {
          "city": "Hergiswil",
          "country": "CH",
          "latitude": 46.9905,
          "longitude": 8.30829
         },
         "name": "Nextbike"
        },
        {
         "company": [
          "Nextbike GmbH"
         ],
         "href": "/v2/networks/grad-makarska-makarska",
         "id": "grad-makarska-makarska",
         "location": {
          "city": "Makarska",
          "country": "HR",
          "latitude": 43.2992,
          "longitude": 17.0184
         },
         "name": "Grad Makarska"
        },
        {
         "company": [
          "Nextbike GmbH"
         ],
         "href": "/v2/networks/opcina-brinje-brinje",
         "id": "opcina-brinje-brinje",
         "location": {
          "city": "Brinje",
          "country": "HR",
          "latitude": 44.9977,
          "longitude": 15.1258
         },
         "name": "Općina Brinje"
        },
        {
         "company": [
          "Nextbike GmbH"
         ],
         "href": "/v2/networks/grad-zadar-zadar",
         "id": "grad-zadar-zadar",
         "location": {
          "city": "Zadar",
          "country": "HR",
          "latitude": 44.0058,
          "longitude": 15.2183
         },
         "name": "Grad Zadar"
        },
        {
         "company": [
          "Nextbike GmbH"
         ],
         "href": "/v2/networks/vrn-bensheim",
         "id": "vrn-bensheim",
         "location": {
          "city": "Bensheim",
          "country": "DE",
          "latitude": 49.6803,
          "longitude": 8.6189
         },
         "name": "VRN"
        },
        {
         "company": [
          "Nextbike GmbH"
         ],
         "href": "/v2/networks/grad-ivanic-grad-ivanic-grad",
         "id": "grad-ivanic-grad-ivanic-grad",
         "location": {
          "city": "Ivanic Grad",
          "country": "HR",
          "latitude": 45.7062,
          "longitude": 16.3919
         },
         "name": "Grad Ivanić-Grad"
        },
        {
         "company": [
          "Nextbike GmbH"
         ],
         "href": "/v2/networks/bike-s-srm-szczecin",
         "id": "bike-s-srm-szczecin",
         "location": {
          "city": "Szczecin",
          "country": "PL",
          "latitude": 53.4301,
          "longitude": 14.5498
         },
         "name": "Bike_S SRM"
        },
        {
         "company": [
          "Nextbike GmbH"
         ],
         "href": "/v2/networks/nextbike-sarajevo",
         "id": "nextbike-sarajevo",
         "location": {
          "city": "Sarajevo",
          "country": "BA",
          "latitude": 43.85,
          "longitude": 18.39
         },
         "name": "Nextbike"
        },
        {
         "company": [
          "Nextbike GmbH"
         ],
         "href": "/v2/networks/co-bikes-exeter",
         "id": "co-bikes-exeter",
         "location": {
          "city": "Exeter",
          "country": "GB",
          "latitude": 50.7272,
          "longitude": -3.53605
         },
         "name": "Co-bikes"
        },
        {
         "company": [
          "Nextbike GmbH"
         ],
         "href": "/v2/networks/nextbike-auckland-waterfront",
         "id": "nextbike-auckland-waterfront",
         "location": {
          "city": "Auckland Waterfront",
          "country": "NZ",
          "latitude": -36.841,
          "longitude": 174.763
         },
         "name": "Nextbike"
        },
        {
         "company": [
          "Nextbike GmbH"
         ],
         "href": "/v2/networks/nextbike-berlin",
         "id": "nextbike-berlin",
         "location": {
          "city": "Berlin",
          "country": "DE",
          "latitude": 52.5087,
          "longitude": 13.3563
         },
         "name": "Nextbike"
        },
        {
         "company": [
          "Nextbike GmbH"
         ],
         "href": "/v2/networks/veturilo-stacje-sponsorskie-nextbike-veturilo",
         "id": "veturilo-stacje-sponsorskie-nextbike-veturilo",
         "location": {
          "city": "Warszawa",
          "country": "PL",
          "latitude": 52.2265,
          "longitude": 21.0127
         },
         "name": "Stacje Sponsorskie Nextbike Veturilo"
        },
        {
         "company": [
          "Nextbike GmbH"
         ],
         "href": "/v2/networks/bike4all-byblos",
         "id": "bike4all-byblos",
         "location": {
          "city": "Byblos",
          "country": "LB",
          "latitude": 34.1236,
          "longitude": 35.6511
         },
         "name": "bike4all"
        },
        {
         "company": [
          "Nextbike GmbH"
         ],
         "href": "/v2/networks/chartered-bike-bhopal-bhopal",
         "id": "chartered-bike-bhopal-bhopal",
         "location": {
          "city": "Bhopal",
          "country": "IN",
          "latitude": 23.2467,
          "longitude": 77.411
         },
         "name": "Chartered Bike"
        },
        {
         "company": [
          "Nextbike GmbH"
         ],
         "href": "/v2/networks/wk-bike-bremen-bremen",
         "id": "wk-bike-bremen-bremen",
         "location": {
          "city": "Bremen",
          "country": "DE",
          "latitude": 53.0781,
          "longitude": 8.80132
         },
         "name": "WK-Bike"
        },
        {
         "company": [
          "Nextbike GmbH"
         ],
         "href": "/v2/networks/vrn-worms",
         "id": "vrn-worms",
         "location": {
          "city": "Worms",
          "country": "DE",
          "latitude": 49.6394,
          "longitude": 8.34618
         },
         "name": "VRN"
        },
        {
         "company": [
          "Nextbike GmbH"
         ],
         "href": "/v2/networks/nextbike-stans",
         "id": "nextbike-stans",
         "location": {
          "city": "Stans",
          "country": "CH",
          "latitude": 46.9593,
          "longitude": 8.36836
         },
         "name": "Nextbike"
        },
        {
         "company": [
          "Nextbike GmbH"
         ],
         "href": "/v2/networks/nextbike-stansstad",
         "id": "nextbike-stansstad",
         "location": {
          "city": "Stansstad",
          "country": "CH",
          "latitude": 46.9801,
          "longitude": 8.34098
         },
         "name": "Nextbike"
        },
        {
         "company": [
          "Nextbike GmbH"
         ],
         "href": "/v2/networks/nextbike-horw",
         "id": "nextbike-horw",
         "location": {
          "city": "Horw",
          "country": "CH",
          "latitude": 47.0188,
          "longitude": 8.30828
         },
         "name": "Nextbike"
        },
        {
         "company": [
          "Nextbike GmbH"
         ],
         "href": "/v2/networks/vrn-burstadt",
         "id": "vrn-burstadt",
         "location": {
          "city": "Bürstadt",
          "country": "DE",
          "latitude": 49.6461,
          "longitude": 8.44917
         },
         "name": "VRN"
        },
        {
         "company": [
          "Nextbike GmbH"
         ],
         "href": "/v2/networks/prm-stacje-sponsorskie-nextbike-prm",
         "id": "prm-stacje-sponsorskie-nextbike-prm",
         "location": {
          "city": "Poznań",
          "country": "PL",
          "latitude": 52.4077,
          "longitude": 16.9323
         },
         "name": "Stacje Sponsorskie Nextbike PRM"
        },
        {
         "company": [
          "Nextbike GmbH"
         ],
         "href": "/v2/networks/nextbike-gross-enzersdorf",
         "id": "nextbike-gross-enzersdorf",
         "location": {
          "city": "Groß Enzersdorf",
          "country": "AT",
          "latitude": 48.1986,
          "longitude": 16.5496
         },
         "name": "Nextbike"
        },
        {
         "company": [
          "Nextbike GmbH"
         ],
         "href": "/v2/networks/nextbike-klagenfurt",
         "id": "nextbike-klagenfurt",
         "location": {
          "city": "Klagenfurt",
          "country": "AT",
          "latitude": 46.6335,
          "longitude": 14.3085
         },
         "name": "Nextbike"
        },
        {
         "company": [
          "Nextbike GmbH"
         ],
         "href": "/v2/networks/vrn-kaiserslautern",
         "id": "vrn-kaiserslautern",
         "location": {
          "city": "Kaiserslautern",
          "country": "DE",
          "latitude": 49.4413,
          "longitude": 7.75566
         },
         "name": "VRN"
        },
        {
         "company": [
          "Nextbike GmbH"
         ],
         "href": "/v2/networks/sitycleta-las-palmas-las-palmas-de-gran-canaria",
         "id": "sitycleta-las-palmas-las-palmas-de-gran-canaria",
         "location": {
          "city": "Las Palmas de Gran Canaria",
          "country": "ES",
          "latitude": 28.1236,
          "longitude": -15.4366
         },
         "name": "Sitycleta"
        },
        {
         "company": [
          "Nextbike GmbH"
         ],
         "href": "/v2/networks/grad-velika-gorica-velika-gorica",
         "id": "grad-velika-gorica-velika-gorica",
         "location": {
          "city": "Velika Gorica",
          "country": "HR",
          "latitude": 45.7161,
          "longitude": 16.0683
         },
         "name": "Grad Velika Gorica"
        },
        {
         "company": [
          "Nextbike GmbH"
         ],
         "href": "/v2/networks/grad-sisak-sisak",
         "id": "grad-sisak-sisak",
         "location": {
          "city": "Sisak",
          "country": "HR",
          "latitude": 45.4875,
          "longitude": 16.3753
         },
         "name": "Grad Sisak"
        },
        {
         "company": [
          "Nextbike GmbH"
         ],
         "href": "/v2/networks/kolobrzeski-rower-miejski-kolobrzeg",
         "id": "kolobrzeski-rower-miejski-kolobrzeg",
         "location": {
          "city": "Kołobrzeg",
          "country": "PL",
          "latitude": 54.1762,
          "longitude": 15.5761
         },
         "name": "Kołobrzeski Rower Miejski"
        },
        {
         "company": [
          "Nextbike GmbH"
         ],
         "href": "/v2/networks/grad-metkovic-metkovic",
         "id": "grad-metkovic-metkovic",
         "location": {
          "city": "Metković",
          "country": "HR",
          "latitude": 43.0654,
          "longitude": 17.642
         },
         "name": "Grad Metković"
        },
        {
         "company": [
          "Nextbike GmbH"
         ],
         "href": "/v2/networks/jastrebarsko-jastrebarsko",
         "id": "jastrebarsko-jastrebarsko",
         "location": {
          "city": "Jastrebarsko",
          "country": "HR",
          "latitude": 45.6692,
          "longitude": 15.6541
         },
         "name": "Nextbike"
        },
        {
         "company": [
          "Nextbike GmbH"
         ],
         "href": "/v2/networks/grad-drnis-drnis",
         "id": "grad-drnis-drnis",
         "location": {
          "city": "Drniš",
          "country": "HR",
          "latitude": 43.8425,
          "longitude": 16.1197
         },
         "name": "Nextbike"
        },
        {
         "company": [
          "Nextbike GmbH"
         ],
         "href": "/v2/networks/nextbike-tuzla",
         "id": "nextbike-tuzla",
         "location": {
          "city": "Tuzla",
          "country": "BA",
          "latitude": 44.5392,
          "longitude": 18.675
         },
         "name": "Nextbike"
        },
        {
         "company": [
          "Nextbike GmbH"
         ],
         "href": "/v2/networks/arriva-nitra",
         "id": "arriva-nitra",
         "location": {
          "city": "Nitra",
          "country": "SK",
          "latitude": 48.3088,
          "longitude": 18.0783
         },
         "name": "Arriva"
        },
        {
         "company": [
          "Nextbike GmbH"
         ],
         "href": "/v2/networks/nextbike-marburg",
         "id": "nextbike-marburg",
         "location": {
          "city": "Marburg",
          "country": "DE",
          "latitude": 50.8019,
          "longitude": 8.76444
         },
         "name": "Nextbike"
        },
        {
         "company": [
          "Nextbike GmbH"
         ],
         "href": "/v2/networks/bubi",
         "id": "bubi",
         "location": {
          "city": "Budapest",
          "country": "HU",
          "latitude": 47.497912,
          "longitude": 19.040235
         },
         "name": "MOL Bubi"
        },
        {
         "company": [
          "Nextbike GmbH"
         ],
         "href": "/v2/networks/nextbike-russelsheim-am-main",
         "id": "nextbike-russelsheim-am-main",
         "location": {
          "city": "Rüsselsheim am Main",
          "country": "DE",
          "latitude": 49.9881,
          "longitude": 8.42142
         },
         "name": "Nextbike"
        },
        {
         "company": [
          "Nextbike GmbH"
         ],
         "href": "/v2/networks/rower-miejski-szamotuly-rms-szamotuly",
         "id": "rower-miejski-szamotuly-rms-szamotuly",
         "location": {
          "city": "Szamotuły",
          "country": "PL",
          "latitude": 52.6112,
          "longitude": 16.5819
         },
         "name": "Rower Miejski Szamotuły"
        },
        {
         "company": [
          "Nextbike GmbH"
         ],
         "href": "/v2/networks/nextbike-dordrecht",
         "id": "nextbike-dordrecht",
         "location": {
          "city": "Dordrecht",
          "country": "NL",
          "latitude": 51.7833,
          "longitude": 4.69391
         },
         "name": "Nextbike"
        },
        {
         "company": [
          "Nextbike GmbH"
         ],
         "href": "/v2/networks/vrn-heppenheim",
         "id": "vrn-heppenheim",
         "location": {
          "city": "Heppenheim",
          "country": "DE",
          "latitude": 49.6431,
          "longitude": 8.63889
         },
         "name": "VRN"
        },
        {
         "company": [
          "Nextbike GmbH"
         ],
         "href": "/v2/networks/piaseczynski-rower-miejski-piaseczno",
         "id": "piaseczynski-rower-miejski-piaseczno",
         "location": {
          "city": "Piaseczno",
          "country": "PL",
          "latitude": 52.0733,
          "longitude": 21.0269
         },
         "name": "Piaseczyński Rower Miejski"
        },
        {
         "company": [
          "Nextbike GmbH"
         ],
         "href": "/v2/networks/nextbike-kassel",
         "id": "nextbike-kassel",
         "location": {
          "city": "Kassel",
          "country": "DE",
          "latitude": 51.3127,
          "longitude": 9.47975
         },
         "name": "Nextbike"
        },
        {
         "company": [
          "Nextbike GmbH"
         ],
         "href": "/v2/networks/nextbike-sarnen",
         "id": "nextbike-sarnen",
         "location": {
          "city": "Sarnen",
          "country": "CH",
          "latitude": 46.8963,
          "longitude": 8.24614
         },
         "name": "Nextbike"
        },
        {
         "company": [
          "Nextbike GmbH"
         ],
         "href": "/v2/networks/nextbike-wolfenschiessen",
         "id": "nextbike-wolfenschiessen",
         "location": {
          "city": "Wolfenschiessen",
          "country": "CH",
          "latitude": 46.9079,
          "longitude": 8.39767
         },
         "name": "Nextbike"
        },
        {
         "company": [
          "Nextbike GmbH"
         ],
         "href": "/v2/networks/nextbike-oberdorf",
         "id": "nextbike-oberdorf",
         "location": {
          "city": "Oberdorf",
          "country": "CH",
          "latitude": 46.9563,
          "longitude": 8.3884
         },
         "name": "Nextbike"
        },
        {
         "company": [
          "Nextbike GmbH"
         ],
         "href": "/v2/networks/nextbike-giessen",
         "id": "nextbike-giessen",
         "location": {
          "city": "Gießen",
          "country": "DE",
          "latitude": 50.5943,
          "longitude": 8.68097
         },
         "name": "Nextbike"
        },
        {
         "company": [
          "Nextbike GmbH"
         ],
         "href": "/v2/networks/vrn-weinheim",
         "id": "vrn-weinheim",
         "location": {
          "city": "Weinheim",
          "country": "DE",
          "latitude": 49.545,
          "longitude": 8.66027
         },
         "name": "VRN"
        },
        {
         "company": [
          "Nextbike GmbH"
         ],
         "href": "/v2/networks/nextbike-cardiff",
         "id": "nextbike-cardiff",
         "location": {
          "city": "Cardiff",
          "country": "GB",
          "latitude": 51.4848,
          "longitude": -3.19062
         },
         "name": "Nextbike"
        },
        {
         "company": [
          "Nextbike GmbH"
         ],
         "href": "/v2/networks/vrn-hockenheim",
         "id": "vrn-hockenheim",
         "location": {
          "city": "Hockenheim",
          "country": "DE",
          "latitude": 49.3227,
          "longitude": 8.54258
         },
         "name": "VRN"
        },
        {
         "company": [
          "Nextbike GmbH"
         ],
         "href": "/v2/networks/vrn-schwetzingen",
         "id": "vrn-schwetzingen",
         "location": {
          "city": "Schwetzingen",
          "country": "DE",
          "latitude": 49.3863,
          "longitude": 8.5756
         },
         "name": "VRN"
        },
        {
         "company": [
          "Nextbike GmbH"
         ],
         "href": "/v2/networks/nextbike-ennetmoos",
         "id": "nextbike-ennetmoos",
         "location": {
          "city": "Ennetmoos",
          "country": "CH",
          "latitude": 46.9573,
          "longitude": 8.3377
         },
         "name": "Nextbike"
        },
        {
         "company": [
          "Nextbike GmbH"
         ],
         "href": "/v2/networks/vrn-eppelheim",
         "id": "vrn-eppelheim",
         "location": {
          "city": "Eppelheim",
          "country": "DE",
          "latitude": 49.4025,
          "longitude": 8.6331
         },
         "name": "VRN"
        },
        {
         "company": [
          "Nextbike GmbH"
         ],
         "href": "/v2/networks/nextbike-university-of-surrey",
         "id": "nextbike-university-of-surrey",
         "location": {
          "city": "Surrey",
          "country": "GB",
          "latitude": 51.2422,
          "longitude": -0.590594
         },
         "name": "Nextbike"
        },
        {
         "company": [
          "Nextbike GmbH"
         ],
         "href": "/v2/networks/santander-cycles-swansea-swansea-university",
         "id": "santander-cycles-swansea-swansea-university",
         "location": {
          "city": "Swansea",
          "country": "GB",
          "latitude": 51.6106,
          "longitude": -3.9764
         },
         "name": "Santander Cycles"
        },
        {
         "company": [
          "Nextbike GmbH"
         ],
         "href": "/v2/networks/nextbike-erfurt",
         "id": "nextbike-erfurt",
         "location": {
          "city": "Erfurt",
          "country": "DE",
          "latitude": 50.9785,
          "longitude": 11.0334
         },
         "name": "Nextbike"
        },
        {
         "company": [
          "Nextbike GmbH"
         ],
         "href": "/v2/networks/bl-bike-banja-luka",
         "id": "bl-bike-banja-luka",
         "location": {
          "city": "Banja Luka",
          "country": "BA",
          "latitude": 44.775,
          "longitude": 17.1994
         },
         "name": "BL bike"
        },
        {
         "company": [
          "Nextbike GmbH"
         ],
         "href": "/v2/networks/lahr-pedelecs-lahr",
         "id": "lahr-pedelecs-lahr",
         "location": {
          "city": "Lahr",
          "country": "DE",
          "latitude": 48.3396,
          "longitude": 7.87376
         },
         "name": "Nextbike"
        },
        {
         "company": [
          "Nextbike GmbH"
         ],
         "href": "/v2/networks/berlin-buch-campus-berlin-buch",
         "id": "berlin-buch-campus-berlin-buch",
         "location": {
          "city": "Berlin",
          "country": "DE",
          "latitude": 52.6364,
          "longitude": 13.5029
         },
         "name": "Berlin-Buch Campus"
        },
        {
         "company": [
          "Nextbike GmbH"
         ],
         "href": "/v2/networks/lviv-odessa",
         "id": "lviv-odessa",
         "location": {
          "city": "Odessa",
          "country": "UA",
          "latitude": 46.463,
          "longitude": 30.7042
         },
         "name": "Nextbike"
        },
        {
         "company": [
          "Nextbike GmbH"
         ],
         "href": "/v2/networks/zielonogorski-rower-miejski-zielona-gora",
         "id": "zielonogorski-rower-miejski-zielona-gora",
         "location": {
          "city": "Zielona Góra",
          "country": "PL",
          "latitude": 51.9381,
          "longitude": 15.5048
         },
         "name": "Zielonogórski Rower Miejski"
        },
        {
         "company": [
          "Nextbike GmbH"
         ],
         "href": "/v2/networks/santander-monchengladbach",
         "id": "santander-monchengladbach",
         "location": {
          "city": "Mönchengladbach",
          "country": "DE",
          "latitude": 51.1817,
          "longitude": 6.43578
         },
         "name": "Santander Mönchengladbach"
        },
        {
         "company": [
          "Nextbike GmbH"
         ],
         "href": "/v2/networks/nomagobikes-celje",
         "id": "nomagobikes-celje",
         "location": {
          "city": "Celje",
          "country": "SI",
          "latitude": 46.2388,
          "longitude": 15.2693
         },
         "name": "NomagoBikes"
        },
        {
         "company": [
          "Nextbike GmbH"
         ],
         "href": "/v2/networks/bilbon-bizi",
         "id": "bilbon-bizi",
         "location": {
          "city": "Bilbao",
          "country": "ES",
          "latitude": 43.2752,
          "longitude": -2.93528
         },
         "name": "BilbonBizi"
        },
        {
         "company": [
          "Nextbike GmbH"
         ],
         "href": "/v2/networks/nomagobikes-lasko",
         "id": "nomagobikes-lasko",
         "location": {
          "city": "Laško",
          "country": "SI",
          "latitude": 46.1458,
          "longitude": 15.2312
         },
         "name": "NomagoBikes"
        },
        {
         "company": [
          "Nextbike GmbH"
         ],
         "href": "/v2/networks/nextbike-lippstadt",
         "id": "nextbike-lippstadt",
         "location": {
          "city": "Lippstadt",
          "country": "DE",
          "latitude": 51.6755,
          "longitude": 8.34394
         },
         "name": "Nextbike"
        },
        {
         "company": [
          "Nextbike GmbH"
         ],
         "href": "/v2/networks/bikekia-zilina",
         "id": "bikekia-zilina",
         "location": {
          "city": "Žilina",
          "country": "SK",
          "latitude": 49.2217,
          "longitude": 18.7572
         },
         "name": "BikeKia"
        },
        {
         "company": [
          "Nextbike GmbH"
         ],
         "href": "/v2/networks/koninski-rower-miejski-konin",
         "id": "koninski-rower-miejski-konin",
         "location": {
          "city": "Konin",
          "country": "PL",
          "latitude": 52.2284,
          "longitude": 18.2553
         },
         "name": "Koniński Rower Miejski"
        },
        {
         "company": [
          "Nextbike GmbH"
         ],
         "href": "/v2/networks/nextbike-vinnytsia",
         "id": "nextbike-vinnytsia",
         "location": {
          "city": "Vinnytsia",
          "country": "UA",
          "latitude": 49.2328,
          "longitude": 28.4625
         },
         "name": "Nextbike"
        },
        {
         "company": [
          "Nextbike GmbH"
         ],
         "href": "/v2/networks/nextbike-bonn",
         "id": "nextbike-bonn",
         "location": {
          "city": "Bonn",
          "country": "DE",
          "latitude": 50.7367,
          "longitude": 7.09541
         },
         "name": "Nextbike"
        },
        {
         "company": [
          "Nextbike GmbH"
         ],
         "href": "/v2/networks/tarnowski-rower-miejski-tarnow",
         "id": "tarnowski-rower-miejski-tarnow",
         "location": {
          "city": "Tarnów",
          "country": "PL",
          "latitude": 50.0113,
          "longitude": 20.9728
         },
         "name": "Tarnowski Rower Miejski"
        },
        {
         "company": [
          "Nextbike GmbH"
         ],
         "href": "/v2/networks/kolo-marek-marki",
         "id": "kolo-marek-marki",
         "location": {
          "city": "Marki",
          "country": "PL",
          "latitude": 52.3256,
          "longitude": 21.1089
         },
         "name": "Koło Marek"
        },
        {
         "company": [
          "Nextbike GmbH"
         ],
         "href": "/v2/networks/rowerowe-lodzkie-rl-koluszki",
         "id": "rowerowe-lodzkie-rl-koluszki",
         "location": {
          "city": "Koluszki",
          "country": "PL",
          "latitude": 51.7401,
          "longitude": 19.835
         },
         "name": "Rowerowe Łódzkie"
        },
        {
         "company": [
          "Nextbike GmbH"
         ],
         "href": "/v2/networks/rowerowe-lodzkie-rl-lask",
         "id": "rowerowe-lodzkie-rl-lask",
         "location": {
          "city": "Łask",
          "country": "PL",
          "latitude": 51.5893,
          "longitude": 19.142
         },
         "name": "Rowerowe Łódzkie"
        },
        {
         "company": [
          "Nextbike GmbH"
         ],
         "href": "/v2/networks/rowerowe-lodzkie-rl-lowicz",
         "id": "rowerowe-lodzkie-rl-lowicz",
         "location": {
          "city": "Łowicz",
          "country": "PL",
          "latitude": 52.1057,
          "longitude": 19.9381
         },
         "name": "Rowerowe Łódzkie"
        },
        {
         "company": [
          "Nextbike GmbH"
         ],
         "href": "/v2/networks/rowerowe-lodzkie-rl-pabianice",
         "id": "rowerowe-lodzkie-rl-pabianice",
         "location": {
          "city": "Pabianice",
          "country": "PL",
          "latitude": 51.6651,
          "longitude": 19.3548
         },
         "name": "Rowerowe Łódzkie"
        },
        {
         "company": [
          "Nextbike GmbH"
         ],
         "href": "/v2/networks/rowerowe-lodzkie-rl-sieradz",
         "id": "rowerowe-lodzkie-rl-sieradz",
         "location": {
          "city": "Sieradz",
          "country": "PL",
          "latitude": 51.5902,
          "longitude": 18.7382
         },
         "name": "Rowerowe Łódzkie"
        },
        {
         "company": [
          "Nextbike GmbH"
         ],
         "href": "/v2/networks/rowerowe-lodzkie-rl-skierniewice",
         "id": "rowerowe-lodzkie-rl-skierniewice",
         "location": {
          "city": "Skierniewice",
          "country": "PL",
          "latitude": 51.9539,
          "longitude": 20.1469
         },
         "name": "Rowerowe Łódzkie"
        },
        {
         "company": [
          "Nextbike GmbH"
         ],
         "href": "/v2/networks/rowerowe-lodzkie-rl-zdunska-wola",
         "id": "rowerowe-lodzkie-rl-zdunska-wola",
         "location": {
          "city": "Zduńska Wola",
          "country": "PL",
          "latitude": 51.6011,
          "longitude": 18.938
         },
         "name": "Rowerowe Łódzkie"
        },
        {
         "company": [
          "Nextbike GmbH"
         ],
         "href": "/v2/networks/rowerowe-lodzkie-rl-zgierz",
         "id": "rowerowe-lodzkie-rl-zgierz",
         "location": {
          "city": "Zgierz",
          "country": "PL",
          "latitude": 51.8551,
          "longitude": 19.4068
         },
         "name": "Rowerowe Łódzkie"
        },
        {
         "company": [
          "Nextbike GmbH"
         ],
         "href": "/v2/networks/rowerowe-lodzkie-rl-kutno",
         "id": "rowerowe-lodzkie-rl-kutno",
         "location": {
          "city": "Kutno",
          "country": "PL",
          "latitude": 52.2317,
          "longitude": 19.3564
         },
         "name": "Rowerowe Łódzkie"
        },
        {
         "company": [
          "Nextbike GmbH"
         ],
         "href": "/v2/networks/rowerowe-lodzkie-rl-lodz-rl",
         "id": "rowerowe-lodzkie-rl-lodz-rl",
         "location": {
          "city": "Łódź",
          "country": "PL",
          "latitude": 51.7674,
          "longitude": 19.4575
         },
         "name": "Rowerowe Łódzkie"
        },
        {
         "company": [
          "Nextbike GmbH"
         ],
         "href": "/v2/networks/frelo-freiburg",
         "id": "frelo-freiburg",
         "location": {
          "city": "Freiburg",
          "country": "DE",
          "latitude": 47.9958,
          "longitude": 7.84453
         },
         "name": "Frelo"
        },
        {
         "company": [
          "Comunicare S.r.l."
         ],
         "href": "/v2/networks/bicincitta-trieste",
         "id": "bicincitta-trieste",
         "location": {
          "city": "Trieste",
          "country": "IT",
          "latitude": 45.6495,
          "longitude": 13.7768
         },
         "name": "BiTS",
         "source": "https://www.bicincitta.com/frmLeStazioni.aspx?ID=266"
        },
        {
         "company": [
          "Nextbike GmbH"
         ],
         "href": "/v2/networks/mobibike-dresden",
         "id": "mobibike-dresden",
         "location": {
          "city": "Dresden",
          "country": "DE",
          "latitude": 51.0535,
          "longitude": 13.7387
         },
         "name": "MOBIbike"
        },
        {
         "company": [
          "ЗАО «СитиБайк»"
         ],
         "href": "/v2/networks/velobike-murmansk",
         "id": "velobike-murmansk",
         "location": {
          "city": "Murmansk",
          "country": "RU",
          "latitude": 68.968,
          "longitude": 33.074
         },
         "name": "Velobike"
        },
        {
         "company": [
          "ЗАО «СитиБайк»"
         ],
         "href": "/v2/networks/velobike-nizhniy-novgorod",
         "id": "velobike-nizhniy-novgorod",
         "location": {
          "city": "Nizhniy Novgorod",
          "country": "RU",
          "latitude": 56.194,
          "longitude": 44.003
         },
         "name": "Velobike"
        },
        {
         "company": [
          "Nextbike GmbH"
         ],
         "href": "/v2/networks/nextbike-ivano-frankivsk",
         "id": "nextbike-ivano-frankivsk",
         "location": {
          "city": "Ivano Frankivsk",
          "country": "UA",
          "latitude": 48.9281,
          "longitude": 24.7103
         },
         "name": "Nextbike"
        },
        {
         "company": [
          "Velobike.kz, LLP",
          "Smoove"
         ],
         "href": "/v2/networks/almatybike",
         "id": "almatybike",
         "location": {
          "city": "Almaty",
          "country": "KZ",
          "latitude": 43.239101,
          "longitude": 76.9268076
         },
         "name": "Almatybike"
        },
        {
         "company": [
          "Velobike.kz, LLP",
          "Smoove"
         ],
         "href": "/v2/networks/shymkentbike",
         "id": "shymkentbike",
         "location": {
          "city": "Shymkent",
          "country": "KZ",
          "latitude": 42.3184,
          "longitude": 69.5978
         },
         "name": "Shymkentbike"
        },
        {
         "company": [
          "Motivate LLC"
         ],
         "gbfs_href": "https://gbfs.baywheels.com/gbfs/gbfs.json",
         "href": "/v2/networks/bay-wheels",
         "id": "bay-wheels",
         "location": {
          "city": "San Francisco Bay Area, CA",
          "country": "US",
          "latitude": 37.7141454,
          "longitude": -122.25
         },
         "name": "Bay Wheels"
        },
        {
         "company": [
          "Smoove"
         ],
         "gbfs_href": "https://vannes-gbfs.klervi.net/gbfs/gbfs.json",
         "href": "/v2/networks/veloceo",
         "id": "veloceo",
         "location": {
          "city": "Vannes",
          "country": "FR",
          "latitude": 47.6559,
          "longitude": -2.7603
         },
         "name": "Vélocéo"
        },
        {
         "company": [
          "PBSC Urban Solutions"
         ],
         "gbfs_href": "https://monaco.publicbikesystem.net/customer/ube/gbfs/v1/",
         "href": "/v2/networks/monabike",
         "id": "monabike",
         "location": {
          "city": "Monaco",
          "country": "MC",
          "latitude": 43.733333,
          "longitude": 7.416667
         },
         "name": "MonaBike"
        },
        {
         "company": [
          "Ecovelo"
         ],
         "ebikes": true,
         "gbfs_href": "https://api.gbfs.v1.ecovelo.mobi/gbfs/tlpmobilites",
         "href": "/v2/networks/tlp-velo",
         "id": "tlp-velo",
         "location": {
          "city": "Tarbes, Lourdes",
          "country": "FR",
          "latitude": 43.23,
          "longitude": 0.07
         },
         "name": "Tarbes et Lourdes vls"
        },
        {
         "company": [
          "Ecovelo"
         ],
         "ebikes": true,
         "gbfs_href": "https://api.gbfs.v1.ecovelo.mobi/gbfs/zebullo",
         "href": "/v2/networks/zebullo",
         "id": "zebullo",
         "location": {
          "city": "Reims",
          "country": "FR",
          "latitude": 49.2628,
          "longitude": 4.0347
         },
         "name": "ZébullO"
        },
        {
         "company": [
          "Ecovelo"
         ],
         "ebikes": true,
         "gbfs_href": "https://api.gbfs.v1.ecovelo.mobi/gbfs/calais",
         "href": "/v2/networks/velectin",
         "id": "velectin",
         "location": {
          "city": "Calais",
          "country": "FR",
          "latitude": 50.948056,
          "longitude": 1.856389
         },
         "name": "Velect’in"
        },
        {
         "company": [
          "Ecovelo"
         ],
         "gbfs_href": "https://api.gbfs.v1.ecovelo.mobi/gbfs/beb",
         "href": "/v2/networks/rubis-velo",
         "id": "rubis-velo",
         "location": {
          "city": "Bourg-en-Bresse",
          "country": "FR",
          "latitude": 46.2056,
          "longitude": 5.2289
         },
         "name": "Rubis'Vélo"
        },
        {
         "company": [
          "Ecovelo"
         ],
         "ebikes": true,
         "gbfs_href": "https://api.gbfs.v1.ecovelo.mobi/gbfs/tanlib",
         "href": "/v2/networks/tanlib",
         "id": "tanlib",
         "location": {
          "city": "Niort",
          "country": "FR",
          "latitude": 46.3258,
          "longitude": -0.4606
         },
         "name": "Vélo tanlib"
        },
        {
         "company": [
          "Ecovelo"
         ],
         "gbfs_href": "https://api.gbfs.v1.ecovelo.mobi/gbfs/marseillan",
         "href": "/v2/networks/marseillan",
         "id": "marseillan",
         "location": {
          "city": "Marseillan",
          "country": "FR",
          "latitude": 43.3572,
          "longitude": 3.5283
         },
         "name": "Marseillan vélo libre-service"
        },
        {
         "company": [
          "Ecovelo"
         ],
         "ebikes": true,
         "gbfs_href": "https://api.gbfs.v1.ecovelo.mobi/gbfs/via",
         "href": "/v2/networks/via-velo",
         "id": "via-velo",
         "location": {
          "city": "Val d'Ille-Aubigné",
          "country": "FR",
          "latitude": 48.2181,
          "longitude": -1.6947
         },
         "name": "VIA Vélo"
        },
        {
         "company": [
          "Ecovelo"
         ],
         "ebikes": true,
         "gbfs_href": "https://api.gbfs.v1.ecovelo.mobi/gbfs/velyceo",
         "href": "/v2/networks/velyceo",
         "id": "velyceo",
         "location": {
          "city": "Saint-Nazaire",
          "country": "FR",
          "latitude": 47.2806,
          "longitude": -2.2086
         },
         "name": "vélYcéo"
        },
        {
         "company": [
          "Ecovelo"
         ],
         "ebikes": true,
         "gbfs_href": "https://api.gbfs.v1.ecovelo.mobi/gbfs/velocite",
         "href": "/v2/networks/velocite-laon",
         "id": "velocite-laon",
         "location": {
          "city": "Laon",
          "country": "FR",
          "latitude": 49.5639,
          "longitude": 3.6244
         },
         "name": "Vélo'Cité"
        },
        {
         "company": [
          "Ecovelo"
         ],
         "ebikes": true,
         "gbfs_href": "https://api.gbfs.v1.ecovelo.mobi/gbfs/labaule",
         "href": "/v2/networks/velo-baulois",
         "id": "velo-baulois",
         "location": {
          "city": "La Baule-Escoublac",
          "country": "FR",
          "latitude": 47.2867,
          "longitude": -2.3908
         },
         "name": "Le Vélo Baulois"
        },
        {
         "company": [
          "Ecovelo"
         ],
         "ebikes": true,
         "gbfs_href": "https://api.gbfs.v1.ecovelo.mobi/gbfs/lemarcel",
         "href": "/v2/networks/le-marcel",
         "id": "le-marcel",
         "location": {
          "city": "Troyes",
          "country": "FR",
          "latitude": 48.2997,
          "longitude": 4.0792
         },
         "name": "Le Marcel"
        },
        {
         "company": [
          "Ecovelo"
         ],
         "ebikes": true,
         "gbfs_href": "https://api.gbfs.v1.ecovelo.mobi/gbfs/tempovelo",
         "href": "/v2/networks/tempo-velo",
         "id": "tempo-velo",
         "location": {
          "city": "Agen",
          "country": "FR",
          "latitude": 44.2049,
          "longitude": 0.6212
         },
         "name": "Tempo Vélo"
        },
        {
         "company": [
          "Ecovelo"
         ],
         "gbfs_href": "https://api.gbfs.v1.ecovelo.mobi/gbfs/semo",
         "href": "/v2/networks/semo",
         "id": "semo",
         "location": {
          "city": "Communauté d'agglomération Seine-Eure",
          "country": "FR",
          "latitude": 49.22,
          "longitude": 1.17
         },
         "name": "semo"
        },
        {
         "company": [
          "Ecovelo"
         ],
         "ebikes": true,
         "gbfs_href": "https://api.gbfs.v1.ecovelo.mobi/gbfs/cyclovis",
         "href": "/v2/networks/cyclovis",
         "id": "cyclovis",
         "location": {
          "city": "Soissons",
          "country": "FR",
          "latitude": 49.3817,
          "longitude": 3.3236
         },
         "name": "Cyclovis"
        },
        {
         "company": [
          "Ecovelo"
         ],
         "ebikes": true,
         "gbfs_href": "https://api.gbfs.v1.ecovelo.mobi/gbfs/chantrerie",
         "href": "/v2/networks/chantrerie-captainbike",
         "id": "chantrerie-captainbike",
         "location": {
          "city": "La Chantrerie, Nantes",
          "country": "FR",
          "latitude": 47.2868203,
          "longitude": -1.5210917
         },
         "name": "Chantrerie VLS (Captain Bike)"
        },
        {
         "company": [
          "Ecovelo"
         ],
         "ebikes": true,
         "gbfs_href": "https://api.gbfs.v1.ecovelo.mobi/gbfs/saclay",
         "href": "/v2/networks/saclay-captainbike",
         "id": "saclay-captainbike",
         "location": {
          "city": "Paris-Saclay",
          "country": "FR",
          "latitude": 48.7098082,
          "longitude": 2.211366
         },
         "name": "Saclay VLS (Captain Bike)"
        },
        {
         "company": [
          "CIGL ESCH"
         ],
         "ebikes": true,
         "href": "/v2/networks/velok",
         "id": "velok",
         "location": {
          "city": "Esch-sur-alzette",
          "country": "LU",
          "latitude": 49.5024,
          "longitude": 5.9722
         },
         "name": "Vël'Ok",
         "source": "https://docs.api.tfl.lu/v1/en/RESTAPIs/BikePoint/"
        },
        {
         "company": [
          "Nextbike GmbH"
         ],
         "href": "/v2/networks/wienmobil-rad",
         "id": "wienmobil-rad",
         "location": {
          "city": "Wien",
          "country": "AT",
          "latitude": 48.2081743,
          "longitude": 16.3738189
         },
         "name": "WienMobil Rad"
        },
        {
         "company": null,
         "gbfs_href": "https://gbfs.urbansharing.com/bikeverona.it/gbfs.json",
         "href": "/v2/networks/bikeverona",
         "id": "bikeverona",
         "location": {
          "city": "Verona",
          "country": "IT",
          "latitude": 45.438611,
          "longitude": 10.992778
         },
         "name": "Verona Bike"
        },
        {
         "company": [
          "Nextbike GmbH"
         ],
         "href": "/v2/networks/sprottenflotte-kiel",
         "id": "sprottenflotte-kiel",
         "location": {
          "city": "Kiel",
          "country": "DE",
          "latitude": 54.2837,
          "longitude": 10.13213
         },
         "name": "Sprottenflotte"
        },
        {
         "company": [
          "TaM",
          "Smoove"
         ],
         "gbfs_href": "https://montpellier-fr-smoove.klervi.net/gbfs/gbfs.json",
         "href": "/v2/networks/velomagg",
         "id": "velomagg",
         "location": {
          "city": "Montpellier",
          "country": "FR",
          "latitude": 43.6119,
          "longitude": 3.8772
         },
         "name": "Vélomagg"
        },
        {
         "company": [
          "Bcycle, LLC",
          "RTC Southern Nevada, Inc"
         ],
         "gbfs_href": "https://gbfs.bcycle.com/bcycle_rtcbikeshare/gbfs.json",
         "href": "/v2/networks/rtc-bike-share",
         "id": "rtc-bike-share",
         "location": {
          "city": "Las Vegas, NV",
          "country": "US",
          "latitude": 36.1438,
          "longitude": -115.15682
         },
         "name": "RTC Bike Share"
        },
        {
         "company": [
          "Bcycle, LLC",
          "Embark, Inc"
         ],
         "gbfs_href": "https://gbfs.bcycle.com/bcycle_spokies/gbfs.json",
         "href": "/v2/networks/spokies",
         "id": "spokies",
         "location": {
          "city": "Oklahoma, OK",
          "country": "US",
          "latitude": 35.46436,
          "longitude": -97.50888
         },
         "name": "Spokies BCycle"
        },
        {
         "company": [
          "Leonbici Nextbike Gmbh Y Autobuses Urbanos De Leon S.a. Ute"
         ],
         "href": "/v2/networks/alsa-nextbike-leon",
         "id": "alsa-nextbike-leon",
         "location": {
          "city": "León",
          "country": "ES",
          "latitude": 42.5987263,
          "longitude": -5.5670959
         },
         "name": "Alsa nextbike León"
        },
        {
         "company": [
          "Strasbourg Mobilités"
         ],
         "gbfs_href": "https://transport.data.gouv.fr/gbfs/strasbourg/gbfs.json",
         "href": "/v2/networks/velhop",
         "id": "velhop",
         "location": {
          "city": "Strasbourg",
          "country": "FR",
          "latitude": 48.583611,
          "longitude": 7.748056
         },
         "name": "Vélhop"
        },
        {
         "company": null,
         "gbfs_href": "https://belfort-gbfs.klervi.net/gbfs/gbfs.json",
         "href": "/v2/networks/optymo",
         "id": "optymo",
         "location": {
          "city": "Belfort",
          "country": "FR",
          "latitude": 47.641111,
          "longitude": 6.849444
         },
         "name": "Optymo"
        },
        {
         "company": [
          "Nextbike GmbH"
         ],
         "href": "/v2/networks/biker-bialystok",
         "id": "biker-bialystok",
         "location": {
          "city": "Białystok",
          "country": "PL",
          "latitude": 53.1262,
          "longitude": 23.1427
         },
         "name": "BIKER Białystok Poland"
        },
        {
         "company": [
          "Nextbike GmbH"
         ],
         "href": "/v2/networks/nextbike-prostejov",
         "id": "nextbike-prostejov",
         "location": {
          "city": "Prostejov",
          "country": "CZ",
          "latitude": 49.4722,
          "longitude": 17.1055
         },
         "name": "nextbike Prostejov"
        },
        {
         "company": [
          "Nextbike GmbH"
         ],
         "href": "/v2/networks/bike-katowice",
         "id": "bike-katowice",
         "location": {
          "city": "Katowice",
          "country": "PL",
          "latitude": 50.2594,
          "longitude": 19.0215
         },
         "name": "Katowice Bike Poland"
        },
        {
         "company": [
          "Nextbike GmbH"
         ],
         "href": "/v2/networks/nextbike-focsani",
         "id": "nextbike-focsani",
         "location": {
          "city": "Focșani",
          "country": "RO",
          "latitude": 45.6947,
          "longitude": 27.1851
         },
         "name": "nextbike Romania"
        },
        {
         "company": [
          "Nextbike GmbH"
         ],
         "href": "/v2/networks/grad-vukovar",
         "id": "grad-vukovar",
         "location": {
          "city": "Vukovar",
          "country": "HR",
          "latitude": 45.3575,
          "longitude": 18.9895
         },
         "name": "Grad Vukovar (Croatia)"
        },
        {
         "company": [
          "Nextbike GmbH"
         ],
         "href": "/v2/networks/system-rowerow-miejskich-w-pszczynie-pszczyna",
         "id": "system-rowerow-miejskich-w-pszczynie-pszczyna",
         "location": {
          "city": "Pszczyna",
          "country": "PL",
          "latitude": 49.9757,
          "longitude": 18.9463
         },
         "name": "System Rowerów Miejskich w Pszczynie Poland"
        },
        {
         "company": [
          "Nextbike GmbH"
         ],
         "href": "/v2/networks/tyski-rower-miejski-tychy",
         "id": "tyski-rower-miejski-tychy",
         "location": {
          "city": "Tychy",
          "country": "PL",
          "latitude": 50.1124,
          "longitude": 18.9972
         },
         "name": "Tyski Rower Miejski Poland"
        },
        {
         "company": [
          "Nextbike GmbH"
         ],
         "href": "/v2/networks/czestochowski-rower-miejski-czestochowa",
         "id": "czestochowski-rower-miejski-czestochowa",
         "location": {
          "city": "Częstochowa",
          "country": "PL",
          "latitude": 50.812,
          "longitude": 19.1375
         },
         "name": "Częstochowski Rower Miejski Poland"
        },
        {
         "company": [
          "Nextbike GmbH"
         ],
         "href": "/v2/networks/pruszkowski-rower-miejski-pruszkow",
         "id": "pruszkowski-rower-miejski-pruszkow",
         "location": {
          "city": "Pruszków",
          "country": "PL",
          "latitude": 52.1622,
          "longitude": 20.8062
         },
         "name": "Pruszkowski Rower Miejski Poland"
        },
        {
         "company": [
          "Nextbike GmbH"
         ],
         "href": "/v2/networks/ok-bike-kedzierzyn-kozle",
         "id": "ok-bike-kedzierzyn-kozle",
         "location": {
          "city": "Kędzierzyn-Koźle",
          "country": "PL",
          "latitude": 50.3392,
          "longitude": 18.2352
         },
         "name": "OK Bike Poland"
        },
        {
         "company": [
          "Nextbike GmbH"
         ],
         "href": "/v2/networks/grad-zapresic",
         "id": "grad-zapresic",
         "location": {
          "city": "Zaprešić",
          "country": "HR",
          "latitude": 45.8622,
          "longitude": 15.8049
         },
         "name": "Grad Zaprešić (Croatia)"
        },
        {
         "company": [
          "Nextbike GmbH"
         ],
         "href": "/v2/networks/porec-bike-share-porec",
         "id": "porec-bike-share-porec",
         "location": {
          "city": "Poreč",
          "country": "HR",
          "latitude": 45.2292,
          "longitude": 13.6035
         },
         "name": "Porec bike share (Croatia)"
        },
        {
         "company": [
          "Nextbike GmbH"
         ],
         "href": "/v2/networks/kaliski-rower-miejski-kalisz",
         "id": "kaliski-rower-miejski-kalisz",
         "location": {
          "city": "Kalisz",
          "country": "PL",
          "latitude": 51.7525,
          "longitude": 18.0341
         },
         "name": "Kaliski Rower Miejski Poland"
        },
        {
         "company": [
          "Nextbike GmbH"
         ],
         "href": "/v2/networks/rower-miejski-w-ostrowie-wielkopolskim-ostrow-wielkopolski",
         "id": "rower-miejski-w-ostrowie-wielkopolskim-ostrow-wielkopolski",
         "location": {
          "city": "Ostrów Wielkopolski",
          "country": "PL",
          "latitude": 51.65,
          "longitude": 17.8253
         },
         "name": "Rower Miejski w Ostrowie Wielkopolskim Poland"
        },
        {
         "company": [
          "Nextbike GmbH"
         ],
         "href": "/v2/networks/santander-brunel",
         "id": "santander-brunel",
         "location": {
          "city": "Brunel University",
          "country": "GB",
          "latitude": 51.5463,
          "longitude": -0.48048
         },
         "name": "Santander Cycles - Brunel"
        },
        {
         "company": [
          "Nextbike GmbH"
         ],
         "href": "/v2/networks/koszalinski-rower-miejski-koszalin",
         "id": "koszalinski-rower-miejski-koszalin",
         "location": {
          "city": "Koszalin",
          "country": "PL",
          "latitude": 54.2026,
          "longitude": 16.1678
         },
         "name": "Koszaliński Rower Miejski Poland"
        },
        {
         "company": [
          "Nextbike GmbH"
         ],
         "href": "/v2/networks/ki-rower-miejski-sosnowiec",
         "id": "ki-rower-miejski-sosnowiec",
         "location": {
          "city": "Sosnowiec",
          "country": "PL",
          "latitude": 50.278,
          "longitude": 19.1345
         },
         "name": "Sosnowiecki Rower Miejski Poland"
        },
        {
         "company": [
          "Nextbike GmbH"
         ],
         "href": "/v2/networks/pobiedziski-rower-gminny-pobiedziska",
         "id": "pobiedziski-rower-gminny-pobiedziska",
         "location": {
          "city": "Pobiedziska",
          "country": "PL",
          "latitude": 52.4765,
          "longitude": 17.2866
         },
         "name": "Pobiedziski Rower Gminny Poland"
        },
        {
         "company": [
          "Nextbike GmbH"
         ],
         "href": "/v2/networks/siemianowicki-rower-miejski-siemianowice-slaskie",
         "id": "siemianowicki-rower-miejski-siemianowice-slaskie",
         "location": {
          "city": "Siemianowice Śląskie",
          "country": "PL",
          "latitude": 50.3031,
          "longitude": 19.0222
         },
         "name": "Siemianowicki Rower Miejski Poland"
        },
        {
         "company": [
          "Nextbike GmbH"
         ],
         "href": "/v2/networks/piotrkowski-rower-miejski-piotrkow-trybunalski",
         "id": "piotrkowski-rower-miejski-piotrkow-trybunalski",
         "location": {
          "city": "Piotrków Trybunalski",
          "country": "PL",
          "latitude": 51.3975,
          "longitude": 19.6779
         },
         "name": "Piotrkowski Rower Miejski Poland"
        },
        {
         "company": [
          "Nextbike GmbH"
         ],
         "href": "/v2/networks/i-rower-miejski-prm-plock",
         "id": "i-rower-miejski-prm-plock",
         "location": {
          "city": "Płock",
          "country": "PL",
          "latitude": 52.5445,
          "longitude": 19.7017
         },
         "name": "Płocki Rower Miejski (PRM) Poland"
        },
        {
         "company": [
          "Nextbike GmbH"
         ],
         "href": "/v2/networks/plocki-rower-miejski-prm-orlen-plock",
         "id": "plocki-rower-miejski-prm-orlen-plock",
         "location": {
          "city": "Orlen Płock",
          "country": "PL",
          "latitude": 52.5466,
          "longitude": 19.7047
         },
         "name": "Płocki Rower Miejski (PRM) Poland"
        },
        {
         "company": [
          "Nextbike GmbH"
         ],
         "href": "/v2/networks/i-rower-miejski-otwock",
         "id": "i-rower-miejski-otwock",
         "location": {
          "city": "Otwock",
          "country": "PL",
          "latitude": 52.1034,
          "longitude": 21.2692
         },
         "name": "Otwocki Rower Miejski Poland"
        },
        {
         "company": [
          "Nextbike GmbH"
         ],
         "href": "/v2/networks/ciechanowski-rower-miejski-ciechanow",
         "id": "ciechanowski-rower-miejski-ciechanow",
         "location": {
          "city": "Ciechanów",
          "country": "PL",
          "latitude": 52.8763,
          "longitude": 20.6102
         },
         "name": "Ciechanowski Rower Miejski Poland"
        },
        {
         "company": [
          "Nextbike GmbH"
         ],
         "href": "/v2/networks/zyrardowski-rower-miejski-zyrardow",
         "id": "zyrardowski-rower-miejski-zyrardow",
         "location": {
          "city": "Żyrardów",
          "country": "PL",
          "latitude": 52.0503,
          "longitude": 20.4464
         },
         "name": "Żyrardowski Rower Miejski Poland"
        },
        {
         "company": [
          "Nextbike GmbH"
         ],
         "href": "/v2/networks/sap-walldorf",
         "id": "sap-walldorf",
         "location": {
          "city": "Walldorf",
          "country": "DE",
          "latitude": 49.2945,
          "longitude": 8.62324
         },
         "name": "SAP Walldorf"
        },
        {
         "company": [
          "Nextbike GmbH"
         ],
         "href": "/v2/networks/opcina-dugopolje",
         "id": "opcina-dugopolje",
         "location": {
          "city": "Dugopolje",
          "country": "HR",
          "latitude": 43.5872,
          "longitude": 16.5879
         },
         "name": "Općina Dugopolje (Croatia)"
        },
        {
         "company": [
          "Nextbike GmbH"
         ],
         "href": "/v2/networks/opcina-pitomaca",
         "id": "opcina-pitomaca",
         "location": {
          "city": "Pitomača",
          "country": "HR",
          "latitude": 45.9077,
          "longitude": 17.2622
         },
         "name": "Općina Pitomača (Croatia)"
        },
        {
         "company": [
          "Nextbike GmbH"
         ],
         "href": "/v2/networks/nomago-ljubljana",
         "id": "nomago-ljubljana",
         "location": {
          "city": "Ljubljana",
          "country": "SI",
          "latitude": 46.0577,
          "longitude": 14.5013
         },
         "name": "Nomago Bikes - LJUBLJANA"
        },
        {
         "company": [
          "Nextbike GmbH"
         ],
         "href": "/v2/networks/system-roweru-gminnego-pielgrzymka",
         "id": "system-roweru-gminnego-pielgrzymka",
         "location": {
          "city": "Pielgrzymka",
          "country": "PL",
          "latitude": 51.1185,
          "longitude": 15.8153
         },
         "name": "System Roweru Gminnego Poland"
        },
        {
         "company": [
          "Nextbike GmbH"
         ],
         "href": "/v2/networks/rvk",
         "id": "rvk",
         "location": {
          "city": "RVK e-Bike",
          "country": "DE",
          "latitude": 50.7069,
          "longitude": 6.87607
         },
         "name": "RVK"
        },
        {
         "company": [
          "Nextbike GmbH"
         ],
         "href": "/v2/networks/partnerzy-nextbike-polska-wolt",
         "id": "partnerzy-nextbike-polska-wolt",
         "location": {
          "city": "Wolt",
          "country": "PL",
          "latitude": 52.2984,
          "longitude": 21.0498
         },
         "name": "Partnerzy Nextbike Polska"
        },
        {
         "company": [
          "Nextbike GmbH"
         ],
         "href": "/v2/networks/wupsi",
         "id": "wupsi",
         "location": {
          "city": "Leverkusen",
          "country": "DE",
          "latitude": 51.0732,
          "longitude": 7.00814
         },
         "name": "wupsiRad Leverkusen"
        },
        {
         "company": [
          "Nextbike GmbH"
         ],
         "href": "/v2/networks/lovesharing-canary-islands-gran-canaria",
         "id": "lovesharing-canary-islands-gran-canaria",
         "location": {
          "city": "Gran Canaria",
          "country": "ES",
          "latitude": 27.8154,
          "longitude": -15.5182
         },
         "name": "Lovesharing (Canary Islands)"
        },
        {
         "company": [
          "Nextbike GmbH"
         ],
         "href": "/v2/networks/lovesharing-canary-islands-lanzarote",
         "id": "lovesharing-canary-islands-lanzarote",
         "location": {
          "city": "Lanzarote",
          "country": "ES",
          "latitude": 29.0491,
          "longitude": -13.5729
         },
         "name": "Lovesharing (Canary Islands)"
        },
        {
         "company": [
          "Nextbike GmbH"
         ],
         "href": "/v2/networks/lovesharing-canary-islands-fuerteventura",
         "id": "lovesharing-canary-islands-fuerteventura",
         "location": {
          "city": "Fuerteventura",
          "country": "ES",
          "latitude": 28.3584,
          "longitude": -14.064
         },
         "name": "Lovesharing (Canary Islands)"
        },
        {
         "company": [
          "VAG Verkehrs-Aktiengesellschaft"
         ],
         "href": "/v2/networks/vagrad",
         "id": "vagrad",
         "location": {
          "city": "Nürnberg",
          "country": "DE",
          "latitude": 49.4487,
          "longitude": 11.0794
         },
         "name": "VAG_Rad"
        },
        {
         "company": [
          "Nextbike GmbH"
         ],
         "href": "/v2/networks/grad-split",
         "id": "grad-split",
         "location": {
          "city": "Split",
          "country": "HR",
          "latitude": 43.5162,
          "longitude": 16.4637
         },
         "name": "Grad Split (Croatia)"
        },
        {
         "company": [
          "Nextbike GmbH"
         ],
         "href": "/v2/networks/grad-split-solin",
         "id": "grad-split-solin",
         "location": {
          "city": "Solin",
          "country": "HR",
          "latitude": 43.5441,
          "longitude": 16.4833
         },
         "name": "Grad Split (Croatia)"
        },
        {
         "company": [
          "Nextbike GmbH"
         ],
         "href": "/v2/networks/grad-split-opcina-klis",
         "id": "grad-split-opcina-klis",
         "location": {
          "city": "Općina Klis",
          "country": "HR",
          "latitude": 43.5605,
          "longitude": 16.5269
         },
         "name": "Grad Split (Croatia)"
        },
        {
         "company": [
          "Nextbike GmbH"
         ],
         "href": "/v2/networks/grad-split-opcina-hrvace",
         "id": "grad-split-opcina-hrvace",
         "location": {
          "city": "Općina Hrvace",
          "country": "HR",
          "latitude": 43.7553,
          "longitude": 16.6197
         },
         "name": "Grad Split (Croatia)"
        },
        {
         "company": [
          "Nextbike GmbH"
         ],
         "href": "/v2/networks/grad-split-opcina-otok-dalmatinski",
         "id": "grad-split-opcina-otok-dalmatinski",
         "location": {
          "city": "Općina Otok Dalmatinski",
          "country": "HR",
          "latitude": 43.6889,
          "longitude": 16.7361
         },
         "name": "Grad Split (Croatia)"
        },
        {
         "company": [
          "Nextbike GmbH"
         ],
         "href": "/v2/networks/grad-split-sinj",
         "id": "grad-split-sinj",
         "location": {
          "city": "Sinj",
          "country": "HR",
          "latitude": 43.7031,
          "longitude": 16.6364
         },
         "name": "Grad Split (Croatia)"
        },
        {
         "company": [
          "Nextbike GmbH"
         ],
         "href": "/v2/networks/grad-split-hvar",
         "id": "grad-split-hvar",
         "location": {
          "city": "Hvar",
          "country": "HR",
          "latitude": 43.1882,
          "longitude": 16.6295
         },
         "name": "Grad Split (Croatia)"
        },
        {
         "company": [
          "Nextbike GmbH"
         ],
         "href": "/v2/networks/grad-split-podstrana",
         "id": "grad-split-podstrana",
         "location": {
          "city": "Podstrana",
          "country": "HR",
          "latitude": 43.4934,
          "longitude": 16.5598
         },
         "name": "Grad Split (Croatia)"
        },
        {
         "company": [
          "Nextbike GmbH"
         ],
         "href": "/v2/networks/grad-split-trogir",
         "id": "grad-split-trogir",
         "location": {
          "city": "Trogir",
          "country": "HR",
          "latitude": 43.5234,
          "longitude": 16.2476
         },
         "name": "Grad Split (Croatia)"
        },
        {
         "company": [
          "Nextbike GmbH"
         ],
         "href": "/v2/networks/nextbike-ostrava",
         "id": "nextbike-ostrava",
         "location": {
          "city": "Ostrava",
          "country": "CZ",
          "latitude": 49.8344,
          "longitude": 18.2823
         },
         "name": "nextbike Ostrava"
        },
        {
         "company": [
          "Nextbike GmbH"
         ],
         "href": "/v2/networks/nextbike-ostrava-hlucin",
         "id": "nextbike-ostrava-hlucin",
         "location": {
          "city": "Hlučín",
          "country": "CZ",
          "latitude": 49.898,
          "longitude": 18.1923
         },
         "name": "nextbike Ostrava"
        },
        {
         "company": [
          "Nextbike GmbH"
         ],
         "href": "/v2/networks/nextbike-ostrava-vresina",
         "id": "nextbike-ostrava-vresina",
         "location": {
          "city": "Vřesina",
          "country": "CZ",
          "latitude": 49.825,
          "longitude": 18.1206
         },
         "name": "nextbike Ostrava"
        },
        {
         "company": [
          "Nextbike GmbH"
         ],
         "href": "/v2/networks/ski-rower-miejski-lubon",
         "id": "ski-rower-miejski-lubon",
         "location": {
          "city": "Luboń",
          "country": "PL",
          "latitude": 52.3461,
          "longitude": 16.8765
         },
         "name": "Luboński Rower Miejski Poland"
        },
        {
         "company": [
          "Nextbike GmbH"
         ],
         "href": "/v2/networks/ibizi-ibiza-city",
         "id": "ibizi-ibiza-city",
         "location": {
          "city": "Ibiza-City",
          "country": "ES",
          "latitude": 38.9066,
          "longitude": 1.42046
         },
         "name": "ibizi"
        },
        {
         "company": [
          "Nextbike GmbH"
         ],
         "href": "/v2/networks/sprintrad",
         "id": "sprintrad",
         "location": {
          "city": "Hannover",
          "country": "DE",
          "latitude": 52.3721,
          "longitude": 9.73569
         },
         "name": "sprintRAD"
        },
        {
         "company": [
          "Nextbike GmbH"
         ],
         "href": "/v2/networks/komornicki-system-rowerowy-komorniki",
         "id": "komornicki-system-rowerowy-komorniki",
         "location": {
          "city": "Komorniki",
          "country": "PL",
          "latitude": 52.3347,
          "longitude": 16.8094
         },
         "name": "Komornicki System Rowerowy Poland"
        },
        {
         "company": [
          "Nextbike GmbH"
         ],
         "href": "/v2/networks/nextbike-havirov",
         "id": "nextbike-havirov",
         "location": {
          "city": "Havířov",
          "country": "CZ",
          "latitude": 49.7799,
          "longitude": 18.4328
         },
         "name": "nextbike Havířov"
        },
        {
         "company": [
          "Nextbike GmbH"
         ],
         "href": "/v2/networks/nextbike-berounsko",
         "id": "nextbike-berounsko",
         "location": {
          "city": "Berounsko",
          "country": "CZ",
          "latitude": 49.9616,
          "longitude": 14.064
         },
         "name": "nextbike Berounsko"
        },
        {
         "company": [
          "Nextbike GmbH"
         ],
         "href": "/v2/networks/ready4green-graben",
         "id": "ready4green-graben",
         "location": {
          "city": "Graben",
          "country": "DE",
          "latitude": 51.1242,
          "longitude": 10.8984
         },
         "name": "Graben - ready4green"
        },
        {
         "company": [
          "Nextbike GmbH"
         ],
         "href": "/v2/networks/oleski-rower-miejski-olesno",
         "id": "oleski-rower-miejski-olesno",
         "location": {
          "city": "Olesno",
          "country": "PL",
          "latitude": 50.8773,
          "longitude": 18.4212
         },
         "name": "Oleski Rower Miejski Poland"
        },
        {
         "company": [
          "Nextbike GmbH"
         ],
         "href": "/v2/networks/styr-staell-goeteborg",
         "id": "styr-staell-goeteborg",
         "location": {
          "city": "Göteborg",
          "country": "SE",
          "latitude": 57.6902,
          "longitude": 11.9881
         },
         "name": "Styr & Ställ (Sweden, Göteborg)"
        },
        {
         "company": [
          "Nextbike GmbH"
         ],
         "href": "/v2/networks/nibelungen-bike-braunschweig",
         "id": "nibelungen-bike-braunschweig",
         "location": {
          "city": "Braunschweig",
          "country": "DE",
          "latitude": 52.2597,
          "longitude": 10.5307
         },
         "name": "Nibelungen-Bike"
        },
        {
         "company": [
          "Nextbike GmbH"
         ],
         "href": "/v2/networks/nextbike-brno",
         "id": "nextbike-brno",
         "location": {
          "city": "Brno",
          "country": "CZ",
          "latitude": 49.1911,
          "longitude": 16.6148
         },
         "name": "nextbike Brno"
        },
        {
         "company": [
          "Nextbike GmbH"
         ],
         "href": "/v2/networks/nextbike-brno-kurim",
         "id": "nextbike-brno-kurim",
         "location": {
          "city": "Kuřim",
          "country": "CZ",
          "latitude": 49.2994,
          "longitude": 16.5368
         },
         "name": "nextbike Brno"
        },
        {
         "company": [
          "Nextbike GmbH"
         ],
         "href": "/v2/networks/nextbike-praha",
         "id": "nextbike-praha",
         "location": {
          "city": "Praha",
          "country": "CZ",
          "latitude": 50.0592,
          "longitude": 14.5761
         },
         "name": "nextbike Praha"
        },
        {
         "company": [
          "Nextbike GmbH"
         ],
         "href": "/v2/networks/nextbike-praha-ricany",
         "id": "nextbike-praha-ricany",
         "location": {
          "city": "Říčany",
          "country": "CZ",
          "latitude": 49.9976,
          "longitude": 14.6685
         },
         "name": "nextbike Praha"
        },
        {
         "company": [
          "Nextbike GmbH"
         ],
         "href": "/v2/networks/nextbike-olomouc",
         "id": "nextbike-olomouc",
         "location": {
          "city": "Olomouc",
          "country": "CZ",
          "latitude": 49.5929,
          "longitude": 17.2459
         },
         "name": "nextbike Olomouc"
        },
        {
         "company": [
          "Nextbike GmbH"
         ],
         "href": "/v2/networks/nextbike-kladno",
         "id": "nextbike-kladno",
         "location": {
          "city": "Kladno",
          "country": "CZ",
          "latitude": 50.1435,
          "longitude": 14.1082
         },
         "name": "nextbike Kladno"
        },
        {
         "company": [
          "Nextbike GmbH"
         ],
         "href": "/v2/networks/nextbike-opava",
         "id": "nextbike-opava",
         "location": {
          "city": "Opava",
          "country": "CZ",
          "latitude": 49.9289,
          "longitude": 18.2634
         },
         "name": "nextbike Opava"
        },
        {
         "company": [
          "Nextbike GmbH"
         ],
         "href": "/v2/networks/nextbike-bielefeld",
         "id": "nextbike-bielefeld",
         "location": {
          "city": "Bielefeld",
          "country": "DE",
          "latitude": 52.0257,
          "longitude": 8.53286
         },
         "name": "meinSiggi"
        },
        {
         "company": [
          "Nextbike GmbH"
         ],
         "href": "/v2/networks/yoy-san-luis-potosi",
         "id": "yoy-san-luis-potosi",
         "location": {
          "city": "San Luis Potosi",
          "country": "MX",
          "latitude": 22.438,
          "longitude": -100.514
         },
         "name": "YOY - San Luis Potosi"
        },
        {
         "company": [
          "Nextbike GmbH"
         ],
         "href": "/v2/networks/yoy-san-luis-potosi-cancun",
         "id": "yoy-san-luis-potosi-cancun",
         "location": {
          "city": "Cancún",
          "country": "MX",
          "latitude": 21.1675,
          "longitude": -86.8498
         },
         "name": "YOY - San Luis Potosi"
        },
        {
         "company": [
          "Nextbike GmbH"
         ],
         "href": "/v2/networks/bergisches-e-bike",
         "id": "bergisches-e-bike",
         "location": {
          "city": "Bergisches e-Bike",
          "country": "DE",
          "latitude": 51.0192,
          "longitude": 7.18025
         },
         "name": "Bergisches e-Bike"
        },
        {
         "company": [
          "Nextbike GmbH"
         ],
         "href": "/v2/networks/nextbike-pardubice",
         "id": "nextbike-pardubice",
         "location": {
          "city": "Pardubice",
          "country": "CZ",
          "latitude": 50.0343,
          "longitude": 15.7812
         },
         "name": "nextbike Pardubice"
        },
        {
         "company": [
          "Nextbike GmbH"
         ],
         "href": "/v2/networks/nextbike-hradec-kralove",
         "id": "nextbike-hradec-kralove",
         "location": {
          "city": "Hradec Králové",
          "country": "CZ",
          "latitude": 50.2079,
          "longitude": 15.8334
         },
         "name": "nextbike Hradec Králové"
        },
        {
         "company": [
          "Nextbike GmbH"
         ],
         "href": "/v2/networks/nextbike-mladoboleslavsko-mlada-boleslav",
         "id": "nextbike-mladoboleslavsko-mlada-boleslav",
         "location": {
          "city": "Mladá Boleslav",
          "country": "CZ",
          "latitude": 50.4278,
          "longitude": 14.8999
         },
         "name": "nextbike Mladoboleslavsko"
        },
        {
         "company": [
          "Nextbike GmbH"
         ],
         "href": "/v2/networks/nextbike-mladoboleslavsko-mnichovo-hradiste",
         "id": "nextbike-mladoboleslavsko-mnichovo-hradiste",
         "location": {
          "city": "Mnichovo Hradiště",
          "country": "CZ",
          "latitude": 50.5218,
          "longitude": 14.9741
         },
         "name": "nextbike Mladoboleslavsko"
        },
        {
         "company": [
          "Nextbike GmbH"
         ],
         "href": "/v2/networks/oeynrad-bad-oeynhausen",
         "id": "oeynrad-bad-oeynhausen",
         "location": {
          "city": "Bad Oeynhausen",
          "country": "DE",
          "latitude": 52.2051,
          "longitude": 8.80074
         },
         "name": "Oeynrad"
        },
        {
         "company": [
          "Nextbike GmbH"
         ],
         "href": "/v2/networks/rsvg-bike",
         "id": "rsvg-bike",
         "location": {
          "city": "RSVG",
          "country": "DE",
          "latitude": 50.7669,
          "longitude": 7.37457
         },
         "name": "RSVG-Bike"
        },
        {
         "company": [
          "Nextbike GmbH"
         ],
         "href": "/v2/networks/citybikelinz",
         "id": "citybikelinz",
         "location": {
          "city": "Linz",
          "country": "AT",
          "latitude": 48.3003,
          "longitude": 14.2843
         },
         "name": "city bike Linz"
        },
        {
         "company": [
          "Nextbike GmbH"
         ],
         "href": "/v2/networks/velopark-drobeta",
         "id": "velopark-drobeta",
         "location": {
          "city": "Drobeta",
          "country": "RO",
          "latitude": 44.6326,
          "longitude": 22.6564
         },
         "name": "Drobeta Velopark"
        },
        {
         "company": [
          "Nextbike GmbH"
         ],
         "href": "/v2/networks/nomago-gorica",
         "id": "nomago-gorica",
         "location": {
          "city": "Nova Gorica",
          "country": "SI",
          "latitude": 45.9576,
          "longitude": 13.6406
         },
         "name": "Nomago Bikes - GO2GO"
        },
        {
         "company": [
          "Nextbike GmbH"
         ],
         "href": "/v2/networks/saturn",
         "id": "saturn",
         "location": {
          "city": "Saturn",
          "country": "RO",
          "latitude": 43.82,
          "longitude": 28.7445
         },
         "name": "Saturn"
        },
        {
         "company": [
          "Nextbike GmbH"
         ],
         "href": "/v2/networks/nextbike-frydek-mistek",
         "id": "nextbike-frydek-mistek",
         "location": {
          "city": "Frýdek-Místek",
          "country": "CZ",
          "latitude": 49.6832,
          "longitude": 18.3457
         },
         "name": "nextbike Frýdek-Místek"
        },
        {
         "company": [
          "Nextbike GmbH"
         ],
         "href": "/v2/networks/nextbike-uherske-hradiste",
         "id": "nextbike-uherske-hradiste",
         "location": {
          "city": "Uherské Hradiště",
          "country": "CZ",
          "latitude": 49.0678,
          "longitude": 17.4665
         },
         "name": "nextbike Uherské Hradiště"
        },
        {
         "company": [
          "Nextbike GmbH"
         ],
         "href": "/v2/networks/nextbike-zlin",
         "id": "nextbike-zlin",
         "location": {
          "city": "Zlín",
          "country": "CZ",
          "latitude": 49.238,
          "longitude": 17.6788
         },
         "name": "nextbike Zlín"
        },
        {
         "company": [
          "Nextbike GmbH"
         ],
         "href": "/v2/networks/nextbike-krnov",
         "id": "nextbike-krnov",
         "location": {
          "city": "Krnov",
          "country": "CZ",
          "latitude": 50.0703,
          "longitude": 17.8837
         },
         "name": "nextbike Krnov"
        },
        {
         "company": [
          "Nextbike GmbH"
         ],
         "href": "/v2/networks/eifel",
         "id": "eifel",
         "location": {
          "city": "Eifel e-Bike",
          "country": "DE",
          "latitude": 50.5771,
          "longitude": 6.64673
         },
         "name": "Eifel e-Bike"
        },
        {
         "company": [
          "Nextbike GmbH"
         ],
         "href": "/v2/networks/nextbike-rychnovsko",
         "id": "nextbike-rychnovsko",
         "location": {
          "city": "Rychnovsko",
          "country": "CZ",
          "latitude": 50.1668,
          "longitude": 16.2828
         },
         "name": "nextbike Rychnovsko"
        },
        {
         "company": [
          "Nextbike GmbH"
         ],
         "href": "/v2/networks/nextbike-pisek",
         "id": "nextbike-pisek",
         "location": {
          "city": "Písek",
          "country": "CZ",
          "latitude": 49.3051,
          "longitude": 14.1463
         },
         "name": "nextbike Písek"
        },
        {
         "company": [
          "Nextbike GmbH"
         ],
         "href": "/v2/networks/nextbike-jihlava",
         "id": "nextbike-jihlava",
         "location": {
          "city": "Jihlava",
          "country": "CZ",
          "latitude": 49.4078,
          "longitude": 15.6061
         },
         "name": "nextbike Jihlava"
        },
        {
         "company": [
          "Nextbike GmbH"
         ],
         "href": "/v2/networks/nomago-zanaprej",
         "id": "nomago-zanaprej",
         "location": {
          "city": "Zagorje ob Savi",
          "country": "SI",
          "latitude": 46.1392,
          "longitude": 14.9785
         },
         "name": "Nomago Bikes - ZANAPREJ"
        },
        {
         "company": [
          "Nextbike GmbH"
         ],
         "href": "/v2/networks/rower-powiatowy-sokolow-podlaski",
         "id": "rower-powiatowy-sokolow-podlaski",
         "location": {
          "city": "Sokołów Podlaski",
          "country": "PL",
          "latitude": 52.4082,
          "longitude": 22.2525
         },
         "name": "Rower Powiatowy Sokołów Podlaski"
        },
        {
         "company": [
          "Nextbike GmbH"
         ],
         "href": "/v2/networks/nextbike-bergamo",
         "id": "nextbike-bergamo",
         "location": {
          "city": "Bergamo",
          "country": "IT",
          "latitude": 45.6986,
          "longitude": 9.67567
         },
         "name": "nextbike Bergamo"
        },
        {
         "company": [
          "Nextbike GmbH"
         ],
         "href": "/v2/networks/emobi-osijek",
         "id": "emobi-osijek",
         "location": {
          "city": "Osijek",
          "country": "HR",
          "latitude": 45.554,
          "longitude": 18.6943
         },
         "name": "eMobi (Croatia)"
        },
        {
         "company": [
          "Nextbike GmbH"
         ],
         "href": "/v2/networks/arval-scandicci",
         "id": "arval-scandicci",
         "location": {
          "city": "Scandicci",
          "country": "IT",
          "latitude": 43.7701,
          "longitude": 11.1592
         },
         "name": "ARVAL"
        },
        {
         "company": [
          "Bremer Tageszeitungen AG"
         ],
         "href": "/v2/networks/nextbike-oldenburg",
         "id": "nextbike-oldenburg",
         "location": {
          "city": "Oldenburg",
          "country": "DE",
          "latitude": 53.1448,
          "longitude": 8.22485
         },
         "name": "OLi-Bike"
        },
        {
         "company": [
          "Nextbike GmbH"
         ],
         "href": "/v2/networks/nextbike-urdaibai",
         "id": "nextbike-urdaibai",
         "location": {
          "city": "Urdaibai",
          "country": "ES",
          "latitude": 43.395,
          "longitude": -2.68815
         },
         "name": "BBK Klimabizi"
        },
        {
         "company": [
          "Nextbike GmbH"
         ],
         "href": "/v2/networks/mvrad-hq",
         "id": "mvrad-hq",
         "location": {
          "city": "MV-Rad",
          "country": "DE",
          "latitude": 53.6707,
          "longitude": 12.4255
         },
         "name": "MV-Rad"
        },
        {
         "company": [
          "Nextbike GmbH"
         ],
         "href": "/v2/networks/mvrad-anklam",
         "id": "mvrad-anklam",
         "location": {
          "city": "Anklam",
          "country": "DE",
          "latitude": 53.8614,
          "longitude": 13.6907
         },
         "name": "MV-Rad"
        },
        {
         "company": [
          "Nextbike GmbH"
         ],
         "href": "/v2/networks/greifswald",
         "id": "greifswald",
         "location": {
          "city": "Greifswald (StadtRad)",
          "country": "DE",
          "latitude": 54.0961,
          "longitude": 13.3787
         },
         "name": "StadtRad Greifswald"
        },
        {
         "company": [
          "Nextbike GmbH"
         ],
         "href": "/v2/networks/nextbike-dvur-kralove",
         "id": "nextbike-dvur-kralove",
         "location": {
          "city": "Dvůr Králové",
          "country": "CZ",
          "latitude": 50.4278,
          "longitude": 15.8162
         },
         "name": "nextbike Dvůr Králové"
        },
        {
         "company": [
          "Nextbike GmbH"
         ],
         "href": "/v2/networks/vvtregiorad-kufstein",
         "id": "vvtregiorad-kufstein",
         "location": {
          "city": "Kufstein",
          "country": "AT",
          "latitude": 47.583,
          "longitude": 12.1692
         },
         "name": "VVT REGIORAD Tirol"
        },
        {
         "company": [
          "Nextbike GmbH"
         ],
         "href": "/v2/networks/vvtregiorad-ellmau",
         "id": "vvtregiorad-ellmau",
         "location": {
          "city": "Ellmau",
          "country": "AT",
          "latitude": 47.5134,
          "longitude": 12.3025
         },
         "name": "VVT REGIORAD Tirol"
        },
        {
         "company": [
          "Nextbike GmbH"
         ],
         "href": "/v2/networks/ski-rower-chelm",
         "id": "ski-rower-chelm",
         "location": {
          "city": "Chełm",
          "country": "PL",
          "latitude": 51.1318,
          "longitude": 23.4755
         },
         "name": "Chełmski Rower"
        },
        {
         "company": [
          "Nextbike GmbH"
         ],
         "href": "/v2/networks/nextbike-vrchlabi",
         "id": "nextbike-vrchlabi",
         "location": {
          "city": "Vrchlabí",
          "country": "CZ",
          "latitude": 50.6222,
          "longitude": 15.6126
         },
         "name": "nextbike Vrchlabí"
        },
        {
         "company": [
          "Nextbike GmbH"
         ],
         "href": "/v2/networks/winsenrad",
         "id": "winsenrad",
         "location": {
          "city": "Winsen (Luhe)",
          "country": "DE",
          "latitude": 53.3547,
          "longitude": 10.2067
         },
         "name": "WinsenRad"
        },
        {
         "company": [
          "Nextbike GmbH"
         ],
         "href": "/v2/networks/loker-lomza",
         "id": "loker-lomza",
         "location": {
          "city": "Łomża",
          "country": "PL",
          "latitude": 53.1649,
          "longitude": 22.0729
         },
         "name": "ŁoKeR - Łomża"
        },
        {
         "company": [
          "Nextbike GmbH"
         ],
         "href": "/v2/networks/nomago-kranjska-gora",
         "id": "nomago-kranjska-gora",
         "location": {
          "city": "Kranjska Gora",
          "country": "SI",
          "latitude": 46.4846,
          "longitude": 13.7836
         },
         "name": "Nomago Bikes - KRANJSKA GORA"
        },
        {
         "company": [
          "Nextbike GmbH"
         ],
         "href": "/v2/networks/nomago-portoroz",
         "id": "nomago-portoroz",
         "location": {
          "city": "Portorož",
          "country": "SI",
          "latitude": 45.5054,
          "longitude": 13.5979
         },
         "name": "Nomago Bikes - PORTOROZ"
        },
        {
         "company": [
          "Nextbike GmbH"
         ],
         "href": "/v2/networks/vrn-landau",
         "id": "vrn-landau",
         "location": {
          "city": "Landau in der Pfalz",
          "country": "DE",
          "latitude": 49.1975,
          "longitude": 8.11693
         },
         "name": "VRN"
        },
        {
         "company": null,
         "gbfs_href": "https://nitro.openvelo.org/aachen/velocity/v2/gbfs.json",
         "href": "/v2/networks/velocity-aachen",
         "id": "velocity-aachen",
         "location": {
          "city": "Aachen",
          "country": "DE",
          "latitude": 50.776667,
          "longitude": 6.083611
         },
         "name": "Velocity"
        },
        {
         "company": null,
         "gbfs_href": "https://quebec.publicbikesystem.net/customer/gbfs/v2/gbfs.json",
         "href": "/v2/networks/avelo-quebec",
         "id": "avelo-quebec",
         "location": {
          "city": "Québec",
          "country": "CA",
          "latitude": 46.81305,
          "longitude": -71.2168
         },
         "name": "àVélo"
        },
        {
         "company": null,
         "gbfs_href": "https://saguenay.publicbikesystem.net/customer/gbfs/v2/gbfs.json",
         "href": "/v2/networks/acces-velo-saguenay",
         "id": "acces-velo-saguenay",
         "location": {
          "city": "Saguenay",
          "country": "CA",
          "latitude": 48.433333,
          "longitude": -71.083333
         },
         "name": "Accès Vélo"
        },
        {
         "company": [
          "Vilvolt CA Épinal",
          "Communauté d'agglomération Épinal",
          "Fifteen SAS"
         ],
         "href": "/v2/networks/vilvolt",
         "id": "vilvolt",
         "location": {
          "city": "Epinal",
          "country": "FR",
          "latitude": 48.1833,
          "longitude": 6.4508
         },
         "name": "Vilvolt"
        },
        {
         "company": [
          "VeloBaie",
          "Fifteen SAS"
         ],
         "gbfs_href": "",
         "href": "/v2/networks/velobaie",
         "id": "velobaie",
         "location": {
          "city": "Saint-Brieuc",
          "country": "FR",
          "latitude": 48.514,
          "longitude": -2.765
         },
         "name": "VeloBaie"
        },
        {
         "company": [
          "Donkey Republic"
         ],
         "gbfs_href": "https://stables.donkey.bike/api/public/gbfs/donkey_gh/gbfs",
         "href": "/v2/networks/donkey-gh",
         "id": "donkey-gh",
         "location": {
          "city": "Gent",
          "country": "BE",
          "latitude": 51.05,
          "longitude": 3.7303
         },
         "name": "Donkey Republic - Gent"
        },
        {
         "company": [
          "JCDecaux"
         ],
         "href": "/v2/networks/mbajk",
         "id": "mbajk",
         "license": {
          "name": "Open Licence",
          "url": "https://developer.jcdecaux.com/#/opendata/licence"
         },
         "location": {
          "city": "Maribor",
          "country": "SI",
          "latitude": 46.5547,
          "longitude": 15.6459
         },
         "name": "MBajk",
         "source": "https://developer.jcdecaux.com"
        },
        {
         "company": [
          "PubliBike AG"
         ],
         "href": "/v2/networks/publibike-zuerich",
         "id": "publibike-zuerich",
         "location": {
          "city": "Zürich",
          "country": "CH",
          "latitude": 47.38728,
          "longitude": 8.53767
         },
         "name": "PubliBike Zürich",
         "source": "https://api.publibike.ch/v1/static/api.html"
        },
        {
         "company": [
          "PubliBike AG"
         ],
         "href": "/v2/networks/publibike-sierre",
         "id": "publibike-sierre",
         "location": {
          "city": "Sierre",
          "country": "CH",
          "latitude": 46.28986,
          "longitude": 7.53194
         },
         "name": "PubliBike Sierre",
         "source": "https://api.publibike.ch/v1/static/api.html"
        },
        {
         "company": [
          "PubliBike AG"
         ],
         "href": "/v2/networks/publibike-region-de-nyon",
         "id": "publibike-region-de-nyon",
         "location": {
          "city": "Nyon",
          "country": "CH",
          "latitude": 46.381706,
          "longitude": 6.240311
         },
         "name": "PubliBike Région de Nyon",
         "source": "https://api.publibike.ch/v1/static/api.html"
        },
        {
         "company": [
          "PubliBike AG"
         ],
         "href": "/v2/networks/publibike-bern",
         "id": "publibike-bern",
         "location": {
          "city": "Bern",
          "country": "CH",
          "latitude": 46.94841,
          "longitude": 7.43767
         },
         "name": "PubliBike Bern",
         "source": "https://api.publibike.ch/v1/static/api.html"
        },
        {
         "company": [
          "PubliBike AG"
         ],
         "href": "/v2/networks/publibike-sottoceneri-ti",
         "id": "publibike-sottoceneri-ti",
         "location": {
          "city": "Lugano",
          "country": "CH",
          "latitude": 46.00491,
          "longitude": 8.95244
         },
         "name": "PubliBike Sottoceneri (TI)",
         "source": "https://api.publibike.ch/v1/static/api.html"
        },
        {
         "company": [
          "PubliBike AG"
         ],
         "href": "/v2/networks/publibike-fribourg",
         "id": "publibike-fribourg",
         "location": {
          "city": "Fribourg",
          "country": "CH",
          "latitude": 46.805708,
          "longitude": 7.160339
         },
         "name": "PubliBike Fribourg",
         "source": "https://api.publibike.ch/v1/static/api.html"
        },
        {
         "company": [
          "PubliBike AG"
         ],
         "href": "/v2/networks/publibike-lausanne-morges",
         "id": "publibike-lausanne-morges",
         "location": {
          "city": "Lausanne",
          "country": "CH",
          "latitude": 46.516649,
          "longitude": 6.62948
         },
         "name": "PubliBike Lausanne-Morges",
         "source": "https://api.publibike.ch/v1/static/api.html"
        },
        {
         "company": [
          "PubliBike AG"
         ],
         "href": "/v2/networks/publibike-sion",
         "id": "publibike-sion",
         "location": {
          "city": "Sion",
          "country": "CH",
          "latitude": 46.228227,
          "longitude": 7.358901
         },
         "name": "PubliBike Sion",
         "source": "https://api.publibike.ch/v1/static/api.html"
        }
       ]
      },
      "text/plain": [
       "<IPython.core.display.JSON object>"
      ]
     },
     "execution_count": 3,
     "metadata": {
      "application/json": {
       "expanded": false,
       "root": "root"
      }
     },
     "output_type": "execute_result"
    }
   ],
   "source": [
    "# get network data\n",
    "city_bike_networks = requests.get(\"http://api.citybik.es/v2/networks\").json()\n",
    "\n",
    "# view json in nice format\n",
    "JSON(city_bike_networks)"
   ]
  },
  {
   "cell_type": "code",
   "execution_count": 4,
   "metadata": {},
   "outputs": [
    {
     "data": {
      "application/json": {
       "network": {
        "company": [
         "Motivate International, Inc.",
         "PBSC Urban Solutions",
         "BIXI Montréal"
        ],
        "ebikes": true,
        "gbfs_href": "https://gbfs.velobixi.com/gbfs/gbfs.json",
        "href": "/v2/networks/bixi-montreal",
        "id": "bixi-montreal",
        "location": {
         "city": "Montréal, QC",
         "country": "CA",
         "latitude": 45.508693,
         "longitude": -73.553928
        },
        "name": "Bixi",
        "stations": [
         {
          "empty_slots": 8,
          "extra": {
           "ebikes": 1,
           "has_ebikes": true,
           "last_updated": 1681876680,
           "payment": [
            "creditcard",
            "key"
           ],
           "payment-terminal": true,
           "renting": 1,
           "returning": 1,
           "slots": 11,
           "uid": "693"
          },
          "free_bikes": 3,
          "id": "72bfd647b3d2b650546f42319729757d",
          "latitude": 45.617499783128075,
          "longitude": -73.60601127147675,
          "name": "Cégep Marie-Victorin",
          "timestamp": "2023-04-19T12:28:00.609000Z"
         },
         {
          "empty_slots": 7,
          "extra": {
           "ebikes": 1,
           "has_ebikes": true,
           "last_updated": 1681907092,
           "payment": [
            "creditcard",
            "key"
           ],
           "payment-terminal": true,
           "renting": 1,
           "returning": 1,
           "slots": 15,
           "uid": "740"
          },
          "free_bikes": 8,
          "id": "36c6491aa1b52e5ef7005f984738de27",
          "latitude": 45.516926210319546,
          "longitude": -73.56425732374191,
          "name": "Gare d'autocars de Montréal (Berri / Ontario)",
          "timestamp": "2023-04-19T12:27:59.771000Z"
         },
         {
          "empty_slots": 11,
          "extra": {
           "ebikes": 0,
           "has_ebikes": true,
           "last_updated": 1681906976,
           "payment": [
            "creditcard",
            "key"
           ],
           "payment-terminal": true,
           "renting": 1,
           "returning": 1,
           "slots": 15,
           "uid": "718"
          },
          "free_bikes": 0,
          "id": "30f081e03c42b3e7b3a5c4cd5acc3286",
          "latitude": 45.54154850456526,
          "longitude": -73.56501236557959,
          "name": "Molson / William-Tremblay",
          "timestamp": "2023-04-19T12:27:59.678000Z"
         },
         {
          "empty_slots": 10,
          "extra": {
           "ebikes": 4,
           "has_ebikes": true,
           "last_updated": 1681876527,
           "payment": [
            "creditcard",
            "key"
           ],
           "payment-terminal": true,
           "renting": 1,
           "returning": 1,
           "slots": 19,
           "uid": "760"
          },
          "free_bikes": 9,
          "id": "8db822a266b5ccb3a1e323ddc8721d62",
          "latitude": 45.506175841460966,
          "longitude": -73.71118605136871,
          "name": "Ateliers municipaux de St-Laurent (Cavendish / Poirier)",
          "timestamp": "2023-04-19T12:28:01.198000Z"
         },
         {
          "empty_slots": 17,
          "extra": {
           "ebikes": 0,
           "has_ebikes": true,
           "last_updated": 1681907205,
           "payment": [
            "creditcard",
            "key"
           ],
           "payment-terminal": true,
           "renting": 1,
           "returning": 1,
           "slots": 25,
           "uid": "717"
          },
          "free_bikes": 1,
          "id": "660275cd7d4368cc7590f1606c633bd6",
          "latitude": 45.5129938566323,
          "longitude": -73.68249848484993,
          "name": "Place Rodolphe-Rousseau (Gohier / Édouard-Laurin)",
          "timestamp": "2023-04-19T12:27:59.679000Z"
         },
         {
          "empty_slots": 10,
          "extra": {
           "ebikes": 1,
           "has_ebikes": true,
           "last_updated": 1681907105,
           "payment": [
            "creditcard",
            "key"
           ],
           "payment-terminal": true,
           "renting": 1,
           "returning": 1,
           "slots": 15,
           "uid": "762"
          },
          "free_bikes": 5,
          "id": "fddada5adc997290212b3f540c017274",
          "latitude": 45.51473429416659,
          "longitude": -73.69144901633263,
          "name": "Centre des loisirs (Tassé / Grenet)",
          "timestamp": "2023-04-19T12:28:01.197000Z"
         },
         {
          "empty_slots": 8,
          "extra": {
           "ebikes": 1,
           "has_ebikes": true,
           "last_updated": 1681907007,
           "payment": [
            "creditcard",
            "key"
           ],
           "payment-terminal": true,
           "renting": 1,
           "returning": 1,
           "slots": 15,
           "uid": "716"
          },
          "free_bikes": 7,
          "id": "83d02cd8a043b8305a4031063005d32e",
          "latitude": 45.52234149817879,
          "longitude": -73.72167885303497,
          "name": "Parc Marlborough (Beauzèle / Robichaud)",
          "timestamp": "2023-04-19T12:27:59.684000Z"
         },
         {
          "empty_slots": 8,
          "extra": {
           "ebikes": 0,
           "has_ebikes": true,
           "last_updated": 1681876770,
           "payment": [
            "creditcard",
            "key"
           ],
           "payment-terminal": true,
           "renting": 1,
           "returning": 1,
           "slots": 15,
           "uid": "713"
          },
          "free_bikes": 7,
          "id": "888e6052f1aebab8d8a527776b3499b6",
          "latitude": 45.566869345371856,
          "longitude": -73.64101678133011,
          "name": "Champdoré / de Lorimier",
          "timestamp": "2023-04-19T12:27:59.685000Z"
         },
         {
          "empty_slots": 3,
          "extra": {
           "ebikes": 4,
           "has_ebikes": true,
           "last_updated": 1681907056,
           "payment": [
            "creditcard",
            "key"
           ],
           "payment-terminal": true,
           "renting": 1,
           "returning": 1,
           "slots": 15,
           "uid": "712"
          },
          "free_bikes": 11,
          "id": "3f191c8f95dbf309762b54dbb656522b",
          "latitude": 45.54813638885782,
          "longitude": -73.62434014678001,
          "name": "Parc Villeray (Christophe-Colomb / Jarry)",
          "timestamp": "2023-04-19T12:27:59.686000Z"
         },
         {
          "empty_slots": 12,
          "extra": {
           "ebikes": 2,
           "has_ebikes": true,
           "last_updated": 1681907086,
           "payment": [
            "creditcard",
            "key"
           ],
           "payment-terminal": true,
           "renting": 1,
           "returning": 1,
           "slots": 19,
           "uid": "710"
          },
          "free_bikes": 7,
          "id": "f3e8bbaffc3930bc19681467b42595cf",
          "latitude": 45.44791581215845,
          "longitude": -73.58381867408752,
          "name": "Beurling / Godin",
          "timestamp": "2023-04-19T12:27:59.688000Z"
         },
         {
          "empty_slots": 11,
          "extra": {
           "ebikes": 2,
           "has_ebikes": true,
           "last_updated": 1681907129,
           "payment": [
            "creditcard",
            "key"
           ],
           "payment-terminal": true,
           "renting": 1,
           "returning": 1,
           "slots": 27,
           "uid": "520"
          },
          "free_bikes": 11,
          "id": "1ffa6ec805ef0a7803b86fa6bef5c1af",
          "latitude": 45.51293324107222,
          "longitude": -73.63389015197754,
          "name": "Kirkfield / de Chambois",
          "timestamp": "2023-04-19T12:27:59.714000Z"
         },
         {
          "empty_slots": 22,
          "extra": {
           "ebikes": 0,
           "has_ebikes": true,
           "last_updated": 1681903988,
           "payment": [
            "creditcard",
            "key"
           ],
           "payment-terminal": true,
           "renting": 1,
           "returning": 1,
           "slots": 23,
           "uid": "528"
          },
          "free_bikes": 1,
          "id": "65fcf6251f8e1caef9d4ec19d3c37f64",
          "latitude": 45.42947143740888,
          "longitude": -73.59309915918857,
          "name": "Parc des Rapides (LaSalle / 6e avenue)",
          "timestamp": "2023-04-19T12:27:59.717000Z"
         },
         {
          "empty_slots": 21,
          "extra": {
           "ebikes": 3,
           "has_ebikes": true,
           "last_updated": 1681906971,
           "payment": [
            "creditcard",
            "key"
           ],
           "payment-terminal": true,
           "renting": 1,
           "returning": 1,
           "slots": 35,
           "uid": "448"
          },
          "free_bikes": 7,
          "id": "17a401a4d9de7e987b12cbc5686cadc2",
          "latitude": 45.52331869398737,
          "longitude": -73.52012693881989,
          "name": "Métro Longueuil - Université de Sherbrooke",
          "timestamp": "2023-04-19T12:27:59.718000Z"
         },
         {
          "empty_slots": 9,
          "extra": {
           "ebikes": 0,
           "has_ebikes": true,
           "last_updated": 1681906910,
           "payment": [
            "creditcard",
            "key"
           ],
           "payment-terminal": true,
           "renting": 1,
           "returning": 1,
           "slots": 15,
           "uid": "443"
          },
          "free_bikes": 6,
          "id": "6832a18f263cc93c01c71013a19baa8f",
          "latitude": 45.53368199320325,
          "longitude": -73.51526074111462,
          "name": "St-Charles / Montarville",
          "timestamp": "2023-04-19T12:27:59.719000Z"
         },
         {
          "empty_slots": 9,
          "extra": {
           "ebikes": 3,
           "has_ebikes": true,
           "last_updated": 1681894516,
           "payment": [
            "creditcard",
            "key"
           ],
           "payment-terminal": true,
           "renting": 1,
           "returning": 1,
           "slots": 19,
           "uid": "447"
          },
          "free_bikes": 8,
          "id": "04840a5047543df6a5ff4f78ccc64a04",
          "latitude": 45.53722603812578,
          "longitude": -73.49506705999374,
          "name": "Collège Édouard-Montpetit (de Gentilly / de Normandie)",
          "timestamp": "2023-04-19T12:27:59.722000Z"
         },
         {
          "empty_slots": 2,
          "extra": {
           "ebikes": 5,
           "has_ebikes": true,
           "last_updated": 1681906948,
           "payment": [
            "creditcard",
            "key"
           ],
           "payment-terminal": true,
           "renting": 1,
           "returning": 1,
           "slots": 15,
           "uid": "444"
          },
          "free_bikes": 9,
          "id": "2a20aa1c87cc30a2968fe04fe4e5b0df",
          "latitude": 45.52841043752244,
          "longitude": -73.51716578006744,
          "name": "Place Longueuil",
          "timestamp": "2023-04-19T12:27:59.725000Z"
         },
         {
          "empty_slots": 26,
          "extra": {
           "ebikes": 2,
           "has_ebikes": true,
           "last_updated": 1681906988,
           "payment": [
            "creditcard",
            "key"
           ],
           "payment-terminal": true,
           "renting": 1,
           "returning": 1,
           "slots": 33,
           "uid": "431"
          },
          "free_bikes": 5,
          "id": "734e36f9bfc759c9c5b1b9b44a85966e",
          "latitude": 45.46714,
          "longitude": -73.54259,
          "name": "Place du Commerce",
          "timestamp": "2023-04-19T12:27:59.748000Z"
         },
         {
          "empty_slots": 13,
          "extra": {
           "ebikes": 0,
           "has_ebikes": true,
           "last_updated": 1681907116,
           "payment": [
            "creditcard",
            "key"
           ],
           "payment-terminal": true,
           "renting": 1,
           "returning": 1,
           "slots": 22,
           "uid": "330"
          },
          "free_bikes": 9,
          "id": "65f5707d61306518123222b4680bc282",
          "latitude": 45.55321884238814,
          "longitude": -73.53978216648102,
          "name": "Marché Maisonneuve",
          "timestamp": "2023-04-19T12:27:59.752000Z"
         },
         {
          "empty_slots": 13,
          "extra": {
           "ebikes": 2,
           "has_ebikes": true,
           "last_updated": 1681906924,
           "payment": [
            "creditcard",
            "key"
           ],
           "payment-terminal": true,
           "renting": 1,
           "returning": 1,
           "slots": 23,
           "uid": "557"
          },
          "free_bikes": 8,
          "id": "66bb98a5d35f74c7cc6f5951b7c78e4f",
          "latitude": 45.56493679334249,
          "longitude": -73.5555911064148,
          "name": "Parc Maisonneuve (Viau / Sherbrooke)",
          "timestamp": "2023-04-19T12:27:59.778000Z"
         },
         {
          "empty_slots": 18,
          "extra": {
           "ebikes": 3,
           "has_ebikes": true,
           "last_updated": 1681906215,
           "payment": [
            "creditcard",
            "key"
           ],
           "payment-terminal": true,
           "renting": 1,
           "returning": 1,
           "slots": 27,
           "uid": "236"
          },
          "free_bikes": 7,
          "id": "a7671fb398de9ac6bd6bc552b5323b7a",
          "latitude": 45.5057209331225,
          "longitude": -73.62945914268494,
          "name": "Parc Kent (de Kent / Hudson)",
          "timestamp": "2023-04-19T12:27:59.783000Z"
         },
         {
          "empty_slots": 21,
          "extra": {
           "ebikes": 0,
           "has_ebikes": true,
           "last_updated": 1681906877,
           "payment": [
            "creditcard",
            "key"
           ],
           "payment-terminal": true,
           "renting": 1,
           "returning": 1,
           "slots": 35,
           "uid": "1"
          },
          "free_bikes": 13,
          "id": "b2dd9e0ffd50946d9c569a4684613fb4",
          "latitude": 45.51016276368593,
          "longitude": -73.55663707494385,
          "name": "Métro Champ-de-Mars (Viger / Sanguinet)",
          "timestamp": "2023-04-19T12:27:59.789000Z"
         },
         {
          "empty_slots": 5,
          "extra": {
           "ebikes": 2,
           "has_ebikes": true,
           "last_updated": 1681907192,
           "payment": [
            "creditcard",
            "key"
           ],
           "payment-terminal": true,
           "renting": 1,
           "returning": 1,
           "slots": 29,
           "uid": "144"
          },
          "free_bikes": 24,
          "id": "0e58810dea9e4869279089cb8576642f",
          "latitude": 45.52689,
          "longitude": -73.57264,
          "name": "Rachel / de Brébeuf",
          "timestamp": "2023-04-19T12:27:59.795000Z"
         },
         {
          "empty_slots": 7,
          "extra": {
           "ebikes": 0,
           "has_ebikes": true,
           "last_updated": 1681854064,
           "payment": [
            "creditcard",
            "key"
           ],
           "payment-terminal": true,
           "renting": 1,
           "returning": 1,
           "slots": 15,
           "uid": "613"
          },
          "free_bikes": 7,
          "id": "5f87ab3bfe9c4289033da69a74957d0e",
          "latitude": 45.65140583915357,
          "longitude": -73.50041270256041,
          "name": "Aréna Rodrigue-Gilbert (du Tricentenaire / de Montigny)",
          "timestamp": "2023-04-19T12:27:59.804000Z"
         },
         {
          "empty_slots": 7,
          "extra": {
           "ebikes": 5,
           "has_ebikes": true,
           "last_updated": 1681876697,
           "payment": [
            "creditcard",
            "key"
           ],
           "payment-terminal": true,
           "renting": 1,
           "returning": 1,
           "slots": 19,
           "uid": "768"
          },
          "free_bikes": 12,
          "id": "23f1b244e618444f565f402a81c585d6",
          "latitude": 45.6062348,
          "longitude": -73.6287838,
          "name": "Parc St-Laurent (Salk / Thomas-Chapais)",
          "timestamp": "2023-04-19T12:27:59.815000Z"
         },
         {
          "empty_slots": 13,
          "extra": {
           "ebikes": 1,
           "has_ebikes": true,
           "last_updated": 1681907125,
           "payment": [
            "creditcard",
            "key"
           ],
           "payment-terminal": true,
           "renting": 1,
           "returning": 1,
           "slots": 15,
           "uid": "24"
          },
          "free_bikes": 2,
          "id": "3cc8af25d891cb13e3301e4a612d0383",
          "latitude": 45.50714391928411,
          "longitude": -73.55511903762817,
          "name": "Notre-Dame / St-Gabriel",
          "timestamp": "2023-04-19T12:27:59.844000Z"
         },
         {
          "empty_slots": 3,
          "extra": {
           "ebikes": 5,
           "has_ebikes": true,
           "last_updated": 1681906613,
           "payment": [
            "creditcard",
            "key"
           ],
           "payment-terminal": true,
           "renting": 1,
           "returning": 1,
           "slots": 19,
           "uid": "407"
          },
          "free_bikes": 11,
          "id": "517c47dab7563036263420e5eb1526a6",
          "latitude": 45.5063732,
          "longitude": -73.52457672,
          "name": "Casino de Montréal",
          "timestamp": "2023-04-19T12:27:59.850000Z"
         },
         {
          "empty_slots": 17,
          "extra": {
           "ebikes": 2,
           "has_ebikes": true,
           "last_updated": 1681907261,
           "payment": [
            "creditcard",
            "key"
           ],
           "payment-terminal": true,
           "renting": 1,
           "returning": 1,
           "slots": 23,
           "uid": "409"
          },
          "free_bikes": 4,
          "id": "4c422c0fa82a3c9954a411ba87f52901",
          "latitude": 45.52156536710626,
          "longitude": -73.53533238172531,
          "name": "La Ronde",
          "timestamp": "2023-04-19T12:27:59.859000Z"
         },
         {
          "empty_slots": 18,
          "extra": {
           "ebikes": 4,
           "has_ebikes": true,
           "last_updated": 1681907158,
           "payment": [
            "creditcard",
            "key"
           ],
           "payment-terminal": true,
           "renting": 1,
           "returning": 1,
           "slots": 27,
           "uid": "373"
          },
          "free_bikes": 5,
          "id": "dbe6f3be853e1100918aa06b6418eb86",
          "latitude": 45.45750908083069,
          "longitude": -73.6394852399826,
          "name": "U. Concordia - Campus Loyola (Sherbrooke / West Broadway)",
          "timestamp": "2023-04-19T12:27:59.872000Z"
         },
         {
          "empty_slots": 7,
          "extra": {
           "ebikes": 1,
           "has_ebikes": true,
           "last_updated": 1681907042,
           "payment": [
            "creditcard",
            "key"
           ],
           "payment-terminal": true,
           "renting": 1,
           "returning": 1,
           "slots": 19,
           "uid": "708"
          },
          "free_bikes": 10,
          "id": "d45cc49cea4480b9116b1363dcc5355d",
          "latitude": 45.47256100297732,
          "longitude": -73.56998920440674,
          "name": "Parc Labelle (LaSalle / Henri-Duhamel)",
          "timestamp": "2023-04-19T12:27:59.878000Z"
         },
         {
          "empty_slots": 3,
          "extra": {
           "ebikes": 4,
           "has_ebikes": true,
           "last_updated": 1681907016,
           "payment": [
            "creditcard",
            "key"
           ],
           "payment-terminal": true,
           "renting": 1,
           "returning": 1,
           "slots": 15,
           "uid": "705"
          },
          "free_bikes": 10,
          "id": "bfbe27bd89264f5821d6d0c7f0d2e765",
          "latitude": 45.605901731906485,
          "longitude": -73.53436946868896,
          "name": "des Ormeaux / de Grosbois",
          "timestamp": "2023-04-19T12:27:59.890000Z"
         },
         {
          "empty_slots": 13,
          "extra": {
           "ebikes": 2,
           "has_ebikes": true,
           "last_updated": 1681907160,
           "payment": [
            "creditcard",
            "key"
           ],
           "payment-terminal": true,
           "renting": 1,
           "returning": 1,
           "slots": 15,
           "uid": "707"
          },
          "free_bikes": 2,
          "id": "3dee6dd50b00ebe97be68a34fa0c1590",
          "latitude": 45.43914465255811,
          "longitude": -73.59173655509949,
          "name": "Parc Reine-Élizabeth (Penniston / Crawford)",
          "timestamp": "2023-04-19T12:27:59.892000Z"
         },
         {
          "empty_slots": 7,
          "extra": {
           "ebikes": 2,
           "has_ebikes": true,
           "last_updated": 1681906983,
           "payment": [
            "creditcard",
            "key"
           ],
           "payment-terminal": true,
           "renting": 1,
           "returning": 1,
           "slots": 23,
           "uid": "703"
          },
          "free_bikes": 15,
          "id": "9f8b5a5097e54b755691624a27a320a0",
          "latitude": 45.471881993586074,
          "longitude": -73.64002168178558,
          "name": "Parc de la Confédération (Fielding / West Hill)",
          "timestamp": "2023-04-19T12:27:59.908000Z"
         },
         {
          "empty_slots": 13,
          "extra": {
           "ebikes": 0,
           "has_ebikes": true,
           "last_updated": 1681907045,
           "payment": [
            "creditcard",
            "key"
           ],
           "payment-terminal": true,
           "renting": 1,
           "returning": 1,
           "slots": 15,
           "uid": "797"
          },
          "free_bikes": 0,
          "id": "eeda0f4010f34ca2199f3585a76fef66",
          "latitude": 45.5534000891078,
          "longitude": -73.66225451231003,
          "name": "Bibliothèque d'Ahuntsic (Lajeunesse / Fleury)",
          "timestamp": "2023-04-19T12:27:59.960000Z"
         },
         {
          "empty_slots": 17,
          "extra": {
           "ebikes": 2,
           "has_ebikes": true,
           "last_updated": 1681905824,
           "payment": [
            "creditcard",
            "key"
           ],
           "payment-terminal": true,
           "renting": 1,
           "returning": 1,
           "slots": 23,
           "uid": "511"
          },
          "free_bikes": 4,
          "id": "1f96d87b02f5ddf8831c2d5f2473b0a8",
          "latitude": 45.57414703721992,
          "longitude": -73.57462137937546,
          "name": "Centre ÉPIC (St-Zotique / 40e avenue)",
          "timestamp": "2023-04-19T12:27:59.987000Z"
         },
         {
          "empty_slots": 17,
          "extra": {
           "ebikes": 2,
           "has_ebikes": true,
           "last_updated": 1681900838,
           "payment": [
            "creditcard",
            "key"
           ],
           "payment-terminal": true,
           "renting": 1,
           "returning": 1,
           "slots": 23,
           "uid": "624"
          },
          "free_bikes": 3,
          "id": "9575da078eee4b025a4c319fc2347b0d",
          "latitude": 45.59722114932571,
          "longitude": -73.56279015541077,
          "name": "Bélanger / des Galeries d'Anjou",
          "timestamp": "2023-04-19T12:27:59.998000Z"
         },
         {
          "empty_slots": 19,
          "extra": {
           "ebikes": 5,
           "has_ebikes": true,
           "last_updated": 1681907084,
           "payment": [
            "creditcard",
            "key"
           ],
           "payment-terminal": true,
           "renting": 1,
           "returning": 1,
           "slots": 34,
           "uid": "453"
          },
          "free_bikes": 13,
          "id": "8140fc3c3486abf913b0bd9211926f2b",
          "latitude": 45.55984236120471,
          "longitude": -73.61544728279114,
          "name": "Cité des Arts du Cirque (Paul Boutet / des Regrattiers)",
          "timestamp": "2023-04-19T12:27:59.999000Z"
         },
         {
          "empty_slots": 15,
          "extra": {
           "ebikes": 1,
           "has_ebikes": true,
           "last_updated": 1681906998,
           "payment": [
            "creditcard",
            "key"
           ],
           "payment-terminal": true,
           "renting": 1,
           "returning": 1,
           "slots": 24,
           "uid": "457"
          },
          "free_bikes": 6,
          "id": "4ca484362e90a5ba3932b459d9bc7471",
          "latitude": 45.554946972033726,
          "longitude": -73.55529472231865,
          "name": "Jardin Botanique (Pie-IX / Sherbrooke)",
          "timestamp": "2023-04-19T12:28:00.013000Z"
         },
         {
          "empty_slots": 17,
          "extra": {
           "ebikes": 0,
           "has_ebikes": true,
           "last_updated": 1681904941,
           "payment": [
            "creditcard",
            "key"
           ],
           "payment-terminal": true,
           "renting": 1,
           "returning": 1,
           "slots": 23,
           "uid": "652"
          },
          "free_bikes": 5,
          "id": "1461a02f003268b78a89d6ad0ac551dd",
          "latitude": 45.56833021674857,
          "longitude": -73.56666326522826,
          "name": "Rosemont / Viau",
          "timestamp": "2023-04-19T12:28:00.295000Z"
         },
         {
          "empty_slots": 15,
          "extra": {
           "ebikes": 1,
           "has_ebikes": true,
           "last_updated": 1681876589,
           "payment": [
            "creditcard",
            "key"
           ],
           "payment-terminal": true,
           "renting": 1,
           "returning": 1,
           "slots": 19,
           "uid": "779"
          },
          "free_bikes": 4,
          "id": "cebdd81cd194840f09e6c07f1f7198a4",
          "latitude": 45.43656827071224,
          "longitude": -73.70836973190308,
          "name": "Parc Stoney-Point (St-Joseph / 47e avenue)",
          "timestamp": "2023-04-19T12:28:00.481000Z"
         },
         {
          "empty_slots": 15,
          "extra": {
           "ebikes": 1,
           "has_ebikes": true,
           "last_updated": 1681876514,
           "payment": [
            "creditcard",
            "key"
           ],
           "payment-terminal": true,
           "renting": 1,
           "returning": 1,
           "slots": 19,
           "uid": "778"
          },
          "free_bikes": 4,
          "id": "0217b73736addb107209816f03000a18",
          "latitude": 45.43805550384184,
          "longitude": -73.67273926734924,
          "name": "Parc LaSalle (10e avenue / Victoria)",
          "timestamp": "2023-04-19T12:28:00.481000Z"
         },
         {
          "empty_slots": 10,
          "extra": {
           "ebikes": 3,
           "has_ebikes": true,
           "last_updated": 1681906119,
           "payment": [
            "creditcard",
            "key"
           ],
           "payment-terminal": true,
           "renting": 1,
           "returning": 1,
           "slots": 14,
           "uid": "669"
          },
          "free_bikes": 4,
          "id": "6866c654a6dbffa8186d1495a5ebea63",
          "latitude": 45.45682318753668,
          "longitude": -73.546804189682,
          "name": "Elgar / de l'Île-des-Sœurs",
          "timestamp": "2023-04-19T12:28:00.553000Z"
         },
         {
          "empty_slots": 16,
          "extra": {
           "ebikes": 0,
           "has_ebikes": true,
           "last_updated": 1681903827,
           "payment": [
            "creditcard",
            "key"
           ],
           "payment-terminal": true,
           "renting": 1,
           "returning": 1,
           "slots": 23,
           "uid": "667"
          },
          "free_bikes": 4,
          "id": "ff85c138d884da9a4540f32b12086338",
          "latitude": 45.489185716082275,
          "longitude": -73.57190027832984,
          "name": "St-Jacques / des Seigneurs",
          "timestamp": "2023-04-19T12:28:00.554000Z"
         },
         {
          "empty_slots": 10,
          "extra": {
           "ebikes": 0,
           "has_ebikes": true,
           "last_updated": 1681907171,
           "payment": [
            "creditcard",
            "key"
           ],
           "payment-terminal": true,
           "renting": 1,
           "returning": 1,
           "slots": 23,
           "uid": "662"
          },
          "free_bikes": 12,
          "id": "2203b1d78848ffe20d0ed9d29d7dce2e",
          "latitude": 45.52252484113786,
          "longitude": -73.69143962860107,
          "name": "O'Brien / Poirier",
          "timestamp": "2023-04-19T12:28:00.564000Z"
         },
         {
          "empty_slots": 20,
          "extra": {
           "ebikes": 0,
           "has_ebikes": true,
           "last_updated": 1681860403,
           "payment": [
            "creditcard",
            "key"
           ],
           "payment-terminal": true,
           "renting": 1,
           "returning": 1,
           "slots": 27,
           "uid": "660"
          },
          "free_bikes": 6,
          "id": "f6b224af771e55d8ded0206097c994c0",
          "latitude": 45.50897852206792,
          "longitude": -73.69856357574463,
          "name": "Thimens / Alexis-Nihon",
          "timestamp": "2023-04-19T12:28:00.581000Z"
         },
         {
          "empty_slots": 15,
          "extra": {
           "ebikes": 0,
           "has_ebikes": true,
           "last_updated": 1681907068,
           "payment": [
            "creditcard",
            "key"
           ],
           "payment-terminal": true,
           "renting": 1,
           "returning": 1,
           "slots": 23,
           "uid": "769"
          },
          "free_bikes": 8,
          "id": "4ba6d2380cf60f68cac3b2558a60c0d8",
          "latitude": 45.50403766981151,
          "longitude": -73.70444297790526,
          "name": "Bibliothèque du Boisé (Thimens / Todd)",
          "timestamp": "2023-04-19T12:28:00.588000Z"
         },
         {
          "empty_slots": 9,
          "extra": {
           "ebikes": 0,
           "has_ebikes": true,
           "last_updated": 1681907128,
           "payment": [
            "creditcard",
            "key"
           ],
           "payment-terminal": true,
           "renting": 1,
           "returning": 1,
           "slots": 15,
           "uid": "696"
          },
          "free_bikes": 6,
          "id": "ce9dbfc9842d2eff631cf5898df68683",
          "latitude": 45.490494421832885,
          "longitude": -73.63852232694626,
          "name": "Parc Van Horne (de la Peltrie / de Westbury)",
          "timestamp": "2023-04-19T12:28:00.617000Z"
         },
         {
          "empty_slots": 1,
          "extra": {
           "ebikes": 2,
           "has_ebikes": true,
           "last_updated": 1681907237,
           "payment": [
            "creditcard",
            "key"
           ],
           "payment-terminal": true,
           "renting": 1,
           "returning": 1,
           "slots": 13,
           "uid": "694"
          },
          "free_bikes": 12,
          "id": "389a103b106275a594cb7caafbf34e27",
          "latitude": 45.531943590076395,
          "longitude": -73.71360540390015,
          "name": "Hôpital Sacré-Coeur (Forbes)",
          "timestamp": "2023-04-19T12:28:00.621000Z"
         },
         {
          "empty_slots": 19,
          "extra": {
           "ebikes": 0,
           "has_ebikes": true,
           "last_updated": 1681907162,
           "payment": [
            "creditcard",
            "key"
           ],
           "payment-terminal": true,
           "renting": 1,
           "returning": 1,
           "slots": 25,
           "uid": "548"
          },
          "free_bikes": 5,
          "id": "567cbde732fdd0fb13d545dd1b5e963c",
          "latitude": 45.480495143306044,
          "longitude": -73.57782661914825,
          "name": "Atwater / Greene",
          "timestamp": "2023-04-19T12:28:00.680000Z"
         },
         {
          "empty_slots": 9,
          "extra": {
           "ebikes": 0,
           "has_ebikes": true,
           "last_updated": 1681906199,
           "payment": [
            "creditcard",
            "key"
           ],
           "payment-terminal": true,
           "renting": 1,
           "returning": 1,
           "slots": 23,
           "uid": "126"
          },
          "free_bikes": 13,
          "id": "4249917b3ff262f4cd831f8ea34cf74e",
          "latitude": 45.4912258547597,
          "longitude": -73.58763009309769,
          "name": "Atwater / Sherbrooke",
          "timestamp": "2023-04-19T12:28:00.701000Z"
         },
         {
          "empty_slots": 16,
          "extra": {
           "ebikes": 0,
           "has_ebikes": true,
           "last_updated": 1681876784,
           "payment": [
            "creditcard",
            "key"
           ],
           "payment-terminal": true,
           "renting": 1,
           "returning": 1,
           "slots": 21,
           "uid": "776"
          },
          "free_bikes": 5,
          "id": "3557bec6e2c20690d2c912e713edad35",
          "latitude": 45.59398503487043,
          "longitude": -73.63767206668854,
          "name": "Mairie d'arrondissement Montréal-Nord (Hébert / de Charleroi)",
          "timestamp": "2023-04-19T12:28:00.724000Z"
         },
         {
          "empty_slots": 18,
          "extra": {
           "ebikes": 0,
           "has_ebikes": true,
           "last_updated": 1681906701,
           "payment": [
            "creditcard",
            "key"
           ],
           "payment-terminal": true,
           "renting": 1,
           "returning": 1,
           "slots": 18,
           "uid": "385"
          },
          "free_bikes": 0,
          "id": "e287c24d95d9f0e3767d167d83ecebcd",
          "latitude": 45.5457759528664,
          "longitude": -73.56217458844185,
          "name": "Omer-Lavallée / du Midway",
          "timestamp": "2023-04-19T12:28:00.915000Z"
         },
         {
          "empty_slots": 13,
          "extra": {
           "ebikes": 0,
           "has_ebikes": true,
           "last_updated": 1681876629,
           "payment": [
            "creditcard",
            "key"
           ],
           "payment-terminal": true,
           "renting": 1,
           "returning": 1,
           "slots": 19,
           "uid": "785"
          },
          "free_bikes": 6,
          "id": "4cb50bc7e3ed79928cef296e135b1e84",
          "latitude": 45.51758306374252,
          "longitude": -73.72661411762238,
          "name": "Parc Noel-Nord (Toupin / Keller)",
          "timestamp": "2023-04-19T12:28:00.921000Z"
         },
         {
          "empty_slots": 12,
          "extra": {
           "ebikes": 0,
           "has_ebikes": true,
           "last_updated": 1681876491,
           "payment": [
            "creditcard",
            "key"
           ],
           "payment-terminal": true,
           "renting": 1,
           "returning": 1,
           "slots": 19,
           "uid": "786"
          },
          "free_bikes": 7,
          "id": "a44871a432bc65d33bfb1ed04dab02ca",
          "latitude": 45.51317758246596,
          "longitude": -73.71306091547012,
          "name": "Parc du Bois-Franc (de l'Équateur / des Andes)",
          "timestamp": "2023-04-19T12:28:00.922000Z"
         },
         {
          "empty_slots": 7,
          "extra": {
           "ebikes": 4,
           "has_ebikes": true,
           "last_updated": 1681876678,
           "payment": [
            "creditcard",
            "key"
           ],
           "payment-terminal": true,
           "renting": 1,
           "returning": 1,
           "slots": 15,
           "uid": "787"
          },
          "free_bikes": 8,
          "id": "7b71605bd83572e8804e860f434f1055",
          "latitude": 45.43982382100397,
          "longitude": -73.69487822055817,
          "name": "Parc Grovehill (St-Antoine / Ivan-Franko)",
          "timestamp": "2023-04-19T12:28:00.923000Z"
         },
         {
          "empty_slots": 6,
          "extra": {
           "ebikes": 2,
           "has_ebikes": true,
           "last_updated": 1681876595,
           "payment": [
            "creditcard",
            "key"
           ],
           "payment-terminal": true,
           "renting": 1,
           "returning": 1,
           "slots": 11,
           "uid": "781"
          },
          "free_bikes": 4,
          "id": "10a32e00bc65e9fb33eef10d6e3e75e9",
          "latitude": 45.6027276,
          "longitude": -73.5579303,
          "name": "Bibliothèque Jean-Corbeil (Goncourt / Place Montrichard)",
          "timestamp": "2023-04-19T12:28:00.924000Z"
         },
         {
          "empty_slots": 12,
          "extra": {
           "ebikes": 0,
           "has_ebikes": true,
           "last_updated": 1681907145,
           "payment": [
            "creditcard",
            "key"
           ],
           "payment-terminal": true,
           "renting": 1,
           "returning": 1,
           "slots": 19,
           "uid": "782"
          },
          "free_bikes": 0,
          "id": "79817ddade43d27901df8f29feaebc39",
          "latitude": 45.610926628992026,
          "longitude": -73.54673445224762,
          "name": "Aréna Chaumont (Chaumont / des Ormeaux)",
          "timestamp": "2023-04-19T12:28:00.929000Z"
         },
         {
          "empty_slots": 12,
          "extra": {
           "ebikes": 1,
           "has_ebikes": true,
           "last_updated": 1681907224,
           "payment": [
            "creditcard",
            "key"
           ],
           "payment-terminal": true,
           "renting": 1,
           "returning": 1,
           "slots": 19,
           "uid": "783"
          },
          "free_bikes": 7,
          "id": "a75f61cc35fc749366c8e6ef816fb8a0",
          "latitude": 45.502989,
          "longitude": -73.689113,
          "name": "Parc Chamberland (Dorais / de l'Église)",
          "timestamp": "2023-04-19T12:28:00.930000Z"
         },
         {
          "empty_slots": 7,
          "extra": {
           "ebikes": 1,
           "has_ebikes": true,
           "last_updated": 1681790367,
           "payment": [
            "creditcard",
            "key"
           ],
           "payment-terminal": true,
           "renting": 1,
           "returning": 1,
           "slots": 15,
           "uid": "788"
          },
          "free_bikes": 7,
          "id": "abd3530a2acf6d587950005b613d40cb",
          "latitude": 45.43836713933041,
          "longitude": -73.71546685695648,
          "name": "Parc Summerlea (53e avenue / St-Joseph)",
          "timestamp": "2023-04-19T12:28:00.930000Z"
         },
         {
          "empty_slots": 5,
          "extra": {
           "ebikes": 0,
           "has_ebikes": true,
           "last_updated": 1681907210,
           "payment": [
            "creditcard",
            "key"
           ],
           "payment-terminal": true,
           "renting": 1,
           "returning": 1,
           "slots": 15,
           "uid": "789"
          },
          "free_bikes": 9,
          "id": "b77888871c6837a551022c5c739042ac",
          "latitude": 45.44606092178209,
          "longitude": -73.65079946815968,
          "name": "Parc Kirkland (des Érables / Boyer)",
          "timestamp": "2023-04-19T12:28:00.931000Z"
         },
         {
          "empty_slots": 10,
          "extra": {
           "ebikes": 0,
           "has_ebikes": true,
           "last_updated": 1681906136,
           "payment": [
            "creditcard",
            "key"
           ],
           "payment-terminal": true,
           "renting": 1,
           "returning": 1,
           "slots": 21,
           "uid": "575"
          },
          "free_bikes": 10,
          "id": "5782e71fd4ba8263a67de59b093dc320",
          "latitude": 45.49716534003792,
          "longitude": -73.55933010578154,
          "name": "William / Robert-Bourassa",
          "timestamp": "2023-04-19T12:28:00.951000Z"
         },
         {
          "empty_slots": 11,
          "extra": {
           "ebikes": 0,
           "has_ebikes": true,
           "last_updated": 1681906951,
           "payment": [
            "creditcard",
            "key"
           ],
           "payment-terminal": true,
           "renting": 1,
           "returning": 1,
           "slots": 19,
           "uid": "64"
          },
          "free_bikes": 6,
          "id": "d8bf2d80c73cf09dbfd6b7f76d063424",
          "latitude": 45.51366626207095,
          "longitude": -73.53842496871948,
          "name": "Quai de la navette fluviale",
          "timestamp": "2023-04-19T12:28:00.985000Z"
         },
         {
          "empty_slots": 14,
          "extra": {
           "ebikes": 0,
           "has_ebikes": true,
           "last_updated": 1681907162,
           "payment": [
            "creditcard",
            "key"
           ],
           "payment-terminal": true,
           "renting": 1,
           "returning": 1,
           "slots": 19,
           "uid": "733"
          },
          "free_bikes": 2,
          "id": "3755aa41dfb2645a68edfb70314c37aa",
          "latitude": 45.49537171535007,
          "longitude": -73.56858909130096,
          "name": "St-Antoine / de la Montagne",
          "timestamp": "2023-04-19T12:28:01.012000Z"
         },
         {
          "empty_slots": 6,
          "extra": {
           "ebikes": 1,
           "has_ebikes": true,
           "last_updated": 1681876745,
           "payment": [
            "creditcard",
            "key"
           ],
           "payment-terminal": true,
           "renting": 1,
           "returning": 1,
           "slots": 15,
           "uid": "732"
          },
          "free_bikes": 5,
          "id": "d0fc3a82ee0af511ffda9618f1263b84",
          "latitude": 45.43854405099729,
          "longitude": -73.62021625041962,
          "name": "Lapierre / Serge",
          "timestamp": "2023-04-19T12:28:01.021000Z"
         },
         {
          "empty_slots": 11,
          "extra": {
           "ebikes": 0,
           "has_ebikes": true,
           "last_updated": 1681851883,
           "payment": [
            "creditcard",
            "key"
           ],
           "payment-terminal": true,
           "renting": 1,
           "returning": 1,
           "slots": 27,
           "uid": "632"
          },
          "free_bikes": 14,
          "id": "efd89dd6cc7db7e7ea67a4ccb75372a1",
          "latitude": 45.432839840726125,
          "longitude": -73.69349151849747,
          "name": "Parc St-Louis (St-Joseph / 34e avenue)",
          "timestamp": "2023-04-19T12:28:01.065000Z"
         },
         {
          "empty_slots": 5,
          "extra": {
           "ebikes": 0,
           "has_ebikes": true,
           "last_updated": 1681858956,
           "payment": [
            "creditcard",
            "key"
           ],
           "payment-terminal": true,
           "renting": 1,
           "returning": 1,
           "slots": 15,
           "uid": "633"
          },
          "free_bikes": 10,
          "id": "4e1cd6aa776d6e4078886c39f454b29f",
          "latitude": 45.43579350588776,
          "longitude": -73.6801904439926,
          "name": "Victoria / 18e avenue Lachine",
          "timestamp": "2023-04-19T12:28:01.066000Z"
         },
         {
          "empty_slots": 11,
          "extra": {
           "ebikes": 1,
           "has_ebikes": true,
           "last_updated": 1681899901,
           "payment": [
            "creditcard",
            "key"
           ],
           "payment-terminal": true,
           "renting": 1,
           "returning": 1,
           "slots": 23,
           "uid": "468"
          },
          "free_bikes": 7,
          "id": "b8f7511a3ee32662a6ba22c8755de67b",
          "latitude": 45.4157471675921,
          "longitude": -73.63751649856567,
          "name": "LaSalle / 80e avenue",
          "timestamp": "2023-04-19T12:28:01.070000Z"
         },
         {
          "empty_slots": 18,
          "extra": {
           "ebikes": 3,
           "has_ebikes": true,
           "last_updated": 1681863900,
           "payment": [
            "creditcard",
            "key"
           ],
           "payment-terminal": true,
           "renting": 1,
           "returning": 1,
           "slots": 23,
           "uid": "637"
          },
          "free_bikes": 3,
          "id": "c4254aa4deff8ae33aab572958ee2f00",
          "latitude": 45.41631023854958,
          "longitude": -73.61291594803333,
          "name": "LaSalle / 37e avenue",
          "timestamp": "2023-04-19T12:28:01.081000Z"
         },
         {
          "empty_slots": 12,
          "extra": {
           "ebikes": 0,
           "has_ebikes": true,
           "last_updated": 1681905789,
           "payment": [
            "creditcard",
            "key"
           ],
           "payment-terminal": true,
           "renting": 1,
           "returning": 1,
           "slots": 19,
           "uid": "461"
          },
          "free_bikes": 7,
          "id": "d9fdeeb4d94f016bff5cd776466d6a30",
          "latitude": 45.45608545783109,
          "longitude": -73.58193710446358,
          "name": "Métro Jolicoeur (de Sève / Drake)",
          "timestamp": "2023-04-19T12:28:01.087000Z"
         },
         {
          "empty_slots": 19,
          "extra": {
           "ebikes": 1,
           "has_ebikes": true,
           "last_updated": 1681906678,
           "payment": [
            "creditcard",
            "key"
           ],
           "payment-terminal": true,
           "renting": 1,
           "returning": 1,
           "slots": 27,
           "uid": "646"
          },
          "free_bikes": 6,
          "id": "ab865ab695ca69089498736e6bac9a16",
          "latitude": 45.60962627826218,
          "longitude": -73.52273898082785,
          "name": "Duchesneau / de Marseille",
          "timestamp": "2023-04-19T12:28:01.119000Z"
         },
         {
          "empty_slots": 6,
          "extra": {
           "ebikes": 1,
           "has_ebikes": true,
           "last_updated": 1681906984,
           "payment": [
            "creditcard",
            "key"
           ],
           "payment-terminal": true,
           "renting": 1,
           "returning": 1,
           "slots": 15,
           "uid": "800"
          },
          "free_bikes": 9,
          "id": "36062f17a7454e3f40f96283ff611cf5",
          "latitude": 45.520019102391636,
          "longitude": -73.61890733242035,
          "name": "CCI Outremont (Dollard / Durcharme)",
          "timestamp": "2023-04-19T12:28:01.132000Z"
         },
         {
          "empty_slots": 27,
          "extra": {
           "ebikes": 2,
           "has_ebikes": true,
           "last_updated": 1681895622,
           "payment": [
            "creditcard",
            "key"
           ],
           "payment-terminal": true,
           "renting": 1,
           "returning": 1,
           "slots": 35,
           "uid": "675"
          },
          "free_bikes": 7,
          "id": "a0166a9345b73dbd0b09f883e665a8f8",
          "latitude": 45.55988367688166,
          "longitude": -73.63356828689575,
          "name": "Papineau / Émile-Journault",
          "timestamp": "2023-04-19T12:28:01.244000Z"
         },
         {
          "empty_slots": 7,
          "extra": {
           "ebikes": 0,
           "has_ebikes": true,
           "last_updated": 1681904543,
           "payment": [
            "creditcard",
            "key"
           ],
           "payment-terminal": true,
           "renting": 1,
           "returning": 1,
           "slots": 27,
           "uid": "670"
          },
          "free_bikes": 20,
          "id": "c91d47b7a498fe1a3016800f0678f419",
          "latitude": 45.44693448484644,
          "longitude": -73.57219934463501,
          "name": "LaSalle / Godin",
          "timestamp": "2023-04-19T12:28:01.245000Z"
         },
         {
          "empty_slots": 16,
          "extra": {
           "ebikes": 0,
           "has_ebikes": true,
           "last_updated": 1681876700,
           "payment": [
            "creditcard",
            "key"
           ],
           "payment-terminal": true,
           "renting": 1,
           "returning": 1,
           "slots": 19,
           "uid": "775"
          },
          "free_bikes": 3,
          "id": "ab65f5f1207275299c5d897fa65e1347",
          "latitude": 45.5904902,
          "longitude": -73.5902694,
          "name": "Parc Delorme (Malouin / Laferté)",
          "timestamp": "2023-04-19T12:28:01.481000Z"
         },
         {
          "empty_slots": 1,
          "extra": {
           "ebikes": 5,
           "has_ebikes": true,
           "last_updated": 1681907106,
           "payment": [
            "creditcard",
            "key"
           ],
           "payment-terminal": true,
           "renting": 1,
           "returning": 1,
           "slots": 15,
           "uid": "777"
          },
          "free_bikes": 14,
          "id": "f95ae94bbf8d2dd56d009f8bbf21044a",
          "latitude": 45.57940569041942,
          "longitude": -73.60258877277374,
          "name": "Parc Luigi-Pirandello (de Bretagne / Jean-Rivard)",
          "timestamp": "2023-04-19T12:28:01.487000Z"
         },
         {
          "empty_slots": 7,
          "extra": {
           "ebikes": 6,
           "has_ebikes": true,
           "last_updated": 1681907226,
           "payment": [
            "creditcard",
            "key"
           ],
           "payment-terminal": true,
           "renting": 1,
           "returning": 1,
           "slots": 15,
           "uid": "771"
          },
          "free_bikes": 8,
          "id": "b43e650c8729a68e3a7858fbfbe57cbf",
          "latitude": 45.5200557245067,
          "longitude": -73.67795147001743,
          "name": "Parc Beaulac (rue Élizabeth)",
          "timestamp": "2023-04-19T12:28:01.507000Z"
         },
         {
          "empty_slots": 13,
          "extra": {
           "ebikes": 1,
           "has_ebikes": true,
           "last_updated": 1681907123,
           "payment": [
            "creditcard",
            "key"
           ],
           "payment-terminal": true,
           "renting": 1,
           "returning": 1,
           "slots": 19,
           "uid": "770"
          },
          "free_bikes": 6,
          "id": "5b9ad55443ed6b09dfdee5336b56b41b",
          "latitude": 45.52591381815231,
          "longitude": -73.68911147117615,
          "name": "Parc St-Laurent (Dutrisac)",
          "timestamp": "2023-04-19T12:28:01.515000Z"
         },
         {
          "empty_slots": 14,
          "extra": {
           "ebikes": 1,
           "has_ebikes": true,
           "last_updated": 1681907119,
           "payment": [
            "creditcard",
            "key"
           ],
           "payment-terminal": true,
           "renting": 1,
           "returning": 1,
           "slots": 15,
           "uid": "772"
          },
          "free_bikes": 1,
          "id": "bfc27d829d7ce8c0f9e55b1cab901cbb",
          "latitude": 45.5616903,
          "longitude": -73.610512,
          "name": "CHSLD St-Michel (8e avenue / Jarry)",
          "timestamp": "2023-04-19T12:28:01.523000Z"
         },
         {
          "empty_slots": 9,
          "extra": {
           "ebikes": 0,
           "has_ebikes": true,
           "last_updated": 1681907254,
           "payment": [
            "creditcard",
            "key"
           ],
           "payment-terminal": true,
           "renting": 1,
           "returning": 1,
           "slots": 19,
           "uid": "303"
          },
          "free_bikes": 7,
          "id": "cf8b3b1e14a33a9204cbf9e889a7b613",
          "latitude": 45.485047979822774,
          "longitude": -73.5719633102417,
          "name": "Georges-Vanier / Notre-Dame",
          "timestamp": "2023-04-19T12:28:01.578000Z"
         },
         {
          "empty_slots": 8,
          "extra": {
           "ebikes": 3,
           "has_ebikes": true,
           "last_updated": 1681907224,
           "payment": [
            "creditcard",
            "key"
           ],
           "payment-terminal": true,
           "renting": 1,
           "returning": 1,
           "slots": 15,
           "uid": "754"
          },
          "free_bikes": 7,
          "id": "ab80e2f4c922bcac89121cb2d46a0ee4",
          "latitude": 45.44527192876118,
          "longitude": -73.62448364496231,
          "name": "Travaux publics LaSalle (Cordner / Léger)",
          "timestamp": "2023-04-19T12:28:01.676000Z"
         },
         {
          "empty_slots": 31,
          "extra": {
           "ebikes": 0,
           "has_ebikes": true,
           "last_updated": 1681907244,
           "payment": [
            "creditcard",
            "key"
           ],
           "payment-terminal": true,
           "renting": 1,
           "returning": 1,
           "slots": 35,
           "uid": "562"
          },
          "free_bikes": 0,
          "id": "ac023980748426fdbb7ea233b5043dc6",
          "latitude": 45.501863463435576,
          "longitude": -73.5439610481262,
          "name": "Parc de Dieppe",
          "timestamp": "2023-04-19T12:28:01.691000Z"
         },
         {
          "empty_slots": 15,
          "extra": {
           "ebikes": 0,
           "has_ebikes": true,
           "last_updated": 1681907174,
           "payment": [
            "creditcard",
            "key"
           ],
           "payment-terminal": true,
           "renting": 1,
           "returning": 1,
           "slots": 19,
           "uid": "720"
          },
          "free_bikes": 3,
          "id": "a2da7f5b772dab9f756348a7f21c1984",
          "latitude": 45.425059666150744,
          "longitude": -73.64959917962551,
          "name": "Terminus Newman (Airlie / Lafleur)",
          "timestamp": "2023-04-19T12:28:01.777000Z"
         },
         {
          "empty_slots": 14,
          "extra": {
           "ebikes": 0,
           "has_ebikes": true,
           "last_updated": 1681876688,
           "payment": [
            "creditcard",
            "key"
           ],
           "payment-terminal": true,
           "renting": 1,
           "returning": 1,
           "slots": 15,
           "uid": "721"
          },
          "free_bikes": 1,
          "id": "354aed0dea1ad39805c4b2cdd6d2e9ec",
          "latitude": 45.43745998781385,
          "longitude": -73.69353175163269,
          "name": "Parc Ivan-Franko (33e avenue / Victoria)",
          "timestamp": "2023-04-19T12:28:01.819000Z"
         },
         {
          "empty_slots": 20,
          "extra": {
           "ebikes": 0,
           "has_ebikes": true,
           "last_updated": 1681808338,
           "payment": [
            "creditcard",
            "key"
           ],
           "payment-terminal": true,
           "renting": 1,
           "returning": 1,
           "slots": 27,
           "uid": "638"
          },
          "free_bikes": 7,
          "id": "b8a4edfa2cba7f5520400707a123ec74",
          "latitude": 45.42612352042827,
          "longitude": -73.65741580724716,
          "name": "Parc Highlands (Highlands / LaSalle)",
          "timestamp": "2023-04-19T12:28:01.911000Z"
         },
         {
          "empty_slots": 15,
          "extra": {
           "ebikes": 1,
           "has_ebikes": true,
           "last_updated": 1681857446,
           "payment": [
            "creditcard",
            "key"
           ],
           "payment-terminal": true,
           "renting": 1,
           "returning": 1,
           "slots": 19,
           "uid": "639"
          },
          "free_bikes": 4,
          "id": "4e0a2eec48ee705304b2799cff6fc240",
          "latitude": 45.44404309237571,
          "longitude": -73.61375212669373,
          "name": "Newman / Senkus",
          "timestamp": "2023-04-19T12:28:01.917000Z"
         },
         {
          "empty_slots": 19,
          "extra": {
           "ebikes": 5,
           "has_ebikes": true,
           "last_updated": 1681907005,
           "payment": [
            "creditcard",
            "key"
           ],
           "payment-terminal": true,
           "renting": 1,
           "returning": 1,
           "slots": 33,
           "uid": "58"
          },
          "free_bikes": 11,
          "id": "fc4597100fabd406f272f69eba793b4a",
          "latitude": 45.507837541505836,
          "longitude": -73.56313616037369,
          "name": "St-Urbain / René-Lévesque",
          "timestamp": "2023-04-19T12:28:01.353000Z"
         },
         {
          "empty_slots": 14,
          "extra": {
           "ebikes": 0,
           "has_ebikes": true,
           "last_updated": 1681906595,
           "payment": [
            "creditcard",
            "key"
           ],
           "payment-terminal": true,
           "renting": 1,
           "returning": 1,
           "slots": 21,
           "uid": "106"
          },
          "free_bikes": 7,
          "id": "8ae106c7b71f9c4a8f753c79cbe1603f",
          "latitude": 45.50538591756765,
          "longitude": -73.5704317688942,
          "name": "de Maisonneuve / Aylmer (est)",
          "timestamp": "2023-04-19T12:27:59.730000Z"
         },
         {
          "empty_slots": 16,
          "extra": {
           "ebikes": 0,
           "has_ebikes": true,
           "last_updated": 1681907218,
           "payment": [
            "creditcard",
            "key"
           ],
           "payment-terminal": true,
           "renting": 1,
           "returning": 1,
           "slots": 19,
           "uid": "641"
          },
          "free_bikes": 3,
          "id": "7214c61eb7f8d875d6db8db935ad16ea",
          "latitude": 45.49276061084002,
          "longitude": -73.55641052126883,
          "name": "Smith / Peel",
          "timestamp": "2023-04-19T12:27:59.739000Z"
         },
         {
          "empty_slots": 64,
          "extra": {
           "ebikes": 0,
           "has_ebikes": true,
           "last_updated": 1681906703,
           "payment": [
            "creditcard",
            "key"
           ],
           "payment-terminal": true,
           "renting": 1,
           "returning": 1,
           "slots": 70,
           "uid": "51"
          },
          "free_bikes": 4,
          "id": "918f32736e8c298b4c7a5a58f6e46da5",
          "latitude": 45.49750375338383,
          "longitude": -73.55284452438353,
          "name": "de la Commune / King",
          "timestamp": "2023-04-19T12:28:01.376000Z"
         },
         {
          "empty_slots": 57,
          "extra": {
           "ebikes": 1,
           "has_ebikes": true,
           "last_updated": 1681906941,
           "payment": [
            "creditcard",
            "key"
           ],
           "payment-terminal": true,
           "renting": 1,
           "returning": 1,
           "slots": 81,
           "uid": "25"
          },
          "free_bikes": 16,
          "id": "0a3aa715457ea0c777ddd396228eafd1",
          "latitude": 45.50761009451047,
          "longitude": -73.55183601379395,
          "name": "de la Commune / Place Jacques-Cartier",
          "timestamp": "2023-04-19T12:27:59.844000Z"
         },
         {
          "empty_slots": 37,
          "extra": {
           "ebikes": 0,
           "has_ebikes": true,
           "last_updated": 1681906497,
           "payment": [
            "creditcard",
            "key"
           ],
           "payment-terminal": true,
           "renting": 1,
           "returning": 1,
           "slots": 43,
           "uid": "35"
          },
          "free_bikes": 5,
          "id": "d5193bc68b01855a79fd8c694ef2e2f9",
          "latitude": 45.50424245563397,
          "longitude": -73.553469479084,
          "name": "de la Commune / St-Sulpice",
          "timestamp": "2023-04-19T12:27:59.738000Z"
         },
         {
          "empty_slots": 19,
          "extra": {
           "ebikes": 7,
           "has_ebikes": true,
           "last_updated": 1681907195,
           "payment": [
            "creditcard",
            "key"
           ],
           "payment-terminal": true,
           "renting": 1,
           "returning": 1,
           "slots": 30,
           "uid": "623"
          },
          "free_bikes": 11,
          "id": "1ff33fd73e2add3c30fcd821850dccd3",
          "latitude": 45.53830765459552,
          "longitude": -73.6548838019371,
          "name": "Chabanel / du Parc",
          "timestamp": "2023-04-19T12:27:59.824000Z"
         },
         {
          "empty_slots": 7,
          "extra": {
           "ebikes": 0,
           "has_ebikes": true,
           "last_updated": 1681907248,
           "payment": [
            "creditcard",
            "key"
           ],
           "payment-terminal": true,
           "renting": 1,
           "returning": 1,
           "slots": 15,
           "uid": "563"
          },
          "free_bikes": 6,
          "id": "31c3024050ee6f3e44c85eceae251db1",
          "latitude": 45.48972725318433,
          "longitude": -73.56406286358833,
          "name": "Ottawa / William",
          "timestamp": "2023-04-19T12:28:01.695000Z"
         },
         {
          "empty_slots": 47,
          "extra": {
           "ebikes": 1,
           "has_ebikes": true,
           "last_updated": 1681907047,
           "payment": [
            "creditcard",
            "key"
           ],
           "payment-terminal": true,
           "renting": 1,
           "returning": 1,
           "slots": 51,
           "uid": "22"
          },
          "free_bikes": 2,
          "id": "3f155bd80f721e2f372821f3a7b08512",
          "latitude": 45.51086,
          "longitude": -73.54983,
          "name": "de la Commune / Berri",
          "timestamp": "2023-04-19T12:27:59.847000Z"
         },
         {
          "empty_slots": 9,
          "extra": {
           "ebikes": 2,
           "has_ebikes": true,
           "last_updated": 1681904538,
           "payment": [
            "creditcard",
            "key"
           ],
           "payment-terminal": true,
           "renting": 1,
           "returning": 1,
           "slots": 23,
           "uid": "433"
          },
          "free_bikes": 14,
          "id": "c3e33911cfd4f366ea6d4284fd5eb057",
          "latitude": 45.45998577640931,
          "longitude": -73.54395568370819,
          "name": "Berlioz / de l'Île des Soeurs",
          "timestamp": "2023-04-19T12:27:59.746000Z"
         },
         {
          "empty_slots": 10,
          "extra": {
           "ebikes": 3,
           "has_ebikes": true,
           "last_updated": 1681904764,
           "payment": [
            "creditcard",
            "key"
           ],
           "payment-terminal": true,
           "renting": 1,
           "returning": 1,
           "slots": 23,
           "uid": "104"
          },
          "free_bikes": 13,
          "id": "517a5c37755499a8e454d67bcf6b1834",
          "latitude": 45.46693565237702,
          "longitude": -73.63153114914894,
          "name": "Parc Benny (Benny / de Monkland)",
          "timestamp": "2023-04-19T12:27:59.731000Z"
         },
         {
          "empty_slots": 5,
          "extra": {
           "ebikes": 5,
           "has_ebikes": true,
           "last_updated": 1681906893,
           "payment": [
            "creditcard",
            "key"
           ],
           "payment-terminal": true,
           "renting": 1,
           "returning": 1,
           "slots": 19,
           "uid": "559"
          },
          "free_bikes": 14,
          "id": "508a89286045d9bc7e8188522a328f63",
          "latitude": 45.502386079583346,
          "longitude": -73.57333794236183,
          "name": "de Maisonneuve / Mansfield (nord)",
          "timestamp": "2023-04-19T12:27:59.774000Z"
         },
         {
          "empty_slots": 24,
          "extra": {
           "ebikes": 0,
           "has_ebikes": true,
           "last_updated": 1681907257,
           "payment": [
            "creditcard",
            "key"
           ],
           "payment-terminal": true,
           "renting": 1,
           "returning": 1,
           "slots": 30,
           "uid": "719"
          },
          "free_bikes": 6,
          "id": "352adb5a53498de53161649383b7d10f",
          "latitude": 45.43605512104547,
          "longitude": -73.60577523708344,
          "name": "Cégep André-Laurendeau (Lapierre)",
          "timestamp": "2023-04-19T12:27:59.677000Z"
         },
         {
          "empty_slots": 10,
          "extra": {
           "ebikes": 2,
           "has_ebikes": true,
           "last_updated": 1681907255,
           "payment": [
            "creditcard",
            "key"
           ],
           "payment-terminal": true,
           "renting": 1,
           "returning": 1,
           "slots": 16,
           "uid": "490"
          },
          "free_bikes": 5,
          "id": "41f8b2e49339317de23ae563e66fe4a6",
          "latitude": 45.55675103297278,
          "longitude": -73.66716161370277,
          "name": "Métro Henri-Bourassa (Henri-Bourassa / Millen)",
          "timestamp": "2023-04-19T12:27:59.840000Z"
         },
         {
          "empty_slots": 14,
          "extra": {
           "ebikes": 0,
           "has_ebikes": true,
           "last_updated": 1681703891,
           "payment": [
            "creditcard",
            "key"
           ],
           "payment-terminal": true,
           "renting": 1,
           "returning": 1,
           "slots": 19,
           "uid": "745"
          },
          "free_bikes": 5,
          "id": "27c3a4c2a383dbf1d00a15f12f424b09",
          "latitude": 45.44338026469991,
          "longitude": -73.71789157390594,
          "name": "Dixie / 54e avenue",
          "timestamp": "2023-04-19T12:27:59.756000Z"
         },
         {
          "empty_slots": 5,
          "extra": {
           "ebikes": 0,
           "has_ebikes": true,
           "last_updated": 1681876718,
           "payment": [
            "creditcard",
            "key"
           ],
           "payment-terminal": true,
           "renting": 1,
           "returning": 1,
           "slots": 15,
           "uid": "803"
          },
          "free_bikes": 9,
          "id": "da5f7ede0484d9eb36444471bdba6827",
          "latitude": 45.41774583815495,
          "longitude": -73.64518761634827,
          "name": "LaSalle / 90e avenue",
          "timestamp": "2023-04-19T12:28:01.128000Z"
         },
         {
          "empty_slots": 19,
          "extra": {
           "ebikes": 0,
           "has_ebikes": true,
           "last_updated": 1681876769,
           "payment": [
            "creditcard",
            "key"
           ],
           "payment-terminal": true,
           "renting": 1,
           "returning": 1,
           "slots": 19,
           "uid": "796"
          },
          "free_bikes": 0,
          "id": "87bf1cff2cd651ba546aa04cfd5885c7",
          "latitude": 45.5604898518365,
          "longitude": -73.7091851234436,
          "name": "Métro de la Concorde (Léo-Lacombe)",
          "timestamp": "2023-04-19T12:27:59.961000Z"
         },
         {
          "empty_slots": 22,
          "extra": {
           "ebikes": 0,
           "has_ebikes": true,
           "last_updated": 1681905305,
           "payment": [
            "creditcard",
            "key"
           ],
           "payment-terminal": true,
           "renting": 1,
           "returning": 1,
           "slots": 30,
           "uid": "143"
          },
          "free_bikes": 7,
          "id": "2501128835e132f929d56798aa789839",
          "latitude": 45.527831544563064,
          "longitude": -73.5719096660614,
          "name": "Calixa-Lavallée / Rachel",
          "timestamp": "2023-04-19T12:27:59.796000Z"
         },
         {
          "empty_slots": 15,
          "extra": {
           "ebikes": 0,
           "has_ebikes": true,
           "last_updated": 1681907226,
           "payment": [
            "creditcard",
            "key"
           ],
           "payment-terminal": true,
           "renting": 1,
           "returning": 1,
           "slots": 15,
           "uid": "793"
          },
          "free_bikes": 0,
          "id": "815c7df219d6937348c91d460fd1ff44",
          "latitude": 45.59833498124187,
          "longitude": -73.54596734046936,
          "name": "Parc du Mail (Bois de Coulonges / du Mail)",
          "timestamp": "2023-04-19T12:27:59.964000Z"
         },
         {
          "empty_slots": 13,
          "extra": {
           "ebikes": 5,
           "has_ebikes": true,
           "last_updated": 1681907136,
           "payment": [
            "creditcard",
            "key"
           ],
           "payment-terminal": true,
           "renting": 1,
           "returning": 1,
           "slots": 26,
           "uid": "794"
          },
          "free_bikes": 11,
          "id": "00c210cb99cf9d1b923c1548938aee56",
          "latitude": 45.53519006163501,
          "longitude": -73.61548215150833,
          "name": "Marché Jean-Talon (Casgrain / Shamrock)",
          "timestamp": "2023-04-19T12:27:59.963000Z"
         },
         {
          "empty_slots": 21,
          "extra": {
           "ebikes": 0,
           "has_ebikes": true,
           "last_updated": 1681907133,
           "payment": [
            "creditcard",
            "key"
           ],
           "payment-terminal": true,
           "renting": 1,
           "returning": 1,
           "slots": 25,
           "uid": "807"
          },
          "free_bikes": 1,
          "id": "d91563f1329dacd26318b07d7242afdf",
          "latitude": 45.497722829899764,
          "longitude": -73.61925333738327,
          "name": "HEC (Decelles / Jean-Brillant)",
          "timestamp": "2023-04-19T12:28:01.133000Z"
         },
         {
          "empty_slots": 9,
          "extra": {
           "ebikes": 3,
           "has_ebikes": true,
           "last_updated": 1681907072,
           "payment": [
            "creditcard",
            "key"
           ],
           "payment-terminal": true,
           "renting": 1,
           "returning": 1,
           "slots": 18,
           "uid": "801"
          },
          "free_bikes": 6,
          "id": "f9bb106633ce38eeec6728faed3155ad",
          "latitude": 45.53330725719417,
          "longitude": -73.62082242965698,
          "name": "Fabrik8 (Waverly / Jean-Talon)",
          "timestamp": "2023-04-19T12:28:01.131000Z"
         },
         {
          "empty_slots": 6,
          "extra": {
           "ebikes": 1,
           "has_ebikes": true,
           "last_updated": 1681907047,
           "payment": [
            "creditcard",
            "key"
           ],
           "payment-terminal": true,
           "renting": 1,
           "returning": 1,
           "slots": 19,
           "uid": "816"
          },
          "free_bikes": 6,
          "id": "bab144d31daa205b40397f6c7b46930a",
          "latitude": 45.5839877335556,
          "longitude": -73.60809333622456,
          "name": "Parc Courbertin (Valéry / Perrier)",
          "timestamp": "2023-04-19T12:27:59.672000Z"
         },
         {
          "empty_slots": 5,
          "extra": {
           "ebikes": 7,
           "has_ebikes": true,
           "last_updated": 1681907206,
           "payment": [
            "creditcard",
            "key"
           ],
           "payment-terminal": true,
           "renting": 1,
           "returning": 1,
           "slots": 15,
           "uid": "815"
          },
          "free_bikes": 9,
          "id": "b8d3de5b902c4b274f7fffee62009ef9",
          "latitude": 45.57237805962001,
          "longitude": -73.59370462596415,
          "name": "Parc Hébert (Colbert / Provencher)",
          "timestamp": "2023-04-19T12:27:59.771000Z"
         },
         {
          "empty_slots": 4,
          "extra": {
           "ebikes": 4,
           "has_ebikes": true,
           "last_updated": 1681907198,
           "payment": [
            "creditcard",
            "key"
           ],
           "payment-terminal": true,
           "renting": 1,
           "returning": 1,
           "slots": 15,
           "uid": "817"
          },
          "free_bikes": 11,
          "id": "a1ded48e42e6fb03da399602be3aab17",
          "latitude": 45.586476480180046,
          "longitude": -73.570396900177,
          "name": "Parc Garibaldi (Liénart / Bélanger)",
          "timestamp": "2023-04-19T12:27:59.673000Z"
         },
         {
          "empty_slots": 7,
          "extra": {
           "ebikes": 0,
           "has_ebikes": true,
           "last_updated": 1681906984,
           "payment": [
            "creditcard",
            "key"
           ],
           "payment-terminal": true,
           "renting": 1,
           "returning": 1,
           "slots": 17,
           "uid": "820"
          },
          "free_bikes": 10,
          "id": "cabbcb2310a23cb9394df1d78a9b0fc2",
          "latitude": 45.60835820969716,
          "longitude": -73.63850623369217,
          "name": "Parc Aimé-Léonard (Gouin / Ste-Gertrude)",
          "timestamp": "2023-04-19T12:28:01.644000Z"
         },
         {
          "empty_slots": 14,
          "extra": {
           "ebikes": 0,
           "has_ebikes": true,
           "last_updated": 1681907210,
           "payment": [
            "creditcard",
            "key"
           ],
           "payment-terminal": true,
           "renting": 1,
           "returning": 1,
           "slots": 15,
           "uid": "819"
          },
          "free_bikes": 0,
          "id": "33a2455e6803dd9aa77a4090dfae83f8",
          "latitude": 45.59953472156509,
          "longitude": -73.62360253930092,
          "name": "Parc Charleroi (Alfred / Louis-Francoeur)",
          "timestamp": "2023-04-19T12:27:59.761000Z"
         },
         {
          "empty_slots": 15,
          "extra": {
           "ebikes": 0,
           "has_ebikes": true,
           "last_updated": 1681876523,
           "payment": [
            "creditcard",
            "key"
           ],
           "payment-terminal": true,
           "renting": 1,
           "returning": 1,
           "slots": 15,
           "uid": "821"
          },
          "free_bikes": 0,
          "id": "8b16cd408c6adee5f72d6e5d91bc2b9d",
          "latitude": 45.5877138098252,
          "longitude": -73.63171823322773,
          "name": "Parc Maurice-Bélanger (Hébert / Denommée)",
          "timestamp": "2023-04-19T12:28:01.633000Z"
         },
         {
          "empty_slots": 7,
          "extra": {
           "ebikes": 2,
           "has_ebikes": true,
           "last_updated": 1681906996,
           "payment": [
            "creditcard",
            "key"
           ],
           "payment-terminal": true,
           "renting": 1,
           "returning": 1,
           "slots": 15,
           "uid": "825"
          },
          "free_bikes": 8,
          "id": "53a067639d877bfe105996a58bc1aa3a",
          "latitude": 45.583197821913785,
          "longitude": -73.62978704273701,
          "name": "Gare St-Michel / Montréal-Nord (Pie-IX / 56e)",
          "timestamp": "2023-04-19T12:28:01.593000Z"
         },
         {
          "empty_slots": 6,
          "extra": {
           "ebikes": 2,
           "has_ebikes": true,
           "last_updated": 1681907242,
           "payment": [
            "creditcard",
            "key"
           ],
           "payment-terminal": true,
           "renting": 1,
           "returning": 1,
           "slots": 15,
           "uid": "823"
          },
          "free_bikes": 7,
          "id": "12d398be5955fed8787b107d04ba8cab",
          "latitude": 45.51401222645779,
          "longitude": -73.56598667800426,
          "name": "CÉGEP du Vieux-Montréal (Ontario / de l'Hôtel-de-Ville)",
          "timestamp": "2023-04-19T12:28:01.650000Z"
         },
         {
          "empty_slots": 12,
          "extra": {
           "ebikes": 5,
           "has_ebikes": true,
           "last_updated": 1681906606,
           "payment": [
            "creditcard",
            "key"
           ],
           "payment-terminal": true,
           "renting": 1,
           "returning": 1,
           "slots": 33,
           "uid": "220"
          },
          "free_bikes": 20,
          "id": "a32e2261fca6732a8f47eec9fef69017",
          "latitude": 45.51689731423111,
          "longitude": -73.58910799026489,
          "name": "Parc Jeanne-Mance (du Mont-Royal / du Parc)",
          "timestamp": "2023-04-19T12:28:01.741000Z"
         },
         {
          "empty_slots": 28,
          "extra": {
           "ebikes": 0,
           "has_ebikes": true,
           "last_updated": 1681906639,
           "payment": [
            "creditcard",
            "key"
           ],
           "payment-terminal": true,
           "renting": 1,
           "returning": 1,
           "slots": 34,
           "uid": "478"
          },
          "free_bikes": 5,
          "id": "a67e0396bba583f00ecd34b107216da0",
          "latitude": 45.472051276471305,
          "longitude": -73.5827162861824,
          "name": "Léa-Roback / Sir-Georges-Etienne-Cartier",
          "timestamp": "2023-04-19T12:28:01.983000Z"
         },
         {
          "empty_slots": 6,
          "extra": {
           "ebikes": 1,
           "has_ebikes": true,
           "last_updated": 1681907067,
           "payment": [
            "creditcard",
            "key"
           ],
           "payment-terminal": true,
           "renting": 1,
           "returning": 1,
           "slots": 18,
           "uid": "827"
          },
          "free_bikes": 11,
          "id": "26141dc97cf91e1003a500841cc56b6c",
          "latitude": 45.59253950875074,
          "longitude": -73.64874824881554,
          "name": "Parc Eusèbe-Ménard (Gouin / St-Vital)",
          "timestamp": "2023-04-19T12:28:01.600000Z"
         },
         {
          "empty_slots": 8,
          "extra": {
           "ebikes": 1,
           "has_ebikes": true,
           "last_updated": 1681907004,
           "payment": [
            "creditcard",
            "key"
           ],
           "payment-terminal": true,
           "renting": 1,
           "returning": 1,
           "slots": 19,
           "uid": "822"
          },
          "free_bikes": 10,
          "id": "f332a5c6e3f7fc73096885d6efc0f829",
          "latitude": 45.51586835126322,
          "longitude": -73.56008380651474,
          "name": "St-Hubert / de Maisonneuve (sud)",
          "timestamp": "2023-04-19T12:28:01.652000Z"
         },
         {
          "empty_slots": 12,
          "extra": {
           "ebikes": 1,
           "has_ebikes": true,
           "last_updated": 1681906988,
           "payment": [
            "creditcard",
            "key"
           ],
           "payment-terminal": true,
           "renting": 1,
           "returning": 1,
           "slots": 18,
           "uid": "828"
          },
          "free_bikes": 6,
          "id": "0243c740e1d4fe272e0c414cdd900c7d",
          "latitude": 45.55969734528566,
          "longitude": -73.60145956277847,
          "name": "CHSLD Joseph-François-Perrault (St-Michel / Everett)",
          "timestamp": "2023-04-19T12:27:59.869000Z"
         },
         {
          "empty_slots": 18,
          "extra": {
           "ebikes": 0,
           "has_ebikes": true,
           "last_updated": 1681876724,
           "payment": [
            "creditcard",
            "key"
           ],
           "payment-terminal": true,
           "renting": 1,
           "returning": 1,
           "slots": 27,
           "uid": "829"
          },
          "free_bikes": 9,
          "id": "19f1df34d9b117ae604c95591cf3e129",
          "latitude": 45.50682415585665,
          "longitude": -73.68184804916382,
          "name": "Mairie d'arrondissement St-Laurent (Beaudet / Marcel-Laurin)",
          "timestamp": "2023-04-19T12:27:59.868000Z"
         },
         {
          "empty_slots": 5,
          "extra": {
           "ebikes": 1,
           "has_ebikes": true,
           "last_updated": 1681891779,
           "payment": [
            "creditcard",
            "key"
           ],
           "payment-terminal": true,
           "renting": 1,
           "returning": 1,
           "slots": 19,
           "uid": "98"
          },
          "free_bikes": 10,
          "id": "89d162743cad054bd805a6ecb643b13a",
          "latitude": 45.50265866521738,
          "longitude": -73.52753520011902,
          "name": "Parc Plage",
          "timestamp": "2023-04-19T12:27:59.764000Z"
         },
         {
          "empty_slots": 11,
          "extra": {
           "ebikes": 1,
           "has_ebikes": true,
           "last_updated": 1681907124,
           "payment": [
            "creditcard",
            "key"
           ],
           "payment-terminal": true,
           "renting": 1,
           "returning": 1,
           "slots": 15,
           "uid": "831"
          },
          "free_bikes": 3,
          "id": "efe7c56e36749af8000e9ef4ee4fc883",
          "latitude": 45.52374047147138,
          "longitude": -73.67169924080372,
          "name": "Gare Montpellier (Muir / de la Côte-Vertu)",
          "timestamp": "2023-04-19T12:28:00.390000Z"
         },
         {
          "empty_slots": 19,
          "extra": {
           "ebikes": 0,
           "has_ebikes": true,
           "last_updated": 1681012748,
           "payment": [
            "creditcard",
            "key"
           ],
           "payment-terminal": true,
           "renting": 1,
           "returning": 1,
           "slots": 19,
           "uid": "833"
          },
          "free_bikes": 0,
          "id": "9ee74f8bb62f38529fa85da832fdfed4",
          "latitude": 45.52814371649508,
          "longitude": -73.69254536926746,
          "name": "Gare du Ruisseau (Dutrisac / Henri-Bourassa)",
          "timestamp": "2023-04-19T12:28:00.763000Z"
         },
         {
          "empty_slots": 15,
          "extra": {
           "ebikes": 2,
           "has_ebikes": true,
           "last_updated": 1681907220,
           "payment": [
            "creditcard",
            "key"
           ],
           "payment-terminal": true,
           "renting": 1,
           "returning": 1,
           "slots": 18,
           "uid": "832"
          },
          "free_bikes": 3,
          "id": "88de0ba474d1d950ec32feacb9c50d61",
          "latitude": 45.512843286755896,
          "longitude": -73.67612421512604,
          "name": "Bibliothèque du Vieux-St-Laurent (de l'Église / Filiatrault)",
          "timestamp": "2023-04-19T12:28:00.763000Z"
         },
         {
          "empty_slots": 3,
          "extra": {
           "ebikes": 3,
           "has_ebikes": true,
           "last_updated": 1681907222,
           "payment": [
            "creditcard",
            "key"
           ],
           "payment-terminal": true,
           "renting": 1,
           "returning": 1,
           "slots": 15,
           "uid": "838"
          },
          "free_bikes": 9,
          "id": "5628b95a789420240f43c4f870c685de",
          "latitude": 45.557568,
          "longitude": -73.579191,
          "name": "CHSLD Robert Cliche (de Bellechasse / 16e avenue)",
          "timestamp": "2023-04-19T12:28:00.772000Z"
         },
         {
          "empty_slots": 8,
          "extra": {
           "ebikes": 1,
           "has_ebikes": true,
           "last_updated": 1681907040,
           "payment": [
            "creditcard",
            "key"
           ],
           "payment-terminal": true,
           "renting": 1,
           "returning": 1,
           "slots": 15,
           "uid": "837"
          },
          "free_bikes": 5,
          "id": "d5689456bbada11a02e0a17b675f2544",
          "latitude": 45.58116,
          "longitude": -73.6412434,
          "name": "Parc Ottawa (de Belleville / Fleury)",
          "timestamp": "2023-04-19T12:28:00.770000Z"
         },
         {
          "empty_slots": 8,
          "extra": {
           "ebikes": 3,
           "has_ebikes": true,
           "last_updated": 1681907021,
           "payment": [
            "creditcard",
            "key"
           ],
           "payment-terminal": true,
           "renting": 1,
           "returning": 1,
           "slots": 18,
           "uid": "835"
          },
          "free_bikes": 10,
          "id": "278e51e3bb2d95cf556a62edff8f95ec",
          "latitude": 45.55463653358596,
          "longitude": -73.61255215771962,
          "name": "Parc Nicolas-Tillemont (des Érables / Villeray)",
          "timestamp": "2023-04-19T12:28:00.771000Z"
         },
         {
          "empty_slots": 21,
          "extra": {
           "ebikes": 2,
           "has_ebikes": true,
           "last_updated": 1681907119,
           "payment": [
            "creditcard",
            "key"
           ],
           "payment-terminal": true,
           "renting": 1,
           "returning": 1,
           "slots": 55,
           "uid": "329"
          },
          "free_bikes": 32,
          "id": "b8e7cf74fce968d63f0aa677debeb6bd",
          "latitude": 45.563084167155345,
          "longitude": -73.5481941328544,
          "name": "Métro Viau (Viau / Pierre-de-Coubertin)",
          "timestamp": "2023-04-19T12:28:00.413000Z"
         },
         {
          "empty_slots": 11,
          "extra": {
           "ebikes": 2,
           "has_ebikes": true,
           "last_updated": 1681906997,
           "payment": [
            "creditcard",
            "key"
           ],
           "payment-terminal": true,
           "renting": 1,
           "returning": 1,
           "slots": 15,
           "uid": "841"
          },
          "free_bikes": 4,
          "id": "05b2ac429b1d77afa9c0d51ebaf1e9cf",
          "latitude": 45.6391233,
          "longitude": -73.5961118,
          "name": "Parc Armand-Bombardier (Perras / Armand-Bombardier)",
          "timestamp": "2023-04-19T12:28:01.628000Z"
         },
         {
          "empty_slots": 19,
          "extra": {
           "ebikes": 4,
           "has_ebikes": true,
           "last_updated": 1681907087,
           "payment": [
            "creditcard",
            "key"
           ],
           "payment-terminal": true,
           "renting": 1,
           "returning": 1,
           "slots": 26,
           "uid": "840"
          },
          "free_bikes": 6,
          "id": "700cf042fd8763ec6c702d94d5b6689b",
          "latitude": 45.55774990838239,
          "longitude": -73.58380123972893,
          "name": "Collège de Rosemont (Beaubien / 15e avenue)",
          "timestamp": "2023-04-19T12:28:01.630000Z"
         },
         {
          "empty_slots": 29,
          "extra": {
           "ebikes": 4,
           "has_ebikes": true,
           "last_updated": 1681907226,
           "payment": [
            "creditcard",
            "key"
           ],
           "payment-terminal": true,
           "renting": 1,
           "returning": 1,
           "slots": 46,
           "uid": "608"
          },
          "free_bikes": 15,
          "id": "4dfba1c78f4c98769c58749cb8f10472",
          "latitude": 45.50277615861811,
          "longitude": -73.57589408755302,
          "name": "McTavish / Sherbrooke",
          "timestamp": "2023-04-19T12:28:01.864000Z"
         },
         {
          "empty_slots": 16,
          "extra": {
           "ebikes": 3,
           "has_ebikes": true,
           "last_updated": 1681906707,
           "payment": [
            "creditcard",
            "key"
           ],
           "payment-terminal": true,
           "renting": 1,
           "returning": 1,
           "slots": 21,
           "uid": "462"
          },
          "free_bikes": 5,
          "id": "93d7ed07d72db7e1ece88eb8b79a5ca6",
          "latitude": 45.507096455662456,
          "longitude": -73.56844156980515,
          "name": "de Bleury / de Maisonneuve",
          "timestamp": "2023-04-19T12:28:01.101000Z"
         },
         {
          "empty_slots": 31,
          "extra": {
           "ebikes": 1,
           "has_ebikes": true,
           "last_updated": 1681907083,
           "payment": [
            "creditcard",
            "key"
           ],
           "payment-terminal": true,
           "renting": 1,
           "returning": 1,
           "slots": 37,
           "uid": "68"
          },
          "free_bikes": 6,
          "id": "014e10dba2d92bd20c826b88864dc6b6",
          "latitude": 45.505173440423306,
          "longitude": -73.5706517100334,
          "name": "de Maisonneuve / Aylmer (ouest)",
          "timestamp": "2023-04-19T12:28:00.987000Z"
         },
         {
          "empty_slots": 8,
          "extra": {
           "ebikes": 0,
           "has_ebikes": true,
           "last_updated": 1681907008,
           "payment": [
            "creditcard",
            "key"
           ],
           "payment-terminal": true,
           "renting": 1,
           "returning": 1,
           "slots": 19,
           "uid": "848"
          },
          "free_bikes": 11,
          "id": "82cc3be4d76f16ca475536a6e07461c5",
          "latitude": 45.54365380040509,
          "longitude": -73.55942063033581,
          "name": "Préfontaine / Marcel-Pépin",
          "timestamp": "2023-04-19T12:27:59.763000Z"
         },
         {
          "empty_slots": 25,
          "extra": {
           "ebikes": 1,
           "has_ebikes": true,
           "last_updated": 1681907264,
           "payment": [
            "creditcard",
            "key"
           ],
           "payment-terminal": true,
           "renting": 1,
           "returning": 1,
           "slots": 35,
           "uid": "83"
          },
          "free_bikes": 7,
          "id": "aa392581e19d48cf19a168a0dfa88f4b",
          "latitude": 45.48952522221574,
          "longitude": -73.5844581949641,
          "name": "Métro Atwater (Atwater / Ste-Catherine)",
          "timestamp": "2023-04-19T12:27:59.951000Z"
         },
         {
          "empty_slots": 7,
          "extra": {
           "ebikes": 3,
           "has_ebikes": true,
           "last_updated": 1681907142,
           "payment": [
            "creditcard",
            "key"
           ],
           "payment-terminal": true,
           "renting": 1,
           "returning": 1,
           "slots": 23,
           "uid": "830"
          },
          "free_bikes": 15,
          "id": "6854cb59f24f653adfba864ecd063aa2",
          "latitude": 45.566883091095185,
          "longitude": -73.53943817317486,
          "name": "Hochelaga / de l'Assomption",
          "timestamp": "2023-04-19T12:28:00.764000Z"
         },
         {
          "empty_slots": 11,
          "extra": {
           "ebikes": 4,
           "has_ebikes": true,
           "last_updated": 1681907173,
           "payment": [
            "creditcard",
            "key"
           ],
           "payment-terminal": true,
           "renting": 1,
           "returning": 1,
           "slots": 19,
           "uid": "784"
          },
          "free_bikes": 5,
          "id": "85ae63e650e620f403ad900a2f1659ac",
          "latitude": 45.5169025120042,
          "longitude": -73.52724552154541,
          "name": "Bassin olympique (Chemin du Chenal le Moyne)",
          "timestamp": "2023-04-19T12:28:00.921000Z"
         },
         {
          "empty_slots": 7,
          "extra": {
           "ebikes": 5,
           "has_ebikes": true,
           "last_updated": 1681907037,
           "payment": [
            "creditcard",
            "key"
           ],
           "payment-terminal": true,
           "renting": 1,
           "returning": 1,
           "slots": 19,
           "uid": "773"
          },
          "free_bikes": 12,
          "id": "ee6ad7e94cd47718c9f03d9248357f5c",
          "latitude": 45.5864002,
          "longitude": -73.5952181,
          "name": "Parc Wilfrid-Bastien (Lacordaire / des Galets)",
          "timestamp": "2023-04-19T12:28:01.519000Z"
         },
         {
          "empty_slots": 6,
          "extra": {
           "ebikes": 1,
           "has_ebikes": true,
           "last_updated": 1681906981,
           "payment": [
            "creditcard",
            "key"
           ],
           "payment-terminal": true,
           "renting": 1,
           "returning": 1,
           "slots": 11,
           "uid": "850"
          },
          "free_bikes": 5,
          "id": "0f8246e77098962beaa5e48211a7cff8",
          "latitude": 45.54710313981358,
          "longitude": -73.54892447590828,
          "name": "de Chambly / de Rouen",
          "timestamp": "2023-04-19T12:27:59.758000Z"
         },
         {
          "empty_slots": 15,
          "extra": {
           "ebikes": 0,
           "has_ebikes": true,
           "last_updated": 1679370906,
           "payment": [
            "creditcard",
            "key"
           ],
           "payment-terminal": true,
           "renting": 1,
           "returning": 1,
           "slots": 15,
           "uid": "836"
          },
          "free_bikes": 0,
          "id": "91a138f95bde5c11382cfd13a0592bb2",
          "latitude": 45.51601387670667,
          "longitude": -73.56291957199574,
          "name": "BAnQ (Berri)",
          "timestamp": "2023-04-19T12:28:00.769000Z"
         },
         {
          "empty_slots": 9,
          "extra": {
           "ebikes": 3,
           "has_ebikes": true,
           "last_updated": 1681907129,
           "payment": [
            "creditcard",
            "key"
           ],
           "payment-terminal": true,
           "renting": 1,
           "returning": 1,
           "slots": 19,
           "uid": "852"
          },
          "free_bikes": 9,
          "id": "e71036c3bdeb0765305e4bb03bf53127",
          "latitude": 45.63131269772338,
          "longitude": -73.61631497740746,
          "name": "Parc Ernest-Rouleau (Gouin)",
          "timestamp": "2023-04-19T12:27:59.760000Z"
         },
         {
          "empty_slots": 17,
          "extra": {
           "ebikes": 5,
           "has_ebikes": true,
           "last_updated": 1681907031,
           "payment": [
            "creditcard",
            "key"
           ],
           "payment-terminal": true,
           "renting": 1,
           "returning": 1,
           "slots": 26,
           "uid": "851"
          },
          "free_bikes": 5,
          "id": "03b603c4b20174089f79116554c9c199",
          "latitude": 45.49624140543275,
          "longitude": -73.62983867526054,
          "name": "Hôpital Général Juif (de la Côte-Ste-Catherine / Légaré)",
          "timestamp": "2023-04-19T12:27:59.759000Z"
         },
         {
          "empty_slots": 25,
          "extra": {
           "ebikes": 3,
           "has_ebikes": true,
           "last_updated": 1681907240,
           "payment": [
            "creditcard",
            "key"
           ],
           "payment-terminal": true,
           "renting": 1,
           "returning": 1,
           "slots": 37,
           "uid": "756"
          },
          "free_bikes": 7,
          "id": "13644fc87d5bae7c6738fba71a62d02c",
          "latitude": 45.50398168549117,
          "longitude": -73.62283945083618,
          "name": "CHU Ste-Justine (de la Côte Ste-Catherine / Hudson)",
          "timestamp": "2023-04-19T12:28:00.394000Z"
         },
         {
          "empty_slots": 14,
          "extra": {
           "ebikes": 3,
           "has_ebikes": true,
           "last_updated": 1681907087,
           "payment": [
            "creditcard",
            "key"
           ],
           "payment-terminal": true,
           "renting": 1,
           "returning": 1,
           "slots": 27,
           "uid": "855"
          },
          "free_bikes": 13,
          "id": "27064168fabfe462923c7d8fe7021aa6",
          "latitude": 45.59275253568305,
          "longitude": -73.51035632193089,
          "name": "Parc Honoré-Mercier (Notre-Dame / Liébert)",
          "timestamp": "2023-04-19T12:28:01.568000Z"
         },
         {
          "empty_slots": 4,
          "extra": {
           "ebikes": 4,
           "has_ebikes": true,
           "last_updated": 1681907184,
           "payment": [
            "creditcard",
            "key"
           ],
           "payment-terminal": true,
           "renting": 1,
           "returning": 1,
           "slots": 15,
           "uid": "849"
          },
          "free_bikes": 10,
          "id": "44adc0060274b501029d4c79042c349c",
          "latitude": 45.52355020292929,
          "longitude": -73.7138856947422,
          "name": "Keller / Cousineau",
          "timestamp": "2023-04-19T12:28:01.637000Z"
         },
         {
          "empty_slots": 16,
          "extra": {
           "ebikes": 2,
           "has_ebikes": true,
           "last_updated": 1681876756,
           "payment": [
            "creditcard",
            "key"
           ],
           "payment-terminal": true,
           "renting": 1,
           "returning": 1,
           "slots": 19,
           "uid": "799"
          },
          "free_bikes": 3,
          "id": "5e4cc24a6bea5e106ac0ca40faaa7e69",
          "latitude": 45.59566584124368,
          "longitude": -73.5596626996994,
          "name": "Parc d'Antioche (Place d'Antioche / St-Zotique)",
          "timestamp": "2023-04-19T12:27:59.967000Z"
         },
         {
          "empty_slots": 14,
          "extra": {
           "ebikes": 0,
           "has_ebikes": true,
           "last_updated": 1681876664,
           "payment": [
            "creditcard",
            "key"
           ],
           "payment-terminal": true,
           "renting": 1,
           "returning": 1,
           "slots": 15,
           "uid": "862"
          },
          "free_bikes": 1,
          "id": "94ad6ee5b193f8c17b3fdfaa82b5edb0",
          "latitude": 45.447821314280105,
          "longitude": -73.71091783046722,
          "name": "Gare Lachine (Sir George Simpson / 48e avenue)",
          "timestamp": "2023-04-19T12:28:00.381000Z"
         },
         {
          "empty_slots": 6,
          "extra": {
           "ebikes": 5,
           "has_ebikes": true,
           "last_updated": 1681907170,
           "payment": [
            "creditcard",
            "key"
           ],
           "payment-terminal": true,
           "renting": 1,
           "returning": 1,
           "slots": 21,
           "uid": "692"
          },
          "free_bikes": 13,
          "id": "c8aba35f90d2eeada8a20ea7915c943a",
          "latitude": 45.529668174024685,
          "longitude": -73.60166944563389,
          "name": "de Gaspé / Marmier",
          "timestamp": "2023-04-19T12:28:00.597000Z"
         },
         {
          "empty_slots": 13,
          "extra": {
           "ebikes": 1,
           "has_ebikes": true,
           "last_updated": 1681907207,
           "payment": [
            "creditcard",
            "key"
           ],
           "payment-terminal": true,
           "renting": 1,
           "returning": 1,
           "slots": 15,
           "uid": "860"
          },
          "free_bikes": 2,
          "id": "d396617f8d34e1100febd7cd446e790a",
          "latitude": 45.51871924623225,
          "longitude": -73.69875401258469,
          "name": "Grenet / Poirier",
          "timestamp": "2023-04-19T12:28:00.932000Z"
         },
         {
          "empty_slots": 15,
          "extra": {
           "ebikes": 2,
           "has_ebikes": true,
           "last_updated": 1681907127,
           "payment": [
            "creditcard",
            "key"
           ],
           "payment-terminal": true,
           "renting": 1,
           "returning": 1,
           "slots": 27,
           "uid": "826"
          },
          "free_bikes": 11,
          "id": "fccc47cfce1447df0ad26a52c8702dd6",
          "latitude": 45.58661042838809,
          "longitude": -73.52969169616699,
          "name": "IUSMM (Georges-Villeneuve)",
          "timestamp": "2023-04-19T12:28:01.618000Z"
         },
         {
          "empty_slots": 10,
          "extra": {
           "ebikes": 4,
           "has_ebikes": true,
           "last_updated": 1681876600,
           "payment": [
            "creditcard",
            "key"
           ],
           "payment-terminal": true,
           "renting": 1,
           "returning": 1,
           "slots": 15,
           "uid": "854"
          },
          "free_bikes": 5,
          "id": "8326ad85524fa7fa9e741b0cc595d098",
          "latitude": 45.51431824920811,
          "longitude": -73.70799824595451,
          "name": "Square Nelligan (des Appalaches / Alexis-Nihon)",
          "timestamp": "2023-04-19T12:27:59.757000Z"
         },
         {
          "empty_slots": 4,
          "extra": {
           "ebikes": 5,
           "has_ebikes": true,
           "last_updated": 1681907097,
           "payment": [
            "creditcard",
            "key"
           ],
           "payment-terminal": true,
           "renting": 1,
           "returning": 1,
           "slots": 15,
           "uid": "706"
          },
          "free_bikes": 10,
          "id": "99225e1b15b81b48a3eab08fd447ecca",
          "latitude": 45.48274245886277,
          "longitude": -73.63497912883759,
          "name": "Parc MacDonald (Clanranald / Isabella)",
          "timestamp": "2023-04-19T12:27:59.891000Z"
         },
         {
          "empty_slots": 12,
          "extra": {
           "ebikes": 4,
           "has_ebikes": true,
           "last_updated": 1681907018,
           "payment": [
            "creditcard",
            "key"
           ],
           "payment-terminal": true,
           "renting": 1,
           "returning": 1,
           "slots": 25,
           "uid": "798"
          },
          "free_bikes": 11,
          "id": "0d4d6ab1ff41bf892ecbb0e09a8e2f40",
          "latitude": 45.55970526805903,
          "longitude": -73.55155438184738,
          "name": "La Tour de Montréal (Pierre-de-Coubertin / Bennett)",
          "timestamp": "2023-04-19T12:27:59.968000Z"
         },
         {
          "empty_slots": 9,
          "extra": {
           "ebikes": 0,
           "has_ebikes": true,
           "last_updated": 1681876779,
           "payment": [
            "creditcard",
            "key"
           ],
           "payment-terminal": true,
           "renting": 1,
           "returning": 1,
           "slots": 15,
           "uid": "722"
          },
          "free_bikes": 5,
          "id": "4bc7ec27e8646cc8b33932be911bef47",
          "latitude": 45.43993803436114,
          "longitude": -73.68146234754022,
          "name": "St-Antoine / 19e avenue",
          "timestamp": "2023-04-19T12:28:01.756000Z"
         },
         {
          "empty_slots": 1,
          "extra": {
           "ebikes": 0,
           "has_ebikes": true,
           "last_updated": 1681907012,
           "payment": [
            "creditcard",
            "key"
           ],
           "payment-terminal": true,
           "renting": 1,
           "returning": 1,
           "slots": 17,
           "uid": "752"
          },
          "free_bikes": 11,
          "id": "e335f2f5ad674c200bb9795ee863749c",
          "latitude": 45.53946063965585,
          "longitude": -73.57605636119843,
          "name": "Messier / St-Joseph",
          "timestamp": "2023-04-19T12:28:00.391000Z"
         },
         {
          "empty_slots": 9,
          "extra": {
           "ebikes": 2,
           "has_ebikes": true,
           "last_updated": 1681907188,
           "payment": [
            "creditcard",
            "key"
           ],
           "payment-terminal": true,
           "renting": 1,
           "returning": 1,
           "slots": 15,
           "uid": "792"
          },
          "free_bikes": 5,
          "id": "b75fbc1bd56893e4c66bd1d44ddcab20",
          "latitude": 45.528630548578505,
          "longitude": -73.67731243371964,
          "name": "Parc Painter (Marcotte / Quenneville)",
          "timestamp": "2023-04-19T12:27:59.965000Z"
         },
         {
          "empty_slots": 20,
          "extra": {
           "ebikes": 0,
           "has_ebikes": true,
           "last_updated": 1681907046,
           "payment": [
            "creditcard",
            "key"
           ],
           "payment-terminal": true,
           "renting": 1,
           "returning": 1,
           "slots": 30,
           "uid": "839"
          },
          "free_bikes": 8,
          "id": "30efd061ab22a0caa3dc67f5e027154e",
          "latitude": 45.5121682576952,
          "longitude": -73.55481594800949,
          "name": "Square Viger (Berri / Viger)",
          "timestamp": "2023-04-19T12:28:00.774000Z"
         },
         {
          "empty_slots": 16,
          "extra": {
           "ebikes": 0,
           "has_ebikes": true,
           "last_updated": 1681907196,
           "payment": [
            "creditcard",
            "key"
           ],
           "payment-terminal": true,
           "renting": 1,
           "returning": 1,
           "slots": 35,
           "uid": "108"
          },
          "free_bikes": 17,
          "id": "76d6ac391db2e789d1696e32fccf92f6",
          "latitude": 45.526991277453526,
          "longitude": -73.55821162462234,
          "name": "Dorion / Ontario",
          "timestamp": "2023-04-19T12:27:59.726000Z"
         },
         {
          "empty_slots": 15,
          "extra": {
           "ebikes": 1,
           "has_ebikes": true,
           "last_updated": 1681907248,
           "payment": [
            "creditcard",
            "key"
           ],
           "payment-terminal": true,
           "renting": 1,
           "returning": 1,
           "slots": 35,
           "uid": "136"
          },
          "free_bikes": 19,
          "id": "fc65618ae7237066d294ca905b721a7d",
          "latitude": 45.5291345371163,
          "longitude": -73.55923354625702,
          "name": "Larivière / de Lorimier",
          "timestamp": "2023-04-19T12:27:59.830000Z"
         },
         {
          "empty_slots": 23,
          "extra": {
           "ebikes": 3,
           "has_ebikes": true,
           "last_updated": 1681907001,
           "payment": [
            "creditcard",
            "key"
           ],
           "payment-terminal": true,
           "renting": 1,
           "returning": 1,
           "slots": 34,
           "uid": "34"
          },
          "free_bikes": 10,
          "id": "3e138c9acff07bff5f9e684c01bc564f",
          "latitude": 45.50531166520915,
          "longitude": -73.56089115142822,
          "name": "Viger / Chenneville",
          "timestamp": "2023-04-19T12:27:59.738000Z"
         },
         {
          "empty_slots": 17,
          "extra": {
           "ebikes": 1,
           "has_ebikes": true,
           "last_updated": 1681907260,
           "payment": [
            "creditcard",
            "key"
           ],
           "payment-terminal": true,
           "renting": 1,
           "returning": 1,
           "slots": 27,
           "uid": "95"
          },
          "free_bikes": 9,
          "id": "0d4eff17975078517d6779b678d99fa3",
          "latitude": 45.52097057660443,
          "longitude": -73.5499919950962,
          "name": "René-Lévesque / Papineau",
          "timestamp": "2023-04-19T12:27:59.768000Z"
         },
         {
          "empty_slots": 10,
          "extra": {
           "ebikes": 0,
           "has_ebikes": true,
           "last_updated": 1681906922,
           "payment": [
            "creditcard",
            "key"
           ],
           "payment-terminal": true,
           "renting": 1,
           "returning": 1,
           "slots": 19,
           "uid": "97"
          },
          "free_bikes": 8,
          "id": "500c120794c1aa9d469e7790733beb68",
          "latitude": 45.52836601591233,
          "longitude": -73.55117082595825,
          "name": "Logan / Fullum",
          "timestamp": "2023-04-19T12:27:59.769000Z"
         },
         {
          "empty_slots": 14,
          "extra": {
           "ebikes": 0,
           "has_ebikes": true,
           "last_updated": 1681907213,
           "payment": [
            "creditcard",
            "key"
           ],
           "payment-terminal": true,
           "renting": 1,
           "returning": 1,
           "slots": 19,
           "uid": "80"
          },
          "free_bikes": 4,
          "id": "4d789cbd45c1e79cdcf0df4fb1ef3e4a",
          "latitude": 45.491686521008035,
          "longitude": -73.57676714658737,
          "name": "Joseph-Manseau / René-Lévesque",
          "timestamp": "2023-04-19T12:27:59.952000Z"
         },
         {
          "empty_slots": 16,
          "extra": {
           "ebikes": 0,
           "has_ebikes": true,
           "last_updated": 1681906773,
           "payment": [
            "creditcard",
            "key"
           ],
           "payment-terminal": true,
           "renting": 1,
           "returning": 1,
           "slots": 19,
           "uid": "111"
          },
          "free_bikes": 3,
          "id": "626d82ddcbbfc81da586433f143130fe",
          "latitude": 45.53061161207863,
          "longitude": -73.54911457747221,
          "name": "Logan / d'Iberville",
          "timestamp": "2023-04-19T12:28:01.500000Z"
         },
         {
          "empty_slots": 15,
          "extra": {
           "ebikes": 0,
           "has_ebikes": true,
           "last_updated": 1681904523,
           "payment": [
            "creditcard",
            "key"
           ],
           "payment-terminal": true,
           "renting": 1,
           "returning": 1,
           "slots": 27,
           "uid": "110"
          },
          "free_bikes": 11,
          "id": "ebf264e5f3baddba6e40eba2fe7351e7",
          "latitude": 45.53456256501449,
          "longitude": -73.55478646466509,
          "name": "du Havre / de Rouen",
          "timestamp": "2023-04-19T12:28:01.501000Z"
         },
         {
          "empty_slots": 15,
          "extra": {
           "ebikes": 0,
           "has_ebikes": true,
           "last_updated": 1681907126,
           "payment": [
            "creditcard",
            "key"
           ],
           "payment-terminal": true,
           "renting": 1,
           "returning": 1,
           "slots": 19,
           "uid": "42"
          },
          "free_bikes": 4,
          "id": "cecb49c91023c7469470569da814659e",
          "latitude": 45.50206,
          "longitude": -73.56295,
          "name": "Square Victoria (Viger / du Square-Victoria)",
          "timestamp": "2023-04-19T12:28:01.899000Z"
         },
         {
          "empty_slots": 41,
          "extra": {
           "ebikes": 3,
           "has_ebikes": true,
           "last_updated": 1681906733,
           "payment": [
            "creditcard",
            "key"
           ],
           "payment-terminal": true,
           "renting": 1,
           "returning": 1,
           "slots": 49,
           "uid": "62"
          },
          "free_bikes": 8,
          "id": "69f583a85e1a83b443c203b781bfc0c9",
          "latitude": 45.50038,
          "longitude": -73.57507,
          "name": "Métro Peel (de Maisonneuve / Stanley)",
          "timestamp": "2023-04-19T12:28:00.393000Z"
         },
         {
          "empty_slots": 15,
          "extra": {
           "ebikes": 1,
           "has_ebikes": true,
           "last_updated": 1681906174,
           "payment": [
            "creditcard",
            "key"
           ],
           "payment-terminal": true,
           "renting": 1,
           "returning": 1,
           "slots": 18,
           "uid": "30"
          },
          "free_bikes": 3,
          "id": "67e9107a618d74937eb2e16f38e818e7",
          "latitude": 45.50459069556304,
          "longitude": -73.55918794870377,
          "name": "St-Antoine / St-François-Xavier",
          "timestamp": "2023-04-19T12:27:59.735000Z"
         },
         {
          "empty_slots": 13,
          "extra": {
           "ebikes": 2,
           "has_ebikes": true,
           "last_updated": 1681906718,
           "payment": [
            "creditcard",
            "key"
           ],
           "payment-terminal": true,
           "renting": 1,
           "returning": 1,
           "slots": 29,
           "uid": "31"
          },
          "free_bikes": 12,
          "id": "7efdfc0229daac74cfa58a8a39d13ac2",
          "latitude": 45.50631445605528,
          "longitude": -73.55967122894072,
          "name": "Métro Place-d'Armes (Viger / St-Urbain)",
          "timestamp": "2023-04-19T12:27:59.735000Z"
         },
         {
          "empty_slots": 2,
          "extra": {
           "ebikes": 2,
           "has_ebikes": true,
           "last_updated": 1681907113,
           "payment": [
            "creditcard",
            "key"
           ],
           "payment-terminal": true,
           "renting": 1,
           "returning": 1,
           "slots": 23,
           "uid": "137"
          },
          "free_bikes": 20,
          "id": "4a754bbdf7514d1e8e49d394cc5b10a8",
          "latitude": 45.52809995527671,
          "longitude": -73.58843871625139,
          "name": "Métro Laurier (Berri / Laurier)",
          "timestamp": "2023-04-19T12:27:59.828000Z"
         },
         {
          "empty_slots": 14,
          "extra": {
           "ebikes": 1,
           "has_ebikes": true,
           "last_updated": 1681907199,
           "payment": [
            "creditcard",
            "key"
           ],
           "payment-terminal": true,
           "renting": 1,
           "returning": 1,
           "slots": 23,
           "uid": "594"
          },
          "free_bikes": 9,
          "id": "b9d14281ceeaf9913a820adab2e125c6",
          "latitude": 45.51613214980722,
          "longitude": -73.56049686670303,
          "name": "St-Hubert / de Maisonneuve (nord)",
          "timestamp": "2023-04-19T12:27:59.690000Z"
         },
         {
          "empty_slots": 17,
          "extra": {
           "ebikes": 0,
           "has_ebikes": true,
           "last_updated": 1681907240,
           "payment": [
            "creditcard",
            "key"
           ],
           "payment-terminal": true,
           "renting": 1,
           "returning": 1,
           "slots": 27,
           "uid": "92"
          },
          "free_bikes": 6,
          "id": "7a50f09abc2d0051cefd3510ca4f6af8",
          "latitude": 45.538859462962286,
          "longitude": -73.5528177022934,
          "name": "de Rouen / Lespérance",
          "timestamp": "2023-04-19T12:27:59.767000Z"
         },
         {
          "empty_slots": 3,
          "extra": {
           "ebikes": 0,
           "has_ebikes": true,
           "last_updated": 1681907129,
           "payment": [
            "creditcard",
            "key"
           ],
           "payment-terminal": true,
           "renting": 1,
           "returning": 1,
           "slots": 19,
           "uid": "147"
          },
          "free_bikes": 15,
          "id": "249f1231d93aa589fc7d85b327cfbdc8",
          "latitude": 45.52479,
          "longitude": -73.56545,
          "name": "Calixa-Lavallée / Sherbrooke",
          "timestamp": "2023-04-19T12:27:59.794000Z"
         },
         {
          "empty_slots": 12,
          "extra": {
           "ebikes": 0,
           "has_ebikes": true,
           "last_updated": 1681906529,
           "payment": [
            "creditcard",
            "key"
           ],
           "payment-terminal": true,
           "renting": 1,
           "returning": 1,
           "slots": 23,
           "uid": "177"
          },
          "free_bikes": 10,
          "id": "ac4e6691d6abacc0db1730d36a2f3bca",
          "latitude": 45.522425652788634,
          "longitude": -73.57418417930603,
          "name": "St-Hubert / Duluth",
          "timestamp": "2023-04-19T12:28:00.016000Z"
         },
         {
          "empty_slots": 6,
          "extra": {
           "ebikes": 8,
           "has_ebikes": true,
           "last_updated": 1681907209,
           "payment": [
            "creditcard",
            "key"
           ],
           "payment-terminal": true,
           "renting": 1,
           "returning": 1,
           "slots": 19,
           "uid": "182"
          },
          "free_bikes": 12,
          "id": "420abce19f97c69126eea1d8aab0968b",
          "latitude": 45.52141314643908,
          "longitude": -73.58498811721802,
          "name": "de Bullion / du Mont-Royal",
          "timestamp": "2023-04-19T12:28:00.241000Z"
         },
         {
          "empty_slots": 11,
          "extra": {
           "ebikes": 0,
           "has_ebikes": true,
           "last_updated": 1681907117,
           "payment": [
            "creditcard",
            "key"
           ],
           "payment-terminal": true,
           "renting": 1,
           "returning": 1,
           "slots": 23,
           "uid": "164"
          },
          "free_bikes": 12,
          "id": "437c8c76473b5f3e273c27b185aee25c",
          "latitude": 45.5333136054992,
          "longitude": -73.58373686671257,
          "name": "de Lanaudière / Laurier",
          "timestamp": "2023-04-19T12:28:01.103000Z"
         },
         {
          "empty_slots": 9,
          "extra": {
           "ebikes": 7,
           "has_ebikes": true,
           "last_updated": 1681907196,
           "payment": [
            "creditcard",
            "key"
           ],
           "payment-terminal": true,
           "renting": 1,
           "returning": 1,
           "slots": 23,
           "uid": "217"
          },
          "free_bikes": 14,
          "id": "1954f2959d994dd5afe91077c4f446bc",
          "latitude": 45.51922631024093,
          "longitude": -73.57718793155072,
          "name": "Laval / Duluth",
          "timestamp": "2023-04-19T12:28:01.162000Z"
         },
         {
          "empty_slots": 18,
          "extra": {
           "ebikes": 1,
           "has_ebikes": true,
           "last_updated": 1681907198,
           "payment": [
            "creditcard",
            "key"
           ],
           "payment-terminal": true,
           "renting": 1,
           "returning": 1,
           "slots": 23,
           "uid": "215"
          },
          "free_bikes": 2,
          "id": "8e960ee01aeaabf154ed0de7706cba84",
          "latitude": 45.518967223320054,
          "longitude": -73.5836161673069,
          "name": "Vallières / St-Laurent",
          "timestamp": "2023-04-19T12:28:01.173000Z"
         },
         {
          "empty_slots": 12,
          "extra": {
           "ebikes": 7,
           "has_ebikes": true,
           "last_updated": 1681906665,
           "payment": [
            "creditcard",
            "key"
           ],
           "payment-terminal": true,
           "renting": 1,
           "returning": 1,
           "slots": 23,
           "uid": "210"
          },
          "free_bikes": 10,
          "id": "e59b690dd831bd4a6e8637c8dccd306b",
          "latitude": 45.515132275425785,
          "longitude": -73.58105599880219,
          "name": "Duluth / de l'Esplanade",
          "timestamp": "2023-04-19T12:28:01.186000Z"
         },
         {
          "empty_slots": 7,
          "extra": {
           "ebikes": 0,
           "has_ebikes": true,
           "last_updated": 1681905116,
           "payment": [
            "creditcard",
            "key"
           ],
           "payment-terminal": true,
           "renting": 1,
           "returning": 1,
           "slots": 11,
           "uid": "117"
          },
          "free_bikes": 4,
          "id": "297634971ea031c479814effbe61ad09",
          "latitude": 45.535295480380306,
          "longitude": -73.55116009712219,
          "name": "Hogan / Ontario",
          "timestamp": "2023-04-19T12:28:01.497000Z"
         },
         {
          "empty_slots": 8,
          "extra": {
           "ebikes": 0,
           "has_ebikes": true,
           "last_updated": 1681907254,
           "payment": [
            "creditcard",
            "key"
           ],
           "payment-terminal": true,
           "renting": 1,
           "returning": 1,
           "slots": 19,
           "uid": "112"
          },
          "free_bikes": 10,
          "id": "1d33d8f2ef82be88498c6314d7d4c457",
          "latitude": 45.52330366033427,
          "longitude": -73.55799973011017,
          "name": "la Fontaine / Alexandre-de-Sève",
          "timestamp": "2023-04-19T12:28:01.505000Z"
         },
         {
          "empty_slots": 18,
          "extra": {
           "ebikes": 3,
           "has_ebikes": true,
           "last_updated": 1681907041,
           "payment": [
            "creditcard",
            "key"
           ],
           "payment-terminal": true,
           "renting": 1,
           "returning": 1,
           "slots": 34,
           "uid": "426"
          },
          "free_bikes": 15,
          "id": "0c1e06741c10b812a0cef5265fa4f76f",
          "latitude": 45.50373771539475,
          "longitude": -73.56948494911194,
          "name": "Ste-Catherine / Union",
          "timestamp": "2023-04-19T12:28:01.559000Z"
         },
         {
          "empty_slots": 13,
          "extra": {
           "ebikes": 4,
           "has_ebikes": true,
           "last_updated": 1681907231,
           "payment": [
            "creditcard",
            "key"
           ],
           "payment-terminal": true,
           "renting": 1,
           "returning": 1,
           "slots": 23,
           "uid": "152"
          },
          "free_bikes": 7,
          "id": "f287b99d3b1011f3ce2a2db77e0feee9",
          "latitude": 45.53413436610844,
          "longitude": -73.57352435588837,
          "name": "Chabot / Mont-Royal",
          "timestamp": "2023-04-19T12:28:01.838000Z"
         },
         {
          "empty_slots": 20,
          "extra": {
           "ebikes": 0,
           "has_ebikes": true,
           "last_updated": 1681907169,
           "payment": [
            "creditcard",
            "key"
           ],
           "payment-terminal": true,
           "renting": 1,
           "returning": 1,
           "slots": 23,
           "uid": "138"
          },
          "free_bikes": 1,
          "id": "c5694913d65dff9dc611210fa4aeb71f",
          "latitude": 45.52966629503036,
          "longitude": -73.56733649969101,
          "name": "Gauthier / Papineau",
          "timestamp": "2023-04-19T12:27:59.840000Z"
         },
         {
          "empty_slots": 10,
          "extra": {
           "ebikes": 2,
           "has_ebikes": true,
           "last_updated": 1681906681,
           "payment": [
            "creditcard",
            "key"
           ],
           "payment-terminal": true,
           "renting": 1,
           "returning": 1,
           "slots": 23,
           "uid": "150"
          },
          "free_bikes": 12,
          "id": "7ade71dc0f1e89d5e60fa41449efd516",
          "latitude": 45.53711414,
          "longitude": -73.5710031,
          "name": "Messier / du Mont-Royal",
          "timestamp": "2023-04-19T12:28:01.832000Z"
         },
         {
          "empty_slots": 9,
          "extra": {
           "ebikes": 3,
           "has_ebikes": true,
           "last_updated": 1681906944,
           "payment": [
            "creditcard",
            "key"
           ],
           "payment-terminal": true,
           "renting": 1,
           "returning": 1,
           "slots": 15,
           "uid": "183"
          },
          "free_bikes": 6,
          "id": "d7f6bfbc28cb883fec3bf8652faf9e52",
          "latitude": 45.5223645775784,
          "longitude": -73.58414590358734,
          "name": "Laval / du Mont-Royal",
          "timestamp": "2023-04-19T12:28:00.253000Z"
         },
         {
          "empty_slots": 20,
          "extra": {
           "ebikes": 0,
           "has_ebikes": true,
           "last_updated": 1681906696,
           "payment": [
            "creditcard",
            "key"
           ],
           "payment-terminal": true,
           "renting": 1,
           "returning": 1,
           "slots": 25,
           "uid": "122"
          },
          "free_bikes": 5,
          "id": "650b371db12a750bd2db8da8ecfa0890",
          "latitude": 45.50928678961862,
          "longitude": -73.57101917266846,
          "name": "Jeanne-Mance / Sherbrooke",
          "timestamp": "2023-04-19T12:28:00.694000Z"
         },
         {
          "empty_slots": 2,
          "extra": {
           "ebikes": 2,
           "has_ebikes": true,
           "last_updated": 1681906840,
           "payment": [
            "creditcard",
            "key"
           ],
           "payment-terminal": true,
           "renting": 1,
           "returning": 1,
           "slots": 18,
           "uid": "537"
          },
          "free_bikes": 16,
          "id": "1013ec013026d8e51b4e126c5c72c5c8",
          "latitude": 45.52723106564012,
          "longitude": -73.58672618865965,
          "name": "Métro Laurier (Berri / St-Joseph)",
          "timestamp": "2023-04-19T12:28:01.405000Z"
         },
         {
          "empty_slots": 1,
          "extra": {
           "ebikes": 4,
           "has_ebikes": true,
           "last_updated": 1681907228,
           "payment": [
            "creditcard",
            "key"
           ],
           "payment-terminal": true,
           "renting": 1,
           "returning": 1,
           "slots": 23,
           "uid": "190"
          },
          "free_bikes": 22,
          "id": "49cad2719afe59f68c6dd729408e7ab5",
          "latitude": 45.527009334270645,
          "longitude": -73.58576595783234,
          "name": "Pontiac / Gilford",
          "timestamp": "2023-04-19T12:27:59.702000Z"
         },
         {
          "empty_slots": 6,
          "extra": {
           "ebikes": 2,
           "has_ebikes": true,
           "last_updated": 1681906570,
           "payment": [
            "creditcard",
            "key"
           ],
           "payment-terminal": true,
           "renting": 1,
           "returning": 1,
           "slots": 23,
           "uid": "270"
          },
          "free_bikes": 16,
          "id": "f841f00a51ce7d08ecd1ec2f960bfd83",
          "latitude": 45.53036486555959,
          "longitude": -73.58439266681671,
          "name": "Christophe-Colomb / St-Joseph",
          "timestamp": "2023-04-19T12:27:59.704000Z"
         },
         {
          "empty_slots": 12,
          "extra": {
           "ebikes": 1,
           "has_ebikes": true,
           "last_updated": 1681907143,
           "payment": [
            "creditcard",
            "key"
           ],
           "payment-terminal": true,
           "renting": 1,
           "returning": 1,
           "slots": 19,
           "uid": "161"
          },
          "free_bikes": 7,
          "id": "ee8bc16d40f2c44ec8a99670f13b7646",
          "latitude": 45.53582823686429,
          "longitude": -73.57869029045105,
          "name": "Cartier / St-Joseph",
          "timestamp": "2023-04-19T12:28:01.115000Z"
         },
         {
          "empty_slots": 15,
          "extra": {
           "ebikes": 3,
           "has_ebikes": true,
           "last_updated": 1681906257,
           "payment": [
            "creditcard",
            "key"
           ],
           "payment-terminal": true,
           "renting": 1,
           "returning": 1,
           "slots": 23,
           "uid": "109"
          },
          "free_bikes": 7,
          "id": "04f6eaaa0d7993020973687c13f41663",
          "latitude": 45.533705987798946,
          "longitude": -73.55217933654784,
          "name": "Métro Frontenac (Ontario / du Havre)",
          "timestamp": "2023-04-19T12:27:59.726000Z"
         },
         {
          "empty_slots": 20,
          "extra": {
           "ebikes": 3,
           "has_ebikes": true,
           "last_updated": 1681907016,
           "payment": [
            "creditcard",
            "key"
           ],
           "payment-terminal": true,
           "renting": 1,
           "returning": 1,
           "slots": 27,
           "uid": "404"
          },
          "free_bikes": 7,
          "id": "9c3782b6814881fa5182a71378ef0412",
          "latitude": 45.51258740220925,
          "longitude": -73.57373893260956,
          "name": "Prince-Arthur / St-Urbain",
          "timestamp": "2023-04-19T12:27:59.850000Z"
         },
         {
          "empty_slots": 17,
          "extra": {
           "ebikes": 1,
           "has_ebikes": true,
           "last_updated": 1681907163,
           "payment": [
            "creditcard",
            "key"
           ],
           "payment-terminal": true,
           "renting": 1,
           "returning": 1,
           "slots": 26,
           "uid": "174"
          },
          "free_bikes": 7,
          "id": "96a5e4d69af8dd5259395b6843a6f252",
          "latitude": 45.51908,
          "longitude": -73.5727,
          "name": "Roy / St-Denis",
          "timestamp": "2023-04-19T12:28:00.033000Z"
         },
         {
          "empty_slots": 17,
          "extra": {
           "ebikes": 0,
           "has_ebikes": true,
           "last_updated": 1681907152,
           "payment": [
            "creditcard",
            "key"
           ],
           "payment-terminal": true,
           "renting": 1,
           "returning": 1,
           "slots": 19,
           "uid": "540"
          },
          "free_bikes": 2,
          "id": "d57940b77a62f7a447df3d64a43c6792",
          "latitude": 45.527041096087785,
          "longitude": -73.59347056655677,
          "name": "Maguire / Henri-Julien",
          "timestamp": "2023-04-19T12:28:00.661000Z"
         },
         {
          "empty_slots": 25,
          "extra": {
           "ebikes": 1,
           "has_ebikes": true,
           "last_updated": 1681907226,
           "payment": [
            "creditcard",
            "key"
           ],
           "payment-terminal": true,
           "renting": 1,
           "returning": 1,
           "slots": 31,
           "uid": "165"
          },
          "free_bikes": 5,
          "id": "4bf11b420dd6c5e710eb76bca801bea0",
          "latitude": 45.532513956311426,
          "longitude": -73.58481109142303,
          "name": "Laurier / de Brébeuf",
          "timestamp": "2023-04-19T12:28:01.104000Z"
         },
         {
          "empty_slots": 11,
          "extra": {
           "ebikes": 0,
           "has_ebikes": true,
           "last_updated": 1681907031,
           "payment": [
            "creditcard",
            "key"
           ],
           "payment-terminal": true,
           "renting": 1,
           "returning": 1,
           "slots": 23,
           "uid": "230"
          },
          "free_bikes": 12,
          "id": "2b401752439ea66dd57151fa730e496f",
          "latitude": 45.53727946481992,
          "longitude": -73.5791677236557,
          "name": "Laurier / de Bordeaux",
          "timestamp": "2023-04-19T12:27:59.785000Z"
         },
         {
          "empty_slots": 18,
          "extra": {
           "ebikes": 1,
           "has_ebikes": true,
           "last_updated": 1681907232,
           "payment": [
            "creditcard",
            "key"
           ],
           "payment-terminal": true,
           "renting": 1,
           "returning": 1,
           "slots": 23,
           "uid": "78"
          },
          "free_bikes": 5,
          "id": "4c6ee625de158c398332f0bce7a5ee9f",
          "latitude": 45.52795093787009,
          "longitude": -73.59502326697111,
          "name": "Henri-Julien / du Carmel",
          "timestamp": "2023-04-19T12:28:00.543000Z"
         },
         {
          "empty_slots": 19,
          "extra": {
           "ebikes": 0,
           "has_ebikes": true,
           "last_updated": 1681906747,
           "payment": [
            "creditcard",
            "key"
           ],
           "payment-terminal": true,
           "renting": 1,
           "returning": 1,
           "slots": 19,
           "uid": "543"
          },
          "free_bikes": 0,
          "id": "e808e34ff5776ce71318665babc70571",
          "latitude": 45.5380207402854,
          "longitude": -73.58352363109587,
          "name": "Cartier / Masson",
          "timestamp": "2023-04-19T12:28:00.657000Z"
         },
         {
          "empty_slots": 12,
          "extra": {
           "ebikes": 4,
           "has_ebikes": true,
           "last_updated": 1681906488,
           "payment": [
            "creditcard",
            "key"
           ],
           "payment-terminal": true,
           "renting": 1,
           "returning": 1,
           "slots": 19,
           "uid": "452"
          },
          "free_bikes": 7,
          "id": "a3a7c5013570835afae29db254bcf8a9",
          "latitude": 45.53147464147482,
          "longitude": -73.59242051839828,
          "name": "Parc Ludger-Duvernay (St-André / St-Hubert)",
          "timestamp": "2023-04-19T12:27:59.999000Z"
         },
         {
          "empty_slots": 21,
          "extra": {
           "ebikes": 0,
           "has_ebikes": true,
           "last_updated": 1681907027,
           "payment": [
            "creditcard",
            "key"
           ],
           "payment-terminal": true,
           "renting": 1,
           "returning": 1,
           "slots": 23,
           "uid": "192"
          },
          "free_bikes": 0,
          "id": "00ee42c238d3bce0f34a30539810443f",
          "latitude": 45.527930077456865,
          "longitude": -73.59183847904205,
          "name": "Boucher / St-Denis",
          "timestamp": "2023-04-19T12:27:59.703000Z"
         },
         {
          "empty_slots": 17,
          "extra": {
           "ebikes": 0,
           "has_ebikes": true,
           "last_updated": 1681906962,
           "payment": [
            "creditcard",
            "key"
           ],
           "payment-terminal": true,
           "renting": 1,
           "returning": 1,
           "slots": 19,
           "uid": "134"
          },
          "free_bikes": 2,
          "id": "b299bc3f5212ba3e717cf5916ce62b37",
          "latitude": 45.522402573414084,
          "longitude": -73.58117669820786,
          "name": "Drolet / Marie-Anne",
          "timestamp": "2023-04-19T12:27:59.832000Z"
         },
         {
          "empty_slots": 12,
          "extra": {
           "ebikes": 0,
           "has_ebikes": true,
           "last_updated": 1681904317,
           "payment": [
            "creditcard",
            "key"
           ],
           "payment-terminal": true,
           "renting": 1,
           "returning": 1,
           "slots": 15,
           "uid": "178"
          },
          "free_bikes": 2,
          "id": "ef7c8f1ab4e9ee9afcdc3c837ea509b9",
          "latitude": 45.52435318759273,
          "longitude": -73.57596650719643,
          "name": "St-André / Rachel",
          "timestamp": "2023-04-19T12:28:00.015000Z"
         },
         {
          "empty_slots": 9,
          "extra": {
           "ebikes": 15,
           "has_ebikes": true,
           "last_updated": 1681907227,
           "payment": [
            "creditcard",
            "key"
           ],
           "payment-terminal": true,
           "renting": 1,
           "returning": 1,
           "slots": 43,
           "uid": "214"
          },
          "free_bikes": 32,
          "id": "1f04b0f13e33b5717822c81f41e60263",
          "latitude": 45.514866433022796,
          "longitude": -73.58475860237377,
          "name": "Parc Jeanne-Mance (monument à sir George-Étienne Cartier)",
          "timestamp": "2023-04-19T12:28:01.163000Z"
         },
         {
          "empty_slots": 19,
          "extra": {
           "ebikes": 1,
           "has_ebikes": true,
           "last_updated": 1681907179,
           "payment": [
            "creditcard",
            "key"
           ],
           "payment-terminal": true,
           "renting": 1,
           "returning": 1,
           "slots": 23,
           "uid": "43"
          },
          "free_bikes": 4,
          "id": "cf46557eb890581a5631cafc7b9a2bba",
          "latitude": 45.521564270906616,
          "longitude": -73.57036739587784,
          "name": "Roy / St-André",
          "timestamp": "2023-04-19T12:28:01.903000Z"
         },
         {
          "empty_slots": 6,
          "extra": {
           "ebikes": 2,
           "has_ebikes": true,
           "last_updated": 1681906533,
           "payment": [
            "creditcard",
            "key"
           ],
           "payment-terminal": true,
           "renting": 1,
           "returning": 1,
           "slots": 19,
           "uid": "160"
          },
          "free_bikes": 12,
          "id": "db103ab89d18b15ecbf162aafa67416d",
          "latitude": 45.5330129192707,
          "longitude": -73.58128666877745,
          "name": "Garnier / St-Joseph",
          "timestamp": "2023-04-19T12:28:01.115000Z"
         },
         {
          "empty_slots": 12,
          "extra": {
           "ebikes": 4,
           "has_ebikes": true,
           "last_updated": 1681906776,
           "payment": [
            "creditcard",
            "key"
           ],
           "payment-terminal": true,
           "renting": 1,
           "returning": 1,
           "slots": 19,
           "uid": "193"
          },
          "free_bikes": 6,
          "id": "4984b46a75d13daa84ced2e45505e4ac",
          "latitude": 45.521495731487576,
          "longitude": -73.5968267172575,
          "name": "de l'Esplanade / Fairmount",
          "timestamp": "2023-04-19T12:27:59.703000Z"
         },
         {
          "empty_slots": 14,
          "extra": {
           "ebikes": 0,
           "has_ebikes": true,
           "last_updated": 1681907004,
           "payment": [
            "creditcard",
            "key"
           ],
           "payment-terminal": true,
           "renting": 1,
           "returning": 1,
           "slots": 23,
           "uid": "227"
          },
          "free_bikes": 9,
          "id": "05415b92d6d4fa2364f0151216f4386c",
          "latitude": 45.523026476635074,
          "longitude": -73.60184043645859,
          "name": "Jeanne-Mance / St-Viateur",
          "timestamp": "2023-04-19T12:28:01.709000Z"
         },
         {
          "empty_slots": 2,
          "extra": {
           "ebikes": 1,
           "has_ebikes": true,
           "last_updated": 1681906657,
           "payment": [
            "creditcard",
            "key"
           ],
           "payment-terminal": true,
           "renting": 1,
           "returning": 1,
           "slots": 22,
           "uid": "145"
          },
          "free_bikes": 18,
          "id": "d3a51b0b1043d0371d4803848c5489aa",
          "latitude": 45.52451761488783,
          "longitude": -73.57197672128677,
          "name": "du Parc-La Fontaine / Duluth",
          "timestamp": "2023-04-19T12:27:59.795000Z"
         },
         {
          "empty_slots": 17,
          "extra": {
           "ebikes": 2,
           "has_ebikes": true,
           "last_updated": 1681906553,
           "payment": [
            "creditcard",
            "key"
           ],
           "payment-terminal": true,
           "renting": 1,
           "returning": 1,
           "slots": 19,
           "uid": "158"
          },
          "free_bikes": 2,
          "id": "9f853a089855c900edfc1688421f8a19",
          "latitude": 45.530845821364125,
          "longitude": -73.58157970011233,
          "name": "Gilford / de Brébeuf",
          "timestamp": "2023-04-19T12:28:01.857000Z"
         },
         {
          "empty_slots": 19,
          "extra": {
           "ebikes": 1,
           "has_ebikes": true,
           "last_updated": 1681907198,
           "payment": [
            "creditcard",
            "key"
           ],
           "payment-terminal": true,
           "renting": 1,
           "returning": 1,
           "slots": 23,
           "uid": "532"
          },
          "free_bikes": 3,
          "id": "6b5c2cf446547534e31119d37da9dcb9",
          "latitude": 45.52751292628879,
          "longitude": -73.59879076480864,
          "name": "Casgrain / St-Viateur",
          "timestamp": "2023-04-19T12:28:01.453000Z"
         },
         {
          "empty_slots": 17,
          "extra": {
           "ebikes": 0,
           "has_ebikes": true,
           "last_updated": 1681906958,
           "payment": [
            "creditcard",
            "key"
           ],
           "payment-terminal": true,
           "renting": 1,
           "returning": 1,
           "slots": 23,
           "uid": "294"
          },
          "free_bikes": 5,
          "id": "61913f1d35736d6e9931720b2da53fcd",
          "latitude": 45.52361490311454,
          "longitude": -73.59245739877223,
          "name": "St-Dominique / Laurier",
          "timestamp": "2023-04-19T12:27:59.692000Z"
         },
         {
          "empty_slots": 8,
          "extra": {
           "ebikes": 7,
           "has_ebikes": true,
           "last_updated": 1681907070,
           "payment": [
            "creditcard",
            "key"
           ],
           "payment-terminal": true,
           "renting": 1,
           "returning": 1,
           "slots": 23,
           "uid": "195"
          },
          "free_bikes": 15,
          "id": "17f0bf69fcab6325e7b61d7d64abdc27",
          "latitude": 45.52404631813311,
          "longitude": -73.59015061847458,
          "name": "de Bullion / St-Joseph",
          "timestamp": "2023-04-19T12:27:59.699000Z"
         },
         {
          "empty_slots": 18,
          "extra": {
           "ebikes": 1,
           "has_ebikes": true,
           "last_updated": 1681907263,
           "payment": [
            "creditcard",
            "key"
           ],
           "payment-terminal": true,
           "renting": 1,
           "returning": 1,
           "slots": 23,
           "uid": "194"
          },
          "free_bikes": 5,
          "id": "0daffa0f2290fcf3a58b579d914c16cc",
          "latitude": 45.52557815939422,
          "longitude": -73.59285570681095,
          "name": "de Gaspé / Fairmount",
          "timestamp": "2023-04-19T12:27:59.700000Z"
         },
         {
          "empty_slots": 6,
          "extra": {
           "ebikes": 2,
           "has_ebikes": true,
           "last_updated": 1681906523,
           "payment": [
            "creditcard",
            "key"
           ],
           "payment-terminal": true,
           "renting": 1,
           "returning": 1,
           "slots": 19,
           "uid": "146"
          },
          "free_bikes": 11,
          "id": "8c5edb25c7d2c558040d7cb8461d486b",
          "latitude": 45.52286653749578,
          "longitude": -73.56837719678879,
          "name": "du Parc-La Fontaine / Roy",
          "timestamp": "2023-04-19T12:27:59.793000Z"
         },
         {
          "empty_slots": 13,
          "extra": {
           "ebikes": 2,
           "has_ebikes": true,
           "last_updated": 1681907166,
           "payment": [
            "creditcard",
            "key"
           ],
           "payment-terminal": true,
           "renting": 1,
           "returning": 1,
           "slots": 23,
           "uid": "201"
          },
          "free_bikes": 10,
          "id": "510a14e4eb76249f0477e2256b4eedd7",
          "latitude": 45.52348082760688,
          "longitude": -73.58732756238169,
          "name": "de l'Hôtel-de-Ville / Villeneuve",
          "timestamp": "2023-04-19T12:28:00.425000Z"
         },
         {
          "empty_slots": 7,
          "extra": {
           "ebikes": 2,
           "has_ebikes": true,
           "last_updated": 1681906884,
           "payment": [
            "creditcard",
            "key"
           ],
           "payment-terminal": true,
           "renting": 1,
           "returning": 1,
           "slots": 23,
           "uid": "505"
          },
          "free_bikes": 16,
          "id": "2de20e5bca825eb6b82f1fb8c02effbc",
          "latitude": 45.52866947969606,
          "longitude": -73.58371809124947,
          "name": "de Mentana / Gilford",
          "timestamp": "2023-04-19T12:28:01.050000Z"
         },
         {
          "empty_slots": 22,
          "extra": {
           "ebikes": 0,
           "has_ebikes": true,
           "last_updated": 1681906998,
           "payment": [
            "creditcard",
            "key"
           ],
           "payment-terminal": true,
           "renting": 1,
           "returning": 1,
           "slots": 23,
           "uid": "546"
          },
          "free_bikes": 1,
          "id": "8dfcd2d833a194d09c77461eb0546343",
          "latitude": 45.52574657625029,
          "longitude": -73.59033644199371,
          "name": "Henri-Julien / Laurier",
          "timestamp": "2023-04-19T12:28:00.663000Z"
         },
         {
          "empty_slots": 13,
          "extra": {
           "ebikes": 0,
           "has_ebikes": true,
           "last_updated": 1681907238,
           "payment": [
            "creditcard",
            "key"
           ],
           "payment-terminal": true,
           "renting": 1,
           "returning": 1,
           "slots": 27,
           "uid": "163"
          },
          "free_bikes": 12,
          "id": "548d982f0a3ef288c42eb4e689272c61",
          "latitude": 45.53543,
          "longitude": -73.5822,
          "name": "Marquette / Laurier",
          "timestamp": "2023-04-19T12:28:01.117000Z"
         },
         {
          "empty_slots": 14,
          "extra": {
           "ebikes": 3,
           "has_ebikes": true,
           "last_updated": 1681904683,
           "payment": [
            "creditcard",
            "key"
           ],
           "payment-terminal": true,
           "renting": 1,
           "returning": 1,
           "slots": 39,
           "uid": "742"
          },
          "free_bikes": 22,
          "id": "7111cad100bb2d22623271c23277aeb1",
          "latitude": 45.525155180448635,
          "longitude": -73.58563594055795,
          "name": "Gilford / St-Denis",
          "timestamp": "2023-04-19T12:27:59.773000Z"
         },
         {
          "empty_slots": 21,
          "extra": {
           "ebikes": 2,
           "has_ebikes": true,
           "last_updated": 1681907058,
           "payment": [
            "creditcard",
            "key"
           ],
           "payment-terminal": true,
           "renting": 1,
           "returning": 1,
           "slots": 31,
           "uid": "203"
          },
          "free_bikes": 9,
          "id": "ed38025541fc9ef1a0a96c118bd9628b",
          "latitude": 45.50936142835129,
          "longitude": -73.57386365532875,
          "name": "Milton / du Parc",
          "timestamp": "2023-04-19T12:28:00.426000Z"
         },
         {
          "empty_slots": 13,
          "extra": {
           "ebikes": 0,
           "has_ebikes": true,
           "last_updated": 1681907230,
           "payment": [
            "creditcard",
            "key"
           ],
           "payment-terminal": true,
           "renting": 1,
           "returning": 1,
           "slots": 19,
           "uid": "226"
          },
          "free_bikes": 2,
          "id": "939bd527ead0d30a6cee8299ce215e7f",
          "latitude": 45.5238561444472,
          "longitude": -73.60012650489807,
          "name": "Waverly / St-Viateur",
          "timestamp": "2023-04-19T12:28:01.713000Z"
         },
         {
          "empty_slots": 9,
          "extra": {
           "ebikes": 1,
           "has_ebikes": true,
           "last_updated": 1681907208,
           "payment": [
            "creditcard",
            "key"
           ],
           "payment-terminal": true,
           "renting": 1,
           "returning": 1,
           "slots": 19,
           "uid": "320"
          },
          "free_bikes": 10,
          "id": "c00fd4c69708587e21968504c270e8c4",
          "latitude": 45.53611005443118,
          "longitude": -73.5762870311737,
          "name": "de Bordeaux / Gilford",
          "timestamp": "2023-04-19T12:28:00.399000Z"
         },
         {
          "empty_slots": 4,
          "extra": {
           "ebikes": 2,
           "has_ebikes": true,
           "last_updated": 1681907266,
           "payment": [
            "creditcard",
            "key"
           ],
           "payment-terminal": true,
           "renting": 1,
           "returning": 1,
           "slots": 15,
           "uid": "197"
          },
          "free_bikes": 11,
          "id": "fcdb13ffead3bb13cd5a1080fe953b48",
          "latitude": 45.53898439552301,
          "longitude": -73.5824453830719,
          "name": "de Bordeaux / Masson",
          "timestamp": "2023-04-19T12:27:59.701000Z"
         },
         {
          "empty_slots": 17,
          "extra": {
           "ebikes": 2,
           "has_ebikes": true,
           "last_updated": 1681907196,
           "payment": [
            "creditcard",
            "key"
           ],
           "payment-terminal": true,
           "renting": 1,
           "returning": 1,
           "slots": 19,
           "uid": "550"
          },
          "free_bikes": 2,
          "id": "202f7da35f952703f25808c13ef16abe",
          "latitude": 45.5198946757576,
          "longitude": -73.59682738780975,
          "name": "Labadie / du Parc",
          "timestamp": "2023-04-19T12:27:59.780000Z"
         },
         {
          "empty_slots": 15,
          "extra": {
           "ebikes": 0,
           "has_ebikes": true,
           "last_updated": 1681907114,
           "payment": [
            "creditcard",
            "key"
           ],
           "payment-terminal": true,
           "renting": 1,
           "returning": 1,
           "slots": 23,
           "uid": "541"
          },
          "free_bikes": 7,
          "id": "6b566fd6a50d2693ee4c6a56bbf20b13",
          "latitude": 45.53650541861215,
          "longitude": -73.56803923845291,
          "name": "Fullum / Marie-Anne",
          "timestamp": "2023-04-19T12:28:00.662000Z"
         },
         {
          "empty_slots": 12,
          "extra": {
           "ebikes": 1,
           "has_ebikes": true,
           "last_updated": 1681906971,
           "payment": [
            "creditcard",
            "key"
           ],
           "payment-terminal": true,
           "renting": 1,
           "returning": 1,
           "slots": 15,
           "uid": "151"
          },
          "free_bikes": 3,
          "id": "dcf3b29b6fc30a0bc50964db1228f0d3",
          "latitude": 45.53640396516409,
          "longitude": -73.57141345739365,
          "name": "Parthenais / du Mont-Royal",
          "timestamp": "2023-04-19T12:28:01.829000Z"
         },
         {
          "empty_slots": 10,
          "extra": {
           "ebikes": 1,
           "has_ebikes": true,
           "last_updated": 1681907037,
           "payment": [
            "creditcard",
            "key"
           ],
           "payment-terminal": true,
           "renting": 1,
           "returning": 1,
           "slots": 15,
           "uid": "199"
          },
          "free_bikes": 4,
          "id": "39bb125f5342525e2cea093e9229bdcb",
          "latitude": 45.5251943015533,
          "longitude": -73.59935637563467,
          "name": "Clark / St-Viateur",
          "timestamp": "2023-04-19T12:27:59.698000Z"
         },
         {
          "empty_slots": 12,
          "extra": {
           "ebikes": 0,
           "has_ebikes": true,
           "last_updated": 1681907116,
           "payment": [
            "creditcard",
            "key"
           ],
           "payment-terminal": true,
           "renting": 1,
           "returning": 1,
           "slots": 15,
           "uid": "179"
          },
          "free_bikes": 1,
          "id": "052eb3e7422cdd1cdc5d555cf8d05c98",
          "latitude": 45.52062760607925,
          "longitude": -73.57594907283782,
          "name": "Duluth  / St-Denis",
          "timestamp": "2023-04-19T12:28:00.014000Z"
         },
         {
          "empty_slots": 15,
          "extra": {
           "ebikes": 15,
           "has_ebikes": true,
           "last_updated": 1681907135,
           "payment": [
            "creditcard",
            "key"
           ],
           "payment-terminal": true,
           "renting": 1,
           "returning": 1,
           "slots": 31,
           "uid": "181"
          },
          "free_bikes": 16,
          "id": "4f58715f5aa830d7097b824632c8dbd5",
          "latitude": 45.5173538,
          "longitude": -73.58212888,
          "name": "Clark / Rachel",
          "timestamp": "2023-04-19T12:28:00.277000Z"
         },
         {
          "empty_slots": 1,
          "extra": {
           "ebikes": 3,
           "has_ebikes": true,
           "last_updated": 1681906899,
           "payment": [
            "creditcard",
            "key"
           ],
           "payment-terminal": true,
           "renting": 1,
           "returning": 1,
           "slots": 23,
           "uid": "187"
          },
          "free_bikes": 22,
          "id": "ed2dc14d5dca967b3acc6d04a86d3dd4",
          "latitude": 45.52562819123256,
          "longitude": -73.58177483081818,
          "name": "Resther / du Mont-Royal",
          "timestamp": "2023-04-19T12:28:00.293000Z"
         },
         {
          "empty_slots": 17,
          "extra": {
           "ebikes": 0,
           "has_ebikes": true,
           "last_updated": 1681906311,
           "payment": [
            "creditcard",
            "key"
           ],
           "payment-terminal": true,
           "renting": 1,
           "returning": 1,
           "slots": 27,
           "uid": "188"
          },
          "free_bikes": 10,
          "id": "b3595b16fa264069717263de34d8abab",
          "latitude": 45.526026565221414,
          "longitude": -73.57785880565643,
          "name": "de Mentana / Marie-Anne",
          "timestamp": "2023-04-19T12:28:00.325000Z"
         },
         {
          "empty_slots": 26,
          "extra": {
           "ebikes": 1,
           "has_ebikes": true,
           "last_updated": 1681907250,
           "payment": [
            "creditcard",
            "key"
           ],
           "payment-terminal": true,
           "renting": 1,
           "returning": 1,
           "slots": 31,
           "uid": "124"
          },
          "free_bikes": 1,
          "id": "f8a0ae729a9fb295579ee66a3a5c7066",
          "latitude": 45.50975858607626,
          "longitude": -73.57610732316971,
          "name": "Hutchison / Prince-Arthur",
          "timestamp": "2023-04-19T12:28:00.696000Z"
         },
         {
          "empty_slots": 24,
          "extra": {
           "ebikes": 7,
           "has_ebikes": true,
           "last_updated": 1681907087,
           "payment": [
            "creditcard",
            "key"
           ],
           "payment-terminal": true,
           "renting": 1,
           "returning": 1,
           "slots": 31,
           "uid": "211"
          },
          "free_bikes": 7,
          "id": "da380969c710c121bb277673d745394a",
          "latitude": 45.516906476407094,
          "longitude": -73.57950568199158,
          "name": "Duluth / St-Laurent",
          "timestamp": "2023-04-19T12:28:01.193000Z"
         },
         {
          "empty_slots": 2,
          "extra": {
           "ebikes": 27,
           "has_ebikes": true,
           "last_updated": 1681907194,
           "payment": [
            "creditcard",
            "key"
           ],
           "payment-terminal": true,
           "renting": 1,
           "returning": 1,
           "slots": 35,
           "uid": "218"
          },
          "free_bikes": 33,
          "id": "706aa9cbfdd3690017049a4f1239f340",
          "latitude": 45.51941,
          "longitude": -73.58685,
          "name": "du Mont-Royal / Clark",
          "timestamp": "2023-04-19T12:28:01.200000Z"
         },
         {
          "empty_slots": 17,
          "extra": {
           "ebikes": 5,
           "has_ebikes": true,
           "last_updated": 1681907207,
           "payment": [
            "creditcard",
            "key"
           ],
           "payment-terminal": true,
           "renting": 1,
           "returning": 1,
           "slots": 23,
           "uid": "286"
          },
          "free_bikes": 5,
          "id": "dce3a1ec07d63b448de172e7d72d0ac3",
          "latitude": 45.52428310031213,
          "longitude": -73.6049484461546,
          "name": "Bernard / Jeanne-Mance",
          "timestamp": "2023-04-19T12:28:01.236000Z"
         },
         {
          "empty_slots": 12,
          "extra": {
           "ebikes": 9,
           "has_ebikes": true,
           "last_updated": 1681906468,
           "payment": [
            "creditcard",
            "key"
           ],
           "payment-terminal": true,
           "renting": 1,
           "returning": 1,
           "slots": 23,
           "uid": "224"
          },
          "free_bikes": 10,
          "id": "8680c2c22674be06c18897967d07274d",
          "latitude": 45.52027633320609,
          "longitude": -73.59497621666378,
          "name": "Jeanne-Mance / Laurier",
          "timestamp": "2023-04-19T12:28:01.724000Z"
         },
         {
          "empty_slots": 27,
          "extra": {
           "ebikes": 0,
           "has_ebikes": true,
           "last_updated": 1681907135,
           "payment": [
            "creditcard",
            "key"
           ],
           "payment-terminal": true,
           "renting": 1,
           "returning": 1,
           "slots": 27,
           "uid": "46"
          },
          "free_bikes": 0,
          "id": "6687fb585a268ce2773a3bf177d018d1",
          "latitude": 45.508140959417744,
          "longitude": -73.57492983341217,
          "name": "Milton / Durocher",
          "timestamp": "2023-04-19T12:28:01.887000Z"
         },
         {
          "empty_slots": 22,
          "extra": {
           "ebikes": 3,
           "has_ebikes": true,
           "last_updated": 1681907147,
           "payment": [
            "creditcard",
            "key"
           ],
           "payment-terminal": true,
           "renting": 1,
           "returning": 1,
           "slots": 31,
           "uid": "432"
          },
          "free_bikes": 8,
          "id": "6830d20837ee0a702a0d46d406d28adc",
          "latitude": 45.513342512307055,
          "longitude": -73.57301607728004,
          "name": "Clark / Prince-Arthur",
          "timestamp": "2023-04-19T12:27:59.746000Z"
         },
         {
          "empty_slots": 18,
          "extra": {
           "ebikes": 1,
           "has_ebikes": true,
           "last_updated": 1681907089,
           "payment": [
            "creditcard",
            "key"
           ],
           "payment-terminal": true,
           "renting": 1,
           "returning": 1,
           "slots": 31,
           "uid": "204"
          },
          "free_bikes": 13,
          "id": "b7cf05962849c6800c979739cd747589",
          "latitude": 45.51059,
          "longitude": -73.57547,
          "name": "Prince-Arthur / du Parc",
          "timestamp": "2023-04-19T12:28:00.448000Z"
         },
         {
          "empty_slots": 0,
          "extra": {
           "ebikes": 4,
           "has_ebikes": true,
           "last_updated": 1681907158,
           "payment": [
            "creditcard",
            "key"
           ],
           "payment-terminal": true,
           "renting": 1,
           "returning": 1,
           "slots": 15,
           "uid": "135"
          },
          "free_bikes": 14,
          "id": "934c01777da99558c71fb7d884c0b0fd",
          "latitude": 45.53840340979245,
          "longitude": -73.56196403503418,
          "name": "Bercy / Rachel",
          "timestamp": "2023-04-19T12:27:59.831000Z"
         },
         {
          "empty_slots": 3,
          "extra": {
           "ebikes": 0,
           "has_ebikes": true,
           "last_updated": 1681906877,
           "payment": [
            "creditcard",
            "key"
           ],
           "payment-terminal": true,
           "renting": 1,
           "returning": 1,
           "slots": 11,
           "uid": "205"
          },
          "free_bikes": 6,
          "id": "0ab7d3c6a7bca8046048579a75bd6ee3",
          "latitude": 45.51283174510449,
          "longitude": -73.57688784599304,
          "name": "Ste-Famille / des Pins",
          "timestamp": "2023-04-19T12:28:00.428000Z"
         },
         {
          "empty_slots": 13,
          "extra": {
           "ebikes": 2,
           "has_ebikes": true,
           "last_updated": 1681907060,
           "payment": [
            "creditcard",
            "key"
           ],
           "payment-terminal": true,
           "renting": 1,
           "returning": 1,
           "slots": 23,
           "uid": "219"
          },
          "free_bikes": 10,
          "id": "5cfd60046a752b4509984dd7a4809b97",
          "latitude": 45.51825290855221,
          "longitude": -73.5883381962776,
          "name": "de l'Esplanade / du Mont-Royal",
          "timestamp": "2023-04-19T12:28:01.209000Z"
         },
         {
          "empty_slots": 16,
          "extra": {
           "ebikes": 2,
           "has_ebikes": true,
           "last_updated": 1681907197,
           "payment": [
            "creditcard",
            "key"
           ],
           "payment-terminal": true,
           "renting": 1,
           "returning": 1,
           "slots": 19,
           "uid": "222"
          },
          "free_bikes": 2,
          "id": "59558213efd32c716822b3e9e9570282",
          "latitude": 45.520188,
          "longitude": -73.590559,
          "name": "Villeneuve / St-Urbain",
          "timestamp": "2023-04-19T12:28:01.726000Z"
         },
         {
          "empty_slots": 4,
          "extra": {
           "ebikes": 1,
           "has_ebikes": true,
           "last_updated": 1681907030,
           "payment": [
            "creditcard",
            "key"
           ],
           "payment-terminal": true,
           "renting": 1,
           "returning": 1,
           "slots": 15,
           "uid": "265"
          },
          "free_bikes": 11,
          "id": "046de14b5741438fbdca56a59103a640",
          "latitude": 45.53636263222538,
          "longitude": -73.55421245098114,
          "name": "de Rouen / Hogan",
          "timestamp": "2023-04-19T12:28:01.269000Z"
         },
         {
          "empty_slots": 5,
          "extra": {
           "ebikes": 4,
           "has_ebikes": true,
           "last_updated": 1681907051,
           "payment": [
            "creditcard",
            "key"
           ],
           "payment-terminal": true,
           "renting": 1,
           "returning": 1,
           "slots": 19,
           "uid": "542"
          },
          "free_bikes": 14,
          "id": "427f2a0d1140f625f37362e57df8ddc8",
          "latitude": 45.527672646696104,
          "longitude": -73.59738260507582,
          "name": "de Gaspé / St-Viateur",
          "timestamp": "2023-04-19T12:28:00.647000Z"
         },
         {
          "empty_slots": 6,
          "extra": {
           "ebikes": 4,
           "has_ebikes": true,
           "last_updated": 1681906998,
           "payment": [
            "creditcard",
            "key"
           ],
           "payment-terminal": true,
           "renting": 1,
           "returning": 1,
           "slots": 11,
           "uid": "284"
          },
          "free_bikes": 5,
          "id": "2d115175567a8c88d4f82138687cda9e",
          "latitude": 45.527363,
          "longitude": -73.607723,
          "name": "Waverly / Van Horne",
          "timestamp": "2023-04-19T12:28:01.229000Z"
         },
         {
          "empty_slots": 11,
          "extra": {
           "ebikes": 0,
           "has_ebikes": true,
           "last_updated": 1681907022,
           "payment": [
            "creditcard",
            "key"
           ],
           "payment-terminal": true,
           "renting": 1,
           "returning": 1,
           "slots": 19,
           "uid": "113"
          },
          "free_bikes": 7,
          "id": "03ded6d6c0277b031f18feae9c518a75",
          "latitude": 45.531836726498305,
          "longitude": -73.55348825454712,
          "name": "Poupart / Ontario",
          "timestamp": "2023-04-19T12:28:01.503000Z"
         },
         {
          "empty_slots": 12,
          "extra": {
           "ebikes": 0,
           "has_ebikes": true,
           "last_updated": 1681906043,
           "payment": [
            "creditcard",
            "key"
           ],
           "payment-terminal": true,
           "renting": 1,
           "returning": 1,
           "slots": 15,
           "uid": "237"
          },
          "free_bikes": 1,
          "id": "bee62ce0ebdbbb977892fdd622bb6752",
          "latitude": 45.51748721436461,
          "longitude": -73.59788417816162,
          "name": "Querbes / Laurier",
          "timestamp": "2023-04-19T12:27:59.784000Z"
         },
         {
          "empty_slots": 6,
          "extra": {
           "ebikes": 1,
           "has_ebikes": true,
           "last_updated": 1681906951,
           "payment": [
            "creditcard",
            "key"
           ],
           "payment-terminal": true,
           "renting": 1,
           "returning": 1,
           "slots": 39,
           "uid": "173"
          },
          "free_bikes": 33,
          "id": "f579de6a5a33991af59a9ac22eee6f95",
          "latitude": 45.519266156911335,
          "longitude": -73.5692971944809,
          "name": "Berri / Cherrier",
          "timestamp": "2023-04-19T12:28:00.121000Z"
         },
         {
          "empty_slots": 19,
          "extra": {
           "ebikes": 0,
           "has_ebikes": true,
           "last_updated": 1681907222,
           "payment": [
            "creditcard",
            "key"
           ],
           "payment-terminal": true,
           "renting": 1,
           "returning": 1,
           "slots": 23,
           "uid": "547"
          },
          "free_bikes": 4,
          "id": "f6ab2306a49dab9b89f6c9b84ba9db2a",
          "latitude": 45.508566869474386,
          "longitude": -73.57769787311554,
          "name": "Aylmer / Prince-Arthur",
          "timestamp": "2023-04-19T12:28:00.663000Z"
         },
         {
          "empty_slots": 7,
          "extra": {
           "ebikes": 2,
           "has_ebikes": true,
           "last_updated": 1681906928,
           "payment": [
            "creditcard",
            "key"
           ],
           "payment-terminal": true,
           "renting": 1,
           "returning": 1,
           "slots": 15,
           "uid": "389"
          },
          "free_bikes": 7,
          "id": "39244374a5b3ce23cb1b770ca09bd40c",
          "latitude": 45.51825588419192,
          "longitude": -73.60320568084717,
          "name": "Bloomfied / Elmwood",
          "timestamp": "2023-04-19T12:28:00.918000Z"
         },
         {
          "empty_slots": 0,
          "extra": {
           "ebikes": 6,
           "has_ebikes": true,
           "last_updated": 1681907169,
           "payment": [
            "creditcard",
            "key"
           ],
           "payment-terminal": true,
           "renting": 1,
           "returning": 1,
           "slots": 19,
           "uid": "281"
          },
          "free_bikes": 18,
          "id": "636183b074c59d10b7ef068230b11fb9",
          "latitude": 45.5246829812827,
          "longitude": -73.5788968205452,
          "name": "Marie-Anne / St-Hubert",
          "timestamp": "2023-04-19T12:28:01.213000Z"
         },
         {
          "empty_slots": 6,
          "extra": {
           "ebikes": 7,
           "has_ebikes": true,
           "last_updated": 1681907197,
           "payment": [
            "creditcard",
            "key"
           ],
           "payment-terminal": true,
           "renting": 1,
           "returning": 1,
           "slots": 15,
           "uid": "535"
          },
          "free_bikes": 8,
          "id": "fccd62f25a7dcb4f43bf9a6a18e805be",
          "latitude": 45.52222528598142,
          "longitude": -73.60668718814848,
          "name": "Durocher / Bernard",
          "timestamp": "2023-04-19T12:28:01.429000Z"
         },
         {
          "empty_slots": 12,
          "extra": {
           "ebikes": 3,
           "has_ebikes": true,
           "last_updated": 1681907163,
           "payment": [
            "creditcard",
            "key"
           ],
           "payment-terminal": true,
           "renting": 1,
           "returning": 1,
           "slots": 27,
           "uid": "115"
          },
          "free_bikes": 11,
          "id": "d92d303481fd9aabbebf6b8f94872a15",
          "latitude": 45.5321322155395,
          "longitude": -73.55876013636589,
          "name": "Fullum / de Rouen",
          "timestamp": "2023-04-19T12:28:01.495000Z"
         },
         {
          "empty_slots": 14,
          "extra": {
           "ebikes": 0,
           "has_ebikes": true,
           "last_updated": 1681906038,
           "payment": [
            "creditcard",
            "key"
           ],
           "payment-terminal": true,
           "renting": 1,
           "returning": 1,
           "slots": 15,
           "uid": "118"
          },
          "free_bikes": 0,
          "id": "da210259ebf19775cc34bb29eaf25298",
          "latitude": 45.5367,
          "longitude": -73.56081,
          "name": "Sherbrooke / Frontenac",
          "timestamp": "2023-04-19T12:28:01.509000Z"
         },
         {
          "empty_slots": 9,
          "extra": {
           "ebikes": 4,
           "has_ebikes": true,
           "last_updated": 1681906784,
           "payment": [
            "creditcard",
            "key"
           ],
           "payment-terminal": true,
           "renting": 1,
           "returning": 1,
           "slots": 31,
           "uid": "212"
          },
          "free_bikes": 21,
          "id": "4cfa37d30555ab9641249939855931ed",
          "latitude": 45.516090801970655,
          "longitude": -73.5701286792755,
          "name": "Square St-Louis (du Square St-Louis / Laval)",
          "timestamp": "2023-04-19T12:28:01.174000Z"
         },
         {
          "empty_slots": 10,
          "extra": {
           "ebikes": 5,
           "has_ebikes": true,
           "last_updated": 1681907039,
           "payment": [
            "creditcard",
            "key"
           ],
           "payment-terminal": true,
           "renting": 1,
           "returning": 1,
           "slots": 23,
           "uid": "225"
          },
          "free_bikes": 12,
          "id": "05f141e61629ef218fc51a3f4969d489",
          "latitude": 45.52055948154798,
          "longitude": -73.58582027256489,
          "name": "St-Dominique / du Mont-Royal",
          "timestamp": "2023-04-19T12:28:01.716000Z"
         },
         {
          "empty_slots": 10,
          "extra": {
           "ebikes": 0,
           "has_ebikes": true,
           "last_updated": 1681906135,
           "payment": [
            "creditcard",
            "key"
           ],
           "payment-terminal": true,
           "renting": 1,
           "returning": 1,
           "slots": 27,
           "uid": "175"
          },
          "free_bikes": 17,
          "id": "115474ece7fe0aa5e0a79e56b11b3c8c",
          "latitude": 45.52051578783967,
          "longitude": -73.567695915699,
          "name": "St-André / Cherrier",
          "timestamp": "2023-04-19T12:28:00.032000Z"
         },
         {
          "empty_slots": 12,
          "extra": {
           "ebikes": 4,
           "has_ebikes": true,
           "last_updated": 1681907176,
           "payment": [
            "creditcard",
            "key"
           ],
           "payment-terminal": true,
           "renting": 1,
           "returning": 1,
           "slots": 27,
           "uid": "239"
          },
          "free_bikes": 15,
          "id": "5e5cdc771e75f49bfd45462477eaa3d2",
          "latitude": 45.520545179997015,
          "longitude": -73.60820215362764,
          "name": "Bloomfield / Bernard",
          "timestamp": "2023-04-19T12:27:59.782000Z"
         },
         {
          "empty_slots": 13,
          "extra": {
           "ebikes": 0,
           "has_ebikes": true,
           "last_updated": 1681907046,
           "payment": [
            "creditcard",
            "key"
           ],
           "payment-terminal": true,
           "renting": 1,
           "returning": 1,
           "slots": 15,
           "uid": "140"
          },
          "free_bikes": 2,
          "id": "4ce15c387a972cba5e0f347686a5bed6",
          "latitude": 45.53292625574653,
          "longitude": -73.56377989053726,
          "name": "Gauthier / Parthenais",
          "timestamp": "2023-04-19T12:27:59.801000Z"
         },
         {
          "empty_slots": 22,
          "extra": {
           "ebikes": 0,
           "has_ebikes": true,
           "last_updated": 1681907045,
           "payment": [
            "creditcard",
            "key"
           ],
           "payment-terminal": true,
           "renting": 1,
           "returning": 1,
           "slots": 23,
           "uid": "167"
          },
          "free_bikes": 0,
          "id": "3e9e4f67f3381c248e404a31a444593e",
          "latitude": 45.5358215436799,
          "longitude": -73.58710169792175,
          "name": "Garnier / St-Grégoire",
          "timestamp": "2023-04-19T12:28:01.114000Z"
         },
         {
          "empty_slots": 15,
          "extra": {
           "ebikes": 0,
           "has_ebikes": true,
           "last_updated": 1681907137,
           "payment": [
            "creditcard",
            "key"
           ],
           "payment-terminal": true,
           "renting": 1,
           "returning": 1,
           "slots": 19,
           "uid": "316"
          },
          "free_bikes": 4,
          "id": "45f58d2bbe9530b531b4d156490598a5",
          "latitude": 45.52932643090091,
          "longitude": -73.57480645179749,
          "name": "de Lanaudière / Marie-Anne",
          "timestamp": "2023-04-19T12:28:00.749000Z"
         },
         {
          "empty_slots": 10,
          "extra": {
           "ebikes": 1,
           "has_ebikes": true,
           "last_updated": 1681907140,
           "payment": [
            "creditcard",
            "key"
           ],
           "payment-terminal": true,
           "renting": 1,
           "returning": 1,
           "slots": 31,
           "uid": "155"
          },
          "free_bikes": 21,
          "id": "59613e10c70abb20ad41e36aa5ecd727",
          "latitude": 45.53022106537559,
          "longitude": -73.57699647545813,
          "name": "de Lanaudière / du Mont-Royal",
          "timestamp": "2023-04-19T12:28:01.840000Z"
         },
         {
          "empty_slots": 12,
          "extra": {
           "ebikes": 1,
           "has_ebikes": true,
           "last_updated": 1681907008,
           "payment": [
            "creditcard",
            "key"
           ],
           "payment-terminal": true,
           "renting": 1,
           "returning": 1,
           "slots": 27,
           "uid": "169"
          },
          "free_bikes": 11,
          "id": "f4ecabed1cc5d24dc4d5641aba401496",
          "latitude": 45.527432126380575,
          "longitude": -73.57991673052311,
          "name": "Boyer / du Mont-Royal",
          "timestamp": "2023-04-19T12:28:01.102000Z"
         },
         {
          "empty_slots": 12,
          "extra": {
           "ebikes": 2,
           "has_ebikes": true,
           "last_updated": 1681906872,
           "payment": [
            "creditcard",
            "key"
           ],
           "payment-terminal": true,
           "renting": 1,
           "returning": 1,
           "slots": 15,
           "uid": "149"
          },
          "free_bikes": 3,
          "id": "b17c1462a40c242a182e48fe9202146c",
          "latitude": 45.53867,
          "longitude": -73.56936,
          "name": "Chapleau / du Mont-Royal",
          "timestamp": "2023-04-19T12:27:59.814000Z"
         },
         {
          "empty_slots": 4,
          "extra": {
           "ebikes": 1,
           "has_ebikes": true,
           "last_updated": 1681907182,
           "payment": [
            "creditcard",
            "key"
           ],
           "payment-terminal": true,
           "renting": 1,
           "returning": 1,
           "slots": 19,
           "uid": "609"
          },
          "free_bikes": 15,
          "id": "91999bda6f446db71f0ab1f18ebc4b23",
          "latitude": 45.515604257816335,
          "longitude": -73.57213497161865,
          "name": "Parc de Bullion (de Bullion / Prince-Arthur)",
          "timestamp": "2023-04-19T12:28:01.861000Z"
         },
         {
          "empty_slots": 16,
          "extra": {
           "ebikes": 2,
           "has_ebikes": true,
           "last_updated": 1681904316,
           "payment": [
            "creditcard",
            "key"
           ],
           "payment-terminal": true,
           "renting": 1,
           "returning": 1,
           "slots": 19,
           "uid": "285"
          },
          "free_bikes": 3,
          "id": "f95c4b2a6cd2043afb97a5e167902488",
          "latitude": 45.52497706918177,
          "longitude": -73.6106863617897,
          "name": "Hutchison / Van Horne",
          "timestamp": "2023-04-19T12:28:01.218000Z"
         },
         {
          "empty_slots": 5,
          "extra": {
           "ebikes": 4,
           "has_ebikes": true,
           "last_updated": 1681907131,
           "payment": [
            "creditcard",
            "key"
           ],
           "payment-terminal": true,
           "renting": 1,
           "returning": 1,
           "slots": 19,
           "uid": "534"
          },
          "free_bikes": 13,
          "id": "aa93ad632b7f326332cead40cd3af216",
          "latitude": 45.51915286772737,
          "longitude": -73.61646920442581,
          "name": "Dollard / Van Horne",
          "timestamp": "2023-04-19T12:28:01.534000Z"
         },
         {
          "empty_slots": 11,
          "extra": {
           "ebikes": 1,
           "has_ebikes": true,
           "last_updated": 1681906986,
           "payment": [
            "creditcard",
            "key"
           ],
           "payment-terminal": true,
           "renting": 1,
           "returning": 1,
           "slots": 27,
           "uid": "26"
          },
          "free_bikes": 15,
          "id": "24d6cf55dd9c36caa1aac57ea06d80d7",
          "latitude": 45.502053864057466,
          "longitude": -73.57346534729004,
          "name": "de Maisonneuve / Mansfield (sud)",
          "timestamp": "2023-04-19T12:27:59.845000Z"
         },
         {
          "empty_slots": 8,
          "extra": {
           "ebikes": 0,
           "has_ebikes": true,
           "last_updated": 1681906676,
           "payment": [
            "creditcard",
            "key"
           ],
           "payment-terminal": true,
           "renting": 1,
           "returning": 1,
           "slots": 19,
           "uid": "198"
          },
          "free_bikes": 10,
          "id": "4de7379430623fca6d843562d1ce43e6",
          "latitude": 45.52974,
          "longitude": -73.59527,
          "name": "Hélène-Baillargeon / St-Denis",
          "timestamp": "2023-04-19T12:27:59.699000Z"
         },
         {
          "empty_slots": 19,
          "extra": {
           "ebikes": 2,
           "has_ebikes": true,
           "last_updated": 1681907257,
           "payment": [
            "creditcard",
            "key"
           ],
           "payment-terminal": true,
           "renting": 1,
           "returning": 1,
           "slots": 23,
           "uid": "539"
          },
          "free_bikes": 4,
          "id": "fc76ef32a2323d60d759e2229379418c",
          "latitude": 45.52793332015246,
          "longitude": -73.60122251338906,
          "name": "St-Dominique / Bernard",
          "timestamp": "2023-04-19T12:28:01.472000Z"
         },
         {
          "empty_slots": 0,
          "extra": {
           "ebikes": 0,
           "has_ebikes": true,
           "last_updated": 1681907163,
           "payment": [
            "creditcard",
            "key"
           ],
           "payment-terminal": true,
           "renting": 1,
           "returning": 1,
           "slots": 19,
           "uid": "186"
          },
          "free_bikes": 19,
          "id": "706a3333515c727742dde20b0adbaae3",
          "latitude": 45.52895039362793,
          "longitude": -73.587866127491,
          "name": "St-Hubert / Laurier",
          "timestamp": "2023-04-19T12:28:00.292000Z"
         },
         {
          "empty_slots": 15,
          "extra": {
           "ebikes": 1,
           "has_ebikes": true,
           "last_updated": 1681907163,
           "payment": [
            "creditcard",
            "key"
           ],
           "payment-terminal": true,
           "renting": 1,
           "returning": 1,
           "slots": 22,
           "uid": "206"
          },
          "free_bikes": 5,
          "id": "ff534fa61076a7bc3694dbc2ea26efaf",
          "latitude": 45.51069,
          "longitude": -73.57805,
          "name": "Hutchison / des Pins",
          "timestamp": "2023-04-19T12:28:00.474000Z"
         },
         {
          "empty_slots": 21,
          "extra": {
           "ebikes": 0,
           "has_ebikes": true,
           "last_updated": 1681906940,
           "payment": [
            "creditcard",
            "key"
           ],
           "payment-terminal": true,
           "renting": 1,
           "returning": 1,
           "slots": 23,
           "uid": "551"
          },
          "free_bikes": 2,
          "id": "c73445e90f1a3324b77d2c1fdb4d53e3",
          "latitude": 45.507076248365834,
          "longitude": -73.57228517532349,
          "name": "Durocher / Sherbrooke",
          "timestamp": "2023-04-19T12:27:59.779000Z"
         },
         {
          "empty_slots": 20,
          "extra": {
           "ebikes": 3,
           "has_ebikes": true,
           "last_updated": 1681906995,
           "payment": [
            "creditcard",
            "key"
           ],
           "payment-terminal": true,
           "renting": 1,
           "returning": 1,
           "slots": 27,
           "uid": "401"
          },
          "free_bikes": 7,
          "id": "77be8b3e222ca95757ab876157bb30dc",
          "latitude": 45.514524730294404,
          "longitude": -73.56835573911665,
          "name": "de l'Hôtel-de-Ville / Sherbrooke",
          "timestamp": "2023-04-19T12:27:59.857000Z"
         },
         {
          "empty_slots": 11,
          "extra": {
           "ebikes": 5,
           "has_ebikes": true,
           "last_updated": 1681907020,
           "payment": [
            "creditcard",
            "key"
           ],
           "payment-terminal": true,
           "renting": 1,
           "returning": 1,
           "slots": 19,
           "uid": "417"
          },
          "free_bikes": 8,
          "id": "469ae7d7a28665f3f945c3a1aa53cc0d",
          "latitude": 45.54124722370603,
          "longitude": -73.59104454517365,
          "name": "Cartier / Rosemont",
          "timestamp": "2023-04-19T12:28:00.714000Z"
         },
         {
          "empty_slots": 17,
          "extra": {
           "ebikes": 4,
           "has_ebikes": true,
           "last_updated": 1681906817,
           "payment": [
            "creditcard",
            "key"
           ],
           "payment-terminal": true,
           "renting": 1,
           "returning": 1,
           "slots": 23,
           "uid": "605"
          },
          "free_bikes": 5,
          "id": "638db20afe40bf00a77633fca8ebfee9",
          "latitude": 45.52022241072457,
          "longitude": -73.62985610961914,
          "name": "Graham / Brookfield",
          "timestamp": "2023-04-19T12:28:00.933000Z"
         },
         {
          "empty_slots": 17,
          "extra": {
           "ebikes": 0,
           "has_ebikes": true,
           "last_updated": 1681907220,
           "payment": [
            "creditcard",
            "key"
           ],
           "payment-terminal": true,
           "renting": 1,
           "returning": 1,
           "slots": 19,
           "uid": "257"
          },
          "free_bikes": 2,
          "id": "129434189a0b64ea3316943618e45ff4",
          "latitude": 45.54433850465683,
          "longitude": -73.58794391155243,
          "name": "Louis-Hémon / Rosemont",
          "timestamp": "2023-04-19T12:28:01.002000Z"
         },
         {
          "empty_slots": 16,
          "extra": {
           "ebikes": 0,
           "has_ebikes": true,
           "last_updated": 1681906133,
           "payment": [
            "creditcard",
            "key"
           ],
           "payment-terminal": true,
           "renting": 1,
           "returning": 1,
           "slots": 19,
           "uid": "5"
          },
          "free_bikes": 3,
          "id": "0dcaca1327f9e25a991cda59b2f33ac5",
          "latitude": 45.52588991809354,
          "longitude": -73.65003436803818,
          "name": "Brittany / Ainsley",
          "timestamp": "2023-04-19T12:28:01.915000Z"
         },
         {
          "empty_slots": 4,
          "extra": {
           "ebikes": 3,
           "has_ebikes": true,
           "last_updated": 1681906649,
           "payment": [
            "creditcard",
            "key"
           ],
           "payment-terminal": true,
           "renting": 1,
           "returning": 1,
           "slots": 15,
           "uid": "391"
          },
          "free_bikes": 9,
          "id": "cbd672a65f66f7bfa419431d60aea030",
          "latitude": 45.514918954061876,
          "longitude": -73.61968517303467,
          "name": "Parc Pratt (Dunlop / Van Horne)",
          "timestamp": "2023-04-19T12:28:01.744000Z"
         },
         {
          "empty_slots": 13,
          "extra": {
           "ebikes": 1,
           "has_ebikes": true,
           "last_updated": 1681905237,
           "payment": [
            "creditcard",
            "key"
           ],
           "payment-terminal": true,
           "renting": 1,
           "returning": 1,
           "slots": 19,
           "uid": "279"
          },
          "free_bikes": 6,
          "id": "39dfbf1650c05e4f21a3b196818c4d71",
          "latitude": 45.53341043363302,
          "longitude": -73.60112428665161,
          "name": "de Bellechasse / de St-Vallier",
          "timestamp": "2023-04-19T12:27:59.710000Z"
         },
         {
          "empty_slots": 29,
          "extra": {
           "ebikes": 0,
           "has_ebikes": true,
           "last_updated": 1681907247,
           "payment": [
            "creditcard",
            "key"
           ],
           "payment-terminal": true,
           "renting": 1,
           "returning": 1,
           "slots": 31,
           "uid": "243"
          },
          "free_bikes": 1,
          "id": "2c9020413f1e9874756f0d7fcc743307",
          "latitude": 45.53226461018495,
          "longitude": -73.6110632121563,
          "name": "St-Dominique / St-Zotique",
          "timestamp": "2023-04-19T12:27:59.982000Z"
         },
         {
          "empty_slots": 24,
          "extra": {
           "ebikes": 1,
           "has_ebikes": true,
           "last_updated": 1681906085,
           "payment": [
            "creditcard",
            "key"
           ],
           "payment-terminal": true,
           "renting": 1,
           "returning": 1,
           "slots": 26,
           "uid": "262"
          },
          "free_bikes": 2,
          "id": "4fa269879d40657ffbab12fdb2c851cc",
          "latitude": 45.546661109634606,
          "longitude": -73.58868420124054,
          "name": "Louis-Hébert / de Bellechasse",
          "timestamp": "2023-04-19T12:28:01.263000Z"
         },
         {
          "empty_slots": 16,
          "extra": {
           "ebikes": 3,
           "has_ebikes": true,
           "last_updated": 1681907257,
           "payment": [
            "creditcard",
            "key"
           ],
           "payment-terminal": true,
           "renting": 1,
           "returning": 1,
           "slots": 19,
           "uid": "268"
          },
          "free_bikes": 3,
          "id": "cd346f121dc129eb074db032bcd38d05",
          "latitude": 45.546539011777845,
          "longitude": -73.59866470098495,
          "name": "de Bordeaux / St-Zotique",
          "timestamp": "2023-04-19T12:28:01.305000Z"
         },
         {
          "empty_slots": 12,
          "extra": {
           "ebikes": 1,
           "has_ebikes": true,
           "last_updated": 1681905679,
           "payment": [
            "creditcard",
            "key"
           ],
           "payment-terminal": true,
           "renting": 1,
           "returning": 1,
           "slots": 15,
           "uid": "437"
          },
          "free_bikes": 2,
          "id": "f196e6edd4bbd2457f2b3b90f7566aaf",
          "latitude": 45.522544455627866,
          "longitude": -73.59346926212311,
          "name": "Clark / Laurier",
          "timestamp": "2023-04-19T12:27:59.745000Z"
         },
         {
          "empty_slots": 8,
          "extra": {
           "ebikes": 3,
           "has_ebikes": true,
           "last_updated": 1681905844,
           "payment": [
            "creditcard",
            "key"
           ],
           "payment-terminal": true,
           "renting": 1,
           "returning": 1,
           "slots": 15,
           "uid": "392"
          },
          "free_bikes": 7,
          "id": "63d26eacf7e8f19a45c9e101b6f71ddd",
          "latitude": 45.515617,
          "longitude": -73.614991,
          "name": "Parc Joyce (Rockland / Lajoie)",
          "timestamp": "2023-04-19T12:27:59.924000Z"
         },
         {
          "empty_slots": 1,
          "extra": {
           "ebikes": 0,
           "has_ebikes": true,
           "last_updated": 1681904892,
           "payment": [
            "creditcard",
            "key"
           ],
           "payment-terminal": true,
           "renting": 1,
           "returning": 1,
           "slots": 15,
           "uid": "185"
          },
          "free_bikes": 13,
          "id": "425d72b42e841857dfef54441255aebe",
          "latitude": 45.54912085535069,
          "longitude": -73.60087350010872,
          "name": "des Érables / Bélanger",
          "timestamp": "2023-04-19T12:28:00.294000Z"
         },
         {
          "empty_slots": 7,
          "extra": {
           "ebikes": 4,
           "has_ebikes": true,
           "last_updated": 1681906494,
           "payment": [
            "creditcard",
            "key"
           ],
           "payment-terminal": true,
           "renting": 1,
           "returning": 1,
           "slots": 15,
           "uid": "273"
          },
          "free_bikes": 8,
          "id": "2b57be16a1b802c69de6742a1ec49527",
          "latitude": 45.55001,
          "longitude": -73.59576,
          "name": "Louis-Hébert / St-Zotique",
          "timestamp": "2023-04-19T12:27:59.706000Z"
         },
         {
          "empty_slots": 17,
          "extra": {
           "ebikes": 9,
           "has_ebikes": true,
           "last_updated": 1681906961,
           "payment": [
            "creditcard",
            "key"
           ],
           "payment-terminal": true,
           "renting": 1,
           "returning": 1,
           "slots": 39,
           "uid": "376"
          },
          "free_bikes": 20,
          "id": "3c9ca35a06d4914adaf025fd59c55d8e",
          "latitude": 45.5451997,
          "longitude": -73.57645065,
          "name": "Parc du Pélican (1ère avenue / Masson)",
          "timestamp": "2023-04-19T12:27:59.876000Z"
         },
         {
          "empty_slots": 15,
          "extra": {
           "ebikes": 0,
           "has_ebikes": true,
           "last_updated": 1681907019,
           "payment": [
            "creditcard",
            "key"
           ],
           "payment-terminal": true,
           "renting": 1,
           "returning": 1,
           "slots": 19,
           "uid": "128"
          },
          "free_bikes": 0,
          "id": "412b6c7d157d69fcf39a8ec8a1269c69",
          "latitude": 45.531957916826386,
          "longitude": -73.60700100660324,
          "name": "de Gaspé / Beaubien",
          "timestamp": "2023-04-19T12:28:00.704000Z"
         },
         {
          "empty_slots": 21,
          "extra": {
           "ebikes": 5,
           "has_ebikes": true,
           "last_updated": 1681906508,
           "payment": [
            "creditcard",
            "key"
           ],
           "payment-terminal": true,
           "renting": 1,
           "returning": 1,
           "slots": 39,
           "uid": "254"
          },
          "free_bikes": 18,
          "id": "a55042c1563ddaefa910fdd0553e594a",
          "latitude": 45.537087833013324,
          "longitude": -73.59321847558022,
          "name": "Parc Père-Marquette (Chambord / Rosemont)",
          "timestamp": "2023-04-19T12:28:01.009000Z"
         },
         {
          "empty_slots": 18,
          "extra": {
           "ebikes": 6,
           "has_ebikes": true,
           "last_updated": 1681906624,
           "payment": [
            "creditcard",
            "key"
           ],
           "payment-terminal": true,
           "renting": 1,
           "returning": 1,
           "slots": 31,
           "uid": "162"
          },
          "free_bikes": 10,
          "id": "b8fa3135508e1b6500591a38636be02e",
          "latitude": 45.52952466565309,
          "longitude": -73.60488876700401,
          "name": "St-Dominique / de Bellechasse",
          "timestamp": "2023-04-19T12:28:01.116000Z"
         },
         {
          "empty_slots": 4,
          "extra": {
           "ebikes": 8,
           "has_ebikes": true,
           "last_updated": 1681906242,
           "payment": [
            "creditcard",
            "key"
           ],
           "payment-terminal": true,
           "renting": 1,
           "returning": 1,
           "slots": 15,
           "uid": "221"
          },
          "free_bikes": 10,
          "id": "858fd4009507f33322a20093acca0ced",
          "latitude": 45.51829,
          "longitude": -73.59235,
          "name": "Villeneuve / du Parc",
          "timestamp": "2023-04-19T12:28:01.732000Z"
         },
         {
          "empty_slots": 6,
          "extra": {
           "ebikes": 9,
           "has_ebikes": true,
           "last_updated": 1681906504,
           "payment": [
            "creditcard",
            "key"
           ],
           "payment-terminal": true,
           "renting": 1,
           "returning": 1,
           "slots": 15,
           "uid": "366"
          },
          "free_bikes": 9,
          "id": "de47bdda50a0b713a267c0bd08d0a959",
          "latitude": 45.54779995287998,
          "longitude": -73.58486741781235,
          "name": "1ère avenue / Rosemont",
          "timestamp": "2023-04-19T12:28:00.786000Z"
         },
         {
          "empty_slots": 8,
          "extra": {
           "ebikes": 4,
           "has_ebikes": true,
           "last_updated": 1681907113,
           "payment": [
            "creditcard",
            "key"
           ],
           "payment-terminal": true,
           "renting": 1,
           "returning": 1,
           "slots": 15,
           "uid": "362"
          },
          "free_bikes": 7,
          "id": "fb827e1f22e7180918b8311814ad5b5b",
          "latitude": 45.551937362101,
          "longitude": -73.59392791986465,
          "name": "1ère  avenue / St-Zotique",
          "timestamp": "2023-04-19T12:28:00.810000Z"
         },
         {
          "empty_slots": 22,
          "extra": {
           "ebikes": 5,
           "has_ebikes": true,
           "last_updated": 1681906417,
           "payment": [
            "creditcard",
            "key"
           ],
           "payment-terminal": true,
           "renting": 1,
           "returning": 1,
           "slots": 31,
           "uid": "278"
          },
          "free_bikes": 7,
          "id": "0804af1a0607c5aff81fae6d4bab8fc7",
          "latitude": 45.53409866804061,
          "longitude": -73.59553456306458,
          "name": "Boyer / Rosemont",
          "timestamp": "2023-04-19T12:27:59.709000Z"
         },
         {
          "empty_slots": 8,
          "extra": {
           "ebikes": 5,
           "has_ebikes": true,
           "last_updated": 1681906492,
           "payment": [
            "creditcard",
            "key"
           ],
           "payment-terminal": true,
           "renting": 1,
           "returning": 1,
           "slots": 23,
           "uid": "269"
          },
          "free_bikes": 14,
          "id": "d6c3fafac0ba50db181823baf216ba98",
          "latitude": 45.546779039476185,
          "longitude": -73.60281676054001,
          "name": "Cartier / Bélanger",
          "timestamp": "2023-04-19T12:28:01.289000Z"
         },
         {
          "empty_slots": 9,
          "extra": {
           "ebikes": 3,
           "has_ebikes": true,
           "last_updated": 1681907011,
           "payment": [
            "creditcard",
            "key"
           ],
           "payment-terminal": true,
           "renting": 1,
           "returning": 1,
           "slots": 19,
           "uid": "216"
          },
          "free_bikes": 8,
          "id": "fbce0c9761735863a0a102042faea923",
          "latitude": 45.51733075399989,
          "longitude": -73.57449866831303,
          "name": "de l'Hôtel-de-Ville / Roy",
          "timestamp": "2023-04-19T12:28:01.161000Z"
         },
         {
          "empty_slots": 6,
          "extra": {
           "ebikes": 8,
           "has_ebikes": true,
           "last_updated": 1681907123,
           "payment": [
            "creditcard",
            "key"
           ],
           "payment-terminal": true,
           "renting": 1,
           "returning": 1,
           "slots": 19,
           "uid": "264"
          },
          "free_bikes": 13,
          "id": "d4b0eb7bc61aae6326fe725d85da751d",
          "latitude": 45.539900246044354,
          "longitude": -73.59936207532883,
          "name": "Chambord / Beaubien",
          "timestamp": "2023-04-19T12:28:01.271000Z"
         },
         {
          "empty_slots": 20,
          "extra": {
           "ebikes": 3,
           "has_ebikes": true,
           "last_updated": 1681907118,
           "payment": [
            "creditcard",
            "key"
           ],
           "payment-terminal": true,
           "renting": 1,
           "returning": 1,
           "slots": 23,
           "uid": "157"
          },
          "free_bikes": 3,
          "id": "e4a5e5301aba4cd89564b10966fb81c9",
          "latitude": 45.52927839879717,
          "longitude": -73.57792854309082,
          "name": "de Brébeuf / du Mont-Royal",
          "timestamp": "2023-04-19T12:28:01.849000Z"
         },
         {
          "empty_slots": 19,
          "extra": {
           "ebikes": 1,
           "has_ebikes": true,
           "last_updated": 1681906861,
           "payment": [
            "creditcard",
            "key"
           ],
           "payment-terminal": true,
           "renting": 1,
           "returning": 1,
           "slots": 23,
           "uid": "127"
          },
          "free_bikes": 4,
          "id": "02044f52405851c50980c20964349a5d",
          "latitude": 45.533348,
          "longitude": -73.605834,
          "name": "Drolet / Beaubien",
          "timestamp": "2023-04-19T12:28:00.701000Z"
         },
         {
          "empty_slots": 5,
          "extra": {
           "ebikes": 3,
           "has_ebikes": true,
           "last_updated": 1681906561,
           "payment": [
            "creditcard",
            "key"
           ],
           "payment-terminal": true,
           "renting": 1,
           "returning": 1,
           "slots": 19,
           "uid": "74"
          },
          "free_bikes": 13,
          "id": "31e638f409c4a93e68f461daed035811",
          "latitude": 45.54990048023633,
          "longitude": -73.58308374881744,
          "name": "5e avenue / Rosemont",
          "timestamp": "2023-04-19T12:28:00.498000Z"
         },
         {
          "empty_slots": 3,
          "extra": {
           "ebikes": 7,
           "has_ebikes": true,
           "last_updated": 1681906827,
           "payment": [
            "creditcard",
            "key"
           ],
           "payment-terminal": true,
           "renting": 1,
           "returning": 1,
           "slots": 15,
           "uid": "263"
          },
          "free_bikes": 11,
          "id": "8951d589de5b1127135d823158676a54",
          "latitude": 45.544375546398065,
          "longitude": -73.59564453363419,
          "name": "Chabot / Beaubien",
          "timestamp": "2023-04-19T12:28:01.249000Z"
         },
         {
          "empty_slots": 4,
          "extra": {
           "ebikes": 4,
           "has_ebikes": true,
           "last_updated": 1681906319,
           "payment": [
            "creditcard",
            "key"
           ],
           "payment-terminal": true,
           "renting": 1,
           "returning": 1,
           "slots": 19,
           "uid": "50"
          },
          "free_bikes": 13,
          "id": "efaae4b093ad86f718bcc49ef399d653",
          "latitude": 45.5315079142152,
          "longitude": -73.60308364033699,
          "name": "Henri-Julien / de Bellechasse",
          "timestamp": "2023-04-19T12:28:01.385000Z"
         },
         {
          "empty_slots": 1,
          "extra": {
           "ebikes": 5,
           "has_ebikes": true,
           "last_updated": 1681894520,
           "payment": [
            "creditcard",
            "key"
           ],
           "payment-terminal": true,
           "renting": 1,
           "returning": 1,
           "slots": 19,
           "uid": "487"
          },
          "free_bikes": 17,
          "id": "e2922721127dd2164c595a61feb86504",
          "latitude": 45.563709940264175,
          "longitude": -73.57139468193054,
          "name": "27e avenue / Rosemont",
          "timestamp": "2023-04-19T12:28:01.924000Z"
         },
         {
          "empty_slots": 17,
          "extra": {
           "ebikes": 0,
           "has_ebikes": true,
           "last_updated": 1681906759,
           "payment": [
            "creditcard",
            "key"
           ],
           "payment-terminal": true,
           "renting": 1,
           "returning": 1,
           "slots": 19,
           "uid": "315"
          },
          "free_bikes": 2,
          "id": "b0f4cfae8d6efd744b142c7f3140e5dc",
          "latitude": 45.53488214147823,
          "longitude": -73.60941231250763,
          "name": "Drolet / St-Zotique",
          "timestamp": "2023-04-19T12:28:00.753000Z"
         },
         {
          "empty_slots": 13,
          "extra": {
           "ebikes": 9,
           "has_ebikes": true,
           "last_updated": 1681907212,
           "payment": [
            "creditcard",
            "key"
           ],
           "payment-terminal": true,
           "renting": 1,
           "returning": 1,
           "slots": 27,
           "uid": "276"
          },
          "free_bikes": 14,
          "id": "73bae244a5e74910ef39ad95e47d7e6e",
          "latitude": 45.54391953154915,
          "longitude": -73.58424894533528,
          "name": "Fullum / Holt",
          "timestamp": "2023-04-19T12:27:59.708000Z"
         },
         {
          "empty_slots": 11,
          "extra": {
           "ebikes": 3,
           "has_ebikes": true,
           "last_updated": 1681906158,
           "payment": [
            "creditcard",
            "key"
           ],
           "payment-terminal": true,
           "renting": 1,
           "returning": 1,
           "slots": 19,
           "uid": "371"
          },
          "free_bikes": 8,
          "id": "241e9669df3c4df212819dbb4d2f63cc",
          "latitude": 45.54800352985515,
          "longitude": -73.58138993382454,
          "name": "3e avenue / Holt",
          "timestamp": "2023-04-19T12:27:59.870000Z"
         },
         {
          "empty_slots": 17,
          "extra": {
           "ebikes": 0,
           "has_ebikes": true,
           "last_updated": 1681907249,
           "payment": [
            "creditcard",
            "key"
           ],
           "payment-terminal": true,
           "renting": 1,
           "returning": 1,
           "slots": 19,
           "uid": "253"
          },
          "free_bikes": 2,
          "id": "c88102464b88e2dae390420e94d969a9",
          "latitude": 45.536434338630336,
          "longitude": -73.60783427975548,
          "name": "de St-Vallier / St-Zotique",
          "timestamp": "2023-04-19T12:28:00.225000Z"
         },
         {
          "empty_slots": 16,
          "extra": {
           "ebikes": 3,
           "has_ebikes": true,
           "last_updated": 1681907224,
           "payment": [
            "creditcard",
            "key"
           ],
           "payment-terminal": true,
           "renting": 1,
           "returning": 1,
           "slots": 23,
           "uid": "256"
          },
          "free_bikes": 6,
          "id": "23a2852bdcd316d3a09bc9b72aed633c",
          "latitude": 45.53923559055867,
          "longitude": -73.58594566583633,
          "name": "Cartier / Dandurand",
          "timestamp": "2023-04-19T12:28:01.001000Z"
         },
         {
          "empty_slots": 5,
          "extra": {
           "ebikes": 5,
           "has_ebikes": true,
           "last_updated": 1681906420,
           "payment": [
            "creditcard",
            "key"
           ],
           "payment-terminal": true,
           "renting": 1,
           "returning": 1,
           "slots": 19,
           "uid": "606"
          },
          "free_bikes": 14,
          "id": "85c717da7306440022c12ccb771b0bde",
          "latitude": 45.51693654712809,
          "longitude": -73.64048302173615,
          "name": "Graham / Wicksteed",
          "timestamp": "2023-04-19T12:27:59.689000Z"
         },
         {
          "empty_slots": 13,
          "extra": {
           "ebikes": 1,
           "has_ebikes": true,
           "last_updated": 1681905061,
           "payment": [
            "creditcard",
            "key"
           ],
           "payment-terminal": true,
           "renting": 1,
           "returning": 1,
           "slots": 15,
           "uid": "465"
          },
          "free_bikes": 1,
          "id": "57c201651dba51666c7f98afb887cb07",
          "latitude": 45.5315236502754,
          "longitude": -73.61701235175133,
          "name": "Mozart / Waverly",
          "timestamp": "2023-04-19T12:28:01.082000Z"
         },
         {
          "empty_slots": 11,
          "extra": {
           "ebikes": 1,
           "has_ebikes": true,
           "last_updated": 1681906198,
           "payment": [
            "creditcard",
            "key"
           ],
           "payment-terminal": true,
           "renting": 1,
           "returning": 1,
           "slots": 19,
           "uid": "260"
          },
          "free_bikes": 8,
          "id": "a4c072a3a28ccae3ffb48dc1c461355e",
          "latitude": 45.5425697477813,
          "longitude": -73.59214425086974,
          "name": "Chabot / de Bellechasse",
          "timestamp": "2023-04-19T12:28:01.264000Z"
         },
         {
          "empty_slots": 8,
          "extra": {
           "ebikes": 3,
           "has_ebikes": true,
           "last_updated": 1681907011,
           "payment": [
            "creditcard",
            "key"
           ],
           "payment-terminal": true,
           "renting": 1,
           "returning": 1,
           "slots": 23,
           "uid": "578"
          },
          "free_bikes": 14,
          "id": "e3bc8082b32ea4f2d9185551c9e96782",
          "latitude": 45.54365085053057,
          "longitude": -73.60565051436424,
          "name": "de Lanaudière / Bélanger",
          "timestamp": "2023-04-19T12:28:00.935000Z"
         },
         {
          "empty_slots": 9,
          "extra": {
           "ebikes": 5,
           "has_ebikes": true,
           "last_updated": 1681906928,
           "payment": [
            "creditcard",
            "key"
           ],
           "payment-terminal": true,
           "renting": 1,
           "returning": 1,
           "slots": 19,
           "uid": "502"
          },
          "free_bikes": 9,
          "id": "4d42e407ec7212f713c24dd4ea217b87",
          "latitude": 45.53050525974957,
          "longitude": -73.61470833420753,
          "name": "Waverly / St-Zotique",
          "timestamp": "2023-04-19T12:28:01.051000Z"
         },
         {
          "empty_slots": 14,
          "extra": {
           "ebikes": 5,
           "has_ebikes": true,
           "last_updated": 1681907128,
           "payment": [
            "creditcard",
            "key"
           ],
           "payment-terminal": true,
           "renting": 1,
           "returning": 1,
           "slots": 23,
           "uid": "378"
          },
          "free_bikes": 9,
          "id": "4db50e7a836ddc515ca0d69697d87e8d",
          "latitude": 45.55389801568004,
          "longitude": -73.5713866353035,
          "name": "15e avenue / Masson",
          "timestamp": "2023-04-19T12:27:59.868000Z"
         },
         {
          "empty_slots": 12,
          "extra": {
           "ebikes": 0,
           "has_ebikes": true,
           "last_updated": 1681907078,
           "payment": [
            "creditcard",
            "key"
           ],
           "payment-terminal": true,
           "renting": 1,
           "returning": 1,
           "slots": 19,
           "uid": "266"
          },
          "free_bikes": 7,
          "id": "4fb0196e6cefd3c0304f2f7497e1d53a",
          "latitude": 45.543653916207866,
          "longitude": -73.60126135876271,
          "name": "Fabre / St-Zotique",
          "timestamp": "2023-04-19T12:28:01.266000Z"
         },
         {
          "empty_slots": 5,
          "extra": {
           "ebikes": 4,
           "has_ebikes": true,
           "last_updated": 1681907089,
           "payment": [
            "creditcard",
            "key"
           ],
           "payment-terminal": true,
           "renting": 1,
           "returning": 1,
           "slots": 23,
           "uid": "380"
          },
          "free_bikes": 17,
          "id": "63de8e2869ba1c19473b4f0820d45595",
          "latitude": 45.55293611277267,
          "longitude": -73.56577143073082,
          "name": "16e avenue / St-Joseph",
          "timestamp": "2023-04-19T12:28:00.877000Z"
         },
         {
          "empty_slots": 11,
          "extra": {
           "ebikes": 2,
           "has_ebikes": true,
           "last_updated": 1681907143,
           "payment": [
            "creditcard",
            "key"
           ],
           "payment-terminal": true,
           "renting": 1,
           "returning": 1,
           "slots": 23,
           "uid": "250"
          },
          "free_bikes": 10,
          "id": "03306a21cafcf901fa4a45504a834c72",
          "latitude": 45.54006,
          "longitude": -73.60897,
          "name": "Boyer / Bélanger",
          "timestamp": "2023-04-19T12:28:00.997000Z"
         },
         {
          "empty_slots": 11,
          "extra": {
           "ebikes": 0,
           "has_ebikes": true,
           "last_updated": 1681907213,
           "payment": [
            "creditcard",
            "key"
           ],
           "payment-terminal": true,
           "renting": 1,
           "returning": 1,
           "slots": 15,
           "uid": "554"
          },
          "free_bikes": 4,
          "id": "e59c27358dc6658647b8d0be8f8c7573",
          "latitude": 45.52954744851231,
          "longitude": -73.61071854829788,
          "name": "St-Urbain / Beaubien",
          "timestamp": "2023-04-19T12:27:59.777000Z"
         },
         {
          "empty_slots": 17,
          "extra": {
           "ebikes": 2,
           "has_ebikes": true,
           "last_updated": 1681907194,
           "payment": [
            "creditcard",
            "key"
           ],
           "payment-terminal": true,
           "renting": 1,
           "returning": 1,
           "slots": 23,
           "uid": "153"
          },
          "free_bikes": 6,
          "id": "8efb5a0805e2a3e9ffaaff30fb84d12b",
          "latitude": 45.53176697148175,
          "longitude": -73.5724139213562,
          "name": "Marie-Anne / Papineau",
          "timestamp": "2023-04-19T12:28:01.835000Z"
         },
         {
          "empty_slots": 2,
          "extra": {
           "ebikes": 0,
           "has_ebikes": true,
           "last_updated": 1681906033,
           "payment": [
            "creditcard",
            "key"
           ],
           "payment-terminal": true,
           "renting": 1,
           "returning": 1,
           "slots": 15,
           "uid": "587"
          },
          "free_bikes": 13,
          "id": "0e65563d2226c6db5333bd73b597e709",
          "latitude": 45.518128086513194,
          "longitude": -73.56185138225555,
          "name": "St-André / Robin",
          "timestamp": "2023-04-19T12:27:59.971000Z"
         },
         {
          "empty_slots": 13,
          "extra": {
           "ebikes": 0,
           "has_ebikes": true,
           "last_updated": 1681905466,
           "payment": [
            "creditcard",
            "key"
           ],
           "payment-terminal": true,
           "renting": 1,
           "returning": 1,
           "slots": 15,
           "uid": "654"
          },
          "free_bikes": 0,
          "id": "cd4c0fdebcb37039488e28460460af01",
          "latitude": 45.527650097960205,
          "longitude": -73.61229971051216,
          "name": "Jeanne-Mance / Beaubien",
          "timestamp": "2023-04-19T12:28:00.215000Z"
         },
         {
          "empty_slots": 16,
          "extra": {
           "ebikes": 2,
           "has_ebikes": true,
           "last_updated": 1681907222,
           "payment": [
            "creditcard",
            "key"
           ],
           "payment-terminal": true,
           "renting": 1,
           "returning": 1,
           "slots": 27,
           "uid": "52"
          },
          "free_bikes": 9,
          "id": "416cf5d02e2213626d5df87e159af93a",
          "latitude": 45.508204615051355,
          "longitude": -73.56881439685822,
          "name": "Métro Place-des-Arts (du Président-Kennedy / Jeanne-Mance)",
          "timestamp": "2023-04-19T12:28:01.393000Z"
         },
         {
          "empty_slots": 10,
          "extra": {
           "ebikes": 1,
           "has_ebikes": true,
           "last_updated": 1681907266,
           "payment": [
            "creditcard",
            "key"
           ],
           "payment-terminal": true,
           "renting": 1,
           "returning": 1,
           "slots": 15,
           "uid": "141"
          },
          "free_bikes": 5,
          "id": "a2c46273aac398c46a03e72aac69153b",
          "latitude": 45.52983801723605,
          "longitude": -73.5703244805336,
          "name": "Marquette / Rachel",
          "timestamp": "2023-04-19T12:27:59.802000Z"
         },
         {
          "empty_slots": 12,
          "extra": {
           "ebikes": 0,
           "has_ebikes": true,
           "last_updated": 1681906981,
           "payment": [
            "creditcard",
            "key"
           ],
           "payment-terminal": true,
           "renting": 1,
           "returning": 1,
           "slots": 23,
           "uid": "171"
          },
          "free_bikes": 8,
          "id": "cfc4f0090e99d2d5893cf2fa180ac31c",
          "latitude": 45.51958082831579,
          "longitude": -73.5601159930229,
          "name": "Wolfe / Robin",
          "timestamp": "2023-04-19T12:28:00.141000Z"
         },
         {
          "empty_slots": 13,
          "extra": {
           "ebikes": 2,
           "has_ebikes": true,
           "last_updated": 1681907158,
           "payment": [
            "creditcard",
            "key"
           ],
           "payment-terminal": true,
           "renting": 1,
           "returning": 1,
           "slots": 23,
           "uid": "319"
          },
          "free_bikes": 10,
          "id": "97d3674bee845c38c126be32647c8c6a",
          "latitude": 45.55358456339093,
          "longitude": -73.56052905321121,
          "name": "Bourbonnière / du Mont-Royal",
          "timestamp": "2023-04-19T12:28:00.729000Z"
         },
         {
          "empty_slots": 20,
          "extra": {
           "ebikes": 1,
           "has_ebikes": true,
           "last_updated": 1681906101,
           "payment": [
            "creditcard",
            "key"
           ],
           "payment-terminal": true,
           "renting": 1,
           "returning": 1,
           "slots": 23,
           "uid": "629"
          },
          "free_bikes": 3,
          "id": "6ecaf7d11d573ebfe1e6d00703d11552",
          "latitude": 45.514080696641386,
          "longitude": -73.64694982767105,
          "name": "Graham / Kindersley",
          "timestamp": "2023-04-19T12:27:59.858000Z"
         },
         {
          "empty_slots": 6,
          "extra": {
           "ebikes": 3,
           "has_ebikes": true,
           "last_updated": 1681907218,
           "payment": [
            "creditcard",
            "key"
           ],
           "payment-terminal": true,
           "renting": 1,
           "returning": 1,
           "slots": 23,
           "uid": "421"
          },
          "free_bikes": 8,
          "id": "3cbb64215b647b4779187f72b150a036",
          "latitude": 45.50229349416256,
          "longitude": -73.5733064264059,
          "name": "de Maisonneuve / Mansfield SE",
          "timestamp": "2023-04-19T12:28:01.538000Z"
         },
         {
          "empty_slots": 8,
          "extra": {
           "ebikes": 5,
           "has_ebikes": true,
           "last_updated": 1681907266,
           "payment": [
            "creditcard",
            "key"
           ],
           "payment-terminal": true,
           "renting": 1,
           "returning": 1,
           "slots": 15,
           "uid": "735"
          },
          "free_bikes": 5,
          "id": "5fc280895d73433263120a63fda937fe",
          "latitude": 45.51577505385328,
          "longitude": -73.60060930252075,
          "name": "McCulloch / de la Côte Ste-Catherine",
          "timestamp": "2023-04-19T12:28:01.029000Z"
         },
         {
          "empty_slots": 4,
          "extra": {
           "ebikes": 4,
           "has_ebikes": true,
           "last_updated": 1681905766,
           "payment": [
            "creditcard",
            "key"
           ],
           "payment-terminal": true,
           "renting": 1,
           "returning": 1,
           "slots": 15,
           "uid": "477"
          },
          "free_bikes": 10,
          "id": "2c57dc3c587c73e643e570106ee6c6b2",
          "latitude": 45.56485589064712,
          "longitude": -73.5774926841259,
          "name": "26e avenue / Beaubien",
          "timestamp": "2023-04-19T12:28:01.976000Z"
         },
         {
          "empty_slots": 19,
          "extra": {
           "ebikes": 0,
           "has_ebikes": true,
           "last_updated": 1681906919,
           "payment": [
            "creditcard",
            "key"
           ],
           "payment-terminal": true,
           "renting": 1,
           "returning": 1,
           "slots": 19,
           "uid": "525"
          },
          "free_bikes": 0,
          "id": "bff6b64dea26da4576eb8c91c75548b1",
          "latitude": 45.5150280816668,
          "longitude": -73.55635821819305,
          "name": "St-Christophe / René-Lévesque",
          "timestamp": "2023-04-19T12:27:59.712000Z"
         },
         {
          "empty_slots": 17,
          "extra": {
           "ebikes": 0,
           "has_ebikes": true,
           "last_updated": 1681907266,
           "payment": [
            "creditcard",
            "key"
           ],
           "payment-terminal": true,
           "renting": 1,
           "returning": 1,
           "slots": 23,
           "uid": "368"
          },
          "free_bikes": 6,
          "id": "4248074bfe0e352b10c588b4c6db0b87",
          "latitude": 45.54991069359101,
          "longitude": -73.55826258659361,
          "name": "de Chambly / Rachel",
          "timestamp": "2023-04-19T12:28:00.785000Z"
         },
         {
          "empty_slots": 18,
          "extra": {
           "ebikes": 6,
           "has_ebikes": true,
           "last_updated": 1681907143,
           "payment": [
            "creditcard",
            "key"
           ],
           "payment-terminal": true,
           "renting": 1,
           "returning": 1,
           "slots": 27,
           "uid": "484"
          },
          "free_bikes": 8,
          "id": "bfbed6de4427cc9ed84510fa2c5562a6",
          "latitude": 45.570081,
          "longitude": -73.573047,
          "name": "35e avenue / Beaubien",
          "timestamp": "2023-04-19T12:28:01.938000Z"
         },
         {
          "empty_slots": 3,
          "extra": {
           "ebikes": 3,
           "has_ebikes": true,
           "last_updated": 1681894529,
           "payment": [
            "creditcard",
            "key"
           ],
           "payment-terminal": true,
           "renting": 1,
           "returning": 1,
           "slots": 15,
           "uid": "666"
          },
          "free_bikes": 11,
          "id": "5ae7969919d8e78a934a8cb7286dd3f5",
          "latitude": 45.50316529501043,
          "longitude": -73.66222634911537,
          "name": "Plymouth / Duncan",
          "timestamp": "2023-04-19T12:28:00.557000Z"
         },
         {
          "empty_slots": 13,
          "extra": {
           "ebikes": 1,
           "has_ebikes": true,
           "last_updated": 1681907149,
           "payment": [
            "creditcard",
            "key"
           ],
           "payment-terminal": true,
           "renting": 1,
           "returning": 1,
           "slots": 19,
           "uid": "121"
          },
          "free_bikes": 5,
          "id": "5f2a393b4ee449fd5e40048b00911753",
          "latitude": 45.529914321737415,
          "longitude": -73.56302618980408,
          "name": "Bordeaux / Sherbrooke",
          "timestamp": "2023-04-19T12:28:00.693000Z"
         },
         {
          "empty_slots": 6,
          "extra": {
           "ebikes": 1,
           "has_ebikes": true,
           "last_updated": 1681903388,
           "payment": [
            "creditcard",
            "key"
           ],
           "payment-terminal": true,
           "renting": 1,
           "returning": 1,
           "slots": 19,
           "uid": "323"
          },
          "free_bikes": 13,
          "id": "d750c6a972586087e3a61f5039a305cf",
          "latitude": 45.55061693669672,
          "longitude": -73.54901432991028,
          "name": "d'Orléans / Hochelaga",
          "timestamp": "2023-04-19T12:28:00.398000Z"
         },
         {
          "empty_slots": 18,
          "extra": {
           "ebikes": 2,
           "has_ebikes": true,
           "last_updated": 1681907051,
           "payment": [
            "creditcard",
            "key"
           ],
           "payment-terminal": true,
           "renting": 1,
           "returning": 1,
           "slots": 23,
           "uid": "595"
          },
          "free_bikes": 4,
          "id": "9dbc225970bc3623c91fd503d77751ef",
          "latitude": 45.54959767887176,
          "longitude": -73.54187428951263,
          "name": "Jeanne-d'Arc / Ontario",
          "timestamp": "2023-04-19T12:27:59.673000Z"
         },
         {
          "empty_slots": 12,
          "extra": {
           "ebikes": 1,
           "has_ebikes": true,
           "last_updated": 1681904797,
           "payment": [
            "creditcard",
            "key"
           ],
           "payment-terminal": true,
           "renting": 1,
           "returning": 1,
           "slots": 19,
           "uid": "653"
          },
          "free_bikes": 7,
          "id": "d5f8970c51111a8acd3612e60a278f47",
          "latitude": 45.57178977666956,
          "longitude": -73.56431499123573,
          "name": "41e avenue / Rosemont",
          "timestamp": "2023-04-19T12:28:00.353000Z"
         },
         {
          "empty_slots": 13,
          "extra": {
           "ebikes": 0,
           "has_ebikes": true,
           "last_updated": 1681876534,
           "payment": [
            "creditcard",
            "key"
           ],
           "payment-terminal": true,
           "renting": 1,
           "returning": 1,
           "slots": 19,
           "uid": "699"
          },
          "free_bikes": 6,
          "id": "7bd0327716a2b7b7ea04361e80d53423",
          "latitude": 45.526765,
          "longitude": -73.730423,
          "name": "Parc de Beauséjour (Gouin / Henri-d'Arles)",
          "timestamp": "2023-04-19T12:28:00.633000Z"
         },
         {
          "empty_slots": 19,
          "extra": {
           "ebikes": 0,
           "has_ebikes": true,
           "last_updated": 1681906527,
           "payment": [
            "creditcard",
            "key"
           ],
           "payment-terminal": true,
           "renting": 1,
           "returning": 1,
           "slots": 23,
           "uid": "361"
          },
          "free_bikes": 4,
          "id": "4a0edadcaf1f36efd17948fdf1407120",
          "latitude": 45.5568667309625,
          "longitude": -73.589306473732,
          "name": "12e avenue / St-Zotique",
          "timestamp": "2023-04-19T12:28:00.857000Z"
         },
         {
          "empty_slots": 12,
          "extra": {
           "ebikes": 5,
           "has_ebikes": true,
           "last_updated": 1681905646,
           "payment": [
            "creditcard",
            "key"
           ],
           "payment-terminal": true,
           "renting": 1,
           "returning": 1,
           "slots": 23,
           "uid": "458"
          },
          "free_bikes": 8,
          "id": "edde889fae7031ef9951452b3d46c13c",
          "latitude": 45.56168275734862,
          "longitude": -73.58564794063568,
          "name": "19e avenue / St-Zotique",
          "timestamp": "2023-04-19T12:27:59.992000Z"
         },
         {
          "empty_slots": 16,
          "extra": {
           "ebikes": 1,
           "has_ebikes": true,
           "last_updated": 1681904379,
           "payment": [
            "creditcard",
            "key"
           ],
           "payment-terminal": true,
           "renting": 1,
           "returning": 1,
           "slots": 19,
           "uid": "664"
          },
          "free_bikes": 2,
          "id": "01f9b7e63833ad61e80a7963e2ad9b25",
          "latitude": 45.57934937043077,
          "longitude": -73.58168095350266,
          "name": "de Lisieux / Jean-Talon",
          "timestamp": "2023-04-19T12:28:00.559000Z"
         },
         {
          "empty_slots": 15,
          "extra": {
           "ebikes": 0,
           "has_ebikes": true,
           "last_updated": 1681907116,
           "payment": [
            "creditcard",
            "key"
           ],
           "payment-terminal": true,
           "renting": 1,
           "returning": 1,
           "slots": 23,
           "uid": "247"
          },
          "free_bikes": 8,
          "id": "364cabb5949c7690cffca04ee3c6a4b5",
          "latitude": 45.53429782539273,
          "longitude": -73.61217230558395,
          "name": "de Gaspé / Dante",
          "timestamp": "2023-04-19T12:27:59.979000Z"
         },
         {
          "empty_slots": 9,
          "extra": {
           "ebikes": 2,
           "has_ebikes": true,
           "last_updated": 1681907265,
           "payment": [
            "creditcard",
            "key"
           ],
           "payment-terminal": true,
           "renting": 1,
           "returning": 1,
           "slots": 15,
           "uid": "393"
          },
          "free_bikes": 4,
          "id": "c15a09657007898b3630f7b66f1d42ac",
          "latitude": 45.514379,
          "longitude": -73.610871,
          "name": "Davaar / de la Côte-Ste-Catherine",
          "timestamp": "2023-04-19T12:27:59.921000Z"
         },
         {
          "empty_slots": 8,
          "extra": {
           "ebikes": 2,
           "has_ebikes": true,
           "last_updated": 1681907196,
           "payment": [
            "creditcard",
            "key"
           ],
           "payment-terminal": true,
           "renting": 1,
           "returning": 1,
           "slots": 15,
           "uid": "731"
          },
          "free_bikes": 6,
          "id": "1f75c2bd5876aa50df724147f470784c",
          "latitude": 45.58830296569168,
          "longitude": -73.57783721439773,
          "name": "de Côme / Jean-Talon",
          "timestamp": "2023-04-19T12:28:01.010000Z"
         },
         {
          "empty_slots": 12,
          "extra": {
           "ebikes": 0,
           "has_ebikes": true,
           "last_updated": 1681876793,
           "payment": [
            "creditcard",
            "key"
           ],
           "payment-terminal": true,
           "renting": 1,
           "returning": 1,
           "slots": 19,
           "uid": "818"
          },
          "free_bikes": 7,
          "id": "1c5d4ba80389fafb75d31d3485e0487d",
          "latitude": 45.54502601340392,
          "longitude": -73.73787671327591,
          "name": "Alton-Goldbloom / Notre-Dame",
          "timestamp": "2023-04-19T12:27:59.757000Z"
         },
         {
          "empty_slots": 14,
          "extra": {
           "ebikes": 4,
           "has_ebikes": true,
           "last_updated": 1681907101,
           "payment": [
            "creditcard",
            "key"
           ],
           "payment-terminal": true,
           "renting": 1,
           "returning": 1,
           "slots": 23,
           "uid": "241"
          },
          "free_bikes": 8,
          "id": "a2ff3d0c7ee4f7c8686bdafa3a4fc5e7",
          "latitude": 45.522745298216094,
          "longitude": -73.61328139901161,
          "name": "Bloomfield / Van Horne",
          "timestamp": "2023-04-19T12:27:59.981000Z"
         },
         {
          "empty_slots": 19,
          "extra": {
           "ebikes": 1,
           "has_ebikes": true,
           "last_updated": 1681906515,
           "payment": [
            "creditcard",
            "key"
           ],
           "payment-terminal": true,
           "renting": 1,
           "returning": 1,
           "slots": 27,
           "uid": "611"
          },
          "free_bikes": 6,
          "id": "b575803863daa30f30a36d475b72895f",
          "latitude": 45.50764392965887,
          "longitude": -73.56932401657104,
          "name": "Place des Festivals ( du Président-Kennedy / de Bleury)",
          "timestamp": "2023-04-19T12:27:59.810000Z"
         },
         {
          "empty_slots": 10,
          "extra": {
           "ebikes": 2,
           "has_ebikes": true,
           "last_updated": 1681906880,
           "payment": [
            "creditcard",
            "key"
           ],
           "payment-terminal": true,
           "renting": 1,
           "returning": 1,
           "slots": 23,
           "uid": "272"
          },
          "free_bikes": 13,
          "id": "dea43e31fb751163e698d5467874eebb",
          "latitude": 45.541669595766315,
          "longitude": -73.60760450363159,
          "name": "de la Roche / Bélanger",
          "timestamp": "2023-04-19T12:27:59.705000Z"
         },
         {
          "empty_slots": 18,
          "extra": {
           "ebikes": 2,
           "has_ebikes": true,
           "last_updated": 1681907246,
           "payment": [
            "creditcard",
            "key"
           ],
           "payment-terminal": true,
           "renting": 1,
           "returning": 1,
           "slots": 23,
           "uid": "403"
          },
          "free_bikes": 4,
          "id": "9acb2c0c2b48fe2e76bcbe4010af342a",
          "latitude": 45.52311432992147,
          "longitude": -73.61815363168716,
          "name": "Campus MIL (Outremont / Thérèse-Lavoie Roux)",
          "timestamp": "2023-04-19T12:27:59.856000Z"
         },
         {
          "empty_slots": 12,
          "extra": {
           "ebikes": 0,
           "has_ebikes": true,
           "last_updated": 1681876542,
           "payment": [
            "creditcard",
            "key"
           ],
           "payment-terminal": true,
           "renting": 1,
           "returning": 1,
           "slots": 19,
           "uid": "846"
          },
          "free_bikes": 7,
          "id": "37dfd0b2993501a80fdf81e37768141e",
          "latitude": 45.565006717407506,
          "longitude": -73.7319054454565,
          "name": "Le Corbusier / St-Martin O",
          "timestamp": "2023-04-19T12:28:01.607000Z"
         },
         {
          "empty_slots": 20,
          "extra": {
           "ebikes": 2,
           "has_ebikes": true,
           "last_updated": 1681907075,
           "payment": [
            "creditcard",
            "key"
           ],
           "payment-terminal": true,
           "renting": 1,
           "returning": 1,
           "slots": 26,
           "uid": "55"
          },
          "free_bikes": 5,
          "id": "81e413363c9c2b6933f4706dd9fafc6b",
          "latitude": 45.49788352593901,
          "longitude": -73.56856763362885,
          "name": "Place du Canada (Peel / des Canadiens-de-Montréal)",
          "timestamp": "2023-04-19T12:28:01.361000Z"
         },
         {
          "empty_slots": 13,
          "extra": {
           "ebikes": 4,
           "has_ebikes": true,
           "last_updated": 1681906426,
           "payment": [
            "creditcard",
            "key"
           ],
           "payment-terminal": true,
           "renting": 1,
           "returning": 1,
           "slots": 23,
           "uid": "651"
          },
          "free_bikes": 9,
          "id": "658bb3c7434993bc7278b948e197aded",
          "latitude": 45.51678269880724,
          "longitude": -73.61142262816429,
          "name": "Dollard / Bernard",
          "timestamp": "2023-04-19T12:28:00.355000Z"
         },
         {
          "empty_slots": 12,
          "extra": {
           "ebikes": 2,
           "has_ebikes": true,
           "last_updated": 1681907099,
           "payment": [
            "creditcard",
            "key"
           ],
           "payment-terminal": true,
           "renting": 1,
           "returning": 1,
           "slots": 19,
           "uid": "258"
          },
          "free_bikes": 6,
          "id": "840a8bdce0a97bfedb2d5eb6378b6663",
          "latitude": 45.53718135927993,
          "longitude": -73.59750330448149,
          "name": "de la Roche /  de Bellechasse",
          "timestamp": "2023-04-19T12:28:00.973000Z"
         },
         {
          "empty_slots": 11,
          "extra": {
           "ebikes": 1,
           "has_ebikes": true,
           "last_updated": 1681876767,
           "payment": [
            "creditcard",
            "key"
           ],
           "payment-terminal": true,
           "renting": 1,
           "returning": 1,
           "slots": 15,
           "uid": "400"
          },
          "free_bikes": 2,
          "id": "60fb3c73c0e7c31c841d586448833ba3",
          "latitude": 45.56933906192115,
          "longitude": -73.70472729206085,
          "name": "11e avenue / du Souvenir",
          "timestamp": "2023-04-19T12:27:59.857000Z"
         },
         {
          "empty_slots": 14,
          "extra": {
           "ebikes": 0,
           "has_ebikes": true,
           "last_updated": 1681906921,
           "payment": [
            "creditcard",
            "key"
           ],
           "payment-terminal": true,
           "renting": 1,
           "returning": 1,
           "slots": 23,
           "uid": "556"
          },
          "free_bikes": 9,
          "id": "17b6900c27a6d394bf754e410e736806",
          "latitude": 45.549713734001415,
          "longitude": -73.56384828686714,
          "name": "Ernest-Gendreau / du Mont-Royal",
          "timestamp": "2023-04-19T12:27:59.778000Z"
         },
         {
          "empty_slots": 6,
          "extra": {
           "ebikes": 0,
           "has_ebikes": true,
           "last_updated": 1681891654,
           "payment": [
            "creditcard",
            "key"
           ],
           "payment-terminal": true,
           "renting": 1,
           "returning": 1,
           "slots": 15,
           "uid": "415"
          },
          "free_bikes": 7,
          "id": "370c80563082368ae1464ee995801961",
          "latitude": 45.49810026070624,
          "longitude": -73.65294188261032,
          "name": "Paré / Mountain Sights",
          "timestamp": "2023-04-19T12:28:00.713000Z"
         },
         {
          "empty_slots": 17,
          "extra": {
           "ebikes": 0,
           "has_ebikes": true,
           "last_updated": 1681906562,
           "payment": [
            "creditcard",
            "key"
           ],
           "payment-terminal": true,
           "renting": 1,
           "returning": 1,
           "slots": 17,
           "uid": "79"
          },
          "free_bikes": 0,
          "id": "7c116c44d814279d54202eeec81ddddb",
          "latitude": 45.49487159597493,
          "longitude": -73.57112377882004,
          "name": "Métro Lucien-L'Allier  (Lucien l'Allier / Argyle)",
          "timestamp": "2023-04-19T12:28:00.525000Z"
         },
         {
          "empty_slots": 7,
          "extra": {
           "ebikes": 1,
           "has_ebikes": true,
           "last_updated": 1681863986,
           "payment": [
            "creditcard",
            "key"
           ],
           "payment-terminal": true,
           "renting": 1,
           "returning": 1,
           "slots": 15,
           "uid": "686"
          },
          "free_bikes": 7,
          "id": "ef2da34f39c2d63ea85001255ab20e19",
          "latitude": 45.559495502858624,
          "longitude": -73.6989176273346,
          "name": "Robin / 15e rue",
          "timestamp": "2023-04-19T12:27:59.822000Z"
         },
         {
          "empty_slots": 20,
          "extra": {
           "ebikes": 1,
           "has_ebikes": true,
           "last_updated": 1681907256,
           "payment": [
            "creditcard",
            "key"
           ],
           "payment-terminal": true,
           "renting": 1,
           "returning": 1,
           "slots": 27,
           "uid": "585"
          },
          "free_bikes": 3,
          "id": "f06063d509814af631ff3637dd0ad8bc",
          "latitude": 45.52303493310712,
          "longitude": -73.56539458036421,
          "name": "Beaudry / Sherbrooke",
          "timestamp": "2023-04-19T12:27:59.973000Z"
         },
         {
          "empty_slots": 19,
          "extra": {
           "ebikes": 0,
           "has_ebikes": true,
           "last_updated": 1681906701,
           "payment": [
            "creditcard",
            "key"
           ],
           "payment-terminal": true,
           "renting": 1,
           "returning": 1,
           "slots": 19,
           "uid": "538"
          },
          "free_bikes": 0,
          "id": "c57dd75c9c28e325882f666e1fe30c7a",
          "latitude": 45.550113551561694,
          "longitude": -73.5772217810154,
          "name": "8e avenue / Dandurand",
          "timestamp": "2023-04-19T12:28:01.477000Z"
         },
         {
          "empty_slots": 18,
          "extra": {
           "ebikes": 2,
           "has_ebikes": true,
           "last_updated": 1681907147,
           "payment": [
            "creditcard",
            "key"
           ],
           "payment-terminal": true,
           "renting": 1,
           "returning": 1,
           "slots": 26,
           "uid": "527"
          },
          "free_bikes": 6,
          "id": "c42929dcdbfe4a38f068a2fdd3da946e",
          "latitude": 45.50363996257211,
          "longitude": -73.6182689666748,
          "name": "Métro Université de Montréal (Édouard-Montpetit / Louis-Collin)",
          "timestamp": "2023-04-19T12:27:59.713000Z"
         },
         {
          "empty_slots": 16,
          "extra": {
           "ebikes": 0,
           "has_ebikes": true,
           "last_updated": 1681905458,
           "payment": [
            "creditcard",
            "key"
           ],
           "payment-terminal": true,
           "renting": 1,
           "returning": 1,
           "slots": 19,
           "uid": "685"
          },
          "free_bikes": 3,
          "id": "a31b0781205466d8ec391d6e4d31a0c8",
          "latitude": 45.56843961893042,
          "longitude": -73.6752020941276,
          "name": "Parc Henri-Dunant (Léger / Henri-Dunant)",
          "timestamp": "2023-04-19T12:27:59.820000Z"
         },
         {
          "empty_slots": 14,
          "extra": {
           "ebikes": 0,
           "has_ebikes": true,
           "last_updated": 1681907262,
           "payment": [
            "creditcard",
            "key"
           ],
           "payment-terminal": true,
           "renting": 1,
           "returning": 1,
           "slots": 19,
           "uid": "139"
          },
          "free_bikes": 4,
          "id": "0aedabffd74cb17524a08ef1f6b336f9",
          "latitude": 45.53166363055749,
          "longitude": -73.56536373496056,
          "name": "Gauthier / de Lorimier",
          "timestamp": "2023-04-19T12:27:59.833000Z"
         },
         {
          "empty_slots": 17,
          "extra": {
           "ebikes": 2,
           "has_ebikes": true,
           "last_updated": 1681907236,
           "payment": [
            "creditcard",
            "key"
           ],
           "payment-terminal": true,
           "renting": 1,
           "returning": 1,
           "slots": 19,
           "uid": "282"
          },
          "free_bikes": 2,
          "id": "7f4690e27b9b251c013b00aa5a2c1c58",
          "latitude": 45.50723,
          "longitude": -73.615085,
          "name": "Édouard-Montpetit / de Stirling",
          "timestamp": "2023-04-19T12:28:01.217000Z"
         },
         {
          "empty_slots": 17,
          "extra": {
           "ebikes": 2,
           "has_ebikes": true,
           "last_updated": 1681876544,
           "payment": [
            "creditcard",
            "key"
           ],
           "payment-terminal": true,
           "renting": 1,
           "returning": 1,
           "slots": 23,
           "uid": "842"
          },
          "free_bikes": 6,
          "id": "bdcf73bbe8b7ff123838d3aaa93b7c9c",
          "latitude": 45.58033485941123,
          "longitude": -73.68471868336201,
          "name": "du Mans / des Alouettes",
          "timestamp": "2023-04-19T12:28:01.625000Z"
         },
         {
          "empty_slots": 18,
          "extra": {
           "ebikes": 0,
           "has_ebikes": true,
           "last_updated": 1681907055,
           "payment": [
            "creditcard",
            "key"
           ],
           "payment-terminal": true,
           "renting": 1,
           "returning": 1,
           "slots": 27,
           "uid": "325"
          },
          "free_bikes": 8,
          "id": "584e56b6f51487bbb55cb212414c1b2d",
          "latitude": 45.544306576612755,
          "longitude": -73.54551016355799,
          "name": "Aylwin / Ontario",
          "timestamp": "2023-04-19T12:28:00.410000Z"
         },
         {
          "empty_slots": 16,
          "extra": {
           "ebikes": 0,
           "has_ebikes": true,
           "last_updated": 1681907214,
           "payment": [
            "creditcard",
            "key"
           ],
           "payment-terminal": true,
           "renting": 1,
           "returning": 1,
           "slots": 23,
           "uid": "233"
          },
          "free_bikes": 6,
          "id": "38a5272f540008af3bbca0d281fa3f9c",
          "latitude": 45.51666442219882,
          "longitude": -73.57722043991089,
          "name": "St-Dominique / Napoléon",
          "timestamp": "2023-04-19T12:27:59.788000Z"
         },
         {
          "empty_slots": 16,
          "extra": {
           "ebikes": 1,
           "has_ebikes": true,
           "last_updated": 1681906478,
           "payment": [
            "creditcard",
            "key"
           ],
           "payment-terminal": true,
           "renting": 1,
           "returning": 1,
           "slots": 19,
           "uid": "37"
          },
          "free_bikes": 2,
          "id": "488b08ff450837d27743c7bcd6c8a058",
          "latitude": 45.49996470926352,
          "longitude": -73.55615437030792,
          "name": "Place d'Youville / McGill",
          "timestamp": "2023-04-19T12:27:59.736000Z"
         },
         {
          "empty_slots": 2,
          "extra": {
           "ebikes": 0,
           "has_ebikes": true,
           "last_updated": 1681902938,
           "payment": [
            "creditcard",
            "key"
           ],
           "payment-terminal": true,
           "renting": 1,
           "returning": 1,
           "slots": 15,
           "uid": "612"
          },
          "free_bikes": 11,
          "id": "1c05683a4675c3de48297fdef6870e62",
          "latitude": 45.64141535746634,
          "longitude": -73.4999567270279,
          "name": "St-Jean-Baptiste / René-Lévesque",
          "timestamp": "2023-04-19T12:27:59.803000Z"
         },
         {
          "empty_slots": 12,
          "extra": {
           "ebikes": 0,
           "has_ebikes": true,
           "last_updated": 1681876512,
           "payment": [
            "creditcard",
            "key"
           ],
           "payment-terminal": true,
           "renting": 1,
           "returning": 1,
           "slots": 15,
           "uid": "758"
          },
          "free_bikes": 1,
          "id": "663a95a70b0a1afbb23d156aa7ac3ecb",
          "latitude": 45.583287878804136,
          "longitude": -73.63276362419128,
          "name": "Sabrevois / des Récollets",
          "timestamp": "2023-04-19T12:27:59.866000Z"
         },
         {
          "empty_slots": 11,
          "extra": {
           "ebikes": 1,
           "has_ebikes": true,
           "last_updated": 1681907158,
           "payment": [
            "creditcard",
            "key"
           ],
           "payment-terminal": true,
           "renting": 1,
           "returning": 1,
           "slots": 19,
           "uid": "749"
          },
          "free_bikes": 5,
          "id": "ea5ce5ce6d6ad4ec63a593beb2540d31",
          "latitude": 45.53163403743962,
          "longitude": -73.56824576854706,
          "name": "Dorion / Rachel",
          "timestamp": "2023-04-19T12:28:01.879000Z"
         },
         {
          "empty_slots": 6,
          "extra": {
           "ebikes": 2,
           "has_ebikes": true,
           "last_updated": 1681876671,
           "payment": [
            "creditcard",
            "key"
           ],
           "payment-terminal": true,
           "renting": 1,
           "returning": 1,
           "slots": 19,
           "uid": "700"
          },
          "free_bikes": 10,
          "id": "114edd30245c9b7ae8dedcc2d22fc398",
          "latitude": 45.57833184623925,
          "longitude": -73.65595400333405,
          "name": "Parc nature de l'Île-de-la-Visitation (Gouin / de Bruchési)",
          "timestamp": "2023-04-19T12:27:59.893000Z"
         },
         {
          "empty_slots": 9,
          "extra": {
           "ebikes": 0,
           "has_ebikes": true,
           "last_updated": 1681836196,
           "payment": [
            "creditcard",
            "key"
           ],
           "payment-terminal": true,
           "renting": 1,
           "returning": 1,
           "slots": 15,
           "uid": "614"
          },
          "free_bikes": 6,
          "id": "9b279b4355888cdc79c1b55692276c67",
          "latitude": 45.64954588445726,
          "longitude": -73.49191546440125,
          "name": "du Tricentenaire / Prince-Albert",
          "timestamp": "2023-04-19T12:27:59.982000Z"
         },
         {
          "empty_slots": 25,
          "extra": {
           "ebikes": 0,
           "has_ebikes": true,
           "last_updated": 1681907157,
           "payment": [
            "creditcard",
            "key"
           ],
           "payment-terminal": true,
           "renting": 1,
           "returning": 1,
           "slots": 27,
           "uid": "202"
          },
          "free_bikes": 1,
          "id": "5428d05f2757392646e8e88bfd1efee3",
          "latitude": 45.50629456823703,
          "longitude": -73.57282698154448,
          "name": "Aylmer / Sherbrooke",
          "timestamp": "2023-04-19T12:28:00.427000Z"
         },
         {
          "empty_slots": 17,
          "extra": {
           "ebikes": 0,
           "has_ebikes": true,
           "last_updated": 1681907148,
           "payment": [
            "creditcard",
            "key"
           ],
           "payment-terminal": true,
           "renting": 1,
           "returning": 1,
           "slots": 19,
           "uid": "729"
          },
          "free_bikes": 0,
          "id": "444b2c83a68220fb68006e045ccc0604",
          "latitude": 45.5218942750191,
          "longitude": -73.55725058932876,
          "name": "Plessis / Logan",
          "timestamp": "2023-04-19T12:28:01.825000Z"
         },
         {
          "empty_slots": 10,
          "extra": {
           "ebikes": 1,
           "has_ebikes": true,
           "last_updated": 1681905120,
           "payment": [
            "creditcard",
            "key"
           ],
           "payment-terminal": true,
           "renting": 1,
           "returning": 1,
           "slots": 27,
           "uid": "486"
          },
          "free_bikes": 15,
          "id": "cc60da52525500f1d3b637b7b988705f",
          "latitude": 45.477923,
          "longitude": -73.559038,
          "name": "Fortune / Wellington",
          "timestamp": "2023-04-19T12:28:01.928000Z"
         },
         {
          "empty_slots": 3,
          "extra": {
           "ebikes": 0,
           "has_ebikes": true,
           "last_updated": 1681903166,
           "payment": [
            "creditcard",
            "key"
           ],
           "payment-terminal": true,
           "renting": 1,
           "returning": 1,
           "slots": 15,
           "uid": "267"
          },
          "free_bikes": 12,
          "id": "3565ca57a8993b9bf335ed73042cafb8",
          "latitude": 45.640002860465096,
          "longitude": -73.49011301994324,
          "name": "Place du Village (St-Jean-Baptiste / Notre-Dame)",
          "timestamp": "2023-04-19T12:28:01.265000Z"
         },
         {
          "empty_slots": 11,
          "extra": {
           "ebikes": 3,
           "has_ebikes": true,
           "last_updated": 1681907266,
           "payment": [
            "creditcard",
            "key"
           ],
           "payment-terminal": true,
           "renting": 1,
           "returning": 1,
           "slots": 38,
           "uid": "396"
          },
          "free_bikes": 26,
          "id": "f9d30314d14794ea0c378ba2c1ee0c5d",
          "latitude": 45.53613488953656,
          "longitude": -73.62258464097977,
          "name": "Gary-Carter / St-Laurent",
          "timestamp": "2023-04-19T12:27:59.948000Z"
         },
         {
          "empty_slots": 21,
          "extra": {
           "ebikes": 2,
           "has_ebikes": true,
           "last_updated": 1681906970,
           "payment": [
            "creditcard",
            "key"
           ],
           "payment-terminal": true,
           "renting": 1,
           "returning": 1,
           "slots": 33,
           "uid": "408"
          },
          "free_bikes": 12,
          "id": "9836aac1ee4659e9103ab4a3ac10c9e0",
          "latitude": 45.53035130173597,
          "longitude": -73.6243924498558,
          "name": "Métro Parc  (Hutchison / Ogilvy)",
          "timestamp": "2023-04-19T12:27:59.864000Z"
         },
         {
          "empty_slots": 19,
          "extra": {
           "ebikes": 0,
           "has_ebikes": true,
           "last_updated": 1681906616,
           "payment": [
            "creditcard",
            "key"
           ],
           "payment-terminal": true,
           "renting": 1,
           "returning": 1,
           "slots": 19,
           "uid": "586"
          },
          "free_bikes": 0,
          "id": "485d66968361b44b2fbfa4a1384d87f1",
          "latitude": 45.5231943285584,
          "longitude": -73.55584256350994,
          "name": "Logan / de Champlain",
          "timestamp": "2023-04-19T12:27:59.970000Z"
         },
         {
          "empty_slots": 14,
          "extra": {
           "ebikes": 0,
           "has_ebikes": true,
           "last_updated": 1681907030,
           "payment": [
            "creditcard",
            "key"
           ],
           "payment-terminal": true,
           "renting": 1,
           "returning": 1,
           "slots": 27,
           "uid": "583"
          },
          "free_bikes": 13,
          "id": "df284d02a5abe2ca93e5885f5718f0f0",
          "latitude": 45.47993042065731,
          "longitude": -73.55592101812363,
          "name": "Bourgeoys / Favard",
          "timestamp": "2023-04-19T12:27:59.974000Z"
         },
         {
          "empty_slots": 22,
          "extra": {
           "ebikes": 1,
           "has_ebikes": true,
           "last_updated": 1681906999,
           "payment": [
            "creditcard",
            "key"
           ],
           "payment-terminal": true,
           "renting": 1,
           "returning": 1,
           "slots": 31,
           "uid": "581"
          },
          "free_bikes": 2,
          "id": "ac728f271b196e19899f2323fb8d7795",
          "latitude": 45.48752158511353,
          "longitude": -73.56500297784805,
          "name": "Richmond / des Bassins",
          "timestamp": "2023-04-19T12:27:59.976000Z"
         },
         {
          "empty_slots": 16,
          "extra": {
           "ebikes": 0,
           "has_ebikes": true,
           "last_updated": 1681907014,
           "payment": [
            "creditcard",
            "key"
           ],
           "payment-terminal": true,
           "renting": 1,
           "returning": 1,
           "slots": 19,
           "uid": "743"
          },
          "free_bikes": 1,
          "id": "8aa19138e54fae304dcd6f0088db07c3",
          "latitude": 45.60248649638568,
          "longitude": -73.5432904958725,
          "name": "Parc Chenier (de l'Aréna / Chenier)",
          "timestamp": "2023-04-19T12:27:59.774000Z"
         },
         {
          "empty_slots": 12,
          "extra": {
           "ebikes": 2,
           "has_ebikes": true,
           "last_updated": 1681907248,
           "payment": [
            "creditcard",
            "key"
           ],
           "payment-terminal": true,
           "renting": 1,
           "returning": 1,
           "slots": 15,
           "uid": "500"
          },
          "free_bikes": 2,
          "id": "88d0ae087ad02a4095488a72b673ff92",
          "latitude": 45.52745655427204,
          "longitude": -73.62411618232727,
          "name": "Bloomfield / Jean-Talon",
          "timestamp": "2023-04-19T12:28:01.052000Z"
         },
         {
          "empty_slots": 19,
          "extra": {
           "ebikes": 0,
           "has_ebikes": true,
           "last_updated": 1681893283,
           "payment": [
            "creditcard",
            "key"
           ],
           "payment-terminal": true,
           "renting": 1,
           "returning": 1,
           "slots": 19,
           "uid": "94"
          },
          "free_bikes": 0,
          "id": "6086b10ac3a09a5ad176d6a32deaf0ad",
          "latitude": 45.51862424058306,
          "longitude": -73.55219006538391,
          "name": "René-Lévesque / Panet",
          "timestamp": "2023-04-19T12:27:59.769000Z"
         },
         {
          "empty_slots": 9,
          "extra": {
           "ebikes": 1,
           "has_ebikes": true,
           "last_updated": 1681905373,
           "payment": [
            "creditcard",
            "key"
           ],
           "payment-terminal": true,
           "renting": 1,
           "returning": 1,
           "slots": 15,
           "uid": "492"
          },
          "free_bikes": 6,
          "id": "251c1026721c2b86f0c7b68be5992fdf",
          "latitude": 45.55873962047568,
          "longitude": -73.60589044634253,
          "name": "6e avenue / Villeray",
          "timestamp": "2023-04-19T12:27:59.842000Z"
         },
         {
          "empty_slots": 18,
          "extra": {
           "ebikes": 0,
           "has_ebikes": true,
           "last_updated": 1681906923,
           "payment": [
            "creditcard",
            "key"
           ],
           "payment-terminal": true,
           "renting": 1,
           "returning": 1,
           "slots": 19,
           "uid": "553"
          },
          "free_bikes": 1,
          "id": "fec442e5bd4a6d1999980029e905394e",
          "latitude": 45.54355786336148,
          "longitude": -73.56780052185059,
          "name": "du Mont-Royal / Augustin-Frigon",
          "timestamp": "2023-04-19T12:27:59.781000Z"
         },
         {
          "empty_slots": 17,
          "extra": {
           "ebikes": 0,
           "has_ebikes": true,
           "last_updated": 1681906959,
           "payment": [
            "creditcard",
            "key"
           ],
           "payment-terminal": true,
           "renting": 1,
           "returning": 1,
           "slots": 23,
           "uid": "588"
          },
          "free_bikes": 2,
          "id": "a4587d02411ea6ab69af7d1d5f8fa987",
          "latitude": 45.57627820285533,
          "longitude": -73.58353972434998,
          "name": "Michelet / Jean-Talon",
          "timestamp": "2023-04-19T12:27:59.977000Z"
         },
         {
          "empty_slots": 34,
          "extra": {
           "ebikes": 0,
           "has_ebikes": true,
           "last_updated": 1681907147,
           "payment": [
            "creditcard",
            "key"
           ],
           "payment-terminal": true,
           "renting": 1,
           "returning": 1,
           "slots": 35,
           "uid": "290"
          },
          "free_bikes": 1,
          "id": "ede6b6e636d0057c3569441aad58f64c",
          "latitude": 45.49047561880464,
          "longitude": -73.56022328138351,
          "name": "des Bassins / du Séminaire",
          "timestamp": "2023-04-19T12:27:59.694000Z"
         },
         {
          "empty_slots": 13,
          "extra": {
           "ebikes": 1,
           "has_ebikes": true,
           "last_updated": 1681906688,
           "payment": [
            "creditcard",
            "key"
           ],
           "payment-terminal": true,
           "renting": 1,
           "returning": 1,
           "slots": 19,
           "uid": "129"
          },
          "free_bikes": 6,
          "id": "d953df55ce2e1380f9348b449c98d4c5",
          "latitude": 45.544580831168204,
          "longitude": -73.5717111825943,
          "name": "Parc du Pélican (2e avenue / St-Joseph)",
          "timestamp": "2023-04-19T12:28:00.709000Z"
         },
         {
          "empty_slots": 14,
          "extra": {
           "ebikes": 1,
           "has_ebikes": true,
           "last_updated": 1681906670,
           "payment": [
            "creditcard",
            "key"
           ],
           "payment-terminal": true,
           "renting": 1,
           "returning": 1,
           "slots": 19,
           "uid": "156"
          },
          "free_bikes": 5,
          "id": "51cada9ae1043ecc00fa98b7439b11f2",
          "latitude": 45.527550507601894,
          "longitude": -73.5762870311737,
          "name": "Marie-Anne / de la Roche",
          "timestamp": "2023-04-19T12:28:01.851000Z"
         },
         {
          "empty_slots": 5,
          "extra": {
           "ebikes": 17,
           "has_ebikes": true,
           "last_updated": 1681906939,
           "payment": [
            "creditcard",
            "key"
           ],
           "payment-terminal": true,
           "renting": 1,
           "returning": 1,
           "slots": 31,
           "uid": "244"
          },
          "free_bikes": 26,
          "id": "1f12261e2dfcf3c7df231a27c7e43f0a",
          "latitude": 45.518593,
          "longitude": -73.581566,
          "name": "St-Dominique / Rachel",
          "timestamp": "2023-04-19T12:27:59.978000Z"
         },
         {
          "empty_slots": 19,
          "extra": {
           "ebikes": 0,
           "has_ebikes": true,
           "last_updated": 1681907244,
           "payment": [
            "creditcard",
            "key"
           ],
           "payment-terminal": true,
           "renting": 1,
           "returning": 1,
           "slots": 27,
           "uid": "377"
          },
          "free_bikes": 8,
          "id": "a57bc720128ed8a9099da4e5b069f3ef",
          "latitude": 45.54710817336986,
          "longitude": -73.56936693191528,
          "name": "7e avenue / St-Joseph Rosemont",
          "timestamp": "2023-04-19T12:27:59.875000Z"
         },
         {
          "empty_slots": 22,
          "extra": {
           "ebikes": 1,
           "has_ebikes": true,
           "last_updated": 1681906715,
           "payment": [
            "creditcard",
            "key"
           ],
           "payment-terminal": true,
           "renting": 1,
           "returning": 1,
           "slots": 31,
           "uid": "590"
          },
          "free_bikes": 8,
          "id": "5aaf47dc0e0960e251b829e0aa574ed7",
          "latitude": 45.526499983000186,
          "longitude": -73.54575277422555,
          "name": "Jean Langlois / Fullum",
          "timestamp": "2023-04-19T12:27:59.695000Z"
         },
         {
          "empty_slots": 6,
          "extra": {
           "ebikes": 1,
           "has_ebikes": true,
           "last_updated": 1681904655,
           "payment": [
            "creditcard",
            "key"
           ],
           "payment-terminal": true,
           "renting": 1,
           "returning": 1,
           "slots": 15,
           "uid": "569"
          },
          "free_bikes": 9,
          "id": "13a1326222ba6cc555797cbd6ba01b8a",
          "latitude": 45.44826204820947,
          "longitude": -73.57785612344742,
          "name": "Bibliothèque de Verdun (Brown / Bannantyne)",
          "timestamp": "2023-04-19T12:28:01.659000Z"
         },
         {
          "empty_slots": 10,
          "extra": {
           "ebikes": 0,
           "has_ebikes": true,
           "last_updated": 1681876883,
           "payment": [
            "creditcard",
            "key"
           ],
           "payment-terminal": true,
           "renting": 1,
           "returning": 1,
           "slots": 15,
           "uid": "466"
          },
          "free_bikes": 4,
          "id": "bf77b109a6eff9c654508ba2d20ffb12",
          "latitude": 45.43791516514076,
          "longitude": -73.58253550531117,
          "name": "LaSalle / Crawford",
          "timestamp": "2023-04-19T12:28:01.087000Z"
         },
         {
          "empty_slots": 19,
          "extra": {
           "ebikes": 0,
           "has_ebikes": true,
           "last_updated": 1681530984,
           "payment": [
            "creditcard",
            "key"
           ],
           "payment-terminal": true,
           "renting": 1,
           "returning": 1,
           "slots": 19,
           "uid": "847"
          },
          "free_bikes": 0,
          "id": "7372f7ed2ed2e266bdc479ac49bc6392",
          "latitude": 45.57120355585774,
          "longitude": -73.72351884841918,
          "name": "McNamara / St-Martin O",
          "timestamp": "2023-04-19T12:28:01.602000Z"
         },
         {
          "empty_slots": 22,
          "extra": {
           "ebikes": 0,
           "has_ebikes": true,
           "last_updated": 1681902989,
           "payment": [
            "creditcard",
            "key"
           ],
           "payment-terminal": true,
           "renting": 1,
           "returning": 1,
           "slots": 27,
           "uid": "469"
          },
          "free_bikes": 4,
          "id": "a829d7ffd9fc7790630d17dbbbf27641",
          "latitude": 45.4443505862464,
          "longitude": -73.57542979723802,
          "name": "Natatorium (LaSalle / Rolland)",
          "timestamp": "2023-04-19T12:28:01.066000Z"
         },
         {
          "empty_slots": 7,
          "extra": {
           "ebikes": 2,
           "has_ebikes": true,
           "last_updated": 1681871558,
           "payment": [
            "creditcard",
            "key"
           ],
           "payment-terminal": true,
           "renting": 1,
           "returning": 1,
           "slots": 15,
           "uid": "636"
          },
          "free_bikes": 8,
          "id": "37ce10146483055c24d0d49bddc32c5d",
          "latitude": 45.429166968311485,
          "longitude": -73.66280972957611,
          "name": "Mairie d'arrondissement LaSalle (Dupras / Jeannette)",
          "timestamp": "2023-04-19T12:28:01.072000Z"
         },
         {
          "empty_slots": 17,
          "extra": {
           "ebikes": 0,
           "has_ebikes": true,
           "last_updated": 1681865141,
           "payment": [
            "creditcard",
            "key"
           ],
           "payment-terminal": true,
           "renting": 1,
           "returning": 1,
           "slots": 19,
           "uid": "683"
          },
          "free_bikes": 2,
          "id": "839b54eac6c8b3e1f24c9427392c7456",
          "latitude": 45.570726609302966,
          "longitude": -73.7370860205192,
          "name": "Parc Chopin (Dumouchel / Tessier)",
          "timestamp": "2023-04-19T12:27:59.823000Z"
         },
         {
          "empty_slots": 16,
          "extra": {
           "ebikes": 1,
           "has_ebikes": true,
           "last_updated": 1681876754,
           "payment": [
            "creditcard",
            "key"
           ],
           "payment-terminal": true,
           "renting": 1,
           "returning": 1,
           "slots": 23,
           "uid": "843"
          },
          "free_bikes": 5,
          "id": "55afb3990a73681697287d73d2c86ee6",
          "latitude": 45.56251175219665,
          "longitude": -73.74370649456978,
          "name": "Pierre-Péladeau / du Centropolis",
          "timestamp": "2023-04-19T12:28:01.620000Z"
         },
         {
          "empty_slots": 17,
          "extra": {
           "ebikes": 2,
           "has_ebikes": true,
           "last_updated": 1681876696,
           "payment": [
            "creditcard",
            "key"
           ],
           "payment-terminal": true,
           "renting": 1,
           "returning": 1,
           "slots": 23,
           "uid": "844"
          },
          "free_bikes": 6,
          "id": "577f06695e8ce5015eceed3a6bf0ac49",
          "latitude": 45.557421482389636,
          "longitude": -73.7480603903532,
          "name": "Jeanne-Mance / St-Martin O",
          "timestamp": "2023-04-19T12:27:59.764000Z"
         },
         {
          "empty_slots": 18,
          "extra": {
           "ebikes": 0,
           "has_ebikes": true,
           "last_updated": 1681906981,
           "payment": [
            "creditcard",
            "key"
           ],
           "payment-terminal": true,
           "renting": 1,
           "returning": 1,
           "slots": 23,
           "uid": "572"
          },
          "free_bikes": 4,
          "id": "83002097940dd96fa20d8df45c2835fc",
          "latitude": 45.45301583620112,
          "longitude": -73.57191503047943,
          "name": "Argyle / de Verdun",
          "timestamp": "2023-04-19T12:28:00.937000Z"
         },
         {
          "empty_slots": 8,
          "extra": {
           "ebikes": 0,
           "has_ebikes": true,
           "last_updated": 1681906303,
           "payment": [
            "creditcard",
            "key"
           ],
           "payment-terminal": true,
           "renting": 1,
           "returning": 1,
           "slots": 15,
           "uid": "304"
          },
          "free_bikes": 6,
          "id": "444448176f019fa75930cba6037f6ed8",
          "latitude": 45.485328993998365,
          "longitude": -73.57692271471024,
          "name": "St-Jacques / Vinet",
          "timestamp": "2023-04-19T12:28:01.580000Z"
         },
         {
          "empty_slots": 13,
          "extra": {
           "ebikes": 0,
           "has_ebikes": true,
           "last_updated": 1681907241,
           "payment": [
            "creditcard",
            "key"
           ],
           "payment-terminal": true,
           "renting": 1,
           "returning": 1,
           "slots": 23,
           "uid": "747"
          },
          "free_bikes": 9,
          "id": "19878f499c71d91e2dc763e62bff8c7c",
          "latitude": 45.477605,
          "longitude": -73.573775,
          "name": "St-Charles / Thomas-Keefer",
          "timestamp": "2023-04-19T12:27:59.776000Z"
         },
         {
          "empty_slots": 16,
          "extra": {
           "ebikes": 0,
           "has_ebikes": true,
           "last_updated": 1681907007,
           "payment": [
            "creditcard",
            "key"
           ],
           "payment-terminal": true,
           "renting": 1,
           "returning": 1,
           "slots": 23,
           "uid": "809"
          },
          "free_bikes": 7,
          "id": "a9142a6ec00960d46f5da6ad36796ffe",
          "latitude": 45.56157,
          "longitude": -73.75448,
          "name": "de Chenonceau / Chomedey",
          "timestamp": "2023-04-19T12:28:00.396000Z"
         },
         {
          "empty_slots": 13,
          "extra": {
           "ebikes": 1,
           "has_ebikes": true,
           "last_updated": 1681859453,
           "payment": [
            "creditcard",
            "key"
           ],
           "payment-terminal": true,
           "renting": 1,
           "returning": 1,
           "slots": 27,
           "uid": "630"
          },
          "free_bikes": 13,
          "id": "9f499059b795e09782c2fca675a5e382",
          "latitude": 45.431518914135125,
          "longitude": -73.67110446095467,
          "name": "St-Joseph / 8e avenue Lachine",
          "timestamp": "2023-04-19T12:28:01.053000Z"
         },
         {
          "empty_slots": 15,
          "extra": {
           "ebikes": 0,
           "has_ebikes": true,
           "last_updated": 1681904341,
           "payment": [
            "creditcard",
            "key"
           ],
           "payment-terminal": true,
           "renting": 1,
           "returning": 1,
           "slots": 23,
           "uid": "399"
          },
          "free_bikes": 6,
          "id": "1c51af1e97aec802172c57959d16c64f",
          "latitude": 45.486346321757786,
          "longitude": -73.57352435588837,
          "name": "Lionel-Groulx / George-Vanier",
          "timestamp": "2023-04-19T12:28:01.869000Z"
         },
         {
          "empty_slots": 13,
          "extra": {
           "ebikes": 2,
           "has_ebikes": true,
           "last_updated": 1681906660,
           "payment": [
            "creditcard",
            "key"
           ],
           "payment-terminal": true,
           "renting": 1,
           "returning": 1,
           "slots": 19,
           "uid": "631"
          },
          "free_bikes": 6,
          "id": "8a258ed78afb57f3980301e5f4272f4e",
          "latitude": 45.43498715540587,
          "longitude": -73.67079868912697,
          "name": "8e avenue / Notre-Dame Lachine",
          "timestamp": "2023-04-19T12:28:01.054000Z"
         },
         {
          "empty_slots": 18,
          "extra": {
           "ebikes": 0,
           "has_ebikes": true,
           "last_updated": 1681905700,
           "payment": [
            "creditcard",
            "key"
           ],
           "payment-terminal": true,
           "renting": 1,
           "returning": 1,
           "slots": 23,
           "uid": "460"
          },
          "free_bikes": 5,
          "id": "c799ff1b7971723fea262952f298e8af",
          "latitude": 45.450729976972944,
          "longitude": -73.5725748538971,
          "name": "Beatty / de Verdun",
          "timestamp": "2023-04-19T12:28:01.093000Z"
         },
         {
          "empty_slots": 16,
          "extra": {
           "ebikes": 1,
           "has_ebikes": true,
           "last_updated": 1681904884,
           "payment": [
            "creditcard",
            "key"
           ],
           "payment-terminal": true,
           "renting": 1,
           "returning": 1,
           "slots": 19,
           "uid": "305"
          },
          "free_bikes": 3,
          "id": "68e6f4334e45d76f1388531c938ddce2",
          "latitude": 45.4820980397155,
          "longitude": -73.57487618923187,
          "name": "Duvernay / Charlevoix",
          "timestamp": "2023-04-19T12:28:01.582000Z"
         },
         {
          "empty_slots": 16,
          "extra": {
           "ebikes": 1,
           "has_ebikes": true,
           "last_updated": 1681876507,
           "payment": [
            "creditcard",
            "key"
           ],
           "payment-terminal": true,
           "renting": 1,
           "returning": 1,
           "slots": 19,
           "uid": "810"
          },
          "free_bikes": 2,
          "id": "d2d233d7e6e100a2596281248ceb5191",
          "latitude": 45.553017541248565,
          "longitude": -73.75822663307189,
          "name": "Mayfield / St-Martin O",
          "timestamp": "2023-04-19T12:27:59.669000Z"
         },
         {
          "empty_slots": 8,
          "extra": {
           "ebikes": 0,
           "has_ebikes": true,
           "last_updated": 1681876653,
           "payment": [
            "creditcard",
            "key"
           ],
           "payment-terminal": true,
           "renting": 1,
           "returning": 1,
           "slots": 15,
           "uid": "744"
          },
          "free_bikes": 7,
          "id": "3944bbaf9bac2bc4ad72222245d22821",
          "latitude": 45.42971096449354,
          "longitude": -73.633883446455,
          "name": "Gloria / Dollard",
          "timestamp": "2023-04-19T12:27:59.755000Z"
         },
         {
          "empty_slots": 18,
          "extra": {
           "ebikes": 1,
           "has_ebikes": true,
           "last_updated": 1681903041,
           "payment": [
            "creditcard",
            "key"
           ],
           "payment-terminal": true,
           "renting": 1,
           "returning": 1,
           "slots": 23,
           "uid": "313"
          },
          "free_bikes": 5,
          "id": "67238639a0c8e1f08538b0473cd10170",
          "latitude": 45.4824297233159,
          "longitude": -73.58367975812143,
          "name": "Bel Air / St-Antoine",
          "timestamp": "2023-04-19T12:28:00.731000Z"
         },
         {
          "empty_slots": 4,
          "extra": {
           "ebikes": 1,
           "has_ebikes": true,
           "last_updated": 1681906121,
           "payment": [
            "creditcard",
            "key"
           ],
           "payment-terminal": true,
           "renting": 1,
           "returning": 1,
           "slots": 15,
           "uid": "311"
          },
          "free_bikes": 11,
          "id": "d49558463486814195af14448d9871b2",
          "latitude": 45.4568844514464,
          "longitude": -73.57260704040527,
          "name": "4e avenue / de Verdun",
          "timestamp": "2023-04-19T12:28:00.737000Z"
         },
         {
          "empty_slots": 11,
          "extra": {
           "ebikes": 0,
           "has_ebikes": true,
           "last_updated": 1681876786,
           "payment": [
            "creditcard",
            "key"
           ],
           "payment-terminal": true,
           "renting": 1,
           "returning": 1,
           "slots": 15,
           "uid": "730"
          },
          "free_bikes": 4,
          "id": "929cb3603f7f95fbba1535c38d913246",
          "latitude": 45.44053238705948,
          "longitude": -73.70242863893507,
          "name": "41e avenue / Victoria",
          "timestamp": "2023-04-19T12:28:01.011000Z"
         },
         {
          "empty_slots": 11,
          "extra": {
           "ebikes": 1,
           "has_ebikes": true,
           "last_updated": 1681907245,
           "payment": [
            "creditcard",
            "key"
           ],
           "payment-terminal": true,
           "renting": 1,
           "returning": 1,
           "slots": 15,
           "uid": "383"
          },
          "free_bikes": 4,
          "id": "a6620bd5c000126bdfa2f31ec1d86934",
          "latitude": 45.4632535358533,
          "longitude": -73.57587933540344,
          "name": "de l'Église / Bannantyne",
          "timestamp": "2023-04-19T12:28:00.909000Z"
         },
         {
          "empty_slots": 4,
          "extra": {
           "ebikes": 1,
           "has_ebikes": true,
           "last_updated": 1681907158,
           "payment": [
            "creditcard",
            "key"
           ],
           "payment-terminal": true,
           "renting": 1,
           "returning": 1,
           "slots": 15,
           "uid": "571"
          },
          "free_bikes": 10,
          "id": "22d4fa1ab64ac46b15dd9b31e1f577a6",
          "latitude": 45.46107768438817,
          "longitude": -73.56747972971789,
          "name": "Gordon / Wellington",
          "timestamp": "2023-04-19T12:28:00.945000Z"
         },
         {
          "empty_slots": 8,
          "extra": {
           "ebikes": 1,
           "has_ebikes": true,
           "last_updated": 1681906811,
           "payment": [
            "creditcard",
            "key"
           ],
           "payment-terminal": true,
           "renting": 1,
           "returning": 1,
           "slots": 23,
           "uid": "345"
          },
          "free_bikes": 12,
          "id": "7fad188fa346f1ef366ec76e13737b13",
          "latitude": 45.467369,
          "longitude": -73.570769,
          "name": "Regina / de Verdun",
          "timestamp": "2023-04-19T12:27:59.646000Z"
         },
         {
          "empty_slots": 11,
          "extra": {
           "ebikes": 0,
           "has_ebikes": true,
           "last_updated": 1681901106,
           "payment": [
            "creditcard",
            "key"
           ],
           "payment-terminal": true,
           "renting": 1,
           "returning": 1,
           "slots": 19,
           "uid": "668"
          },
          "free_bikes": 7,
          "id": "61da15b80b82561752f3270693c5165c",
          "latitude": 45.478888528072076,
          "longitude": -73.58198940753937,
          "name": "Turgeon / Notre-Dame",
          "timestamp": "2023-04-19T12:28:00.554000Z"
         },
         {
          "empty_slots": 13,
          "extra": {
           "ebikes": 2,
           "has_ebikes": true,
           "last_updated": 1681907233,
           "payment": [
            "creditcard",
            "key"
           ],
           "payment-terminal": true,
           "renting": 1,
           "returning": 1,
           "slots": 27,
           "uid": "379"
          },
          "free_bikes": 8,
          "id": "1a60765c4f19eff188599f54e5216f48",
          "latitude": 45.47729315148685,
          "longitude": -73.58732163906097,
          "name": "Métro Place St-Henri (St-Ferdinand / St-Jacques)",
          "timestamp": "2023-04-19T12:27:59.867000Z"
         },
         {
          "empty_slots": 17,
          "extra": {
           "ebikes": 6,
           "has_ebikes": true,
           "last_updated": 1681905149,
           "payment": [
            "creditcard",
            "key"
           ],
           "payment-terminal": true,
           "renting": 1,
           "returning": 1,
           "slots": 27,
           "uid": "16"
          },
          "free_bikes": 9,
          "id": "07c7d44ac97d0906af2e27a24fd56b13",
          "latitude": 45.47259900304475,
          "longitude": -73.5398056358099,
          "name": "Jacques-Le Ber / de la Pointe Nord",
          "timestamp": "2023-04-19T12:28:00.369000Z"
         },
         {
          "empty_slots": 22,
          "extra": {
           "ebikes": 0,
           "has_ebikes": true,
           "last_updated": 1681907221,
           "payment": [
            "creditcard",
            "key"
           ],
           "payment-terminal": true,
           "renting": 1,
           "returning": 1,
           "slots": 27,
           "uid": "697"
          },
          "free_bikes": 4,
          "id": "8428e54f150500bac12ed84acb4fc49e",
          "latitude": 45.46976641104386,
          "longitude": -73.58925875287241,
          "name": "St-Rémi / Ste Émilie",
          "timestamp": "2023-04-19T12:28:00.618000Z"
         },
         {
          "empty_slots": 15,
          "extra": {
           "ebikes": 0,
           "has_ebikes": true,
           "last_updated": 1681906332,
           "payment": [
            "creditcard",
            "key"
           ],
           "payment-terminal": true,
           "renting": 1,
           "returning": 1,
           "slots": 23,
           "uid": "430"
          },
          "free_bikes": 8,
          "id": "ec091ad336edded3d10777e6308b26f0",
          "latitude": 45.47069642604657,
          "longitude": -73.56542240828276,
          "name": "Métro Lasalle (de Rushbrooke / Caisse)",
          "timestamp": "2023-04-19T12:27:59.747000Z"
         },
         {
          "empty_slots": 12,
          "extra": {
           "ebikes": 0,
           "has_ebikes": true,
           "last_updated": 1681905232,
           "payment": [
            "creditcard",
            "key"
           ],
           "payment-terminal": true,
           "renting": 1,
           "returning": 1,
           "slots": 19,
           "uid": "428"
          },
          "free_bikes": 7,
          "id": "0f9bbd42138f37400bff6baaaff859eb",
          "latitude": 45.462846046287325,
          "longitude": -73.56592163443565,
          "name": "Métro de l'Église (Ross / de l'Église)",
          "timestamp": "2023-04-19T12:28:01.533000Z"
         },
         {
          "empty_slots": 5,
          "extra": {
           "ebikes": 2,
           "has_ebikes": true,
           "last_updated": 1681907205,
           "payment": [
            "creditcard",
            "key"
           ],
           "payment-terminal": true,
           "renting": 1,
           "returning": 1,
           "slots": 27,
           "uid": "429"
          },
          "free_bikes": 22,
          "id": "6b1c6c5668bf007879235ca8c37ca376",
          "latitude": 45.459487694540734,
          "longitude": -73.57209205627441,
          "name": "Métro Verdun (Willibrord / de Verdun)",
          "timestamp": "2023-04-19T12:28:01.527000Z"
         },
         {
          "empty_slots": 21,
          "extra": {
           "ebikes": 1,
           "has_ebikes": true,
           "last_updated": 1681906299,
           "payment": [
            "creditcard",
            "key"
           ],
           "payment-terminal": true,
           "renting": 1,
           "returning": 1,
           "slots": 27,
           "uid": "671"
          },
          "free_bikes": 2,
          "id": "59108cd2763e9c1bdeacf3d17f3335f3",
          "latitude": 45.46488019614746,
          "longitude": -73.56696957353051,
          "name": "Hickson / Wellington",
          "timestamp": "2023-04-19T12:28:01.246000Z"
         },
         {
          "empty_slots": 20,
          "extra": {
           "ebikes": 0,
           "has_ebikes": true,
           "last_updated": 1681907225,
           "payment": [
            "creditcard",
            "key"
           ],
           "payment-terminal": true,
           "renting": 1,
           "returning": 1,
           "slots": 23,
           "uid": "568"
          },
          "free_bikes": 2,
          "id": "dc501d66a965b984bab50cfa37ae73f2",
          "latitude": 45.48026417718717,
          "longitude": -73.58099363744259,
          "name": "Rose-de-Lima / Workman",
          "timestamp": "2023-04-19T12:28:01.655000Z"
         },
         {
          "empty_slots": 20,
          "extra": {
           "ebikes": 0,
           "has_ebikes": true,
           "last_updated": 1681907144,
           "payment": [
            "creditcard",
            "key"
           ],
           "payment-terminal": true,
           "renting": 1,
           "returning": 1,
           "slots": 27,
           "uid": "522"
          },
          "free_bikes": 6,
          "id": "0daa8a40d4a613e38d2be70c6baac3d3",
          "latitude": 45.51999897796297,
          "longitude": -73.5548883676529,
          "name": "Panet / Ste-Catherine",
          "timestamp": "2023-04-19T12:27:59.715000Z"
         },
         {
          "empty_slots": 9,
          "extra": {
           "ebikes": 1,
           "has_ebikes": true,
           "last_updated": 1681873287,
           "payment": [
            "creditcard",
            "key"
           ],
           "payment-terminal": true,
           "renting": 1,
           "returning": 1,
           "slots": 19,
           "uid": "645"
          },
          "free_bikes": 9,
          "id": "1082604365572209e09718f6690249b1",
          "latitude": 45.60191332161639,
          "longitude": -73.52441847324371,
          "name": "Ste-Claire / Pierre-Tétreault",
          "timestamp": "2023-04-19T12:27:59.742000Z"
         },
         {
          "empty_slots": 6,
          "extra": {
           "ebikes": 3,
           "has_ebikes": true,
           "last_updated": 1681858319,
           "payment": [
            "creditcard",
            "key"
           ],
           "payment-terminal": true,
           "renting": 1,
           "returning": 1,
           "slots": 15,
           "uid": "644"
          },
          "free_bikes": 8,
          "id": "27664eb30b56774476616bd5f1ddc0de",
          "latitude": 45.5914549914687,
          "longitude": -73.56275528669356,
          "name": "Parc Félix-Leclerc (François-Boivin / St-Zotique)",
          "timestamp": "2023-04-19T12:27:59.743000Z"
         },
         {
          "empty_slots": 11,
          "extra": {
           "ebikes": 0,
           "has_ebikes": true,
           "last_updated": 1681907239,
           "payment": [
            "creditcard",
            "key"
           ],
           "payment-terminal": true,
           "renting": 1,
           "returning": 1,
           "slots": 23,
           "uid": "331"
          },
          "free_bikes": 11,
          "id": "14313ece3fba0c9be8615f400fd8980c",
          "latitude": 45.55118417872238,
          "longitude": -73.54087114334106,
          "name": "Desjardins / Ontario",
          "timestamp": "2023-04-19T12:27:59.752000Z"
         },
         {
          "empty_slots": 6,
          "extra": {
           "ebikes": 0,
           "has_ebikes": true,
           "last_updated": 1681906145,
           "payment": [
            "creditcard",
            "key"
           ],
           "payment-terminal": true,
           "renting": 1,
           "returning": 1,
           "slots": 27,
           "uid": "21"
          },
          "free_bikes": 20,
          "id": "cd934b5b49d77a576facd6fcad9c4fcd",
          "latitude": 45.52111152278944,
          "longitude": -73.56231406331062,
          "name": "Montcalm / Ontario",
          "timestamp": "2023-04-19T12:27:59.846000Z"
         },
         {
          "empty_slots": 21,
          "extra": {
           "ebikes": 0,
           "has_ebikes": true,
           "last_updated": 1681907255,
           "payment": [
            "creditcard",
            "key"
           ],
           "payment-terminal": true,
           "renting": 1,
           "returning": 1,
           "slots": 33,
           "uid": "607"
          },
          "free_bikes": 11,
          "id": "f9cff3cd7959287708ec2346fdc9f24c",
          "latitude": 45.48295816149219,
          "longitude": -73.57975836854166,
          "name": "Métro Lionel-Groulx (St-Jacques / Atwater)",
          "timestamp": "2023-04-19T12:27:59.969000Z"
         },
         {
          "empty_slots": 9,
          "extra": {
           "ebikes": 2,
           "has_ebikes": true,
           "last_updated": 1681905918,
           "payment": [
            "creditcard",
            "key"
           ],
           "payment-terminal": true,
           "renting": 1,
           "returning": 1,
           "slots": 15,
           "uid": "459"
          },
          "free_bikes": 5,
          "id": "0fd9694a284f367a93e09aab47f56a7d",
          "latitude": 45.456365,
          "longitude": -73.57614,
          "name": "5e avenue / Bannantyne",
          "timestamp": "2023-04-19T12:27:59.993000Z"
         },
         {
          "empty_slots": 14,
          "extra": {
           "ebikes": 0,
           "has_ebikes": true,
           "last_updated": 1681905965,
           "payment": [
            "creditcard",
            "key"
           ],
           "payment-terminal": true,
           "renting": 1,
           "returning": 1,
           "slots": 19,
           "uid": "454"
          },
          "free_bikes": 5,
          "id": "cc211dcba4ef94c4a141a37ef87da2aa",
          "latitude": 45.55078357889704,
          "longitude": -73.53409996037954,
          "name": "Letourneux / Ste-Catherine",
          "timestamp": "2023-04-19T12:28:00Z"
         },
         {
          "empty_slots": 10,
          "extra": {
           "ebikes": 1,
           "has_ebikes": true,
           "last_updated": 1681905245,
           "payment": [
            "creditcard",
            "key"
           ],
           "payment-terminal": true,
           "renting": 1,
           "returning": 1,
           "slots": 15,
           "uid": "10"
          },
          "free_bikes": 3,
          "id": "24170e2b4988a35b835b818e6622f46e",
          "latitude": 45.611230741550536,
          "longitude": -73.5312415660519,
          "name": "de Grosbois / Duchesneau",
          "timestamp": "2023-04-19T12:28:00.356000Z"
         },
         {
          "empty_slots": 1,
          "extra": {
           "ebikes": 3,
           "has_ebikes": true,
           "last_updated": 1681907189,
           "payment": [
            "creditcard",
            "key"
           ],
           "payment-terminal": true,
           "renting": 1,
           "returning": 1,
           "slots": 19,
           "uid": "322"
          },
          "free_bikes": 18,
          "id": "b4b250840906bb607fbd46aa66aa4325",
          "latitude": 45.54690718297082,
          "longitude": -73.5515570640564,
          "name": "Métro Joliette  (Joliette / Hochelaga)",
          "timestamp": "2023-04-19T12:28:00.397000Z"
         },
         {
          "empty_slots": 9,
          "extra": {
           "ebikes": 1,
           "has_ebikes": true,
           "last_updated": 1681906809,
           "payment": [
            "creditcard",
            "key"
           ],
           "payment-terminal": true,
           "renting": 1,
           "returning": 1,
           "slots": 31,
           "uid": "321"
          },
          "free_bikes": 22,
          "id": "f2eb7277712f252dfa429edacc393688",
          "latitude": 45.541374968866094,
          "longitude": -73.5542231798172,
          "name": "Métro Préfontaine (Moreau / Hochelaga)",
          "timestamp": "2023-04-19T12:28:00.409000Z"
         },
         {
          "empty_slots": 35,
          "extra": {
           "ebikes": 0,
           "has_ebikes": true,
           "last_updated": 1681907106,
           "payment": [
            "creditcard",
            "key"
           ],
           "payment-terminal": true,
           "renting": 1,
           "returning": 1,
           "slots": 47,
           "uid": "77"
          },
          "free_bikes": 10,
          "id": "8c3e8bbf15685f205ba044dbeac4960a",
          "latitude": 45.49544692088696,
          "longitude": -73.56329441070557,
          "name": "Peel / Notre-Dame",
          "timestamp": "2023-04-19T12:28:00.489000Z"
         },
         {
          "empty_slots": 4,
          "extra": {
           "ebikes": 1,
           "has_ebikes": true,
           "last_updated": 1681906062,
           "payment": [
            "creditcard",
            "key"
           ],
           "payment-terminal": true,
           "renting": 1,
           "returning": 1,
           "slots": 15,
           "uid": "414"
          },
          "free_bikes": 11,
          "id": "04c57a547249150f2e0fea6c07bd3037",
          "latitude": 45.55465888075087,
          "longitude": -73.54660302400589,
          "name": "Letourneux / Hochelaga",
          "timestamp": "2023-04-19T12:28:00.712000Z"
         },
         {
          "empty_slots": 16,
          "extra": {
           "ebikes": 3,
           "has_ebikes": true,
           "last_updated": 1681906907,
           "payment": [
            "creditcard",
            "key"
           ],
           "payment-terminal": true,
           "renting": 1,
           "returning": 1,
           "slots": 23,
           "uid": "359"
          },
          "free_bikes": 7,
          "id": "bcdca0295c5c26ad7854aa6c9aabc46b",
          "latitude": 45.55626186680846,
          "longitude": -73.53744059801102,
          "name": "Ontario / Sicard",
          "timestamp": "2023-04-19T12:28:01.135000Z"
         },
         {
          "empty_slots": 7,
          "extra": {
           "ebikes": 0,
           "has_ebikes": true,
           "last_updated": 1681906645,
           "payment": [
            "creditcard",
            "key"
           ],
           "payment-terminal": true,
           "renting": 1,
           "returning": 1,
           "slots": 15,
           "uid": "672"
          },
          "free_bikes": 7,
          "id": "62f2158455e02b627217bff86692c592",
          "latitude": 45.453318765468914,
          "longitude": -73.5767751932144,
          "name": "Argyle / Bannantyne",
          "timestamp": "2023-04-19T12:28:01.247000Z"
         },
         {
          "empty_slots": 9,
          "extra": {
           "ebikes": 0,
           "has_ebikes": true,
           "last_updated": 1681905541,
           "payment": [
            "creditcard",
            "key"
           ],
           "payment-terminal": true,
           "renting": 1,
           "returning": 1,
           "slots": 19,
           "uid": "474"
          },
          "free_bikes": 8,
          "id": "c573e32cf71119257aaf9c0dcd51bbb7",
          "latitude": 45.5594818,
          "longitude": -73.535496,
          "name": "Ontario / Viau",
          "timestamp": "2023-04-19T12:28:01.979000Z"
         },
         {
          "empty_slots": 13,
          "extra": {
           "ebikes": 1,
           "has_ebikes": true,
           "last_updated": 1681876537,
           "payment": [
            "creditcard",
            "key"
           ],
           "payment-terminal": true,
           "renting": 1,
           "returning": 1,
           "slots": 15,
           "uid": "704"
          },
          "free_bikes": 1,
          "id": "576e0d3e08c4c2a9ec39b3228ac9b91e",
          "latitude": 45.60444089974122,
          "longitude": -73.51611837744713,
          "name": "Souligny / Desmarteau",
          "timestamp": "2023-04-19T12:27:59.890000Z"
         },
         {
          "empty_slots": 16,
          "extra": {
           "ebikes": 0,
           "has_ebikes": true,
           "last_updated": 1681906664,
           "payment": [
            "creditcard",
            "key"
           ],
           "payment-terminal": true,
           "renting": 1,
           "returning": 1,
           "slots": 23,
           "uid": "328"
          },
          "free_bikes": 5,
          "id": "a0dafca2160e6e43d700ba63c07a7af2",
          "latitude": 45.54814504700217,
          "longitude": -73.5471260547638,
          "name": "Parc Lalancette (de Rouen / Valois)",
          "timestamp": "2023-04-19T12:28:00.411000Z"
         },
         {
          "empty_slots": 20,
          "extra": {
           "ebikes": 0,
           "has_ebikes": true,
           "last_updated": 1681907030,
           "payment": [
            "creditcard",
            "key"
           ],
           "payment-terminal": true,
           "renting": 1,
           "returning": 1,
           "slots": 33,
           "uid": "388"
          },
          "free_bikes": 10,
          "id": "b70ce7493bae1388aa38f66e6e8434f1",
          "latitude": 45.554373399819674,
          "longitude": -73.55137467384337,
          "name": "Métro Pie-IX (Pierre-de-Coubertin / Desjardins)",
          "timestamp": "2023-04-19T12:28:00.917000Z"
         },
         {
          "empty_slots": 11,
          "extra": {
           "ebikes": 0,
           "has_ebikes": true,
           "last_updated": 1681906925,
           "payment": [
            "creditcard",
            "key"
           ],
           "payment-terminal": true,
           "renting": 1,
           "returning": 1,
           "slots": 19,
           "uid": "101"
          },
          "free_bikes": 8,
          "id": "087ebaee08c22fcceddf4c659711fc06",
          "latitude": 45.519131967116216,
          "longitude": -73.55788965214742,
          "name": "Montcalm / de Maisonneuve",
          "timestamp": "2023-04-19T12:27:59.729000Z"
         },
         {
          "empty_slots": 5,
          "extra": {
           "ebikes": 0,
           "has_ebikes": true,
           "last_updated": 1681906527,
           "payment": [
            "creditcard",
            "key"
           ],
           "payment-terminal": true,
           "renting": 1,
           "returning": 1,
           "slots": 23,
           "uid": "524"
          },
          "free_bikes": 17,
          "id": "3907c9dd03e1eb2b87e60ee8e44cc076",
          "latitude": 45.51888453178292,
          "longitude": -73.55593845248222,
          "name": "Métro Beaudry (Beaudry / Ste-Catherine)",
          "timestamp": "2023-04-19T12:27:59.711000Z"
         },
         {
          "empty_slots": 22,
          "extra": {
           "ebikes": 0,
           "has_ebikes": true,
           "last_updated": 1681852584,
           "payment": [
            "creditcard",
            "key"
           ],
           "payment-terminal": true,
           "renting": 1,
           "returning": 1,
           "slots": 23,
           "uid": "23"
          },
          "free_bikes": 1,
          "id": "2ac881e707deb129d22c277981b83221",
          "latitude": 45.59926552299961,
          "longitude": -73.51226069033146,
          "name": "des Ormeaux / Notre-Dame",
          "timestamp": "2023-04-19T12:27:59.847000Z"
         },
         {
          "empty_slots": 10,
          "extra": {
           "ebikes": 0,
           "has_ebikes": true,
           "last_updated": 1681906082,
           "payment": [
            "creditcard",
            "key"
           ],
           "payment-terminal": true,
           "renting": 1,
           "returning": 1,
           "slots": 19,
           "uid": "2"
          },
          "free_bikes": 9,
          "id": "0dc51758d1fa3f735ae6aceec2ebbccd",
          "latitude": 45.539385081961676,
          "longitude": -73.54099988937377,
          "name": "Ste-Catherine / Dezery",
          "timestamp": "2023-04-19T12:28:00.544000Z"
         },
         {
          "empty_slots": 6,
          "extra": {
           "ebikes": 4,
           "has_ebikes": true,
           "last_updated": 1681907169,
           "payment": [
            "creditcard",
            "key"
           ],
           "payment-terminal": true,
           "renting": 1,
           "returning": 1,
           "slots": 23,
           "uid": "456"
          },
          "free_bikes": 17,
          "id": "2032711148d8591691b99033ef8cb1c8",
          "latitude": 45.569789,
          "longitude": -73.548081,
          "name": "Métro Assomption (Chauveau / de l'Assomption)",
          "timestamp": "2023-04-19T12:28:00.009000Z"
         },
         {
          "empty_slots": 16,
          "extra": {
           "ebikes": 1,
           "has_ebikes": true,
           "last_updated": 1681907265,
           "payment": [
            "creditcard",
            "key"
           ],
           "payment-terminal": true,
           "renting": 1,
           "returning": 1,
           "slots": 23,
           "uid": "125"
          },
          "free_bikes": 6,
          "id": "2d1688ea5fe9eda664f3bbb9ac5be483",
          "latitude": 45.54303187243879,
          "longitude": -73.56256484985352,
          "name": "André-Laurendeau / Rachel",
          "timestamp": "2023-04-19T12:28:00.697000Z"
         },
         {
          "empty_slots": 11,
          "extra": {
           "ebikes": 1,
           "has_ebikes": true,
           "last_updated": 1681905303,
           "payment": [
            "creditcard",
            "key"
           ],
           "payment-terminal": true,
           "renting": 1,
           "returning": 1,
           "slots": 19,
           "uid": "475"
          },
          "free_bikes": 7,
          "id": "392420a4d81c444ab82f2c51172413a5",
          "latitude": 45.57683333463968,
          "longitude": -73.54647415224463,
          "name": "Métro Cadillac (Cadillac / Sherbrooke)",
          "timestamp": "2023-04-19T12:28:01.981000Z"
         },
         {
          "empty_slots": 15,
          "extra": {
           "ebikes": 1,
           "has_ebikes": true,
           "last_updated": 1681906911,
           "payment": [
            "creditcard",
            "key"
           ],
           "payment-terminal": true,
           "renting": 1,
           "returning": 1,
           "slots": 19,
           "uid": "176"
          },
          "free_bikes": 4,
          "id": "0c9cd68aa1bd69a080463ce7f302337c",
          "latitude": 45.52551168509886,
          "longitude": -73.57424452900887,
          "name": "du Parc-Lafontaine / Rachel",
          "timestamp": "2023-04-19T12:28:00.018000Z"
         },
         {
          "empty_slots": 6,
          "extra": {
           "ebikes": 1,
           "has_ebikes": true,
           "last_updated": 1681907162,
           "payment": [
            "creditcard",
            "key"
           ],
           "payment-terminal": true,
           "renting": 1,
           "returning": 1,
           "slots": 15,
           "uid": "647"
          },
          "free_bikes": 9,
          "id": "c20d24982078fd1c7a0d33848a09ae70",
          "latitude": 45.55892530967948,
          "longitude": -73.5480573177665,
          "name": "Aird / Pierre-de-Coubertin",
          "timestamp": "2023-04-19T12:28:01.118000Z"
         },
         {
          "empty_slots": 9,
          "extra": {
           "ebikes": 0,
           "has_ebikes": true,
           "last_updated": 1681905721,
           "payment": [
            "creditcard",
            "key"
           ],
           "payment-terminal": true,
           "renting": 1,
           "returning": 1,
           "slots": 15,
           "uid": "533"
          },
          "free_bikes": 6,
          "id": "d6ff1c4cb864d2d50b5d9ed8097dfb17",
          "latitude": 45.543652466151,
          "longitude": -73.5534825682771,
          "name": "St-Germain / Hochelaga",
          "timestamp": "2023-04-19T12:28:01.445000Z"
         },
         {
          "empty_slots": 12,
          "extra": {
           "ebikes": 3,
           "has_ebikes": true,
           "last_updated": 1681905972,
           "payment": [
            "creditcard",
            "key"
           ],
           "payment-terminal": true,
           "renting": 1,
           "returning": 1,
           "slots": 19,
           "uid": "529"
          },
          "free_bikes": 6,
          "id": "48358d12d83653f998be0408f938da97",
          "latitude": 45.58284663189181,
          "longitude": -73.54247644543648,
          "name": "Métro Langelier (Langelier / Sherbrooke)",
          "timestamp": "2023-04-19T12:27:59.717000Z"
         },
         {
          "empty_slots": 16,
          "extra": {
           "ebikes": 0,
           "has_ebikes": true,
           "last_updated": 1681905795,
           "payment": [
            "creditcard",
            "key"
           ],
           "payment-terminal": true,
           "renting": 1,
           "returning": 1,
           "slots": 19,
           "uid": "495"
          },
          "free_bikes": 3,
          "id": "c9e9fe27274a30074192edf2943a819d",
          "latitude": 45.580314546424674,
          "longitude": -73.5353136062622,
          "name": "Pierre-de-Coubertin / Langelier",
          "timestamp": "2023-04-19T12:27:59.832000Z"
         },
         {
          "empty_slots": 21,
          "extra": {
           "ebikes": 0,
           "has_ebikes": true,
           "last_updated": 1681906807,
           "payment": [
            "creditcard",
            "key"
           ],
           "payment-terminal": true,
           "renting": 1,
           "returning": 1,
           "slots": 31,
           "uid": "17"
          },
          "free_bikes": 10,
          "id": "56da2b09eb91197a19a17ad3f111ee6a",
          "latitude": 45.52063377251984,
          "longitude": -73.56390595436096,
          "name": "Atateken / du Square Amherst",
          "timestamp": "2023-04-19T12:28:00.367000Z"
         },
         {
          "empty_slots": 19,
          "extra": {
           "ebikes": 0,
           "has_ebikes": true,
           "last_updated": 1681906340,
           "payment": [
            "creditcard",
            "key"
           ],
           "payment-terminal": true,
           "renting": 1,
           "returning": 1,
           "slots": 23,
           "uid": "166"
          },
          "free_bikes": 4,
          "id": "90c764fcd9b0f5f18632e9d3e0463d05",
          "latitude": 45.53259744983328,
          "longitude": -73.59011113643646,
          "name": "St-Grégoire / Christophe-Colomb",
          "timestamp": "2023-04-19T12:28:01.113000Z"
         },
         {
          "empty_slots": 14,
          "extra": {
           "ebikes": 0,
           "has_ebikes": true,
           "last_updated": 1681907195,
           "payment": [
            "creditcard",
            "key"
           ],
           "payment-terminal": true,
           "renting": 1,
           "returning": 1,
           "slots": 22,
           "uid": "698"
          },
          "free_bikes": 5,
          "id": "e2b99409a7260b74d305e1a5fd4fd0ab",
          "latitude": 45.54099971663243,
          "longitude": -73.55826258659361,
          "name": "de Léry / Sherbrooke",
          "timestamp": "2023-04-19T12:28:00.627000Z"
         },
         {
          "empty_slots": 22,
          "extra": {
           "ebikes": 0,
           "has_ebikes": true,
           "last_updated": 1681906460,
           "payment": [
            "creditcard",
            "key"
           ],
           "payment-terminal": true,
           "renting": 1,
           "returning": 1,
           "slots": 23,
           "uid": "476"
          },
          "free_bikes": 1,
          "id": "2dbff1ebbfc94016ae35ddfeb6133850",
          "latitude": 45.575812361972055,
          "longitude": -73.54123055934906,
          "name": "Du Quesne / de Marseille",
          "timestamp": "2023-04-19T12:28:01.974000Z"
         },
         {
          "empty_slots": 17,
          "extra": {
           "ebikes": 0,
           "has_ebikes": true,
           "last_updated": 1681906772,
           "payment": [
            "creditcard",
            "key"
           ],
           "payment-terminal": true,
           "renting": 1,
           "returning": 1,
           "slots": 19,
           "uid": "18"
          },
          "free_bikes": 2,
          "id": "6251ff1e68672d14ccd94dd4d5d86680",
          "latitude": 45.51889,
          "longitude": -73.56353,
          "name": "St-André / Ontario",
          "timestamp": "2023-04-19T12:28:00.380000Z"
         },
         {
          "empty_slots": 14,
          "extra": {
           "ebikes": 0,
           "has_ebikes": true,
           "last_updated": 1681907201,
           "payment": [
            "creditcard",
            "key"
           ],
           "payment-terminal": true,
           "renting": 1,
           "returning": 1,
           "slots": 23,
           "uid": "531"
          },
          "free_bikes": 7,
          "id": "2539b5b1357e00a4c59b263b929bfd86",
          "latitude": 45.54522973039872,
          "longitude": -73.53725016117096,
          "name": "Valois / Ste-Catherine",
          "timestamp": "2023-04-19T12:28:01.461000Z"
         },
         {
          "empty_slots": 19,
          "extra": {
           "ebikes": 0,
           "has_ebikes": true,
           "last_updated": 1681905869,
           "payment": [
            "creditcard",
            "key"
           ],
           "payment-terminal": true,
           "renting": 1,
           "returning": 1,
           "slots": 19,
           "uid": "102"
          },
          "free_bikes": 0,
          "id": "c871f95d52e91d2357955ef03e4f0262",
          "latitude": 45.52123044585842,
          "longitude": -73.55386108160019,
          "name": "Alexandre-DeSève / Ste-Catherine",
          "timestamp": "2023-04-19T12:27:59.727000Z"
         },
         {
          "empty_slots": 12,
          "extra": {
           "ebikes": 0,
           "has_ebikes": true,
           "last_updated": 1681907255,
           "payment": [
            "creditcard",
            "key"
           ],
           "payment-terminal": true,
           "renting": 1,
           "returning": 1,
           "slots": 15,
           "uid": "288"
          },
          "free_bikes": 2,
          "id": "5943fbcd980fda1f64b9451d1a8ea5f8",
          "latitude": 45.55151193681962,
          "longitude": -73.58207792043686,
          "name": "Bibliothèque et Complexe aquatique Rosemont (8e avenue / Rosemont)",
          "timestamp": "2023-04-19T12:28:01.211000Z"
         },
         {
          "empty_slots": 2,
          "extra": {
           "ebikes": 3,
           "has_ebikes": true,
           "last_updated": 1681907097,
           "payment": [
            "creditcard",
            "key"
           ],
           "payment-terminal": true,
           "renting": 1,
           "returning": 1,
           "slots": 23,
           "uid": "348"
          },
          "free_bikes": 20,
          "id": "dcd94385ae71a2b89052874c692df884",
          "latitude": 45.54969542033443,
          "longitude": -73.55464696884155,
          "name": "Nicolet / Sherbrooke",
          "timestamp": "2023-04-19T12:27:59.670000Z"
         },
         {
          "empty_slots": 3,
          "extra": {
           "ebikes": 0,
           "has_ebikes": true,
           "last_updated": 1681907234,
           "payment": [
            "creditcard",
            "key"
           ],
           "payment-terminal": true,
           "renting": 1,
           "returning": 1,
           "slots": 23,
           "uid": "107"
          },
          "free_bikes": 17,
          "id": "0d09d3f10b062dfca036e47cee35f7a3",
          "latitude": 45.52435882510794,
          "longitude": -73.56053441762924,
          "name": "Alexandre-DeSève  / Ontario",
          "timestamp": "2023-04-19T12:27:59.731000Z"
         },
         {
          "empty_slots": 15,
          "extra": {
           "ebikes": 1,
           "has_ebikes": true,
           "last_updated": 1681906732,
           "payment": [
            "creditcard",
            "key"
           ],
           "payment-terminal": true,
           "renting": 1,
           "returning": 1,
           "slots": 23,
           "uid": "327"
          },
          "free_bikes": 8,
          "id": "f9cf3e6c91e86cf471029dd10f61f34f",
          "latitude": 45.54095791741757,
          "longitude": -73.54702949523926,
          "name": "Dézéry / Ontario",
          "timestamp": "2023-04-19T12:28:00.410000Z"
         },
         {
          "empty_slots": 7,
          "extra": {
           "ebikes": 1,
           "has_ebikes": true,
           "last_updated": 1681906810,
           "payment": [
            "creditcard",
            "key"
           ],
           "payment-terminal": true,
           "renting": 1,
           "returning": 1,
           "slots": 15,
           "uid": "69"
          },
          "free_bikes": 8,
          "id": "b2ff5e1c2db5294d113db231f95c8bb9",
          "latitude": 45.55671730558936,
          "longitude": -73.53024959564209,
          "name": "Ste-Catherine / St-Clément",
          "timestamp": "2023-04-19T12:28:00.992000Z"
         },
         {
          "empty_slots": 10,
          "extra": {
           "ebikes": 0,
           "has_ebikes": true,
           "last_updated": 1681907132,
           "payment": [
            "creditcard",
            "key"
           ],
           "payment-terminal": true,
           "renting": 1,
           "returning": 1,
           "slots": 19,
           "uid": "573"
          },
          "free_bikes": 9,
          "id": "a5ee89a51582e9fef1d0598a74d5401d",
          "latitude": 45.46300108733155,
          "longitude": -73.57156895217486,
          "name": "de l'Église / de Verdun",
          "timestamp": "2023-04-19T12:28:00.935000Z"
         },
         {
          "empty_slots": 18,
          "extra": {
           "ebikes": 1,
           "has_ebikes": true,
           "last_updated": 1681907229,
           "payment": [
            "creditcard",
            "key"
           ],
           "payment-terminal": true,
           "renting": 1,
           "returning": 1,
           "slots": 23,
           "uid": "504"
          },
          "free_bikes": 5,
          "id": "9ded0f40cc46b3f01b00a3033246b3b9",
          "latitude": 45.50644464920572,
          "longitude": -73.55648696422577,
          "name": "St-Jacques / St-Laurent",
          "timestamp": "2023-04-19T12:28:01.049000Z"
         },
         {
          "empty_slots": 18,
          "extra": {
           "ebikes": 1,
           "has_ebikes": true,
           "last_updated": 1681905456,
           "payment": [
            "creditcard",
            "key"
           ],
           "payment-terminal": true,
           "renting": 1,
           "returning": 1,
           "slots": 23,
           "uid": "648"
          },
          "free_bikes": 5,
          "id": "765d7ab045b2fb1beb8a1034fb01171a",
          "latitude": 45.59587457490178,
          "longitude": -73.52352797985077,
          "name": "Liébert / Hochelaga",
          "timestamp": "2023-04-19T12:28:01.121000Z"
         },
         {
          "empty_slots": 21,
          "extra": {
           "ebikes": 0,
           "has_ebikes": true,
           "last_updated": 1681907093,
           "payment": [
            "creditcard",
            "key"
           ],
           "payment-terminal": true,
           "renting": 1,
           "returning": 1,
           "slots": 23,
           "uid": "4"
          },
          "free_bikes": 2,
          "id": "50ee08de38ded52019cad64b2be46375",
          "latitude": 45.50965520472071,
          "longitude": -73.55400860309601,
          "name": "du Champ-de-Mars / Gosford",
          "timestamp": "2023-04-19T12:28:01.212000Z"
         },
         {
          "empty_slots": 21,
          "extra": {
           "ebikes": 1,
           "has_ebikes": true,
           "last_updated": 1681906998,
           "payment": [
            "creditcard",
            "key"
           ],
           "payment-terminal": true,
           "renting": 1,
           "returning": 1,
           "slots": 31,
           "uid": "40"
          },
          "free_bikes": 10,
          "id": "a17e552d6c331c1f935f7766593c3672",
          "latitude": 45.50144108135568,
          "longitude": -73.56014415621758,
          "name": "St-Jacques / McGill",
          "timestamp": "2023-04-19T12:28:01.906000Z"
         },
         {
          "empty_slots": 14,
          "extra": {
           "ebikes": 1,
           "has_ebikes": true,
           "last_updated": 1681906679,
           "payment": [
            "creditcard",
            "key"
           ],
           "payment-terminal": true,
           "renting": 1,
           "returning": 1,
           "slots": 23,
           "uid": "232"
          },
          "free_bikes": 9,
          "id": "5e8f03d2f398f0153b293da5c4978f64",
          "latitude": 45.53148889001714,
          "longitude": -73.58106136322021,
          "name": "Chambord / Gilford",
          "timestamp": "2023-04-19T12:27:59.786000Z"
         },
         {
          "empty_slots": 23,
          "extra": {
           "ebikes": 2,
           "has_ebikes": true,
           "last_updated": 1681907175,
           "payment": [
            "creditcard",
            "key"
           ],
           "payment-terminal": true,
           "renting": 1,
           "returning": 1,
           "slots": 27,
           "uid": "207"
          },
          "free_bikes": 3,
          "id": "58578a089268a03399c901e03eb4f513",
          "latitude": 45.512640029999396,
          "longitude": -73.57060074806213,
          "name": "Milton / Clark",
          "timestamp": "2023-04-19T12:28:00.474000Z"
         },
         {
          "empty_slots": 8,
          "extra": {
           "ebikes": 4,
           "has_ebikes": true,
           "last_updated": 1681906946,
           "payment": [
            "creditcard",
            "key"
           ],
           "payment-terminal": true,
           "renting": 1,
           "returning": 1,
           "slots": 15,
           "uid": "309"
          },
          "free_bikes": 7,
          "id": "c6315ed8be3d1b1db4e1743fd8cf702d",
          "latitude": 45.51989655507833,
          "longitude": -73.58010649681091,
          "name": "de l'Hotel-de-Ville / Rachel",
          "timestamp": "2023-04-19T12:28:01.566000Z"
         },
         {
          "empty_slots": 18,
          "extra": {
           "ebikes": 0,
           "has_ebikes": true,
           "last_updated": 1681901260,
           "payment": [
            "creditcard",
            "key"
           ],
           "payment-terminal": true,
           "renting": 1,
           "returning": 1,
           "slots": 19,
           "uid": "635"
          },
          "free_bikes": 1,
          "id": "8816abf99dad433ee5a7dfd43eb9e7b4",
          "latitude": 45.422451407155854,
          "longitude": -73.601194024086,
          "name": "Gagne / LaSalle",
          "timestamp": "2023-04-19T12:28:01.872000Z"
         },
         {
          "empty_slots": 12,
          "extra": {
           "ebikes": 2,
           "has_ebikes": true,
           "last_updated": 1681907078,
           "payment": [
            "creditcard",
            "key"
           ],
           "payment-terminal": true,
           "renting": 1,
           "returning": 1,
           "slots": 19,
           "uid": "592"
          },
          "free_bikes": 5,
          "id": "0397a121c9e5e2047025a8c477018f42",
          "latitude": 45.50002580878596,
          "longitude": -73.5601931065321,
          "name": "Notre-Dame / Gauvin",
          "timestamp": "2023-04-19T12:27:59.697000Z"
         },
         {
          "empty_slots": 16,
          "extra": {
           "ebikes": 1,
           "has_ebikes": true,
           "last_updated": 1681907194,
           "payment": [
            "creditcard",
            "key"
           ],
           "payment-terminal": true,
           "renting": 1,
           "returning": 1,
           "slots": 23,
           "uid": "643"
          },
          "free_bikes": 6,
          "id": "935e7ecf165bb0039c08cd0e2a7d51ce",
          "latitude": 45.5967964774917,
          "longitude": -73.53517949581145,
          "name": "Métro Honoré-Beaugrand (Sherbrooke / Honoré-Beaugrand)",
          "timestamp": "2023-04-19T12:27:59.741000Z"
         },
         {
          "empty_slots": 19,
          "extra": {
           "ebikes": 0,
           "has_ebikes": true,
           "last_updated": 1681906241,
           "payment": [
            "creditcard",
            "key"
           ],
           "payment-terminal": true,
           "renting": 1,
           "returning": 1,
           "slots": 19,
           "uid": "63"
          },
          "free_bikes": 0,
          "id": "d807ba1927007377643362ea1dfab494",
          "latitude": 45.500015468871446,
          "longitude": -73.57938900589943,
          "name": "de la Montagne / Sherbrooke",
          "timestamp": "2023-04-19T12:28:01.436000Z"
         },
         {
          "empty_slots": 20,
          "extra": {
           "ebikes": 0,
           "has_ebikes": true,
           "last_updated": 1681906252,
           "payment": [
            "creditcard",
            "key"
           ],
           "payment-terminal": true,
           "renting": 1,
           "returning": 1,
           "slots": 23,
           "uid": "38"
          },
          "free_bikes": 3,
          "id": "9b1fefd8f850f3343e75c549459840df",
          "latitude": 45.5008764952487,
          "longitude": -73.55900555849075,
          "name": "des Récollets / McGill",
          "timestamp": "2023-04-19T12:27:59.734000Z"
         },
         {
          "empty_slots": 6,
          "extra": {
           "ebikes": 1,
           "has_ebikes": true,
           "last_updated": 1681904983,
           "payment": [
            "creditcard",
            "key"
           ],
           "payment-terminal": true,
           "renting": 1,
           "returning": 1,
           "slots": 19,
           "uid": "642"
          },
          "free_bikes": 13,
          "id": "0c2a4ecc9f51dd227f050651ae2dd6fe",
          "latitude": 45.58917500418707,
          "longitude": -73.53965610265732,
          "name": "Métro Radisson (Sherbrooke / des Groseilliers)",
          "timestamp": "2023-04-19T12:27:59.741000Z"
         },
         {
          "empty_slots": 30,
          "extra": {
           "ebikes": 0,
           "has_ebikes": true,
           "last_updated": 1681907066,
           "payment": [
            "creditcard",
            "key"
           ],
           "payment-terminal": true,
           "renting": 1,
           "returning": 1,
           "slots": 31,
           "uid": "580"
          },
          "free_bikes": 1,
          "id": "6a842356c5017c283342c979fe0cdc92",
          "latitude": 45.50625103256782,
          "longitude": -73.57139065861702,
          "name": "City Councillors / du President-Kennedy",
          "timestamp": "2023-04-19T12:27:59.975000Z"
         },
         {
          "empty_slots": 18,
          "extra": {
           "ebikes": 0,
           "has_ebikes": true,
           "last_updated": 1681906923,
           "payment": [
            "creditcard",
            "key"
           ],
           "payment-terminal": true,
           "renting": 1,
           "returning": 1,
           "slots": 19,
           "uid": "47"
          },
          "free_bikes": 1,
          "id": "b00d02e75bacace8be150754cc2b4744",
          "latitude": 45.49891911390352,
          "longitude": -73.55725407600403,
          "name": "William / St-Henri",
          "timestamp": "2023-04-19T12:28:01.893000Z"
         },
         {
          "empty_slots": 14,
          "extra": {
           "ebikes": 4,
           "has_ebikes": true,
           "last_updated": 1681907151,
           "payment": [
            "creditcard",
            "key"
           ],
           "payment-terminal": true,
           "renting": 1,
           "returning": 1,
           "slots": 23,
           "uid": "544"
          },
          "free_bikes": 8,
          "id": "e961f4fd75343f436e8737ceaee745d6",
          "latitude": 45.533078445261296,
          "longitude": -73.57266068458557,
          "name": "Cartier / Marie-Anne",
          "timestamp": "2023-04-19T12:28:00.665000Z"
         },
         {
          "empty_slots": 12,
          "extra": {
           "ebikes": 2,
           "has_ebikes": true,
           "last_updated": 1681907021,
           "payment": [
            "creditcard",
            "key"
           ],
           "payment-terminal": true,
           "renting": 1,
           "returning": 1,
           "slots": 23,
           "uid": "245"
          },
          "free_bikes": 11,
          "id": "af546a8f7b1b7fb5f30b8913d91132bf",
          "latitude": 45.53696,
          "longitude": -73.61199,
          "name": "Bélanger / St-Denis",
          "timestamp": "2023-04-19T12:27:59.977000Z"
         },
         {
          "empty_slots": 36,
          "extra": {
           "ebikes": 1,
           "has_ebikes": true,
           "last_updated": 1681904594,
           "payment": [
            "creditcard",
            "key"
           ],
           "payment-terminal": true,
           "renting": 1,
           "returning": 1,
           "slots": 39,
           "uid": "213"
          },
          "free_bikes": 3,
          "id": "fd257591e7968cef039df289ea634668",
          "latitude": 45.50083231626815,
          "longitude": -73.57245951890945,
          "name": "Metcalfe / St-Catherine",
          "timestamp": "2023-04-19T12:28:01.185000Z"
         },
         {
          "empty_slots": 32,
          "extra": {
           "ebikes": 0,
           "has_ebikes": true,
           "last_updated": 1681906959,
           "payment": [
            "creditcard",
            "key"
           ],
           "payment-terminal": true,
           "renting": 1,
           "returning": 1,
           "slots": 39,
           "uid": "88"
          },
          "free_bikes": 7,
          "id": "72764def7879ed8d61e4d861fc234863",
          "latitude": 45.51473288454674,
          "longitude": -73.55961576104164,
          "name": "Ste-Catherine / Labelle",
          "timestamp": "2023-04-19T12:27:59.926000Z"
         },
         {
          "empty_slots": 41,
          "extra": {
           "ebikes": 1,
           "has_ebikes": true,
           "last_updated": 1681907124,
           "payment": [
            "creditcard",
            "key"
           ],
           "payment-terminal": true,
           "renting": 1,
           "returning": 1,
           "slots": 47,
           "uid": "48"
          },
          "free_bikes": 6,
          "id": "1dd2c41ba0060546b80e05d4874c3acc",
          "latitude": 45.49760527699099,
          "longitude": -73.55534970760345,
          "name": "Queen / Wellington",
          "timestamp": "2023-04-19T12:28:01.881000Z"
         },
         {
          "empty_slots": 12,
          "extra": {
           "ebikes": 1,
           "has_ebikes": true,
           "last_updated": 1681907147,
           "payment": [
            "creditcard",
            "key"
           ],
           "payment-terminal": true,
           "renting": 1,
           "returning": 1,
           "slots": 19,
           "uid": "570"
          },
          "free_bikes": 3,
          "id": "80049ad71e2ce303a2718cb74d9cb3ec",
          "latitude": 45.45791007701367,
          "longitude": -73.56774741414483,
          "name": "2e avenue / Wellington",
          "timestamp": "2023-04-19T12:28:00.948000Z"
         },
         {
          "empty_slots": 23,
          "extra": {
           "ebikes": 2,
           "has_ebikes": true,
           "last_updated": 1681907056,
           "payment": [
            "creditcard",
            "key"
           ],
           "payment-terminal": true,
           "renting": 1,
           "returning": 1,
           "slots": 31,
           "uid": "610"
          },
          "free_bikes": 8,
          "id": "10475818ade51c1cf28cd5e24ecff6fc",
          "latitude": 45.50022226680107,
          "longitude": -73.57110500335693,
          "name": "Metcalfe / du Square-Dorchester",
          "timestamp": "2023-04-19T12:27:59.804000Z"
         },
         {
          "empty_slots": 20,
          "extra": {
           "ebikes": 1,
           "has_ebikes": true,
           "last_updated": 1681907133,
           "payment": [
            "creditcard",
            "key"
           ],
           "payment-terminal": true,
           "renting": 1,
           "returning": 1,
           "slots": 23,
           "uid": "246"
          },
          "free_bikes": 2,
          "id": "30b3972ded9afdaa750cbbeef330fe74",
          "latitude": 45.53678525128436,
          "longitude": -73.6148879583925,
          "name": "Marché Jean-Talon (Henri-Julien / Jean-Talon)",
          "timestamp": "2023-04-19T12:27:59.980000Z"
         },
         {
          "empty_slots": 30,
          "extra": {
           "ebikes": 0,
           "has_ebikes": true,
           "last_updated": 1681907074,
           "payment": [
            "creditcard",
            "key"
           ],
           "payment-terminal": true,
           "renting": 1,
           "returning": 1,
           "slots": 35,
           "uid": "180"
          },
          "free_bikes": 5,
          "id": "237d00fce0cb040924da6e8fde1b4212",
          "latitude": 45.498846367453694,
          "longitude": -73.55462982326571,
          "name": "des Soeurs-Grises / Marguerite d'Youville",
          "timestamp": "2023-04-19T12:28:00.265000Z"
         },
         {
          "empty_slots": 17,
          "extra": {
           "ebikes": 1,
           "has_ebikes": true,
           "last_updated": 1681907104,
           "payment": [
            "creditcard",
            "key"
           ],
           "payment-terminal": true,
           "renting": 1,
           "returning": 1,
           "slots": 26,
           "uid": "15"
          },
          "free_bikes": 8,
          "id": "17fa54af3bda4e6f4184b281ee05d5e5",
          "latitude": 45.51440491203477,
          "longitude": -73.56181114912033,
          "name": "Saint-Denis/de Maisonneuve",
          "timestamp": "2023-04-19T12:28:00.361000Z"
         },
         {
          "empty_slots": 23,
          "extra": {
           "ebikes": 0,
           "has_ebikes": true,
           "last_updated": 1681907194,
           "payment": [
            "creditcard",
            "key"
           ],
           "payment-terminal": true,
           "renting": 1,
           "returning": 1,
           "slots": 23,
           "uid": "36"
          },
          "free_bikes": 0,
          "id": "dd90b8d66fbadef744f51cb9403d0fc6",
          "latitude": 45.501966859101564,
          "longitude": -73.55515256524086,
          "name": "St-Nicolas / Place d'Youville",
          "timestamp": "2023-04-19T12:27:59.737000Z"
         },
         {
          "empty_slots": 10,
          "extra": {
           "ebikes": 2,
           "has_ebikes": true,
           "last_updated": 1681906208,
           "payment": [
            "creditcard",
            "key"
           ],
           "payment-terminal": true,
           "renting": 1,
           "returning": 1,
           "slots": 23,
           "uid": "365"
          },
          "free_bikes": 12,
          "id": "7c920d7522a3c8abcede6106562c99e6",
          "latitude": 45.54968589617967,
          "longitude": -73.59115451574326,
          "name": "Molson / Beaubien",
          "timestamp": "2023-04-19T12:28:00.792000Z"
         },
         {
          "empty_slots": 9,
          "extra": {
           "ebikes": 0,
           "has_ebikes": true,
           "last_updated": 1681907121,
           "payment": [
            "creditcard",
            "key"
           ],
           "payment-terminal": true,
           "renting": 1,
           "returning": 1,
           "slots": 19,
           "uid": "374"
          },
          "free_bikes": 8,
          "id": "62ae697614fc30933f67aa117dcae40a",
          "latitude": 45.557192,
          "longitude": -73.569847,
          "name": "d'Orléans / Masson",
          "timestamp": "2023-04-19T12:27:59.875000Z"
         },
         {
          "empty_slots": 48,
          "extra": {
           "ebikes": 2,
           "has_ebikes": true,
           "last_updated": 1681907088,
           "payment": [
            "creditcard",
            "key"
           ],
           "payment-terminal": true,
           "renting": 1,
           "returning": 1,
           "slots": 55,
           "uid": "626"
          },
          "free_bikes": 7,
          "id": "42d228ac4871096ae20cb29c7448d2b9",
          "latitude": 45.504027213143104,
          "longitude": -73.56970220804214,
          "name": "Union / Ste-Catherine",
          "timestamp": "2023-04-19T12:27:59.996000Z"
         },
         {
          "empty_slots": 21,
          "extra": {
           "ebikes": 0,
           "has_ebikes": true,
           "last_updated": 1681906763,
           "payment": [
            "creditcard",
            "key"
           ],
           "payment-terminal": true,
           "renting": 1,
           "returning": 1,
           "slots": 27,
           "uid": "41"
          },
          "free_bikes": 6,
          "id": "1278ef6cd4091512db5a50c6b9f503bc",
          "latitude": 45.50060578095098,
          "longitude": -73.56544822454453,
          "name": "de la Gauchetière / Robert-Bourassa",
          "timestamp": "2023-04-19T12:28:01.909000Z"
         },
         {
          "empty_slots": 14,
          "extra": {
           "ebikes": 1,
           "has_ebikes": true,
           "last_updated": 1681906308,
           "payment": [
            "creditcard",
            "key"
           ],
           "payment-terminal": true,
           "renting": 1,
           "returning": 1,
           "slots": 19,
           "uid": "293"
          },
          "free_bikes": 5,
          "id": "6c639e8a9ec1781d973dbb586a735262",
          "latitude": 45.5481863712796,
          "longitude": -73.592010140419,
          "name": "Louis-Hébert / Beaubien",
          "timestamp": "2023-04-19T12:27:59.693000Z"
         },
         {
          "empty_slots": 13,
          "extra": {
           "ebikes": 2,
           "has_ebikes": true,
           "last_updated": 1681906780,
           "payment": [
            "creditcard",
            "key"
           ],
           "payment-terminal": true,
           "renting": 1,
           "returning": 1,
           "slots": 23,
           "uid": "593"
          },
          "free_bikes": 10,
          "id": "fa5c754a52303327c38b54956e044594",
          "latitude": 45.505102242483595,
          "longitude": -73.57187882065773,
          "name": "du President-Kennedy / Union",
          "timestamp": "2023-04-19T12:27:59.696000Z"
         },
         {
          "empty_slots": 19,
          "extra": {
           "ebikes": 0,
           "has_ebikes": true,
           "last_updated": 1681531086,
           "payment": [
            "creditcard",
            "key"
           ],
           "payment-terminal": true,
           "renting": 1,
           "returning": 1,
           "slots": 19,
           "uid": "845"
          },
          "free_bikes": 0,
          "id": "2b315425e18f16fa60831f1b3c3404fc",
          "latitude": 45.57889719514108,
          "longitude": -73.70492711663245,
          "name": "de Grenoble / de Cassis",
          "timestamp": "2023-04-19T12:28:01.610000Z"
         },
         {
          "empty_slots": 7,
          "extra": {
           "ebikes": 0,
           "has_ebikes": true,
           "last_updated": 1681907035,
           "payment": [
            "creditcard",
            "key"
           ],
           "payment-terminal": true,
           "renting": 1,
           "returning": 1,
           "slots": 23,
           "uid": "387"
          },
          "free_bikes": 14,
          "id": "9aaeb514f62c04faf6c442e0a3c422ee",
          "latitude": 45.54545514686953,
          "longitude": -73.55673909187317,
          "name": "Darling / Sherbrooke",
          "timestamp": "2023-04-19T12:28:00.916000Z"
         },
         {
          "empty_slots": 14,
          "extra": {
           "ebikes": 5,
           "has_ebikes": true,
           "last_updated": 1681906669,
           "payment": [
            "creditcard",
            "key"
           ],
           "payment-terminal": true,
           "renting": 1,
           "returning": 1,
           "slots": 27,
           "uid": "375"
          },
          "free_bikes": 12,
          "id": "3126d658666f5f32075689284fc0ae02",
          "latitude": 45.54752382909683,
          "longitude": -73.57513636350632,
          "name": "5e avenue / Masson",
          "timestamp": "2023-04-19T12:27:59.873000Z"
         },
         {
          "empty_slots": 8,
          "extra": {
           "ebikes": 2,
           "has_ebikes": true,
           "last_updated": 1681907220,
           "payment": [
            "creditcard",
            "key"
           ],
           "payment-terminal": true,
           "renting": 1,
           "returning": 1,
           "slots": 27,
           "uid": "372"
          },
          "free_bikes": 17,
          "id": "ab4b146737660d93b736cd75010e84a5",
          "latitude": 45.55037651450808,
          "longitude": -73.57373356819151,
          "name": "10e avenue / Masson",
          "timestamp": "2023-04-19T12:27:59.872000Z"
         },
         {
          "empty_slots": 18,
          "extra": {
           "ebikes": 2,
           "has_ebikes": true,
           "last_updated": 1681905352,
           "payment": [
            "creditcard",
            "key"
           ],
           "payment-terminal": true,
           "renting": 1,
           "returning": 1,
           "slots": 23,
           "uid": "248"
          },
          "free_bikes": 4,
          "id": "3363f5b7a1ca6f69860afe28e42b8d16",
          "latitude": 45.53328465200231,
          "longitude": -73.61546069383621,
          "name": "Mozart / St-Laurent",
          "timestamp": "2023-04-19T12:27:59.984000Z"
         },
         {
          "empty_slots": 19,
          "extra": {
           "ebikes": 1,
           "has_ebikes": true,
           "last_updated": 1681906746,
           "payment": [
            "creditcard",
            "key"
           ],
           "payment-terminal": true,
           "renting": 1,
           "returning": 1,
           "slots": 27,
           "uid": "71"
          },
          "free_bikes": 8,
          "id": "7c1b0523756e972a564a67a123642ce4",
          "latitude": 45.50527354034462,
          "longitude": -73.5674786567688,
          "name": "St-Alexandre / Ste-Catherine",
          "timestamp": "2023-04-19T12:28:00.523000Z"
         },
         {
          "empty_slots": 21,
          "extra": {
           "ebikes": 1,
           "has_ebikes": true,
           "last_updated": 1681907180,
           "payment": [
            "creditcard",
            "key"
           ],
           "payment-terminal": true,
           "renting": 1,
           "returning": 1,
           "slots": 31,
           "uid": "45"
          },
          "free_bikes": 10,
          "id": "7f06a7dd290f87014f37b09606f82501",
          "latitude": 45.49831217703312,
          "longitude": -73.56725603342056,
          "name": "Métro Bonaventure (de la Gauchetière / de la Cathédrale)",
          "timestamp": "2023-04-19T12:28:01.896000Z"
         },
         {
          "empty_slots": 9,
          "extra": {
           "ebikes": 1,
           "has_ebikes": true,
           "last_updated": 1681906735,
           "payment": [
            "creditcard",
            "key"
           ],
           "payment-terminal": true,
           "renting": 1,
           "returning": 1,
           "slots": 19,
           "uid": "472"
          },
          "free_bikes": 10,
          "id": "f60d8fbb9b67ac90d53afd90933bce78",
          "latitude": 45.46670033299904,
          "longitude": -73.62355081379064,
          "name": "Grand Boulevard / Sherbrooke",
          "timestamp": "2023-04-19T12:28:01.961000Z"
         },
         {
          "empty_slots": 9,
          "extra": {
           "ebikes": 5,
           "has_ebikes": true,
           "last_updated": 1681876612,
           "payment": [
            "creditcard",
            "key"
           ],
           "payment-terminal": true,
           "renting": 1,
           "returning": 1,
           "slots": 15,
           "uid": "737"
          },
          "free_bikes": 6,
          "id": "76724952c28f4094bc271838f3de2bcf",
          "latitude": 45.61451982045293,
          "longitude": -73.6118745803833,
          "name": "Langelier / Marie-Victorin",
          "timestamp": "2023-04-19T12:28:01.668000Z"
         },
         {
          "empty_slots": 11,
          "extra": {
           "ebikes": 2,
           "has_ebikes": true,
           "last_updated": 1681906454,
           "payment": [
            "creditcard",
            "key"
           ],
           "payment-terminal": true,
           "renting": 1,
           "returning": 1,
           "slots": 19,
           "uid": "526"
          },
          "free_bikes": 7,
          "id": "a10f7f46ff1cfff0a26c3f9f364d83b6",
          "latitude": 45.4648769981855,
          "longitude": -73.62659722566605,
          "name": "Benny / Sherbrooke",
          "timestamp": "2023-04-19T12:27:59.712000Z"
         },
         {
          "empty_slots": 2,
          "extra": {
           "ebikes": 6,
           "has_ebikes": true,
           "last_updated": 1681906729,
           "payment": [
            "creditcard",
            "key"
           ],
           "payment-terminal": true,
           "renting": 1,
           "returning": 1,
           "slots": 15,
           "uid": "473"
          },
          "free_bikes": 13,
          "id": "0b43d5b25082fcf948a599c9c2f004ad",
          "latitude": 45.46072936353252,
          "longitude": -73.63407254219055,
          "name": "Park Row O / Sherbrooke",
          "timestamp": "2023-04-19T12:28:01.967000Z"
         },
         {
          "empty_slots": 10,
          "extra": {
           "ebikes": 1,
           "has_ebikes": true,
           "last_updated": 1681907266,
           "payment": [
            "creditcard",
            "key"
           ],
           "payment-terminal": true,
           "renting": 1,
           "returning": 1,
           "slots": 23,
           "uid": "85"
          },
          "free_bikes": 13,
          "id": "3ac5779605b9a709b92cb4dea4892111",
          "latitude": 45.493514106710734,
          "longitude": -73.56848180294037,
          "name": "Lucien L'Allier / St-Jacques",
          "timestamp": "2023-04-19T12:27:59.959000Z"
         },
         {
          "empty_slots": 38,
          "extra": {
           "ebikes": 0,
           "has_ebikes": true,
           "last_updated": 1681895904,
           "payment": [
            "creditcard",
            "key"
           ],
           "payment-terminal": true,
           "renting": 1,
           "returning": 1,
           "slots": 39,
           "uid": "75"
          },
          "free_bikes": 0,
          "id": "e14b6c2c9409f80090a2cabc3ebe4a42",
          "latitude": 45.50434678685089,
          "longitude": -73.56894850730896,
          "name": "Aylmer / Ste-Catherine",
          "timestamp": "2023-04-19T12:28:00.497000Z"
         },
         {
          "empty_slots": 14,
          "extra": {
           "ebikes": 5,
           "has_ebikes": true,
           "last_updated": 1681905516,
           "payment": [
            "creditcard",
            "key"
           ],
           "payment-terminal": true,
           "renting": 1,
           "returning": 1,
           "slots": 31,
           "uid": "555"
          },
          "free_bikes": 17,
          "id": "7c32f3b5366899daa12d5a2315c5eb5e",
          "latitude": 45.470535000953966,
          "longitude": -73.63165721297264,
          "name": "Grand Boulevard / de Terrebonne",
          "timestamp": "2023-04-19T12:27:59.776000Z"
         },
         {
          "empty_slots": 11,
          "extra": {
           "ebikes": 3,
           "has_ebikes": true,
           "last_updated": 1681868127,
           "payment": [
            "creditcard",
            "key"
           ],
           "payment-terminal": true,
           "renting": 1,
           "returning": 1,
           "slots": 19,
           "uid": "627"
          },
          "free_bikes": 8,
          "id": "cfa85c0d171620de658d1fffcd749528",
          "latitude": 45.49404432109336,
          "longitude": -73.65449488162994,
          "name": "des Jockeys / Décarie",
          "timestamp": "2023-04-19T12:27:59.995000Z"
         },
         {
          "empty_slots": 12,
          "extra": {
           "ebikes": 0,
           "has_ebikes": true,
           "last_updated": 1681907090,
           "payment": [
            "creditcard",
            "key"
           ],
           "payment-terminal": true,
           "renting": 1,
           "returning": 1,
           "slots": 19,
           "uid": "736"
          },
          "free_bikes": 4,
          "id": "975a36ecbf71ebb1bb1cb5f5ae237f84",
          "latitude": 45.49048314001669,
          "longitude": -73.62913727760315,
          "name": "Lacombe / Victoria",
          "timestamp": "2023-04-19T12:28:01.033000Z"
         },
         {
          "empty_slots": 14,
          "extra": {
           "ebikes": 1,
           "has_ebikes": true,
           "last_updated": 1681907010,
           "payment": [
            "creditcard",
            "key"
           ],
           "payment-terminal": true,
           "renting": 1,
           "returning": 1,
           "slots": 19,
           "uid": "702"
          },
          "free_bikes": 5,
          "id": "cf89ce8fe2aafb11df3c7a2262e6013e",
          "latitude": 45.46887995929811,
          "longitude": -73.60943913459778,
          "name": "Parc Georges St-Pierre (Oxford / Upper Lachine)",
          "timestamp": "2023-04-19T12:27:59.894000Z"
         },
         {
          "empty_slots": 12,
          "extra": {
           "ebikes": 0,
           "has_ebikes": true,
           "last_updated": 1681876057,
           "payment": [
            "creditcard",
            "key"
           ],
           "payment-terminal": true,
           "renting": 1,
           "returning": 1,
           "slots": 23,
           "uid": "419"
          },
          "free_bikes": 10,
          "id": "6f14a073d6fabe8288b7861b4c2dde4d",
          "latitude": 45.491513,
          "longitude": -73.633649,
          "name": "Métro Côte-Ste-Catherine (Beaucourt / de la Côte-Ste-Catherine)",
          "timestamp": "2023-04-19T12:28:00.718000Z"
         },
         {
          "empty_slots": 14,
          "extra": {
           "ebikes": 0,
           "has_ebikes": true,
           "last_updated": 1681906450,
           "payment": [
            "creditcard",
            "key"
           ],
           "payment-terminal": true,
           "renting": 1,
           "returning": 1,
           "slots": 23,
           "uid": "358"
          },
          "free_bikes": 9,
          "id": "a75be8f4ffb85d6f4a0996617a2d7f0d",
          "latitude": 45.471743,
          "longitude": -73.613924,
          "name": "Marcil / Sherbrooke",
          "timestamp": "2023-04-19T12:28:01.157000Z"
         },
         {
          "empty_slots": 21,
          "extra": {
           "ebikes": 4,
           "has_ebikes": true,
           "last_updated": 1681906967,
           "payment": [
            "creditcard",
            "key"
           ],
           "payment-terminal": true,
           "renting": 1,
           "returning": 1,
           "slots": 27,
           "uid": "289"
          },
          "free_bikes": 5,
          "id": "745e24e22f492961cb96d949cd8747e3",
          "latitude": 45.537041,
          "longitude": -73.602026,
          "name": "Boyer / Beaubien",
          "timestamp": "2023-04-19T12:28:01.210000Z"
         },
         {
          "empty_slots": 4,
          "extra": {
           "ebikes": 1,
           "has_ebikes": true,
           "last_updated": 1681906049,
           "payment": [
            "creditcard",
            "key"
           ],
           "payment-terminal": true,
           "renting": 1,
           "returning": 1,
           "slots": 15,
           "uid": "625"
          },
          "free_bikes": 11,
          "id": "523850c4d0985de08981251a3b2fd36a",
          "latitude": 45.47629426230192,
          "longitude": -73.60617488622665,
          "name": "Grey / Sherbrooke",
          "timestamp": "2023-04-19T12:27:59.997000Z"
         },
         {
          "empty_slots": 10,
          "extra": {
           "ebikes": 0,
           "has_ebikes": true,
           "last_updated": 1681905523,
           "payment": [
            "creditcard",
            "key"
           ],
           "payment-terminal": true,
           "renting": 1,
           "returning": 1,
           "slots": 19,
           "uid": "251"
          },
          "free_bikes": 9,
          "id": "1ba2b68a717b2c3e7c7fe7e29a2b11f2",
          "latitude": 45.53848,
          "longitude": -73.60556,
          "name": "Boyer / St-Zotique",
          "timestamp": "2023-04-19T12:28:00.998000Z"
         },
         {
          "empty_slots": 11,
          "extra": {
           "ebikes": 0,
           "has_ebikes": true,
           "last_updated": 1681906484,
           "payment": [
            "creditcard",
            "key"
           ],
           "payment-terminal": true,
           "renting": 1,
           "returning": 1,
           "slots": 23,
           "uid": "307"
          },
          "free_bikes": 11,
          "id": "ce541d236b1fb3391edee931485e6ad7",
          "latitude": 45.483788863965174,
          "longitude": -73.5750612616539,
          "name": "Workman / Vinet",
          "timestamp": "2023-04-19T12:28:01.585000Z"
         },
         {
          "empty_slots": 8,
          "extra": {
           "ebikes": 2,
           "has_ebikes": true,
           "last_updated": 1681906586,
           "payment": [
            "creditcard",
            "key"
           ],
           "payment-terminal": true,
           "renting": 1,
           "returning": 1,
           "slots": 15,
           "uid": "536"
          },
          "free_bikes": 7,
          "id": "3616e01253b56f095ead16febd951361",
          "latitude": 45.53318929909303,
          "longitude": -73.64188581705093,
          "name": "Parc Howard (de l'Épée / de Liège)",
          "timestamp": "2023-04-19T12:28:01.417000Z"
         },
         {
          "empty_slots": 14,
          "extra": {
           "ebikes": 2,
           "has_ebikes": true,
           "last_updated": 1681907239,
           "payment": [
            "creditcard",
            "key"
           ],
           "payment-terminal": true,
           "renting": 1,
           "returning": 1,
           "slots": 23,
           "uid": "370"
          },
          "free_bikes": 5,
          "id": "31535dd5ca8ee557209a804807032aff",
          "latitude": 45.51014162409143,
          "longitude": -73.6247518658638,
          "name": "Wilderton  / Van Horne",
          "timestamp": "2023-04-19T12:27:59.871000Z"
         },
         {
          "empty_slots": 13,
          "extra": {
           "ebikes": 1,
           "has_ebikes": true,
           "last_updated": 1681905948,
           "payment": [
            "creditcard",
            "key"
           ],
           "payment-terminal": true,
           "renting": 1,
           "returning": 1,
           "slots": 23,
           "uid": "360"
          },
          "free_bikes": 10,
          "id": "c48a16100836e81076eece8b635c8828",
          "latitude": 45.47710675189806,
          "longitude": -73.6214379966259,
          "name": "de Monkland / Girouard",
          "timestamp": "2023-04-19T12:28:00.837000Z"
         },
         {
          "empty_slots": 12,
          "extra": {
           "ebikes": 6,
           "has_ebikes": true,
           "last_updated": 1681907027,
           "payment": [
            "creditcard",
            "key"
           ],
           "payment-terminal": true,
           "renting": 1,
           "returning": 1,
           "slots": 26,
           "uid": "90"
          },
          "free_bikes": 10,
          "id": "a4f34855c377d3e456470f4e93d97260",
          "latitude": 45.4789683985657,
          "longitude": -73.61959934234618,
          "name": "Métro Villa-Maria (de Monkland / Décarie)",
          "timestamp": "2023-04-19T12:27:59.766000Z"
         },
         {
          "empty_slots": 4,
          "extra": {
           "ebikes": 3,
           "has_ebikes": true,
           "last_updated": 1681906107,
           "payment": [
            "creditcard",
            "key"
           ],
           "payment-terminal": true,
           "renting": 1,
           "returning": 1,
           "slots": 19,
           "uid": "367"
          },
          "free_bikes": 14,
          "id": "39752185bee108a7c529c25dbf2b1ae7",
          "latitude": 45.468926984877434,
          "longitude": -73.6198702454567,
          "name": "de la Côte St-Antoine / Royal",
          "timestamp": "2023-04-19T12:28:00.789000Z"
         },
         {
          "empty_slots": 24,
          "extra": {
           "ebikes": 1,
           "has_ebikes": true,
           "last_updated": 1681907122,
           "payment": [
            "creditcard",
            "key"
           ],
           "payment-terminal": true,
           "renting": 1,
           "returning": 1,
           "slots": 31,
           "uid": "72"
          },
          "free_bikes": 3,
          "id": "bf0edad2c41a84e491bfeaa7cedb3392",
          "latitude": 45.47393028235147,
          "longitude": -73.60473453998564,
          "name": "Métro Vendôme (de Marlowe / de Maisonneuve)",
          "timestamp": "2023-04-19T12:28:00.521000Z"
         },
         {
          "empty_slots": 6,
          "extra": {
           "ebikes": 2,
           "has_ebikes": true,
           "last_updated": 1681906594,
           "payment": [
            "creditcard",
            "key"
           ],
           "payment-terminal": true,
           "renting": 1,
           "returning": 1,
           "slots": 27,
           "uid": "130"
          },
          "free_bikes": 20,
          "id": "4a5d9709ee36d02688d6d300f7472ab1",
          "latitude": 45.53879934493943,
          "longitude": -73.58870029449461,
          "name": "Marquette / des Carrières",
          "timestamp": "2023-04-19T12:27:59.827000Z"
         },
         {
          "empty_slots": 16,
          "extra": {
           "ebikes": 0,
           "has_ebikes": true,
           "last_updated": 1681906752,
           "payment": [
            "creditcard",
            "key"
           ],
           "payment-terminal": true,
           "renting": 1,
           "returning": 1,
           "slots": 19,
           "uid": "482"
          },
          "free_bikes": 3,
          "id": "de30b5881bc66edf6ceeda73cd7a53cb",
          "latitude": 45.52687028194893,
          "longitude": -73.62672328948975,
          "name": "d'Outremont / Ogilvy",
          "timestamp": "2023-04-19T12:28:01.946000Z"
         },
         {
          "empty_slots": 12,
          "extra": {
           "ebikes": 2,
           "has_ebikes": true,
           "last_updated": 1681876526,
           "payment": [
            "creditcard",
            "key"
           ],
           "payment-terminal": true,
           "renting": 1,
           "returning": 1,
           "slots": 19,
           "uid": "711"
          },
          "free_bikes": 6,
          "id": "06cd7fa1336bb11eae6bb3b561142127",
          "latitude": 45.45976107571447,
          "longitude": -73.64477455615997,
          "name": "Parc Loyola (Somerled / Doherty)",
          "timestamp": "2023-04-19T12:27:59.687000Z"
         },
         {
          "empty_slots": 18,
          "extra": {
           "ebikes": 0,
           "has_ebikes": true,
           "last_updated": 1681907079,
           "payment": [
            "creditcard",
            "key"
           ],
           "payment-terminal": true,
           "renting": 1,
           "returning": 1,
           "slots": 23,
           "uid": "333"
          },
          "free_bikes": 5,
          "id": "b7664c29e84839606e88152819b3ce55",
          "latitude": 45.539890852781404,
          "longitude": -73.62026989459991,
          "name": "Faillon / St-Denis",
          "timestamp": "2023-04-19T12:27:59.753000Z"
         },
         {
          "empty_slots": 17,
          "extra": {
           "ebikes": 1,
           "has_ebikes": true,
           "last_updated": 1681906861,
           "payment": [
            "creditcard",
            "key"
           ],
           "payment-terminal": true,
           "renting": 1,
           "returning": 1,
           "slots": 39,
           "uid": "314"
          },
          "free_bikes": 22,
          "id": "0c39a4c5f95f416e549a6566c8cd770f",
          "latitude": 45.50144933057703,
          "longitude": -73.63305062055588,
          "name": "de Kent / de la Côte-des-Neiges",
          "timestamp": "2023-04-19T12:28:00.761000Z"
         },
         {
          "empty_slots": 9,
          "extra": {
           "ebikes": 0,
           "has_ebikes": true,
           "last_updated": 1681905730,
           "payment": [
            "creditcard",
            "key"
           ],
           "payment-terminal": true,
           "renting": 1,
           "returning": 1,
           "slots": 13,
           "uid": "501"
          },
          "free_bikes": 3,
          "id": "9fce8c378d9e1fc9d96999ff50a71f6a",
          "latitude": 45.52357479400008,
          "longitude": -73.62344294786453,
          "name": "Métro Acadie (de l'Acadie / Beaumont)",
          "timestamp": "2023-04-19T12:28:01.053000Z"
         },
         {
          "empty_slots": 18,
          "extra": {
           "ebikes": 0,
           "has_ebikes": true,
           "last_updated": 1681897542,
           "payment": [
            "creditcard",
            "key"
           ],
           "payment-terminal": true,
           "renting": 1,
           "returning": 1,
           "slots": 19,
           "uid": "650"
          },
          "free_bikes": 1,
          "id": "bb65c51008f8564d670b9c23987025fa",
          "latitude": 45.59089190991344,
          "longitude": -73.64061713218689,
          "name": "des Récollets / Martial",
          "timestamp": "2023-04-19T12:28:00.354000Z"
         },
         {
          "empty_slots": 16,
          "extra": {
           "ebikes": 1,
           "has_ebikes": true,
           "last_updated": 1681905413,
           "payment": [
            "creditcard",
            "key"
           ],
           "payment-terminal": true,
           "renting": 1,
           "returning": 1,
           "slots": 23,
           "uid": "523"
          },
          "free_bikes": 7,
          "id": "f0c61f63ab86a419feb632992ce83717",
          "latitude": 45.481845071377414,
          "longitude": -73.63037377595901,
          "name": "Earnscliffe / Queen-Mary",
          "timestamp": "2023-04-19T12:27:59.716000Z"
         },
         {
          "empty_slots": 5,
          "extra": {
           "ebikes": 1,
           "has_ebikes": true,
           "last_updated": 1681906761,
           "payment": [
            "creditcard",
            "key"
           ],
           "payment-terminal": true,
           "renting": 1,
           "returning": 1,
           "slots": 15,
           "uid": "338"
          },
          "free_bikes": 10,
          "id": "f76cd926206a1cd0b4e196175097bca7",
          "latitude": 45.54721107501036,
          "longitude": -73.63105237483978,
          "name": "Leman / de Chateaubriand",
          "timestamp": "2023-04-19T12:27:59.749000Z"
         },
         {
          "empty_slots": 10,
          "extra": {
           "ebikes": 3,
           "has_ebikes": true,
           "last_updated": 1681903167,
           "payment": [
            "creditcard",
            "key"
           ],
           "payment-terminal": true,
           "renting": 1,
           "returning": 1,
           "slots": 19,
           "uid": "618"
          },
          "free_bikes": 9,
          "id": "c6cd5e121b21b2b73e1280b474b330b0",
          "latitude": 45.5762948651025,
          "longitude": -73.646759390831,
          "name": "Parc des Hirondelles (Fleury / André-Jobin)",
          "timestamp": "2023-04-19T12:27:59.893000Z"
         },
         {
          "empty_slots": 14,
          "extra": {
           "ebikes": 2,
           "has_ebikes": true,
           "last_updated": 1681907154,
           "payment": [
            "creditcard",
            "key"
           ],
           "payment-terminal": true,
           "renting": 1,
           "returning": 1,
           "slots": 19,
           "uid": "413"
          },
          "free_bikes": 5,
          "id": "9294676d7bc2672f3c9a96e997068e0f",
          "latitude": 45.46991202213883,
          "longitude": -73.61735232174397,
          "name": "de Melrose / Sherbrooke",
          "timestamp": "2023-04-19T12:28:00.714000Z"
         },
         {
          "empty_slots": 18,
          "extra": {
           "ebikes": 0,
           "has_ebikes": true,
           "last_updated": 1681907075,
           "payment": [
            "creditcard",
            "key"
           ],
           "payment-terminal": true,
           "renting": 1,
           "returning": 1,
           "slots": 23,
           "uid": "674"
          },
          "free_bikes": 5,
          "id": "c07984dad42296496d763c7cc4ab971f",
          "latitude": 45.53570881624427,
          "longitude": -73.61962348222733,
          "name": "Métro de Castelnau (de Castelnau / St-Laurent)",
          "timestamp": "2023-04-19T12:28:01.237000Z"
         },
         {
          "empty_slots": 10,
          "extra": {
           "ebikes": 10,
           "has_ebikes": true,
           "last_updated": 1681904924,
           "payment": [
            "creditcard",
            "key"
           ],
           "payment-terminal": true,
           "renting": 1,
           "returning": 1,
           "slots": 23,
           "uid": "422"
          },
          "free_bikes": 10,
          "id": "54b599a5daa373b326f7493ab4c3c7b0",
          "latitude": 45.48542414888848,
          "longitude": -73.62816195935011,
          "name": "Métro Snowdon (de Westbury / Queen-Mary)",
          "timestamp": "2023-04-19T12:28:01.544000Z"
         },
         {
          "empty_slots": 13,
          "extra": {
           "ebikes": 0,
           "has_ebikes": true,
           "last_updated": 1681876626,
           "payment": [
            "creditcard",
            "key"
           ],
           "payment-terminal": true,
           "renting": 1,
           "returning": 1,
           "slots": 15,
           "uid": "728"
          },
          "free_bikes": 2,
          "id": "f5487c4e89f46f43316b82c9588da19b",
          "latitude": 45.59836857189897,
          "longitude": -73.63610029220581,
          "name": "Parc Sauvé (Balzac / de Bayonne)",
          "timestamp": "2023-04-19T12:28:01.823000Z"
         },
         {
          "empty_slots": 14,
          "extra": {
           "ebikes": 3,
           "has_ebikes": true,
           "last_updated": 1681906544,
           "payment": [
            "creditcard",
            "key"
           ],
           "payment-terminal": true,
           "renting": 1,
           "returning": 1,
           "slots": 23,
           "uid": "617"
          },
          "free_bikes": 8,
          "id": "5c11d3959c0abea9f83d3f82a8b9f28f",
          "latitude": 45.570624722078364,
          "longitude": -73.6517858505249,
          "name": "de St-Firmin / Fleury",
          "timestamp": "2023-04-19T12:27:59.813000Z"
         },
         {
          "empty_slots": 11,
          "extra": {
           "ebikes": 0,
           "has_ebikes": true,
           "last_updated": 1681906447,
           "payment": [
            "creditcard",
            "key"
           ],
           "payment-terminal": true,
           "renting": 1,
           "returning": 1,
           "slots": 19,
           "uid": "491"
          },
          "free_bikes": 8,
          "id": "f36ec4d9fce55629b73cace344831a02",
          "latitude": 45.552123,
          "longitude": -73.630103,
          "name": "Jacques-Casault / Christophe-Colomb",
          "timestamp": "2023-04-19T12:27:59.841000Z"
         },
         {
          "empty_slots": 6,
          "extra": {
           "ebikes": 0,
           "has_ebikes": true,
           "last_updated": 1681894518,
           "payment": [
            "creditcard",
            "key"
           ],
           "payment-terminal": true,
           "renting": 1,
           "returning": 1,
           "slots": 15,
           "uid": "518"
          },
          "free_bikes": 9,
          "id": "1f7deeaa21159a7e183915b23c21ac81",
          "latitude": 45.56735205736566,
          "longitude": -73.65378744900227,
          "name": "Marquette / Fleury",
          "timestamp": "2023-04-19T12:27:59.986000Z"
         },
         {
          "empty_slots": 7,
          "extra": {
           "ebikes": 2,
           "has_ebikes": true,
           "last_updated": 1681907167,
           "payment": [
            "creditcard",
            "key"
           ],
           "payment-terminal": true,
           "renting": 1,
           "returning": 1,
           "slots": 19,
           "uid": "738"
          },
          "free_bikes": 11,
          "id": "32062cce0f8aa927527eeca915fd3afd",
          "latitude": 45.56481129244175,
          "longitude": -73.59580412507057,
          "name": "Parc Joseph-Robin (18e avenue / Everett)",
          "timestamp": "2023-04-19T12:28:01.044000Z"
         },
         {
          "empty_slots": 2,
          "extra": {
           "ebikes": 0,
           "has_ebikes": true,
           "last_updated": 1681906868,
           "payment": [
            "creditcard",
            "key"
           ],
           "payment-terminal": true,
           "renting": 1,
           "returning": 1,
           "slots": 15,
           "uid": "521"
          },
          "free_bikes": 13,
          "id": "09fe2c61fe35c26c42e876ca291f8984",
          "latitude": 45.54758153109644,
          "longitude": -73.61220851540565,
          "name": "Everett / Garnier",
          "timestamp": "2023-04-19T12:27:59.715000Z"
         },
         {
          "empty_slots": 3,
          "extra": {
           "ebikes": 2,
           "has_ebikes": true,
           "last_updated": 1681907120,
           "payment": [
            "creditcard",
            "key"
           ],
           "payment-terminal": true,
           "renting": 1,
           "returning": 1,
           "slots": 15,
           "uid": "755"
          },
          "free_bikes": 10,
          "id": "62f1efb1b3ff5fb90b87bbe17174fdde",
          "latitude": 45.55776151418004,
          "longitude": -73.60154539346695,
          "name": "8e avenue / Everett",
          "timestamp": "2023-04-19T12:28:01.670000Z"
         },
         {
          "empty_slots": 8,
          "extra": {
           "ebikes": 0,
           "has_ebikes": true,
           "last_updated": 1681907186,
           "payment": [
            "creditcard",
            "key"
           ],
           "payment-terminal": true,
           "renting": 1,
           "returning": 1,
           "slots": 19,
           "uid": "470"
          },
          "free_bikes": 11,
          "id": "1fefddadf6dab1b29ac4d1759d4ea7a5",
          "latitude": 45.56387237463668,
          "longitude": -73.6555677652359,
          "name": "Francis / Fleury",
          "timestamp": "2023-04-19T12:28:01.969000Z"
         },
         {
          "empty_slots": 18,
          "extra": {
           "ebikes": 0,
           "has_ebikes": true,
           "last_updated": 1681904879,
           "payment": [
            "creditcard",
            "key"
           ],
           "payment-terminal": true,
           "renting": 1,
           "returning": 1,
           "slots": 19,
           "uid": "480"
          },
          "free_bikes": 1,
          "id": "c5780f595f1e7010f3f632debbc9c35c",
          "latitude": 45.56076192837154,
          "longitude": -73.6505614221096,
          "name": "Hamel / Sauvé",
          "timestamp": "2023-04-19T12:28:01.958000Z"
         },
         {
          "empty_slots": 14,
          "extra": {
           "ebikes": 2,
           "has_ebikes": true,
           "last_updated": 1681907037,
           "payment": [
            "creditcard",
            "key"
           ],
           "payment-terminal": true,
           "renting": 1,
           "returning": 1,
           "slots": 23,
           "uid": "339"
          },
          "free_bikes": 9,
          "id": "53a6c61dff2c34e3657ab034e9a28613",
          "latitude": 45.54355974189168,
          "longitude": -73.62777203321457,
          "name": "Métro Jarry (Lajeunesse / Jarry)",
          "timestamp": "2023-04-19T12:27:59.748000Z"
         },
         {
          "empty_slots": 14,
          "extra": {
           "ebikes": 3,
           "has_ebikes": true,
           "last_updated": 1681906548,
           "payment": [
            "creditcard",
            "key"
           ],
           "payment-terminal": true,
           "renting": 1,
           "returning": 1,
           "slots": 19,
           "uid": "341"
          },
          "free_bikes": 3,
          "id": "b3150d5e0b8ef9db81b4ff8588f3ac46",
          "latitude": 45.54310243053054,
          "longitude": -73.61607524188003,
          "name": "Boyer / Everett",
          "timestamp": "2023-04-19T12:27:59.663000Z"
         },
         {
          "empty_slots": 3,
          "extra": {
           "ebikes": 2,
           "has_ebikes": true,
           "last_updated": 1681907232,
           "payment": [
            "creditcard",
            "key"
           ],
           "payment-terminal": true,
           "renting": 1,
           "returning": 1,
           "slots": 19,
           "uid": "274"
          },
          "free_bikes": 16,
          "id": "301ddcb76b9061b666c8b0f473a4f74e",
          "latitude": 45.55158518908433,
          "longitude": -73.59916493296623,
          "name": "Louis-Hébert / Bélanger",
          "timestamp": "2023-04-19T12:27:59.707000Z"
         },
         {
          "empty_slots": 13,
          "extra": {
           "ebikes": 0,
           "has_ebikes": true,
           "last_updated": 1681905128,
           "payment": [
            "creditcard",
            "key"
           ],
           "payment-terminal": true,
           "renting": 1,
           "returning": 1,
           "slots": 14,
           "uid": "464"
          },
          "free_bikes": 0,
          "id": "9c62a50110d8ee96b870cb01b31ada39",
          "latitude": 45.55982811984724,
          "longitude": -73.65832507610321,
          "name": "Chambord / Fleury",
          "timestamp": "2023-04-19T12:28:01.085000Z"
         },
         {
          "empty_slots": 10,
          "extra": {
           "ebikes": 0,
           "has_ebikes": true,
           "last_updated": 1681906586,
           "payment": [
            "creditcard",
            "key"
           ],
           "payment-terminal": true,
           "renting": 1,
           "returning": 1,
           "slots": 15,
           "uid": "234"
          },
          "free_bikes": 5,
          "id": "210bc54814f1bfa31dbcc85a81a5d434",
          "latitude": 45.54975479298636,
          "longitude": -73.60556602478027,
          "name": "de Bordeaux / Jean-Talon",
          "timestamp": "2023-04-19T12:27:59.782000Z"
         },
         {
          "empty_slots": 8,
          "extra": {
           "ebikes": 5,
           "has_ebikes": true,
           "last_updated": 1681906009,
           "payment": [
            "creditcard",
            "key"
           ],
           "payment-terminal": true,
           "renting": 1,
           "returning": 1,
           "slots": 19,
           "uid": "132"
          },
          "free_bikes": 9,
          "id": "4ceb50ee99698a67059c58b4fa0a40f6",
          "latitude": 45.5517742671765,
          "longitude": -73.60347837231528,
          "name": "Louis-Hémon / Jean-Talon",
          "timestamp": "2023-04-19T12:27:59.825000Z"
         },
         {
          "empty_slots": 6,
          "extra": {
           "ebikes": 4,
           "has_ebikes": true,
           "last_updated": 1681907031,
           "payment": [
            "creditcard",
            "key"
           ],
           "payment-terminal": true,
           "renting": 1,
           "returning": 1,
           "slots": 15,
           "uid": "761"
          },
          "free_bikes": 9,
          "id": "6194bc5aa55d462f6e7cbe7c657858ed",
          "latitude": 45.55081979211847,
          "longitude": -73.62088680267334,
          "name": "Rousselot / Jarry",
          "timestamp": "2023-04-19T12:28:01.199000Z"
         },
         {
          "empty_slots": 15,
          "extra": {
           "ebikes": 0,
           "has_ebikes": true,
           "last_updated": 1681906517,
           "payment": [
            "creditcard",
            "key"
           ],
           "payment-terminal": true,
           "renting": 1,
           "returning": 1,
           "slots": 15,
           "uid": "423"
          },
          "free_bikes": 0,
          "id": "562732190a887013c53e200b28d852e4",
          "latitude": 45.55702223161539,
          "longitude": -73.6599015713,
          "name": "Péloquin / Fleury",
          "timestamp": "2023-04-19T12:28:01.541000Z"
         },
         {
          "empty_slots": 7,
          "extra": {
           "ebikes": 2,
           "has_ebikes": true,
           "last_updated": 1681907155,
           "payment": [
            "creditcard",
            "key"
           ],
           "payment-terminal": true,
           "renting": 1,
           "returning": 1,
           "slots": 19,
           "uid": "485"
          },
          "free_bikes": 12,
          "id": "9da0049d2e375038eb693b8c30d3cbfd",
          "latitude": 45.547172039327485,
          "longitude": -73.61815631389618,
          "name": "de Normanville / Villeray",
          "timestamp": "2023-04-19T12:28:01.931000Z"
         },
         {
          "empty_slots": 5,
          "extra": {
           "ebikes": 1,
           "has_ebikes": true,
           "last_updated": 1681905702,
           "payment": [
            "creditcard",
            "key"
           ],
           "payment-terminal": true,
           "renting": 1,
           "returning": 1,
           "slots": 15,
           "uid": "344"
          },
          "free_bikes": 9,
          "id": "42468ee87701c823b9b4c55f931f18c3",
          "latitude": 45.544867,
          "longitude": -73.614841,
          "name": "de la Roche / Everett",
          "timestamp": "2023-04-19T12:27:59.641000Z"
         },
         {
          "empty_slots": 10,
          "extra": {
           "ebikes": 1,
           "has_ebikes": true,
           "last_updated": 1681906388,
           "payment": [
            "creditcard",
            "key"
           ],
           "payment-terminal": true,
           "renting": 1,
           "returning": 1,
           "slots": 23,
           "uid": "340"
          },
          "free_bikes": 11,
          "id": "a26bf1523b22aa83a563c97fe6ad5ba0",
          "latitude": 45.54481928225348,
          "longitude": -73.6215104162693,
          "name": "du Rosaire / St-Hubert",
          "timestamp": "2023-04-19T12:27:59.656000Z"
         },
         {
          "empty_slots": 4,
          "extra": {
           "ebikes": 4,
           "has_ebikes": true,
           "last_updated": 1681907266,
           "payment": [
            "creditcard",
            "key"
           ],
           "payment-terminal": true,
           "renting": 1,
           "returning": 1,
           "slots": 15,
           "uid": "424"
          },
          "free_bikes": 10,
          "id": "3da178370890fe8edbd73af1c48b6fa7",
          "latitude": 45.54640752148169,
          "longitude": -73.63842844963074,
          "name": "Métro Crémazie (Crémazie / Lajeunesse)",
          "timestamp": "2023-04-19T12:28:01.552000Z"
         },
         {
          "empty_slots": 9,
          "extra": {
           "ebikes": 8,
           "has_ebikes": true,
           "last_updated": 1681905001,
           "payment": [
            "creditcard",
            "key"
           ],
           "payment-terminal": true,
           "renting": 1,
           "returning": 1,
           "slots": 23,
           "uid": "65"
          },
          "free_bikes": 14,
          "id": "f1528dcadb2a0266b045227ff8b2d585",
          "latitude": 45.562509038048915,
          "longitude": -73.61656039953232,
          "name": "2e avenue / Jean-Rivard",
          "timestamp": "2023-04-19T12:28:00.986000Z"
         },
         {
          "empty_slots": 1,
          "extra": {
           "ebikes": 2,
           "has_ebikes": true,
           "last_updated": 1681906217,
           "payment": [
            "creditcard",
            "key"
           ],
           "payment-terminal": true,
           "renting": 1,
           "returning": 1,
           "slots": 15,
           "uid": "342"
          },
          "free_bikes": 14,
          "id": "f6e0b4f54583d85056d9eea8eaa5c434",
          "latitude": 45.545841561840085,
          "longitude": -73.62665355205536,
          "name": "de Chateaubriand / Jarry",
          "timestamp": "2023-04-19T12:27:59.667000Z"
         },
         {
          "empty_slots": 6,
          "extra": {
           "ebikes": 0,
           "has_ebikes": true,
           "last_updated": 1681906904,
           "payment": [
            "creditcard",
            "key"
           ],
           "payment-terminal": true,
           "renting": 1,
           "returning": 1,
           "slots": 15,
           "uid": "489"
          },
          "free_bikes": 7,
          "id": "8ae2d0c3c6bfb29c5614921e85221107",
          "latitude": 45.54218173507584,
          "longitude": -73.62268656492233,
          "name": "Lajeunesse / Villeray",
          "timestamp": "2023-04-19T12:28:01.921000Z"
         },
         {
          "empty_slots": 19,
          "extra": {
           "ebikes": 0,
           "has_ebikes": true,
           "last_updated": 1681906936,
           "payment": [
            "creditcard",
            "key"
           ],
           "payment-terminal": true,
           "renting": 1,
           "returning": 1,
           "slots": 19,
           "uid": "576"
          },
          "free_bikes": 0,
          "id": "d7dff48f13093c3bfd51b409f6c99ca1",
          "latitude": 45.54195463236575,
          "longitude": -73.62994194030762,
          "name": "Drolet / Jarry",
          "timestamp": "2023-04-19T12:28:00.949000Z"
         },
         {
          "empty_slots": 7,
          "extra": {
           "ebikes": 2,
           "has_ebikes": true,
           "last_updated": 1681906821,
           "payment": [
            "creditcard",
            "key"
           ],
           "payment-terminal": true,
           "renting": 1,
           "returning": 1,
           "slots": 15,
           "uid": "356"
          },
          "free_bikes": 7,
          "id": "3432a8084a835047534a32559a9730cd",
          "latitude": 45.545580534390176,
          "longitude": -73.63490000367165,
          "name": "Lajeunesse / de Liège",
          "timestamp": "2023-04-19T12:28:01.125000Z"
         },
         {
          "empty_slots": 13,
          "extra": {
           "ebikes": 1,
           "has_ebikes": true,
           "last_updated": 1681905055,
           "payment": [
            "creditcard",
            "key"
           ],
           "payment-terminal": true,
           "renting": 1,
           "returning": 1,
           "slots": 19,
           "uid": "287"
          },
          "free_bikes": 5,
          "id": "0048f9af75380c4b5b3c9d247af799ba",
          "latitude": 45.549868431421636,
          "longitude": -73.64765658974648,
          "name": "Basile-Routhier / Chabanel",
          "timestamp": "2023-04-19T12:28:01.235000Z"
         },
         {
          "empty_slots": 13,
          "extra": {
           "ebikes": 1,
           "has_ebikes": true,
           "last_updated": 1681907179,
           "payment": [
            "creditcard",
            "key"
           ],
           "payment-terminal": true,
           "renting": 1,
           "returning": 1,
           "slots": 19,
           "uid": "517"
          },
          "free_bikes": 6,
          "id": "dff5e88a152d16146a02be0bbb60735d",
          "latitude": 45.54983321292286,
          "longitude": -73.64063255488873,
          "name": "Émile-Journault / de Chateaubriand",
          "timestamp": "2023-04-19T12:27:59.990000Z"
         },
         {
          "empty_slots": 15,
          "extra": {
           "ebikes": 1,
           "has_ebikes": true,
           "last_updated": 1681906619,
           "payment": [
            "creditcard",
            "key"
           ],
           "payment-terminal": true,
           "renting": 1,
           "returning": 1,
           "slots": 23,
           "uid": "566"
          },
          "free_bikes": 8,
          "id": "d3b6f3327b6e20c1b95cef748885233c",
          "latitude": 45.48097552629275,
          "longitude": -73.56863468885422,
          "name": "Ropery / Augustin-Cantin",
          "timestamp": "2023-04-19T12:28:01.700000Z"
         },
         {
          "empty_slots": 5,
          "extra": {
           "ebikes": 1,
           "has_ebikes": true,
           "last_updated": 1681907246,
           "payment": [
            "creditcard",
            "key"
           ],
           "payment-terminal": true,
           "renting": 1,
           "returning": 1,
           "slots": 11,
           "uid": "159"
          },
          "free_bikes": 3,
          "id": "60e378e57e019df87f4d573807b1e0f7",
          "latitude": 45.49449368327543,
          "longitude": -73.55676054954529,
          "name": "Ann / Wellington",
          "timestamp": "2023-04-19T12:28:01.854000Z"
         },
         {
          "empty_slots": 26,
          "extra": {
           "ebikes": 1,
           "has_ebikes": true,
           "last_updated": 1681906865,
           "payment": [
            "creditcard",
            "key"
           ],
           "payment-terminal": true,
           "renting": 1,
           "returning": 1,
           "slots": 31,
           "uid": "481"
          },
          "free_bikes": 5,
          "id": "b046e8a8afb19a66afac180111d612e4",
          "latitude": 45.484966061164755,
          "longitude": -73.56032252311707,
          "name": "Richardson / Montmorency",
          "timestamp": "2023-04-19T12:28:01.954000Z"
         },
         {
          "empty_slots": 1,
          "extra": {
           "ebikes": 1,
           "has_ebikes": true,
           "last_updated": 1681907199,
           "payment": [
            "creditcard",
            "key"
           ],
           "payment-terminal": true,
           "renting": 1,
           "returning": 1,
           "slots": 23,
           "uid": "512"
          },
          "free_bikes": 20,
          "id": "bbc440214ed13ddb8a0aeb3951c418ce",
          "latitude": 45.45760820718457,
          "longitude": -73.59051011502743,
          "name": "Dubois / Eadie",
          "timestamp": "2023-04-19T12:27:59.987000Z"
         },
         {
          "empty_slots": 8,
          "extra": {
           "ebikes": 3,
           "has_ebikes": true,
           "last_updated": 1681906115,
           "payment": [
            "creditcard",
            "key"
           ],
           "payment-terminal": true,
           "renting": 1,
           "returning": 1,
           "slots": 15,
           "uid": "665"
          },
          "free_bikes": 6,
          "id": "1e2c0e04e52f776287eed225a5a2382a",
          "latitude": 45.59573798024675,
          "longitude": -73.59529852867126,
          "name": "Parc Ferland (Belleherbe / Albanel)",
          "timestamp": "2023-04-19T12:28:00.558000Z"
         },
         {
          "empty_slots": 21,
          "extra": {
           "ebikes": 1,
           "has_ebikes": true,
           "last_updated": 1681906451,
           "payment": [
            "creditcard",
            "key"
           ],
           "payment-terminal": true,
           "renting": 1,
           "returning": 1,
           "slots": 23,
           "uid": "9"
          },
          "free_bikes": 2,
          "id": "1489b60b522d8065562293a5a2716d12",
          "latitude": 45.498132074644275,
          "longitude": -73.57762072817422,
          "name": "Crescent / de Maisonneuve",
          "timestamp": "2023-04-19T12:28:01.118000Z"
         },
         {
          "empty_slots": 23,
          "extra": {
           "ebikes": 0,
           "has_ebikes": true,
           "last_updated": 1681907129,
           "payment": [
            "creditcard",
            "key"
           ],
           "payment-terminal": true,
           "renting": 1,
           "returning": 1,
           "slots": 31,
           "uid": "81"
          },
          "free_bikes": 8,
          "id": "d6c2076fbea970798a1bf3d94cfeaebd",
          "latitude": 45.49600732302391,
          "longitude": -73.57334746981905,
          "name": "Crescent / René-Lévesque",
          "timestamp": "2023-04-19T12:27:59.952000Z"
         },
         {
          "empty_slots": 8,
          "extra": {
           "ebikes": 1,
           "has_ebikes": true,
           "last_updated": 1681907095,
           "payment": [
            "creditcard",
            "key"
           ],
           "payment-terminal": true,
           "renting": 1,
           "returning": 1,
           "slots": 19,
           "uid": "701"
          },
          "free_bikes": 10,
          "id": "34d0c99760e0ed9bfa23f6608855b222",
          "latitude": 45.5460355901214,
          "longitude": -73.6465984582901,
          "name": "Parc Henri-Julien (Legendre / Henri-Julien)",
          "timestamp": "2023-04-19T12:28:01.311000Z"
         },
         {
          "empty_slots": 8,
          "extra": {
           "ebikes": 4,
           "has_ebikes": true,
           "last_updated": 1681907180,
           "payment": [
            "creditcard",
            "key"
           ],
           "payment-terminal": true,
           "renting": 1,
           "returning": 1,
           "slots": 19,
           "uid": "750"
          },
          "free_bikes": 10,
          "id": "28cf566351573946aa573c218df73319",
          "latitude": 45.55456382820465,
          "longitude": -73.59615683555603,
          "name": "6e avenue / Bélanger",
          "timestamp": "2023-04-19T12:28:01.665000Z"
         },
         {
          "empty_slots": 12,
          "extra": {
           "ebikes": 3,
           "has_ebikes": true,
           "last_updated": 1681907098,
           "payment": [
            "creditcard",
            "key"
           ],
           "payment-terminal": true,
           "renting": 1,
           "returning": 1,
           "slots": 19,
           "uid": "442"
          },
          "free_bikes": 6,
          "id": "167e7c9bdddcd7aa983b61a4f6aaa265",
          "latitude": 45.48624101696415,
          "longitude": -73.59572768211365,
          "name": "de la Côte St-Antoine / Argyle",
          "timestamp": "2023-04-19T12:27:59.720000Z"
         },
         {
          "empty_slots": 10,
          "extra": {
           "ebikes": 4,
           "has_ebikes": true,
           "last_updated": 1681907158,
           "payment": [
            "creditcard",
            "key"
           ],
           "payment-terminal": true,
           "renting": 1,
           "returning": 1,
           "slots": 15,
           "uid": "441"
          },
          "free_bikes": 5,
          "id": "0960bf3c2e9be92bd03fd80c49bf720f",
          "latitude": 45.48129146961133,
          "longitude": -73.6003303527832,
          "name": "Victoria Hall",
          "timestamp": "2023-04-19T12:27:59.721000Z"
         },
         {
          "empty_slots": 8,
          "extra": {
           "ebikes": 3,
           "has_ebikes": true,
           "last_updated": 1681907129,
           "payment": [
            "creditcard",
            "key"
           ],
           "payment-terminal": true,
           "renting": 1,
           "returning": 1,
           "slots": 19,
           "uid": "545"
          },
          "free_bikes": 9,
          "id": "c56841567707d1812755ec56f2ad2895",
          "latitude": 45.52275023118295,
          "longitude": -73.57724860310555,
          "name": "Berri / Rachel",
          "timestamp": "2023-04-19T12:28:00.677000Z"
         },
         {
          "empty_slots": 26,
          "extra": {
           "ebikes": 0,
           "has_ebikes": true,
           "last_updated": 1681907015,
           "payment": [
            "creditcard",
            "key"
           ],
           "payment-terminal": true,
           "renting": 1,
           "returning": 1,
           "slots": 31,
           "uid": "280"
          },
          "free_bikes": 4,
          "id": "8f38bed6dab71436cabe43dea498c8c1",
          "latitude": 45.48390169543355,
          "longitude": -73.56363236904144,
          "name": "Augustin-Cantin / Shearer",
          "timestamp": "2023-04-19T12:28:01.214000Z"
         },
         {
          "empty_slots": 31,
          "extra": {
           "ebikes": 1,
           "has_ebikes": true,
           "last_updated": 1681906750,
           "payment": [
            "creditcard",
            "key"
           ],
           "payment-terminal": true,
           "renting": 1,
           "returning": 1,
           "slots": 38,
           "uid": "89"
          },
          "free_bikes": 5,
          "id": "8304ac71f6ad0f43711281894964c1b5",
          "latitude": 45.49682986230046,
          "longitude": -73.57913017272949,
          "name": "Mackay / de Maisonneuve",
          "timestamp": "2023-04-19T12:27:59.927000Z"
         },
         {
          "empty_slots": 7,
          "extra": {
           "ebikes": 2,
           "has_ebikes": true,
           "last_updated": 1681907255,
           "payment": [
            "creditcard",
            "key"
           ],
           "payment-terminal": true,
           "renting": 1,
           "returning": 1,
           "slots": 23,
           "uid": "584"
          },
          "free_bikes": 16,
          "id": "453cf6c6c91ee54d527694c1f738c943",
          "latitude": 45.495789104811756,
          "longitude": -73.58259558677672,
          "name": "St-Mathieu / Sherbrooke",
          "timestamp": "2023-04-19T12:27:59.972000Z"
         },
         {
          "empty_slots": 23,
          "extra": {
           "ebikes": 2,
           "has_ebikes": true,
           "last_updated": 1681907237,
           "payment": [
            "creditcard",
            "key"
           ],
           "payment-terminal": true,
           "renting": 1,
           "returning": 1,
           "slots": 31,
           "uid": "516"
          },
          "free_bikes": 4,
          "id": "a8be54003fb16d9cab21bd7c5e9c8f66",
          "latitude": 45.49497512853125,
          "longitude": -73.57777043248461,
          "name": "Guy / Sainte-Catherine",
          "timestamp": "2023-04-19T12:27:59.991000Z"
         },
         {
          "empty_slots": 9,
          "extra": {
           "ebikes": 2,
           "has_ebikes": true,
           "last_updated": 1681906379,
           "payment": [
            "creditcard",
            "key"
           ],
           "payment-terminal": true,
           "renting": 1,
           "returning": 1,
           "slots": 15,
           "uid": "659"
          },
          "free_bikes": 3,
          "id": "25db3ab71ecaf5dc56f934c637c1a542",
          "latitude": 45.48046706437983,
          "longitude": -73.61122308304402,
          "name": "Notre-Dame-de-Grâce / Westmount",
          "timestamp": "2023-04-19T12:28:00.383000Z"
         },
         {
          "empty_slots": 13,
          "extra": {
           "ebikes": 1,
           "has_ebikes": true,
           "last_updated": 1681907079,
           "payment": [
            "creditcard",
            "key"
           ],
           "payment-terminal": true,
           "renting": 1,
           "returning": 1,
           "slots": 23,
           "uid": "209"
          },
          "free_bikes": 9,
          "id": "5b7a4c0ffaa2aeb1b8583498e113e81d",
          "latitude": 45.51522812881499,
          "longitude": -73.5750961303711,
          "name": "des Pins / St-Laurent",
          "timestamp": "2023-04-19T12:28:00.477000Z"
         },
         {
          "empty_slots": 10,
          "extra": {
           "ebikes": 0,
           "has_ebikes": true,
           "last_updated": 1681907188,
           "payment": [
            "creditcard",
            "key"
           ],
           "payment-terminal": true,
           "renting": 1,
           "returning": 1,
           "slots": 15,
           "uid": "499"
          },
          "free_bikes": 3,
          "id": "075135a674cea1cf4e2c463d828094c9",
          "latitude": 45.45670282849069,
          "longitude": -73.59764268636354,
          "name": "Hamilton / Jolicoeur",
          "timestamp": "2023-04-19T12:28:00.725000Z"
         },
         {
          "empty_slots": 7,
          "extra": {
           "ebikes": 2,
           "has_ebikes": true,
           "last_updated": 1681907023,
           "payment": [
            "creditcard",
            "key"
           ],
           "payment-terminal": true,
           "renting": 1,
           "returning": 1,
           "slots": 15,
           "uid": "725"
          },
          "free_bikes": 8,
          "id": "839fe2dfb82ec3980eeaa68e23c462d4",
          "latitude": 45.458663192410306,
          "longitude": -73.59602272510529,
          "name": "Monk / Biencourt",
          "timestamp": "2023-04-19T12:28:00.778000Z"
         },
         {
          "empty_slots": 7,
          "extra": {
           "ebikes": 0,
           "has_ebikes": true,
           "last_updated": 1681906378,
           "payment": [
            "creditcard",
            "key"
           ],
           "payment-terminal": true,
           "renting": 1,
           "returning": 1,
           "slots": 23,
           "uid": "381"
          },
          "free_bikes": 14,
          "id": "20da23570a39a766cc383a000608cc6c",
          "latitude": 45.47930107352825,
          "longitude": -73.56629446148872,
          "name": "de Châteauguay / Ropery",
          "timestamp": "2023-04-19T12:28:00.902000Z"
         },
         {
          "empty_slots": 16,
          "extra": {
           "ebikes": 1,
           "has_ebikes": true,
           "last_updated": 1681905718,
           "payment": [
            "creditcard",
            "key"
           ],
           "payment-terminal": true,
           "renting": 1,
           "returning": 1,
           "slots": 27,
           "uid": "350"
          },
          "free_bikes": 9,
          "id": "78f0ea4a741954f89ed7cbc892fe355e",
          "latitude": 45.4757434,
          "longitude": -73.5646007,
          "name": "Ryde / Charlevoix",
          "timestamp": "2023-04-19T12:28:01.126000Z"
         },
         {
          "empty_slots": 24,
          "extra": {
           "ebikes": 3,
           "has_ebikes": true,
           "last_updated": 1681907253,
           "payment": [
            "creditcard",
            "key"
           ],
           "payment-terminal": true,
           "renting": 1,
           "returning": 1,
           "slots": 35,
           "uid": "56"
          },
          "free_bikes": 11,
          "id": "e636efb8fd25972e25d54f93cae701ab",
          "latitude": 45.499330334344556,
          "longitude": -73.57175691987322,
          "name": "Cypress / Peel",
          "timestamp": "2023-04-19T12:28:01.369000Z"
         },
         {
          "empty_slots": 5,
          "extra": {
           "ebikes": 0,
           "has_ebikes": true,
           "last_updated": 1681906736,
           "payment": [
            "creditcard",
            "key"
           ],
           "payment-terminal": true,
           "renting": 1,
           "returning": 1,
           "slots": 15,
           "uid": "427"
          },
          "free_bikes": 10,
          "id": "1113a80887c327f3d0ae1ee04dd946de",
          "latitude": 45.48013378575666,
          "longitude": -73.58590811491013,
          "name": "Parc St-Henri (Laporte / Guay)",
          "timestamp": "2023-04-19T12:28:01.556000Z"
         },
         {
          "empty_slots": 21,
          "extra": {
           "ebikes": 0,
           "has_ebikes": true,
           "last_updated": 1681907141,
           "payment": [
            "creditcard",
            "key"
           ],
           "payment-terminal": true,
           "renting": 1,
           "returning": 1,
           "slots": 27,
           "uid": "560"
          },
          "free_bikes": 6,
          "id": "398a688b86aabbf789c6f4edb8b20ed0",
          "latitude": 45.49419955357054,
          "longitude": -73.55998456478119,
          "name": "Peel / Ottawa",
          "timestamp": "2023-04-19T12:28:01.679000Z"
         },
         {
          "empty_slots": 14,
          "extra": {
           "ebikes": 1,
           "has_ebikes": true,
           "last_updated": 1681904668,
           "payment": [
            "creditcard",
            "key"
           ],
           "payment-terminal": true,
           "renting": 1,
           "returning": 1,
           "slots": 15,
           "uid": "565"
          },
          "free_bikes": 1,
          "id": "4fbafd8f80ff042d7fe3cb4b46400514",
          "latitude": 45.4828250990486,
          "longitude": -73.56206325352105,
          "name": "Shearer / Centre",
          "timestamp": "2023-04-19T12:28:01.697000Z"
         },
         {
          "empty_slots": 8,
          "extra": {
           "ebikes": 0,
           "has_ebikes": true,
           "last_updated": 1681906941,
           "payment": [
            "creditcard",
            "key"
           ],
           "payment-terminal": true,
           "renting": 1,
           "returning": 1,
           "slots": 19,
           "uid": "479"
          },
          "free_bikes": 11,
          "id": "f47f4149fc69eded89e7342b22755024",
          "latitude": 45.451030919298056,
          "longitude": -73.5939010977745,
          "name": "Métro Monk (Allard / Beaulieu)",
          "timestamp": "2023-04-19T12:28:01.986000Z"
         },
         {
          "empty_slots": 27,
          "extra": {
           "ebikes": 0,
           "has_ebikes": true,
           "last_updated": 1681906992,
           "payment": [
            "creditcard",
            "key"
           ],
           "payment-terminal": true,
           "renting": 1,
           "returning": 1,
           "slots": 31,
           "uid": "73"
          },
          "free_bikes": 2,
          "id": "da417b909705d9f772b2510ae9229871",
          "latitude": 45.49582294706495,
          "longitude": -73.57696294784546,
          "name": "Mackay / Ste-Catherine",
          "timestamp": "2023-04-19T12:28:00.514000Z"
         },
         {
          "empty_slots": 44,
          "extra": {
           "ebikes": 1,
           "has_ebikes": true,
           "last_updated": 1681907083,
           "payment": [
            "creditcard",
            "key"
           ],
           "payment-terminal": true,
           "renting": 1,
           "returning": 1,
           "slots": 47,
           "uid": "61"
          },
          "free_bikes": 3,
          "id": "69e03feb5f98022047ff07b785f9a744",
          "latitude": 45.499515390738885,
          "longitude": -73.57602953910826,
          "name": "Drummond / de Maisonneuve",
          "timestamp": "2023-04-19T12:28:00.965000Z"
         },
         {
          "empty_slots": 12,
          "extra": {
           "ebikes": 2,
           "has_ebikes": true,
           "last_updated": 1681905620,
           "payment": [
            "creditcard",
            "key"
           ],
           "payment-terminal": true,
           "renting": 1,
           "returning": 1,
           "slots": 23,
           "uid": "673"
          },
          "free_bikes": 11,
          "id": "d0d69596bd800f2c32acc72647e584df",
          "latitude": 45.491366875439965,
          "longitude": -73.57010722160338,
          "name": "St-Jacques / Guy",
          "timestamp": "2023-04-19T12:28:01.249000Z"
         },
         {
          "empty_slots": 12,
          "extra": {
           "ebikes": 0,
           "has_ebikes": true,
           "last_updated": 1681906617,
           "payment": [
            "creditcard",
            "key"
           ],
           "payment-terminal": true,
           "renting": 1,
           "returning": 1,
           "slots": 23,
           "uid": "561"
          },
          "free_bikes": 11,
          "id": "8003eca4fa01dffbffb8e7e66dd45690",
          "latitude": 45.44705915105563,
          "longitude": -73.60229507088661,
          "name": "Métro Angrignon (Lamont /  des Trinitaires)",
          "timestamp": "2023-04-19T12:28:01.687000Z"
         },
         {
          "empty_slots": 7,
          "extra": {
           "ebikes": 5,
           "has_ebikes": true,
           "last_updated": 1681906656,
           "payment": [
            "creditcard",
            "key"
           ],
           "payment-terminal": true,
           "renting": 1,
           "returning": 1,
           "slots": 15,
           "uid": "440"
          },
          "free_bikes": 6,
          "id": "6e94d95dad598b7c8fd380e55b289caf",
          "latitude": 45.47742856483265,
          "longitude": -73.60016942024231,
          "name": "Victoria / de Maisonneuve",
          "timestamp": "2023-04-19T12:27:59.722000Z"
         },
         {
          "empty_slots": 33,
          "extra": {
           "ebikes": 0,
           "has_ebikes": true,
           "last_updated": 1681907026,
           "payment": [
            "creditcard",
            "key"
           ],
           "payment-terminal": true,
           "renting": 1,
           "returning": 1,
           "slots": 39,
           "uid": "57"
          },
          "free_bikes": 6,
          "id": "420d9c027c261cae251568f7f8d5a9cc",
          "latitude": 45.49790394592446,
          "longitude": -73.57077571808077,
          "name": "Stanley / René-Lévesque",
          "timestamp": "2023-04-19T12:28:01.362000Z"
         },
         {
          "empty_slots": 3,
          "extra": {
           "ebikes": 0,
           "has_ebikes": true,
           "last_updated": 1681906933,
           "payment": [
            "creditcard",
            "key"
           ],
           "payment-terminal": true,
           "renting": 1,
           "returning": 1,
           "slots": 19,
           "uid": "105"
          },
          "free_bikes": 16,
          "id": "4890967aac4400760faaf1e6aa3a083c",
          "latitude": 45.523594936648244,
          "longitude": -73.56099039316177,
          "name": "Plessis / Ontario",
          "timestamp": "2023-04-19T12:27:59.732000Z"
         },
         {
          "empty_slots": 12,
          "extra": {
           "ebikes": 2,
           "has_ebikes": true,
           "last_updated": 1681906969,
           "payment": [
            "creditcard",
            "key"
           ],
           "payment-terminal": true,
           "renting": 1,
           "returning": 1,
           "slots": 23,
           "uid": "496"
          },
          "free_bikes": 11,
          "id": "05b5b355a4772304d10c45029d08deb0",
          "latitude": 45.486318644010225,
          "longitude": -73.5702332854271,
          "name": "Canning / Notre-Dame",
          "timestamp": "2023-04-19T12:28:00.762000Z"
         },
         {
          "empty_slots": 14,
          "extra": {
           "ebikes": 1,
           "has_ebikes": true,
           "last_updated": 1681907124,
           "payment": [
            "creditcard",
            "key"
           ],
           "payment-terminal": true,
           "renting": 1,
           "returning": 1,
           "slots": 23,
           "uid": "39"
          },
          "free_bikes": 7,
          "id": "b9a4abde81beb417902b503d331ffe49",
          "latitude": 45.502939709023714,
          "longitude": -73.56064036488532,
          "name": "St-Antoine / Jean-Paul Riopelle",
          "timestamp": "2023-04-19T12:27:59.733000Z"
         },
         {
          "empty_slots": 18,
          "extra": {
           "ebikes": 5,
           "has_ebikes": true,
           "last_updated": 1681907089,
           "payment": [
            "creditcard",
            "key"
           ],
           "payment-terminal": true,
           "renting": 1,
           "returning": 1,
           "slots": 27,
           "uid": "82"
          },
          "free_bikes": 9,
          "id": "e0db7aad56ff4ad5c02148ffb2d5a594",
          "latitude": 45.5353599615622,
          "longitude": -73.60363483428955,
          "name": "Métro Beaubien (de Chateaubriand / Beaubien)",
          "timestamp": "2023-04-19T12:27:59.950000Z"
         },
         {
          "empty_slots": 27,
          "extra": {
           "ebikes": 0,
           "has_ebikes": true,
           "last_updated": 1681907027,
           "payment": [
            "creditcard",
            "key"
           ],
           "payment-terminal": true,
           "renting": 1,
           "returning": 1,
           "slots": 31,
           "uid": "7"
          },
          "free_bikes": 3,
          "id": "6716d6af871575e44ca751b5224df1ef",
          "latitude": 45.51166045593874,
          "longitude": -73.56213569641113,
          "name": "de l'Hôtel-de-Ville / Ste-Catherine",
          "timestamp": "2023-04-19T12:27:59.969000Z"
         },
         {
          "empty_slots": 13,
          "extra": {
           "ebikes": 1,
           "has_ebikes": true,
           "last_updated": 1681907256,
           "payment": [
            "creditcard",
            "key"
           ],
           "payment-terminal": true,
           "renting": 1,
           "returning": 1,
           "slots": 23,
           "uid": "463"
          },
          "free_bikes": 9,
          "id": "e7b4ef40c1aa1decd3a2ffa3bcc9d1ea",
          "latitude": 45.461741021347436,
          "longitude": -73.58412176370621,
          "name": "Parc St-Paul (Le Caron / Marc-Sauvalle)",
          "timestamp": "2023-04-19T12:28:01.096000Z"
         },
         {
          "empty_slots": 12,
          "extra": {
           "ebikes": 1,
           "has_ebikes": true,
           "last_updated": 1681906273,
           "payment": [
            "creditcard",
            "key"
           ],
           "payment-terminal": true,
           "renting": 1,
           "returning": 1,
           "slots": 19,
           "uid": "574"
          },
          "free_bikes": 7,
          "id": "fafae7f39486cd7ee5583dc014cf3fc3",
          "latitude": 45.54043190217008,
          "longitude": -73.61650675535202,
          "name": "de Castelnau / Lajeunesse",
          "timestamp": "2023-04-19T12:28:00.952000Z"
         },
         {
          "empty_slots": 18,
          "extra": {
           "ebikes": 2,
           "has_ebikes": true,
           "last_updated": 1681906672,
           "payment": [
            "creditcard",
            "key"
           ],
           "payment-terminal": true,
           "renting": 1,
           "returning": 1,
           "slots": 27,
           "uid": "567"
          },
          "free_bikes": 8,
          "id": "dfaab1117322af6f88c48893144bcf6f",
          "latitude": 45.467665653865964,
          "longitude": -73.59391784324544,
          "name": "de la Côte St-Paul / St-Ambroise",
          "timestamp": "2023-04-19T12:28:01.702000Z"
         },
         {
          "empty_slots": 27,
          "extra": {
           "ebikes": 0,
           "has_ebikes": true,
           "last_updated": 1681790304,
           "payment": [
            "creditcard",
            "key"
           ],
           "payment-terminal": true,
           "renting": 1,
           "returning": 1,
           "slots": 27,
           "uid": "723"
          },
          "free_bikes": 0,
          "id": "fe74adc2bb5e47c55ce02427c0c2e2ac",
          "latitude": 45.55456685087225,
          "longitude": -73.73447299003601,
          "name": "Louis-R.-Renaud / Armand-Frappier",
          "timestamp": "2023-04-19T12:28:01.765000Z"
         },
         {
          "empty_slots": 20,
          "extra": {
           "ebikes": 1,
           "has_ebikes": true,
           "last_updated": 1681907053,
           "payment": [
            "creditcard",
            "key"
           ],
           "payment-terminal": true,
           "renting": 1,
           "returning": 1,
           "slots": 23,
           "uid": "100"
          },
          "free_bikes": 3,
          "id": "623cb326604861e5d8109580d3e2b5a1",
          "latitude": 45.52711644190572,
          "longitude": -73.54801654815674,
          "name": "Fullum / Ste-Catherine",
          "timestamp": "2023-04-19T12:27:59.728000Z"
         },
         {
          "empty_slots": 11,
          "extra": {
           "ebikes": 3,
           "has_ebikes": true,
           "last_updated": 1681906976,
           "payment": [
            "creditcard",
            "key"
           ],
           "payment-terminal": true,
           "renting": 1,
           "returning": 1,
           "slots": 19,
           "uid": "28"
          },
          "free_bikes": 8,
          "id": "464e8b5950aee06c1eeb53605b286e92",
          "latitude": 45.48067368593179,
          "longitude": -73.58351558446884,
          "name": "Bourget / St-Jacques",
          "timestamp": "2023-04-19T12:27:59.848000Z"
         },
         {
          "empty_slots": 23,
          "extra": {
           "ebikes": 2,
           "has_ebikes": true,
           "last_updated": 1681906918,
           "payment": [
            "creditcard",
            "key"
           ],
           "payment-terminal": true,
           "renting": 1,
           "returning": 1,
           "slots": 27,
           "uid": "394"
          },
          "free_bikes": 4,
          "id": "10ba72984e8d47c16bec40bcddec3d4b",
          "latitude": 45.510200304274754,
          "longitude": -73.6114051938057,
          "name": "Métro Édouard-Montpetit (du Mont-Royal / Vincent-d'Indy)",
          "timestamp": "2023-04-19T12:27:59.949000Z"
         },
         {
          "empty_slots": 23,
          "extra": {
           "ebikes": 1,
           "has_ebikes": true,
           "last_updated": 1681906486,
           "payment": [
            "creditcard",
            "key"
           ],
           "payment-terminal": true,
           "renting": 1,
           "returning": 1,
           "slots": 27,
           "uid": "363"
          },
          "free_bikes": 3,
          "id": "34bfe048772e22905ada401f52cc5c1f",
          "latitude": 45.50928960913111,
          "longitude": -73.56241598725319,
          "name": "St-Laurent / Pl. du Marché",
          "timestamp": "2023-04-19T12:28:00.824000Z"
         },
         {
          "empty_slots": 19,
          "extra": {
           "ebikes": 0,
           "has_ebikes": true,
           "last_updated": 1681907189,
           "payment": [
            "creditcard",
            "key"
           ],
           "payment-terminal": true,
           "renting": 1,
           "returning": 1,
           "slots": 27,
           "uid": "739"
          },
          "free_bikes": 8,
          "id": "2fa8e170704d3f148f4d1dea455fd784",
          "latitude": 45.54250587659489,
          "longitude": -73.74095320701599,
          "name": "Charles-Daoust / 75e avenue",
          "timestamp": "2023-04-19T12:28:01.037000Z"
         },
         {
          "empty_slots": 14,
          "extra": {
           "ebikes": 2,
           "has_ebikes": true,
           "last_updated": 1681907028,
           "payment": [
            "creditcard",
            "key"
           ],
           "payment-terminal": true,
           "renting": 1,
           "returning": 1,
           "slots": 23,
           "uid": "116"
          },
          "free_bikes": 8,
          "id": "85531326f9e29994cf18c81558db9fe5",
          "latitude": 45.53789110878484,
          "longitude": -73.6182153224945,
          "name": "Henri-Julien / de Castelnau",
          "timestamp": "2023-04-19T12:28:01.498000Z"
         },
         {
          "empty_slots": 11,
          "extra": {
           "ebikes": 0,
           "has_ebikes": true,
           "last_updated": 1681906481,
           "payment": [
            "creditcard",
            "key"
           ],
           "payment-terminal": true,
           "renting": 1,
           "returning": 1,
           "slots": 23,
           "uid": "302"
          },
          "free_bikes": 11,
          "id": "f99ccc7429d68a4f15abc6c337446e56",
          "latitude": 45.472781067977614,
          "longitude": -73.5852724313736,
          "name": "Ste-Émilie / Sir-Georges-Etienne-Cartier",
          "timestamp": "2023-04-19T12:28:01.574000Z"
         },
         {
          "empty_slots": 9,
          "extra": {
           "ebikes": 5,
           "has_ebikes": true,
           "last_updated": 1681906396,
           "payment": [
            "creditcard",
            "key"
           ],
           "payment-terminal": true,
           "renting": 1,
           "returning": 1,
           "slots": 15,
           "uid": "91"
          },
          "free_bikes": 6,
          "id": "f821cf48847ee6d9272c2c3edf81b30d",
          "latitude": 45.493245802758366,
          "longitude": -73.58368472341681,
          "name": "Lincoln / du Fort",
          "timestamp": "2023-04-19T12:27:59.765000Z"
         },
         {
          "empty_slots": 18,
          "extra": {
           "ebikes": 1,
           "has_ebikes": true,
           "last_updated": 1681906306,
           "payment": [
            "creditcard",
            "key"
           ],
           "payment-terminal": true,
           "renting": 1,
           "returning": 1,
           "slots": 23,
           "uid": "170"
          },
          "free_bikes": 5,
          "id": "b0b1edb5ef943dc453ebb74ad34f1453",
          "latitude": 45.5305193519952,
          "longitude": -73.58780443668365,
          "name": "de Mentana / Laurier",
          "timestamp": "2023-04-19T12:28:00.164000Z"
         },
         {
          "empty_slots": 12,
          "extra": {
           "ebikes": 6,
           "has_ebikes": true,
           "last_updated": 1681904568,
           "payment": [
            "creditcard",
            "key"
           ],
           "payment-terminal": true,
           "renting": 1,
           "returning": 1,
           "slots": 23,
           "uid": "658"
          },
          "free_bikes": 11,
          "id": "343f371f725fd1aa3a254beb3207315e",
          "latitude": 45.51962176248447,
          "longitude": -73.6662483215332,
          "name": "Stinson / Montpellier",
          "timestamp": "2023-04-19T12:28:00.352000Z"
         },
         {
          "empty_slots": 23,
          "extra": {
           "ebikes": 1,
           "has_ebikes": true,
           "last_updated": 1681906900,
           "payment": [
            "creditcard",
            "key"
           ],
           "payment-terminal": true,
           "renting": 1,
           "returning": 1,
           "slots": 26,
           "uid": "208"
          },
          "free_bikes": 3,
          "id": "1f7793b1b7e1c83f11792bddb10e297a",
          "latitude": 45.550692068419764,
          "longitude": -73.65636706352234,
          "name": "Métro Sauvé (Berri / Sauvé)",
          "timestamp": "2023-04-19T12:28:00.479000Z"
         },
         {
          "empty_slots": 13,
          "extra": {
           "ebikes": 0,
           "has_ebikes": true,
           "last_updated": 1681905069,
           "payment": [
            "creditcard",
            "key"
           ],
           "payment-terminal": true,
           "renting": 1,
           "returning": 1,
           "slots": 23,
           "uid": "86"
          },
          "free_bikes": 10,
          "id": "f05dc5b7b3635787d9fe3fd8565bee7a",
          "latitude": 45.49228068089086,
          "longitude": -73.58096480369566,
          "name": "Ste-Catherine / Towers",
          "timestamp": "2023-04-19T12:27:59.955000Z"
         },
         {
          "empty_slots": 16,
          "extra": {
           "ebikes": 2,
           "has_ebikes": true,
           "last_updated": 1681907197,
           "payment": [
            "creditcard",
            "key"
           ],
           "payment-terminal": true,
           "renting": 1,
           "returning": 1,
           "slots": 23,
           "uid": "242"
          },
          "free_bikes": 7,
          "id": "25ff9160f5e83d4e9c15806e5f503df3",
          "latitude": 45.52085479492202,
          "longitude": -73.61573964357376,
          "name": "St-Cyril / Wiseman",
          "timestamp": "2023-04-19T12:27:59.983000Z"
         },
         {
          "empty_slots": 12,
          "extra": {
           "ebikes": 4,
           "has_ebikes": true,
           "last_updated": 1681894191,
           "payment": [
            "creditcard",
            "key"
           ],
           "payment-terminal": true,
           "renting": 1,
           "returning": 1,
           "slots": 23,
           "uid": "318"
          },
          "free_bikes": 11,
          "id": "4e5a6ca40d9348f973223d6171d2313c",
          "latitude": 45.48911308766352,
          "longitude": -73.6470128595829,
          "name": "McLynn / Plamondon",
          "timestamp": "2023-04-19T12:28:00.730000Z"
         },
         {
          "empty_slots": 9,
          "extra": {
           "ebikes": 2,
           "has_ebikes": true,
           "last_updated": 1681907158,
           "payment": [
            "creditcard",
            "key"
           ],
           "payment-terminal": true,
           "renting": 1,
           "returning": 1,
           "slots": 15,
           "uid": "709"
          },
          "free_bikes": 5,
          "id": "1f5a5fee591fc04c2bd579240b619b80",
          "latitude": 45.5692509593831,
          "longitude": -73.63642623429769,
          "name": "Parc Champdoré (Champdoré / de Lille)",
          "timestamp": "2023-04-19T12:27:59.889000Z"
         },
         {
          "empty_slots": 13,
          "extra": {
           "ebikes": 1,
           "has_ebikes": true,
           "last_updated": 1681905730,
           "payment": [
            "creditcard",
            "key"
           ],
           "payment-terminal": true,
           "renting": 1,
           "returning": 1,
           "slots": 15,
           "uid": "656"
          },
          "free_bikes": 1,
          "id": "4fa13403d966c181123fbe4f2311a347",
          "latitude": 45.53382623467138,
          "longitude": -73.57891023159026,
          "name": "Marquette / Gilford",
          "timestamp": "2023-04-19T12:28:00.185000Z"
         },
         {
          "empty_slots": 12,
          "extra": {
           "ebikes": 2,
           "has_ebikes": true,
           "last_updated": 1681873677,
           "payment": [
            "creditcard",
            "key"
           ],
           "payment-terminal": true,
           "renting": 1,
           "returning": 1,
           "slots": 23,
           "uid": "655"
          },
          "free_bikes": 11,
          "id": "975300771de5568dd1f8359834fc9cc5",
          "latitude": 45.51953948301331,
          "longitude": -73.68516325950623,
          "name": "Ste-Croix / Tassé",
          "timestamp": "2023-04-19T12:28:00.523000Z"
         },
         {
          "empty_slots": 11,
          "extra": {
           "ebikes": 0,
           "has_ebikes": true,
           "last_updated": 1681906245,
           "payment": [
            "creditcard",
            "key"
           ],
           "payment-terminal": true,
           "renting": 1,
           "returning": 1,
           "slots": 15,
           "uid": "467"
          },
          "free_bikes": 4,
          "id": "69d16a3ba682305cb780815926ca26bb",
          "latitude": 45.56776565172907,
          "longitude": -73.57968807220459,
          "name": "29e avenue / St-Zotique",
          "timestamp": "2023-04-19T12:28:01.086000Z"
         },
         {
          "empty_slots": 14,
          "extra": {
           "ebikes": 4,
           "has_ebikes": true,
           "last_updated": 1681907145,
           "payment": [
            "creditcard",
            "key"
           ],
           "payment-terminal": true,
           "renting": 1,
           "returning": 1,
           "slots": 23,
           "uid": "131"
          },
          "free_bikes": 8,
          "id": "936bdef09ef994ea4192470e6fbd26c1",
          "latitude": 45.54773931611951,
          "longitude": -73.60693395137787,
          "name": "Métro Fabre (Papineau / Jean-Talon)",
          "timestamp": "2023-04-19T12:27:59.826000Z"
         },
         {
          "empty_slots": 7,
          "extra": {
           "ebikes": 2,
           "has_ebikes": true,
           "last_updated": 1681906099,
           "payment": [
            "creditcard",
            "key"
           ],
           "payment-terminal": true,
           "renting": 1,
           "returning": 1,
           "slots": 15,
           "uid": "364"
          },
          "free_bikes": 8,
          "id": "0c274aa11d24d3c12670b98241bce94e",
          "latitude": 45.553456845975276,
          "longitude": -73.58784198760986,
          "name": "Beaubien / 8e avenue",
          "timestamp": "2023-04-19T12:28:00.790000Z"
         },
         {
          "empty_slots": 10,
          "extra": {
           "ebikes": 2,
           "has_ebikes": true,
           "last_updated": 1681907132,
           "payment": [
            "creditcard",
            "key"
           ],
           "payment-terminal": true,
           "renting": 1,
           "returning": 1,
           "slots": 19,
           "uid": "343"
          },
          "free_bikes": 9,
          "id": "546bc36b10be0b09de4a907c9d60ad78",
          "latitude": 45.474565185029945,
          "longitude": -73.62403571605682,
          "name": "Harvard / de Monkland",
          "timestamp": "2023-04-19T12:27:59.668000Z"
         },
         {
          "empty_slots": 15,
          "extra": {
           "ebikes": 0,
           "has_ebikes": true,
           "last_updated": 1681907083,
           "payment": [
            "creditcard",
            "key"
           ],
           "payment-terminal": true,
           "renting": 1,
           "returning": 1,
           "slots": 15,
           "uid": "439"
          },
          "free_bikes": 0,
          "id": "be47af9691772b0d9e5e4c9ac4303975",
          "latitude": 45.48282602624293,
          "longitude": -73.59084337949753,
          "name": "Hillside / Ste-Catherine",
          "timestamp": "2023-04-19T12:27:59.744000Z"
         },
         {
          "empty_slots": 4,
          "extra": {
           "ebikes": 1,
           "has_ebikes": true,
           "last_updated": 1681907020,
           "payment": [
            "creditcard",
            "key"
           ],
           "payment-terminal": true,
           "renting": 1,
           "returning": 1,
           "slots": 19,
           "uid": "332"
          },
          "free_bikes": 15,
          "id": "b298dc46896563af6ea0d289404ea045",
          "latitude": 45.53968044327973,
          "longitude": -73.63450437784195,
          "name": "Guizot / St-Laurent",
          "timestamp": "2023-04-19T12:27:59.754000Z"
         },
         {
          "empty_slots": 17,
          "extra": {
           "ebikes": 1,
           "has_ebikes": true,
           "last_updated": 1681876522,
           "payment": [
            "creditcard",
            "key"
           ],
           "payment-terminal": true,
           "renting": 1,
           "returning": 1,
           "slots": 23,
           "uid": "748"
          },
          "free_bikes": 5,
          "id": "785e3bee8dd80f5e27547e9facbdfa93",
          "latitude": 45.60428796520824,
          "longitude": -73.66491794586182,
          "name": "Mozart / François-Foucault",
          "timestamp": "2023-04-19T12:27:59.762000Z"
         },
         {
          "empty_slots": 23,
          "extra": {
           "ebikes": 0,
           "has_ebikes": true,
           "last_updated": 1681790245,
           "payment": [
            "creditcard",
            "key"
           ],
           "payment-terminal": true,
           "renting": 1,
           "returning": 1,
           "slots": 23,
           "uid": "741"
          },
          "free_bikes": 0,
          "id": "f59884dc043cf535875c6042eb59dd39",
          "latitude": 45.593421978698636,
          "longitude": -73.6690217256546,
          "name": "De Callières / d'Auvergne",
          "timestamp": "2023-04-19T12:27:59.772000Z"
         },
         {
          "empty_slots": 10,
          "extra": {
           "ebikes": 1,
           "has_ebikes": true,
           "last_updated": 1681905764,
           "payment": [
            "creditcard",
            "key"
           ],
           "payment-terminal": true,
           "renting": 1,
           "returning": 1,
           "slots": 15,
           "uid": "681"
          },
          "free_bikes": 4,
          "id": "7604e670cfc2466b147af4ec89f5dba9",
          "latitude": 45.48184019359366,
          "longitude": -73.59537899494171,
          "name": "Melville / de Maisonneuve",
          "timestamp": "2023-04-19T12:27:59.822000Z"
         },
         {
          "empty_slots": 14,
          "extra": {
           "ebikes": 5,
           "has_ebikes": true,
           "last_updated": 1681907155,
           "payment": [
            "creditcard",
            "key"
           ],
           "payment-terminal": true,
           "renting": 1,
           "returning": 1,
           "slots": 31,
           "uid": "493"
          },
          "free_bikes": 17,
          "id": "3fb98eb97376c1da65b2d35fd12cac36",
          "latitude": 45.50235036136798,
          "longitude": -73.56658279895781,
          "name": "Union / René-Lévesque",
          "timestamp": "2023-04-19T12:27:59.843000Z"
         },
         {
          "empty_slots": 44,
          "extra": {
           "ebikes": 3,
           "has_ebikes": true,
           "last_updated": 1681907244,
           "payment": [
            "creditcard",
            "key"
           ],
           "payment-terminal": true,
           "renting": 1,
           "returning": 1,
           "slots": 58,
           "uid": "582"
          },
          "free_bikes": 14,
          "id": "a8dca6a7c9f8451b38af2eee446736df",
          "latitude": 45.5063713381299,
          "longitude": -73.5642009973526,
          "name": "Jeanne-Mance / René-Lévesque",
          "timestamp": "2023-04-19T12:27:59.973000Z"
         },
         {
          "empty_slots": 9,
          "extra": {
           "ebikes": 2,
           "has_ebikes": true,
           "last_updated": 1681906120,
           "payment": [
            "creditcard",
            "key"
           ],
           "payment-terminal": true,
           "renting": 1,
           "returning": 1,
           "slots": 19,
           "uid": "514"
          },
          "free_bikes": 9,
          "id": "293a664c93f323a1ef7cfa42b534cc45",
          "latitude": 45.52995941738481,
          "longitude": -73.6329460144043,
          "name": "Bloomfield / Ball",
          "timestamp": "2023-04-19T12:27:59.989000Z"
         },
         {
          "empty_slots": 12,
          "extra": {
           "ebikes": 2,
           "has_ebikes": true,
           "last_updated": 1681889900,
           "payment": [
            "creditcard",
            "key"
           ],
           "payment-terminal": true,
           "renting": 1,
           "returning": 1,
           "slots": 23,
           "uid": "620"
          },
          "free_bikes": 9,
          "id": "9c713595b12ffeacadc44a5217c1a4b0",
          "latitude": 45.539806548176045,
          "longitude": -73.6872661113739,
          "name": "Laforest / Dudemaine",
          "timestamp": "2023-04-19T12:27:59.994000Z"
         },
         {
          "empty_slots": 29,
          "extra": {
           "ebikes": 0,
           "has_ebikes": true,
           "last_updated": 1681907241,
           "payment": [
            "creditcard",
            "key"
           ],
           "payment-terminal": true,
           "renting": 1,
           "returning": 1,
           "slots": 31,
           "uid": "13"
          },
          "free_bikes": 2,
          "id": "5303e59a2966767d59e3ab3df6aa967e",
          "latitude": 45.51340553558378,
          "longitude": -73.56259435415267,
          "name": "Sanguinet / de Maisonneuve",
          "timestamp": "2023-04-19T12:28:00.357000Z"
         },
         {
          "empty_slots": 23,
          "extra": {
           "ebikes": 3,
           "has_ebikes": true,
           "last_updated": 1681907174,
           "payment": [
            "creditcard",
            "key"
           ],
           "payment-terminal": true,
           "renting": 1,
           "returning": 1,
           "slots": 43,
           "uid": "14"
          },
          "free_bikes": 19,
          "id": "cefc5afe09efc11756e70a7d5f0b7c39",
          "latitude": 45.51372291221464,
          "longitude": -73.5603104531765,
          "name": "St-Denis / Ste-Catherine",
          "timestamp": "2023-04-19T12:28:00.362000Z"
         },
         {
          "empty_slots": 42,
          "extra": {
           "ebikes": 3,
           "has_ebikes": true,
           "last_updated": 1681906439,
           "payment": [
            "creditcard",
            "key"
           ],
           "payment-terminal": true,
           "renting": 1,
           "returning": 1,
           "slots": 47,
           "uid": "8"
          },
          "free_bikes": 5,
          "id": "a275d1e1d0b9582f2b705053e47f7c98",
          "latitude": 45.512936177874096,
          "longitude": -73.56124520301817,
          "name": "Ste-Catherine / Sanguinet",
          "timestamp": "2023-04-19T12:28:00.679000Z"
         },
         {
          "empty_slots": 8,
          "extra": {
           "ebikes": 3,
           "has_ebikes": true,
           "last_updated": 1681907229,
           "payment": [
            "creditcard",
            "key"
           ],
           "payment-terminal": true,
           "renting": 1,
           "returning": 1,
           "slots": 15,
           "uid": "418"
          },
          "free_bikes": 4,
          "id": "7f61dc774eaad37c24af21f6515dd4da",
          "latitude": 45.477384955188235,
          "longitude": -73.61527817789465,
          "name": "Notre-Dame-de-Grâce / Décarie",
          "timestamp": "2023-04-19T12:28:00.715000Z"
         },
         {
          "empty_slots": 42,
          "extra": {
           "ebikes": 0,
           "has_ebikes": true,
           "last_updated": 1681907203,
           "payment": [
            "creditcard",
            "key"
           ],
           "payment-terminal": true,
           "renting": 1,
           "returning": 1,
           "slots": 43,
           "uid": "579"
          },
          "free_bikes": 0,
          "id": "267b809394e2dd9fdd7924b7cceda261",
          "latitude": 45.50707812811467,
          "longitude": -73.56139540672302,
          "name": "St-Urbain / de la Gauchetière",
          "timestamp": "2023-04-19T12:28:00.934000Z"
         },
         {
          "empty_slots": 13,
          "extra": {
           "ebikes": 3,
           "has_ebikes": true,
           "last_updated": 1681907197,
           "payment": [
            "creditcard",
            "key"
           ],
           "payment-terminal": true,
           "renting": 1,
           "returning": 1,
           "slots": 23,
           "uid": "751"
          },
          "free_bikes": 7,
          "id": "ca35a57cb7304b15a9f3ed30e06e106a",
          "latitude": 45.53935355552782,
          "longitude": -73.59537363052368,
          "name": "Parc Père-Marquette ( de Bellechasse / de Lanaudière)",
          "timestamp": "2023-04-19T12:28:01.662000Z"
         },
         {
          "empty_slots": 11,
          "extra": {
           "ebikes": 0,
           "has_ebikes": true,
           "last_updated": 1681907251,
           "payment": [
            "creditcard",
            "key"
           ],
           "payment-terminal": true,
           "renting": 1,
           "returning": 1,
           "slots": 25,
           "uid": "103"
          },
          "free_bikes": 11,
          "id": "b7ec996fa57785d0a9d07b285425953d",
          "latitude": 45.52353,
          "longitude": -73.55199,
          "name": "Métro Papineau (Cartier / Ste-Catherine)",
          "timestamp": "2023-04-19T12:27:59.728000Z"
         },
         {
          "empty_slots": 15,
          "extra": {
           "ebikes": 1,
           "has_ebikes": true,
           "last_updated": 1681906640,
           "payment": [
            "creditcard",
            "key"
           ],
           "payment-terminal": true,
           "renting": 1,
           "returning": 1,
           "slots": 19,
           "uid": "438"
          },
          "free_bikes": 4,
          "id": "ab124a371b47462db18406e94236bbcc",
          "latitude": 45.48697062,
          "longitude": -73.58929306,
          "name": "de Maisonneuve / Greene",
          "timestamp": "2023-04-19T12:27:59.743000Z"
         },
         {
          "empty_slots": 30,
          "extra": {
           "ebikes": 0,
           "has_ebikes": true,
           "last_updated": 1681906076,
           "payment": [
            "creditcard",
            "key"
           ],
           "payment-terminal": true,
           "renting": 1,
           "returning": 1,
           "slots": 31,
           "uid": "60"
          },
          "free_bikes": 0,
          "id": "fc2f51a415e4d0ce22f9e4a272cd244b",
          "latitude": 45.49863930330429,
          "longitude": -73.57422709465027,
          "name": "Drummond / Ste-Catherine",
          "timestamp": "2023-04-19T12:28:00.957000Z"
         },
         {
          "empty_slots": 21,
          "extra": {
           "ebikes": 0,
           "has_ebikes": true,
           "last_updated": 1681907055,
           "payment": [
            "creditcard",
            "key"
           ],
           "payment-terminal": true,
           "renting": 1,
           "returning": 1,
           "slots": 27,
           "uid": "59"
          },
          "free_bikes": 6,
          "id": "861a05bc08397b2eff4a4e7d1fa88b4f",
          "latitude": 45.500989292488576,
          "longitude": -73.57050284743309,
          "name": "Mansfield / Cathcart",
          "timestamp": "2023-04-19T12:28:01.328000Z"
         },
         {
          "empty_slots": 19,
          "extra": {
           "ebikes": 0,
           "has_ebikes": true,
           "last_updated": 1681906989,
           "payment": [
            "creditcard",
            "key"
           ],
           "payment-terminal": true,
           "renting": 1,
           "returning": 1,
           "slots": 19,
           "uid": "87"
          },
          "free_bikes": 0,
          "id": "7b28024fd4c90ded38fc0447771d1ca4",
          "latitude": 45.49658063218649,
          "longitude": -73.5762146115303,
          "name": "Ste-Catherine / Bishop",
          "timestamp": "2023-04-19T12:27:59.957000Z"
         },
         {
          "empty_slots": 11,
          "extra": {
           "ebikes": 1,
           "has_ebikes": true,
           "last_updated": 1681907199,
           "payment": [
            "creditcard",
            "key"
           ],
           "payment-terminal": true,
           "renting": 1,
           "returning": 1,
           "slots": 27,
           "uid": "84"
          },
          "free_bikes": 14,
          "id": "83a66bd66da62b3668815713aad56886",
          "latitude": 45.491750449903954,
          "longitude": -73.58394473791122,
          "name": "Chomedey / de Maisonneuve",
          "timestamp": "2023-04-19T12:27:59.958000Z"
         },
         {
          "empty_slots": 11,
          "extra": {
           "ebikes": 0,
           "has_ebikes": true,
           "last_updated": 1681907266,
           "payment": [
            "creditcard",
            "key"
           ],
           "payment-terminal": true,
           "renting": 1,
           "returning": 1,
           "slots": 15,
           "uid": "663"
          },
          "free_bikes": 4,
          "id": "7d10cc3be562e52b9c9787752b1991f8",
          "latitude": 45.53728040418993,
          "longitude": -73.57534691691399,
          "name": "Gilford / des Érables",
          "timestamp": "2023-04-19T12:28:00.563000Z"
         },
         {
          "empty_slots": 4,
          "extra": {
           "ebikes": 1,
           "has_ebikes": true,
           "last_updated": 1681905913,
           "payment": [
            "creditcard",
            "key"
           ],
           "payment-terminal": true,
           "renting": 1,
           "returning": 1,
           "slots": 19,
           "uid": "120"
          },
          "free_bikes": 15,
          "id": "e2a04ee5d75f040dafca0496a9be3521",
          "latitude": 45.535541603465234,
          "longitude": -73.56593906879425,
          "name": "Fullum / Terrasse Mercure",
          "timestamp": "2023-04-19T12:28:00.689000Z"
         },
         {
          "empty_slots": 44,
          "extra": {
           "ebikes": 2,
           "has_ebikes": true,
           "last_updated": 1681901581,
           "payment": [
            "creditcard",
            "key"
           ],
           "payment-terminal": true,
           "renting": 1,
           "returning": 1,
           "slots": 47,
           "uid": "123"
          },
          "free_bikes": 3,
          "id": "0366a94e06c77055841607882a40a484",
          "latitude": 45.5074794530521,
          "longitude": -73.57864737510681,
          "name": "University / Prince-Arthur",
          "timestamp": "2023-04-19T12:28:00.695000Z"
         },
         {
          "empty_slots": 7,
          "extra": {
           "ebikes": 1,
           "has_ebikes": true,
           "last_updated": 1681906556,
           "payment": [
            "creditcard",
            "key"
           ],
           "payment-terminal": true,
           "renting": 1,
           "returning": 1,
           "slots": 23,
           "uid": "619"
          },
          "free_bikes": 16,
          "id": "30192da54af48e7af4cb4662768cf5ca",
          "latitude": 45.53972553109637,
          "longitude": -73.67716491222382,
          "name": "Gare Bois-de-Boulogne",
          "timestamp": "2023-04-19T12:27:59.691000Z"
         },
         {
          "empty_slots": 15,
          "extra": {
           "ebikes": 3,
           "has_ebikes": true,
           "last_updated": 1681900562,
           "payment": [
            "creditcard",
            "key"
           ],
           "payment-terminal": true,
           "renting": 1,
           "returning": 1,
           "slots": 23,
           "uid": "446"
          },
          "free_bikes": 7,
          "id": "03b62dbe90c92d12a13fb55bdfc5cb9f",
          "latitude": 45.53632382385609,
          "longitude": -73.51224955918042,
          "name": "St-Sylvestre / St-Charles",
          "timestamp": "2023-04-19T12:27:59.723000Z"
         },
         {
          "empty_slots": 3,
          "extra": {
           "ebikes": 1,
           "has_ebikes": true,
           "last_updated": 1681907030,
           "payment": [
            "creditcard",
            "key"
           ],
           "payment-terminal": true,
           "renting": 1,
           "returning": 1,
           "slots": 15,
           "uid": "640"
          },
          "free_bikes": 12,
          "id": "30b96b5cc0da57b1ce5064825fdcd3f7",
          "latitude": 45.525762548812956,
          "longitude": -73.59485328197479,
          "name": "Casgrain / Maguire",
          "timestamp": "2023-04-19T12:27:59.740000Z"
         },
         {
          "empty_slots": 17,
          "extra": {
           "ebikes": 1,
           "has_ebikes": true,
           "last_updated": 1681906451,
           "payment": [
            "creditcard",
            "key"
           ],
           "payment-terminal": true,
           "renting": 1,
           "returning": 1,
           "slots": 19,
           "uid": "335"
          },
          "free_bikes": 1,
          "id": "9ecb8a131a495aaf4da25f65ecba463c",
          "latitude": 45.540780049797995,
          "longitude": -73.63040059804916,
          "name": "de Gaspé / Jarry",
          "timestamp": "2023-04-19T12:27:59.750000Z"
         },
         {
          "empty_slots": 13,
          "extra": {
           "ebikes": 2,
           "has_ebikes": true,
           "last_updated": 1681850007,
           "payment": [
            "creditcard",
            "key"
           ],
           "payment-terminal": true,
           "renting": 1,
           "returning": 1,
           "slots": 15,
           "uid": "687"
          },
          "free_bikes": 2,
          "id": "a373ee2a66d90cbfe5e6ddcf4adb5e5d",
          "latitude": 45.55233742797057,
          "longitude": -73.70748996734619,
          "name": "Legrand / Cartier",
          "timestamp": "2023-04-19T12:27:59.821000Z"
         },
         {
          "empty_slots": 20,
          "extra": {
           "ebikes": 3,
           "has_ebikes": true,
           "last_updated": 1681907158,
           "payment": [
            "creditcard",
            "key"
           ],
           "payment-terminal": true,
           "renting": 1,
           "returning": 1,
           "slots": 31,
           "uid": "397"
          },
          "free_bikes": 10,
          "id": "fd1821200e01192b443a7ebf048f894b",
          "latitude": 45.53520398241678,
          "longitude": -73.6175217570053,
          "name": "St-Dominique / Jean-Talon",
          "timestamp": "2023-04-19T12:27:59.928000Z"
         },
         {
          "empty_slots": 9,
          "extra": {
           "ebikes": 4,
           "has_ebikes": true,
           "last_updated": 1681906078,
           "payment": [
            "creditcard",
            "key"
           ],
           "payment-terminal": true,
           "renting": 1,
           "returning": 1,
           "slots": 15,
           "uid": "189"
          },
          "free_bikes": 4,
          "id": "1ea56d71c39cd0e2a2ccc6061b5cbe68",
          "latitude": 45.552289376429215,
          "longitude": -73.61300647258759,
          "name": "Chabot / Villeray",
          "timestamp": "2023-04-19T12:28:00.345000Z"
         },
         {
          "empty_slots": 19,
          "extra": {
           "ebikes": 4,
           "has_ebikes": true,
           "last_updated": 1681876637,
           "payment": [
            "creditcard",
            "key"
           ],
           "payment-terminal": true,
           "renting": 1,
           "returning": 1,
           "slots": 27,
           "uid": "759"
          },
          "free_bikes": 8,
          "id": "2afa5fecbdfebe7a3aad9070498319ab",
          "latitude": 45.57504823374693,
          "longitude": -73.68799567222595,
          "name": "Ouimet / Goineau",
          "timestamp": "2023-04-19T12:28:00.417000Z"
         },
         {
          "empty_slots": 37,
          "extra": {
           "ebikes": 1,
           "has_ebikes": true,
           "last_updated": 1681906571,
           "payment": [
            "creditcard",
            "key"
           ],
           "payment-terminal": true,
           "renting": 1,
           "returning": 1,
           "slots": 43,
           "uid": "67"
          },
          "free_bikes": 6,
          "id": "e5e6afaeab949da9b755f9e4b52ff397",
          "latitude": 45.50638390910643,
          "longitude": -73.57630902532037,
          "name": "University / Milton",
          "timestamp": "2023-04-19T12:28:00.987000Z"
         },
         {
          "empty_slots": 21,
          "extra": {
           "ebikes": 0,
           "has_ebikes": true,
           "last_updated": 1681906817,
           "payment": [
            "creditcard",
            "key"
           ],
           "payment-terminal": true,
           "renting": 1,
           "returning": 1,
           "slots": 23,
           "uid": "336"
          },
          "free_bikes": 1,
          "id": "cf6e1409b292b38da683ba44e51a4843",
          "latitude": 45.543423548290185,
          "longitude": -73.63246187567711,
          "name": "Guizot / St-Denis",
          "timestamp": "2023-04-19T12:27:59.751000Z"
         },
         {
          "empty_slots": 14,
          "extra": {
           "ebikes": 1,
           "has_ebikes": true,
           "last_updated": 1681906283,
           "payment": [
            "creditcard",
            "key"
           ],
           "payment-terminal": true,
           "renting": 1,
           "returning": 1,
           "slots": 23,
           "uid": "114"
          },
          "free_bikes": 9,
          "id": "a70f52aa7911051e48137bec2fa9f91c",
          "latitude": 45.499797390231926,
          "longitude": -73.6301752924919,
          "name": "de la Peltrie / de la Côte-des-Neiges",
          "timestamp": "2023-04-19T12:28:01.496000Z"
         },
         {
          "empty_slots": 7,
          "extra": {
           "ebikes": 0,
           "has_ebikes": true,
           "last_updated": 1681907181,
           "payment": [
            "creditcard",
            "key"
           ],
           "payment-terminal": true,
           "renting": 1,
           "returning": 1,
           "slots": 15,
           "uid": "726"
          },
          "free_bikes": 5,
          "id": "748cda93c263ff091980aed944d7c284",
          "latitude": 45.45290792768395,
          "longitude": -73.58918591405198,
          "name": "Egan / Laurendeau",
          "timestamp": "2023-04-19T12:28:01.748000Z"
         },
         {
          "empty_slots": 4,
          "extra": {
           "ebikes": 1,
           "has_ebikes": true,
           "last_updated": 1681907052,
           "payment": [
            "creditcard",
            "key"
           ],
           "payment-terminal": true,
           "renting": 1,
           "returning": 1,
           "slots": 19,
           "uid": "471"
          },
          "free_bikes": 15,
          "id": "c5f193110503c57e1c5f624c8c64f286",
          "latitude": 45.494686752797904,
          "longitude": -73.63871866467889,
          "name": "Métro Plamondon (de Kent / Victoria)",
          "timestamp": "2023-04-19T12:28:01.972000Z"
         },
         {
          "empty_slots": 28,
          "extra": {
           "ebikes": 2,
           "has_ebikes": true,
           "last_updated": 1681907244,
           "payment": [
            "creditcard",
            "key"
           ],
           "payment-terminal": true,
           "renting": 1,
           "returning": 1,
           "slots": 31,
           "uid": "229"
          },
          "free_bikes": 3,
          "id": "56cff766a3277c78e45bb4de4ac76197",
          "latitude": 45.52655700191558,
          "longitude": -73.5982757806778,
          "name": "St-Dominique / St-Viateur",
          "timestamp": "2023-04-19T12:28:01.707000Z"
         },
         {
          "empty_slots": 17,
          "extra": {
           "ebikes": 0,
           "has_ebikes": true,
           "last_updated": 1681826187,
           "payment": [
            "creditcard",
            "key"
           ],
           "payment-terminal": true,
           "renting": 1,
           "returning": 1,
           "slots": 19,
           "uid": "445"
          },
          "free_bikes": 2,
          "id": "ea2a077e0e784da0fa7df50bdd791fce",
          "latitude": 45.539824,
          "longitude": -73.508752,
          "name": "St-Charles / Grant",
          "timestamp": "2023-04-19T12:27:59.724000Z"
         },
         {
          "empty_slots": 14,
          "extra": {
           "ebikes": 4,
           "has_ebikes": true,
           "last_updated": 1681907249,
           "payment": [
            "creditcard",
            "key"
           ],
           "payment-terminal": true,
           "renting": 1,
           "returning": 1,
           "slots": 23,
           "uid": "154"
          },
          "free_bikes": 6,
          "id": "c752d8b62e9fb1db8cab2c9b414c8ddf",
          "latitude": 45.53221791147474,
          "longitude": -73.57543140649796,
          "name": "Marquette / du Mont-Royal",
          "timestamp": "2023-04-19T12:28:01.843000Z"
         },
         {
          "empty_slots": 15,
          "extra": {
           "ebikes": 1,
           "has_ebikes": true,
           "last_updated": 1681906983,
           "payment": [
            "creditcard",
            "key"
           ],
           "payment-terminal": true,
           "renting": 1,
           "returning": 1,
           "slots": 27,
           "uid": "483"
          },
          "free_bikes": 12,
          "id": "be81ff208d6924d4baa6817fb7771d35",
          "latitude": 45.516297540849614,
          "longitude": -73.55801045894623,
          "name": "St-André / Ste-Catherine",
          "timestamp": "2023-04-19T12:28:01.942000Z"
         },
         {
          "empty_slots": 11,
          "extra": {
           "ebikes": 0,
           "has_ebikes": true,
           "last_updated": 1681872394,
           "payment": [
            "creditcard",
            "key"
           ],
           "payment-terminal": true,
           "renting": 1,
           "returning": 1,
           "slots": 17,
           "uid": "657"
          },
          "free_bikes": 5,
          "id": "88cb58243c5bb76b6a8f796ec76f7594",
          "latitude": 45.50843904979172,
          "longitude": -73.6729645729065,
          "name": "Métro du Collège (Cartier / Décarie)",
          "timestamp": "2023-04-19T12:28:00.201000Z"
         },
         {
          "empty_slots": 28,
          "extra": {
           "ebikes": 0,
           "has_ebikes": true,
           "last_updated": 1681906396,
           "payment": [
            "creditcard",
            "key"
           ],
           "payment-terminal": true,
           "renting": 1,
           "returning": 1,
           "slots": 31,
           "uid": "317"
          },
          "free_bikes": 2,
          "id": "ffb9a83c9965e7749a06d468a36a7e35",
          "latitude": 45.495537539518104,
          "longitude": -73.6222583055769,
          "name": "Métro Côte-des-Neiges (Jean-Brillant / de la Côte-des-Neiges)",
          "timestamp": "2023-04-19T12:28:00.744000Z"
         },
         {
          "empty_slots": 5,
          "extra": {
           "ebikes": 1,
           "has_ebikes": true,
           "last_updated": 1681907112,
           "payment": [
            "creditcard",
            "key"
           ],
           "payment-terminal": true,
           "renting": 1,
           "returning": 1,
           "slots": 19,
           "uid": "724"
          },
          "free_bikes": 12,
          "id": "915dadc1ef01d41024905f31c8463e61",
          "latitude": 45.571796348222385,
          "longitude": -73.54152023792267,
          "name": "Monsabré / Boileau",
          "timestamp": "2023-04-19T12:28:01.752000Z"
         },
         {
          "empty_slots": 15,
          "extra": {
           "ebikes": 2,
           "has_ebikes": true,
           "last_updated": 1681906743,
           "payment": [
            "creditcard",
            "key"
           ],
           "payment-terminal": true,
           "renting": 1,
           "returning": 1,
           "slots": 19,
           "uid": "292"
          },
          "free_bikes": 4,
          "id": "13da78e721c38332e2fe0bf349d8966b",
          "latitude": 45.48984195308291,
          "longitude": -73.56737405061722,
          "name": "Notre-Dame / Guy",
          "timestamp": "2023-04-19T12:27:59.693000Z"
         },
         {
          "empty_slots": 16,
          "extra": {
           "ebikes": 2,
           "has_ebikes": true,
           "last_updated": 1681907098,
           "payment": [
            "creditcard",
            "key"
           ],
           "payment-terminal": true,
           "renting": 1,
           "returning": 1,
           "slots": 23,
           "uid": "622"
          },
          "free_bikes": 6,
          "id": "9b2a7ca24856adc0e2898fb4254b8f4a",
          "latitude": 45.540105018786974,
          "longitude": -73.65347027778625,
          "name": "Chabanel / Tolhurst",
          "timestamp": "2023-04-19T12:27:59.825000Z"
         },
         {
          "empty_slots": 8,
          "extra": {
           "ebikes": 1,
           "has_ebikes": true,
           "last_updated": 1681907248,
           "payment": [
            "creditcard",
            "key"
           ],
           "payment-terminal": true,
           "renting": 1,
           "returning": 1,
           "slots": 15,
           "uid": "695"
          },
          "free_bikes": 4,
          "id": "7758064a8883d2200c4ef11ea582fc3a",
          "latitude": 45.51694782364431,
          "longitude": -73.62631559371948,
          "name": "Pratt / Bates",
          "timestamp": "2023-04-19T12:28:00.625000Z"
         },
         {
          "empty_slots": 7,
          "extra": {
           "ebikes": 1,
           "has_ebikes": true,
           "last_updated": 1681906544,
           "payment": [
            "creditcard",
            "key"
           ],
           "payment-terminal": true,
           "renting": 1,
           "returning": 1,
           "slots": 17,
           "uid": "308"
          },
          "free_bikes": 10,
          "id": "6b9099f3e501e72b5a268e0346c2f546",
          "latitude": 45.4891,
          "longitude": -73.57656,
          "name": "Métro Georges-Vanier (St-Antoine / Canning)",
          "timestamp": "2023-04-19T12:28:01.562000Z"
         },
         {
          "empty_slots": 10,
          "extra": {
           "ebikes": 0,
           "has_ebikes": true,
           "last_updated": 1681907014,
           "payment": [
            "creditcard",
            "key"
           ],
           "payment-terminal": true,
           "renting": 1,
           "returning": 1,
           "slots": 15,
           "uid": "753"
          },
          "free_bikes": 3,
          "id": "ff57fa074079c8cb3d2bfeffa3adc4bf",
          "latitude": 45.5303174,
          "longitude": -73.5548669,
          "name": "Fullum / Ontario",
          "timestamp": "2023-04-19T12:28:00.390000Z"
         },
         {
          "empty_slots": 4,
          "extra": {
           "ebikes": 8,
           "has_ebikes": true,
           "last_updated": 1681906558,
           "payment": [
            "creditcard",
            "key"
           ],
           "payment-terminal": true,
           "renting": 1,
           "returning": 1,
           "slots": 15,
           "uid": "349"
          },
          "free_bikes": 11,
          "id": "eb0eb842394c654a6d5effaf5b36a2fb",
          "latitude": 45.559199,
          "longitude": -73.599658,
          "name": "Métro St-Michel (Shaughnessy / St-Michel)",
          "timestamp": "2023-04-19T12:27:59.671000Z"
         },
         {
          "empty_slots": 7,
          "extra": {
           "ebikes": 0,
           "has_ebikes": true,
           "last_updated": 1681907175,
           "payment": [
            "creditcard",
            "key"
           ],
           "payment-terminal": true,
           "renting": 1,
           "returning": 1,
           "slots": 11,
           "uid": "530"
          },
          "free_bikes": 4,
          "id": "e61bdf615b9672bd815d52f210429d3c",
          "latitude": 45.55315915057821,
          "longitude": -73.53263273835182,
          "name": "Bennett / Ste-Catherine",
          "timestamp": "2023-04-19T12:28:01.466000Z"
         },
         {
          "empty_slots": 16,
          "extra": {
           "ebikes": 5,
           "has_ebikes": true,
           "last_updated": 1681873559,
           "payment": [
            "creditcard",
            "key"
           ],
           "payment-terminal": true,
           "renting": 1,
           "returning": 1,
           "slots": 23,
           "uid": "425"
          },
          "free_bikes": 7,
          "id": "ac7000b84127f7ac259b09f99eb297ad",
          "latitude": 45.53039449604383,
          "longitude": -73.70393217686795,
          "name": "Louisbourg / O'Brien",
          "timestamp": "2023-04-19T12:28:01.547000Z"
         },
         {
          "empty_slots": 16,
          "extra": {
           "ebikes": 0,
           "has_ebikes": true,
           "last_updated": 1681907184,
           "payment": [
            "creditcard",
            "key"
           ],
           "payment-terminal": true,
           "renting": 1,
           "returning": 1,
           "slots": 19,
           "uid": "791"
          },
          "free_bikes": 2,
          "id": "126735d125a23869138e84406c649155",
          "latitude": 45.56007440937141,
          "longitude": -73.68125259876251,
          "name": "Métro Cartier",
          "timestamp": "2023-04-19T12:27:59.965000Z"
         },
         {
          "empty_slots": 19,
          "extra": {
           "ebikes": 0,
           "has_ebikes": true,
           "last_updated": 1681854255,
           "payment": [
            "creditcard",
            "key"
           ],
           "payment-terminal": true,
           "renting": 1,
           "returning": 1,
           "slots": 19,
           "uid": "628"
          },
          "free_bikes": 0,
          "id": "814ad44a52efef38cb7aafd234bd5623",
          "latitude": 45.500251758943925,
          "longitude": -73.66171056035454,
          "name": "Métro de la Savane (Décarie / de Sorel)",
          "timestamp": "2023-04-19T12:27:59.865000Z"
         },
         {
          "empty_slots": 8,
          "extra": {
           "ebikes": 3,
           "has_ebikes": true,
           "last_updated": 1681891260,
           "payment": [
            "creditcard",
            "key"
           ],
           "payment-terminal": true,
           "renting": 1,
           "returning": 1,
           "slots": 19,
           "uid": "621"
          },
          "free_bikes": 10,
          "id": "465cd2e49c7225463b4e34c0c019930c",
          "latitude": 45.53308032414161,
          "longitude": -73.6945965886116,
          "name": "Alfred Laliberté / de Poutrincourt",
          "timestamp": "2023-04-19T12:27:59.994000Z"
         },
         {
          "empty_slots": 11,
          "extra": {
           "ebikes": 0,
           "has_ebikes": true,
           "last_updated": 1681906609,
           "payment": [
            "creditcard",
            "key"
           ],
           "payment-terminal": true,
           "renting": 1,
           "returning": 1,
           "slots": 19,
           "uid": "519"
          },
          "free_bikes": 8,
          "id": "6e3570378de8c1eab67ca40818e30a41",
          "latitude": 45.54758205939525,
          "longitude": -73.66522908210754,
          "name": "Clark / Fleury",
          "timestamp": "2023-04-19T12:27:59.985000Z"
         },
         {
          "empty_slots": 19,
          "extra": {
           "ebikes": 3,
           "has_ebikes": true,
           "last_updated": 1681907210,
           "payment": [
            "creditcard",
            "key"
           ],
           "payment-terminal": true,
           "renting": 1,
           "returning": 1,
           "slots": 23,
           "uid": "790"
          },
          "free_bikes": 4,
          "id": "5aed9bf24e62ea6202a7c08dfac25c88",
          "latitude": 45.55814299291968,
          "longitude": -73.71942043304443,
          "name": "Métro Montmorency",
          "timestamp": "2023-04-19T12:27:59.966000Z"
         },
         {
          "empty_slots": 24,
          "extra": {
           "ebikes": 1,
           "has_ebikes": true,
           "last_updated": 1681906758,
           "payment": [
            "creditcard",
            "key"
           ],
           "payment-terminal": true,
           "renting": 1,
           "returning": 1,
           "slots": 31,
           "uid": "96"
          },
          "free_bikes": 7,
          "id": "802c2ec80bcafd464dd2c20569192bac",
          "latitude": 45.49384690142783,
          "longitude": -73.57917845249176,
          "name": "Ste-Catherine / St-Mathieu",
          "timestamp": "2023-04-19T12:27:59.770000Z"
         },
         {
          "empty_slots": 9,
          "extra": {
           "ebikes": 1,
           "has_ebikes": true,
           "last_updated": 1681904208,
           "payment": [
            "creditcard",
            "key"
           ],
           "payment-terminal": true,
           "renting": 1,
           "returning": 1,
           "slots": 19,
           "uid": "515"
          },
          "free_bikes": 9,
          "id": "73eda86efde149b545d1e7646de05cd6",
          "latitude": 45.54407915308118,
          "longitude": -73.66735741496086,
          "name": "Tolhurst / Fleury",
          "timestamp": "2023-04-19T12:27:59.988000Z"
         },
         {
          "empty_slots": 11,
          "extra": {
           "ebikes": 0,
           "has_ebikes": true,
           "last_updated": 1681907204,
           "payment": [
            "creditcard",
            "key"
           ],
           "payment-terminal": true,
           "renting": 1,
           "returning": 1,
           "slots": 15,
           "uid": "746"
          },
          "free_bikes": 3,
          "id": "1de81a5a8e6f461e2b0ed7c9c2e6c3e8",
          "latitude": 45.47519326260791,
          "longitude": -73.58094334602356,
          "name": "St-Ambroise / Louis-Cyr",
          "timestamp": "2023-04-19T12:27:59.775000Z"
         },
         {
          "empty_slots": 22,
          "extra": {
           "ebikes": 0,
           "has_ebikes": true,
           "last_updated": 1681876781,
           "payment": [
            "creditcard",
            "key"
           ],
           "payment-terminal": true,
           "renting": 1,
           "returning": 1,
           "slots": 23,
           "uid": "802"
          },
          "free_bikes": 1,
          "id": "9b28f0b919bfbb8a12134e8ba5e803b5",
          "latitude": 45.56842034638607,
          "longitude": -73.74687284231186,
          "name": "Terminus Le Carrefour (Terry-Fox / Le Carrefour)",
          "timestamp": "2023-04-19T12:28:01.128000Z"
         },
         {
          "empty_slots": 5,
          "extra": {
           "ebikes": 1,
           "has_ebikes": true,
           "last_updated": 1681907212,
           "payment": [
            "creditcard",
            "key"
           ],
           "payment-terminal": true,
           "renting": 1,
           "returning": 1,
           "slots": 23,
           "uid": "277"
          },
          "free_bikes": 18,
          "id": "662e5de818ea47b2da5296790a8093cc",
          "latitude": 45.531921043052655,
          "longitude": -73.59804779291153,
          "name": "Métro Rosemont (de St-Vallier / Rosemont)",
          "timestamp": "2023-04-19T12:27:59.709000Z"
         },
         {
          "empty_slots": 20,
          "extra": {
           "ebikes": 0,
           "has_ebikes": true,
           "last_updated": 1681881100,
           "payment": [
            "creditcard",
            "key"
           ],
           "payment-terminal": true,
           "renting": 1,
           "returning": 1,
           "slots": 27,
           "uid": "727"
          },
          "free_bikes": 6,
          "id": "57eb01e139a54b1a18fa150127887b3d",
          "latitude": 45.58470514858118,
          "longitude": -73.71925413608551,
          "name": "Mexico / Valois",
          "timestamp": "2023-04-19T12:28:01.750000Z"
         },
         {
          "empty_slots": 3,
          "extra": {
           "ebikes": 3,
           "has_ebikes": true,
           "last_updated": 1681906446,
           "payment": [
            "creditcard",
            "key"
           ],
           "payment-terminal": true,
           "renting": 1,
           "returning": 1,
           "slots": 11,
           "uid": "259"
          },
          "free_bikes": 8,
          "id": "2543ea24b3c88ef516b925e0a9233d07",
          "latitude": 45.47117930747152,
          "longitude": -73.6270022392273,
          "name": "de Hampton / de Monkland",
          "timestamp": "2023-04-19T12:28:00.981000Z"
         },
         {
          "empty_slots": 11,
          "extra": {
           "ebikes": 1,
           "has_ebikes": true,
           "last_updated": 1681905151,
           "payment": [
            "creditcard",
            "key"
           ],
           "payment-terminal": true,
           "renting": 1,
           "returning": 1,
           "slots": 15,
           "uid": "795"
          },
          "free_bikes": 3,
          "id": "7cce3c616ae862530bddffb636ed1245",
          "latitude": 45.43289463113104,
          "longitude": -73.59685689210892,
          "name": "2e avenue / Centrale",
          "timestamp": "2023-04-19T12:27:59.962000Z"
         },
         {
          "empty_slots": 17,
          "extra": {
           "ebikes": 1,
           "has_ebikes": true,
           "last_updated": 1681907267,
           "payment": [
            "creditcard",
            "key"
           ],
           "payment-terminal": true,
           "renting": 1,
           "returning": 1,
           "slots": 39,
           "uid": "184"
          },
          "free_bikes": 21,
          "id": "e9ca885ef794d9674297761c64cf0b17",
          "latitude": 45.52538954131252,
          "longitude": -73.5820671916008,
          "name": "Métro Mont-Royal (Pontiac / du Mont-Royal)",
          "timestamp": "2023-04-19T12:28:00.294000Z"
         },
         {
          "empty_slots": 8,
          "extra": {
           "ebikes": 1,
           "has_ebikes": true,
           "last_updated": 1681907264,
           "payment": [
            "creditcard",
            "key"
           ],
           "payment-terminal": true,
           "renting": 1,
           "returning": 1,
           "slots": 15,
           "uid": "688"
          },
          "free_bikes": 5,
          "id": "3bd58a7f78129d50b6cb591e8c09e7ec",
          "latitude": 45.50619158460727,
          "longitude": -73.64230799681536,
          "name": "Laird / Glencoe",
          "timestamp": "2023-04-19T12:27:59.816000Z"
         },
         {
          "empty_slots": 13,
          "extra": {
           "ebikes": 2,
           "has_ebikes": true,
           "last_updated": 1681907098,
           "payment": [
            "creditcard",
            "key"
           ],
           "payment-terminal": true,
           "renting": 1,
           "returning": 1,
           "slots": 15,
           "uid": "806"
          },
          "free_bikes": 2,
          "id": "8fb4901e0373b487626367a6769c39c8",
          "latitude": 45.515969694922276,
          "longitude": -73.60827505588531,
          "name": "Parc Beaubien Outremont (Stuart / St-Viateur)",
          "timestamp": "2023-04-19T12:28:01.134000Z"
         },
         {
          "empty_slots": 23,
          "extra": {
           "ebikes": 1,
           "has_ebikes": true,
           "last_updated": 1681907107,
           "payment": [
            "creditcard",
            "key"
           ],
           "payment-terminal": true,
           "renting": 1,
           "returning": 1,
           "slots": 25,
           "uid": "824"
          },
          "free_bikes": 2,
          "id": "79644b95c294a9edfe1d13e4c7bad11e",
          "latitude": 45.55298554800475,
          "longitude": -73.6386477202177,
          "name": "Complexe sportif Claude Robillard (Émile-Journault)",
          "timestamp": "2023-04-19T12:28:01.597000Z"
         }
        ]
       }
      },
      "text/plain": [
       "<IPython.core.display.JSON object>"
      ]
     },
     "execution_count": 4,
     "metadata": {
      "application/json": {
       "expanded": false,
       "root": "root"
      }
     },
     "output_type": "execute_result"
    }
   ],
   "source": [
    "#get data for certain network_id\n",
    "network_id = 'bixi-montreal'\n",
    "network_json = requests.get(\"http://api.citybik.es/v2/networks/\"+network_id).json()\n",
    "JSON(network_json)"
   ]
  },
  {
   "cell_type": "code",
   "execution_count": 5,
   "metadata": {},
   "outputs": [],
   "source": [
    "# get all locations into a data frame\n",
    "def locations(data):\n",
    "    country_list= []\n",
    "    city_list = []\n",
    "    lat_list = []\n",
    "    long_list = []\n",
    "    id_list = []\n",
    "    for index in range(len(city_bike_networks['networks'])):\n",
    "        net_id = city_bike_networks['networks'][index]['id']\n",
    "        country = city_bike_networks['networks'][index]['location']['country']\n",
    "        city = city_bike_networks['networks'][index]['location']['city']\n",
    "        latitude = city_bike_networks['networks'][index]['location']['latitude'] \n",
    "        longitude = city_bike_networks['networks'][index]['location']['longitude']\n",
    "        id_list.append(net_id)\n",
    "        country_list.append(country)\n",
    "        city_list.append(city)\n",
    "        lat_list.append(latitude)\n",
    "        long_list.append(longitude)\n",
    "    all_locations = pd.DataFrame({'Country':country_list,'City':city_list, 'Latitude': lat_list, 'Longitude': long_list, 'id': id_list})\n",
    "    return all_locations\n",
    "\n",
    "all_locs = locations(city_bike_networks)"
   ]
  },
  {
   "cell_type": "code",
   "execution_count": 6,
   "metadata": {},
   "outputs": [
    {
     "data": {
      "text/html": [
       "<div>\n",
       "<style scoped>\n",
       "    .dataframe tbody tr th:only-of-type {\n",
       "        vertical-align: middle;\n",
       "    }\n",
       "\n",
       "    .dataframe tbody tr th {\n",
       "        vertical-align: top;\n",
       "    }\n",
       "\n",
       "    .dataframe thead th {\n",
       "        text-align: right;\n",
       "    }\n",
       "</style>\n",
       "<table border=\"1\" class=\"dataframe\">\n",
       "  <thead>\n",
       "    <tr style=\"text-align: right;\">\n",
       "      <th></th>\n",
       "      <th>station ids</th>\n",
       "      <th>latitude</th>\n",
       "      <th>longitude</th>\n",
       "      <th>free bikes</th>\n",
       "      <th>empty slots</th>\n",
       "      <th>total bikes</th>\n",
       "    </tr>\n",
       "  </thead>\n",
       "  <tbody>\n",
       "    <tr>\n",
       "      <th>0</th>\n",
       "      <td>72bfd647b3d2b650546f42319729757d</td>\n",
       "      <td>45.617500</td>\n",
       "      <td>-73.606011</td>\n",
       "      <td>3</td>\n",
       "      <td>8</td>\n",
       "      <td>11</td>\n",
       "    </tr>\n",
       "    <tr>\n",
       "      <th>1</th>\n",
       "      <td>36c6491aa1b52e5ef7005f984738de27</td>\n",
       "      <td>45.516926</td>\n",
       "      <td>-73.564257</td>\n",
       "      <td>8</td>\n",
       "      <td>7</td>\n",
       "      <td>15</td>\n",
       "    </tr>\n",
       "    <tr>\n",
       "      <th>2</th>\n",
       "      <td>30f081e03c42b3e7b3a5c4cd5acc3286</td>\n",
       "      <td>45.541549</td>\n",
       "      <td>-73.565012</td>\n",
       "      <td>0</td>\n",
       "      <td>11</td>\n",
       "      <td>11</td>\n",
       "    </tr>\n",
       "    <tr>\n",
       "      <th>3</th>\n",
       "      <td>8db822a266b5ccb3a1e323ddc8721d62</td>\n",
       "      <td>45.506176</td>\n",
       "      <td>-73.711186</td>\n",
       "      <td>9</td>\n",
       "      <td>10</td>\n",
       "      <td>19</td>\n",
       "    </tr>\n",
       "    <tr>\n",
       "      <th>4</th>\n",
       "      <td>660275cd7d4368cc7590f1606c633bd6</td>\n",
       "      <td>45.512994</td>\n",
       "      <td>-73.682498</td>\n",
       "      <td>1</td>\n",
       "      <td>17</td>\n",
       "      <td>18</td>\n",
       "    </tr>\n",
       "    <tr>\n",
       "      <th>5</th>\n",
       "      <td>fddada5adc997290212b3f540c017274</td>\n",
       "      <td>45.514734</td>\n",
       "      <td>-73.691449</td>\n",
       "      <td>5</td>\n",
       "      <td>10</td>\n",
       "      <td>15</td>\n",
       "    </tr>\n",
       "    <tr>\n",
       "      <th>6</th>\n",
       "      <td>83d02cd8a043b8305a4031063005d32e</td>\n",
       "      <td>45.522341</td>\n",
       "      <td>-73.721679</td>\n",
       "      <td>7</td>\n",
       "      <td>8</td>\n",
       "      <td>15</td>\n",
       "    </tr>\n",
       "    <tr>\n",
       "      <th>7</th>\n",
       "      <td>888e6052f1aebab8d8a527776b3499b6</td>\n",
       "      <td>45.566869</td>\n",
       "      <td>-73.641017</td>\n",
       "      <td>7</td>\n",
       "      <td>8</td>\n",
       "      <td>15</td>\n",
       "    </tr>\n",
       "  </tbody>\n",
       "</table>\n",
       "</div>"
      ],
      "text/plain": [
       "                        station ids   latitude  longitude  free bikes  \\\n",
       "0  72bfd647b3d2b650546f42319729757d  45.617500 -73.606011           3   \n",
       "1  36c6491aa1b52e5ef7005f984738de27  45.516926 -73.564257           8   \n",
       "2  30f081e03c42b3e7b3a5c4cd5acc3286  45.541549 -73.565012           0   \n",
       "3  8db822a266b5ccb3a1e323ddc8721d62  45.506176 -73.711186           9   \n",
       "4  660275cd7d4368cc7590f1606c633bd6  45.512994 -73.682498           1   \n",
       "5  fddada5adc997290212b3f540c017274  45.514734 -73.691449           5   \n",
       "6  83d02cd8a043b8305a4031063005d32e  45.522341 -73.721679           7   \n",
       "7  888e6052f1aebab8d8a527776b3499b6  45.566869 -73.641017           7   \n",
       "\n",
       "   empty slots  total bikes  \n",
       "0            8           11  \n",
       "1            7           15  \n",
       "2           11           11  \n",
       "3           10           19  \n",
       "4           17           18  \n",
       "5           10           15  \n",
       "6            8           15  \n",
       "7            8           15  "
      ]
     },
     "execution_count": 6,
     "metadata": {},
     "output_type": "execute_result"
    }
   ],
   "source": [
    "mtl_stations = pd.DataFrame()\n",
    "data = network_json['network']\n",
    "station_id_list = []\n",
    "lat_list = []\n",
    "long_list = []\n",
    "free_list = []\n",
    "empty_list = []\n",
    "total_list = []\n",
    "for index in range(len(data)):\n",
    "    station_id = network_json['network']['stations'][index]['id']\n",
    "    station_id_list.append(station_id)\n",
    "    lat = network_json['network']['stations'][index]['latitude']\n",
    "    lat_list.append(lat)\n",
    "    long = network_json['network']['stations'][index]['longitude']\n",
    "    long_list.append(long)\n",
    "    free_bikes = network_json['network']['stations'][index]['free_bikes']\n",
    "    free_list.append(free_bikes)\n",
    "    empty_slots = network_json['network']['stations'][index]['empty_slots']\n",
    "    empty_list.append(empty_slots)\n",
    "    total = free_bikes+empty_slots\n",
    "    total_list.append(total)\n",
    "\n",
    "    mtl_stations = pd.DataFrame({'station ids':station_id_list,'latitude': lat_list, \n",
    "                             'longitude': long_list, 'free bikes': free_list, 'empty slots':empty_list, 'total bikes': total_list})\n",
    "mtl_stations"
   ]
  },
  {
   "cell_type": "markdown",
   "metadata": {},
   "source": [
    "Send a request to Foursquare with a small radius (1000m) for all the bike stations in your city of choice. "
   ]
  },
  {
   "cell_type": "code",
   "execution_count": 7,
   "metadata": {},
   "outputs": [
    {
     "data": {
      "text/html": [
       "<div>\n",
       "<style scoped>\n",
       "    .dataframe tbody tr th:only-of-type {\n",
       "        vertical-align: middle;\n",
       "    }\n",
       "\n",
       "    .dataframe tbody tr th {\n",
       "        vertical-align: top;\n",
       "    }\n",
       "\n",
       "    .dataframe thead th {\n",
       "        text-align: right;\n",
       "    }\n",
       "</style>\n",
       "<table border=\"1\" class=\"dataframe\">\n",
       "  <thead>\n",
       "    <tr style=\"text-align: right;\">\n",
       "      <th></th>\n",
       "      <th>station ids</th>\n",
       "      <th>latitude</th>\n",
       "      <th>longitude</th>\n",
       "    </tr>\n",
       "  </thead>\n",
       "  <tbody>\n",
       "    <tr>\n",
       "      <th>0</th>\n",
       "      <td>72bfd647b3d2b650546f42319729757d</td>\n",
       "      <td>45.617500</td>\n",
       "      <td>-73.606011</td>\n",
       "    </tr>\n",
       "    <tr>\n",
       "      <th>1</th>\n",
       "      <td>36c6491aa1b52e5ef7005f984738de27</td>\n",
       "      <td>45.516926</td>\n",
       "      <td>-73.564257</td>\n",
       "    </tr>\n",
       "    <tr>\n",
       "      <th>2</th>\n",
       "      <td>30f081e03c42b3e7b3a5c4cd5acc3286</td>\n",
       "      <td>45.541549</td>\n",
       "      <td>-73.565012</td>\n",
       "    </tr>\n",
       "    <tr>\n",
       "      <th>3</th>\n",
       "      <td>8db822a266b5ccb3a1e323ddc8721d62</td>\n",
       "      <td>45.506176</td>\n",
       "      <td>-73.711186</td>\n",
       "    </tr>\n",
       "    <tr>\n",
       "      <th>4</th>\n",
       "      <td>660275cd7d4368cc7590f1606c633bd6</td>\n",
       "      <td>45.512994</td>\n",
       "      <td>-73.682498</td>\n",
       "    </tr>\n",
       "    <tr>\n",
       "      <th>5</th>\n",
       "      <td>fddada5adc997290212b3f540c017274</td>\n",
       "      <td>45.514734</td>\n",
       "      <td>-73.691449</td>\n",
       "    </tr>\n",
       "    <tr>\n",
       "      <th>6</th>\n",
       "      <td>83d02cd8a043b8305a4031063005d32e</td>\n",
       "      <td>45.522341</td>\n",
       "      <td>-73.721679</td>\n",
       "    </tr>\n",
       "    <tr>\n",
       "      <th>7</th>\n",
       "      <td>888e6052f1aebab8d8a527776b3499b6</td>\n",
       "      <td>45.566869</td>\n",
       "      <td>-73.641017</td>\n",
       "    </tr>\n",
       "  </tbody>\n",
       "</table>\n",
       "</div>"
      ],
      "text/plain": [
       "                        station ids   latitude  longitude\n",
       "0  72bfd647b3d2b650546f42319729757d  45.617500 -73.606011\n",
       "1  36c6491aa1b52e5ef7005f984738de27  45.516926 -73.564257\n",
       "2  30f081e03c42b3e7b3a5c4cd5acc3286  45.541549 -73.565012\n",
       "3  8db822a266b5ccb3a1e323ddc8721d62  45.506176 -73.711186\n",
       "4  660275cd7d4368cc7590f1606c633bd6  45.512994 -73.682498\n",
       "5  fddada5adc997290212b3f540c017274  45.514734 -73.691449\n",
       "6  83d02cd8a043b8305a4031063005d32e  45.522341 -73.721679\n",
       "7  888e6052f1aebab8d8a527776b3499b6  45.566869 -73.641017"
      ]
     },
     "execution_count": 7,
     "metadata": {},
     "output_type": "execute_result"
    }
   ],
   "source": [
    "# foursquare results for everything within 1000 m of each station location\n",
    "\n",
    "mtl_stations[['station ids','latitude','longitude']]\n",
    "# print(type(mtl_stations))\n"
   ]
  },
  {
   "cell_type": "code",
   "execution_count": 8,
   "metadata": {},
   "outputs": [
    {
     "data": {
      "text/plain": [
       "(0    45.617499783128075\n",
       " 1    45.516926210319546\n",
       " 2     45.54154850456526\n",
       " 3    45.506175841460966\n",
       " 4      45.5129938566323\n",
       " 5     45.51473429416659\n",
       " 6     45.52234149817879\n",
       " 7    45.566869345371856\n",
       " Name: latitude, dtype: object,\n",
       " 0    -73.60601127147675\n",
       " 1    -73.56425732374191\n",
       " 2    -73.56501236557959\n",
       " 3    -73.71118605136871\n",
       " 4    -73.68249848484993\n",
       " 5    -73.69144901633263\n",
       " 6    -73.72167885303497\n",
       " 7    -73.64101678133011\n",
       " Name: longitude, dtype: object)"
      ]
     },
     "execution_count": 8,
     "metadata": {},
     "output_type": "execute_result"
    }
   ],
   "source": [
    "# get lat long as strings \n",
    "def get_venues(mtl_stations):\n",
    "    lat, long = mtl_stations['latitude'].astype('str'), mtl_stations['longitude'].astype('str')\n",
    "    return lat, long\n",
    "get_venues(mtl_stations)\n"
   ]
  },
  {
   "cell_type": "code",
   "execution_count": 9,
   "metadata": {},
   "outputs": [
    {
     "ename": "NameError",
     "evalue": "name 'get_bars' is not defined",
     "output_type": "error",
     "traceback": [
      "\u001b[0;31m---------------------------------------------------------------------------\u001b[0m",
      "\u001b[0;31mNameError\u001b[0m                                 Traceback (most recent call last)",
      "Input \u001b[0;32mIn [9]\u001b[0m, in \u001b[0;36m<cell line: 1>\u001b[0;34m()\u001b[0m\n\u001b[1;32m      1\u001b[0m \u001b[38;5;28;01mfor\u001b[39;00m location \u001b[38;5;129;01min\u001b[39;00m mtl_stations:\n\u001b[0;32m----> 2\u001b[0m     \u001b[43mget_bars\u001b[49m(lat, long)\n",
      "\u001b[0;31mNameError\u001b[0m: name 'get_bars' is not defined"
     ]
    }
   ],
   "source": [
    "for location in mtl_stations:\n",
    "    get_bars(lat, long) "
   ]
  },
  {
   "cell_type": "markdown",
   "metadata": {
    "jp-MarkdownHeadingCollapsed": true,
    "tags": []
   },
   "source": [
    "#### Model Building Blocks"
   ]
  },
  {
   "cell_type": "code",
   "execution_count": 23,
   "metadata": {},
   "outputs": [],
   "source": [
    "import statsmodels.api as sm"
   ]
  },
  {
   "cell_type": "code",
   "execution_count": 24,
   "metadata": {},
   "outputs": [],
   "source": [
    "X = mtl_results['restaurant count']\n",
    "y = pd.Series(mtl_results['num stalls'])"
   ]
  },
  {
   "cell_type": "code",
   "execution_count": 25,
   "metadata": {},
   "outputs": [
    {
     "data": {
      "text/plain": [
       "0    11\n",
       "1    13\n",
       "2    12\n",
       "3    19\n",
       "4    21\n",
       "5    15\n",
       "6    15\n",
       "7    14\n",
       "Name: num stalls, dtype: int64"
      ]
     },
     "execution_count": 25,
     "metadata": {},
     "output_type": "execute_result"
    }
   ],
   "source": [
    "y"
   ]
  },
  {
   "cell_type": "code",
   "execution_count": 26,
   "metadata": {},
   "outputs": [
    {
     "name": "stdout",
     "output_type": "stream",
     "text": [
      "x type: <class 'pandas.core.frame.DataFrame'>\n"
     ]
    }
   ],
   "source": [
    "# make a regresssion to predict the num of restaurants based on the num of stalls available \n",
    "x = sm.add_constant(X) # adding a constant\n",
    "lin_reg = sm.OLS(y,x)\n",
    "print('x type:', type(x))"
   ]
  },
  {
   "cell_type": "code",
   "execution_count": 27,
   "metadata": {},
   "outputs": [
    {
     "name": "stdout",
     "output_type": "stream",
     "text": [
      "                            OLS Regression Results                            \n",
      "==============================================================================\n",
      "Dep. Variable:             num stalls   R-squared:                       0.003\n",
      "Model:                            OLS   Adj. R-squared:                 -0.163\n",
      "Method:                 Least Squares   F-statistic:                   0.02041\n",
      "Date:                Wed, 19 Apr 2023   Prob (F-statistic):              0.891\n",
      "Time:                        09:30:21   Log-Likelihood:                -20.647\n",
      "No. Observations:                   8   AIC:                             45.29\n",
      "Df Residuals:                       6   BIC:                             45.45\n",
      "Df Model:                           1                                         \n",
      "Covariance Type:            nonrobust                                         \n",
      "====================================================================================\n",
      "                       coef    std err          t      P>|t|      [0.025      0.975]\n",
      "------------------------------------------------------------------------------------\n",
      "const               14.6955      2.499      5.881      0.001       8.582      20.810\n",
      "restaurant count     0.0111      0.078      0.143      0.891      -0.179       0.202\n",
      "==============================================================================\n",
      "Omnibus:                        1.307   Durbin-Watson:                   1.186\n",
      "Prob(Omnibus):                  0.520   Jarque-Bera (JB):                0.851\n",
      "Skew:                           0.681   Prob(JB):                        0.654\n",
      "Kurtosis:                       2.165   Cond. No.                         61.5\n",
      "==============================================================================\n",
      "\n",
      "Notes:\n",
      "[1] Standard Errors assume that the covariance matrix of the errors is correctly specified.\n"
     ]
    },
    {
     "name": "stderr",
     "output_type": "stream",
     "text": [
      "/opt/homebrew/Caskroom/miniforge/base/envs/lhl_env/lib/python3.8/site-packages/scipy/stats/stats.py:1541: UserWarning: kurtosistest only valid for n>=20 ... continuing anyway, n=8\n",
      "  warnings.warn(\"kurtosistest only valid for n>=20 ... continuing \"\n"
     ]
    }
   ],
   "source": [
    "model = lin_reg.fit()\n",
    "print_model = model.summary()\n",
    "print(print_model)"
   ]
  },
  {
   "cell_type": "markdown",
   "metadata": {},
   "source": [
    "#### Analysis:\n",
    "\n",
    "* very high p-value of 0.891 indicates there is not a statistically significant relationship between the the number of restaurants to effectively predict the # of stalls available\n",
    "* very small r-square value of 0.003 indicates that this model explains less than 0.3% of the patterns in the data. \n",
    "* conclusion: not a strong model. Need to either look at other variables, or increase the # of stations. Even with the maximum results from foursquare. "
   ]
  },
  {
   "cell_type": "markdown",
   "metadata": {
    "jp-MarkdownHeadingCollapsed": true,
    "tags": []
   },
   "source": [
    "### Extra - non mvp "
   ]
  },
  {
   "cell_type": "code",
   "execution_count": 19,
   "metadata": {},
   "outputs": [],
   "source": [
    "restaurant_name_list = []\n",
    "for index, row in mtl_stations.iterrows():\n",
    "    r1 = get_bars(row['latitude'], row['longitude'])\n",
    "    latitude = row['latitude']\n",
    "    longitude = row['longitude']\n",
    "    for item in r1['results']:\n",
    "        restaurant_name = item['name']\n",
    "        restaurant_name_list.append(restaurant_name)\n",
    "    # print(restaurant_name_list)\n",
    "# TO DO - bring in lat and long data and sation id info into output\n",
    "    # \n",
    "    # restaurant_name = r1['results']['name']\n",
    "    \n",
    "\n",
    "# distance_list\n",
    "\n",
    "# popularity_list \n"
   ]
  },
  {
   "cell_type": "code",
   "execution_count": null,
   "metadata": {},
   "outputs": [],
   "source": []
  },
  {
   "cell_type": "code",
   "execution_count": 11,
   "metadata": {},
   "outputs": [
    {
     "name": "stdout",
     "output_type": "stream",
     "text": [
      "['Allô Mon Coco', 'Restaurant Prima Luna', 'Pizzeria Etc']\n"
     ]
    }
   ],
   "source": [
    "restaurant_names = []\n",
    "for index in range(len(result['results'])):\n",
    "    restaurant_names.append(result['results'][index]['name'])\n",
    "print(restaurant_names)\n"
   ]
  },
  {
   "cell_type": "code",
   "execution_count": 13,
   "metadata": {},
   "outputs": [
    {
     "name": "stdout",
     "output_type": "stream",
     "text": [
      "[841, 910, 931]\n"
     ]
    }
   ],
   "source": [
    "distances_list = []\n",
    "for index in range(len(result['results'])):\n",
    "    distances_list.append(result['results'][index]['distance'])\n",
    "print(distances_list)"
   ]
  },
  {
   "cell_type": "code",
   "execution_count": 15,
   "metadata": {},
   "outputs": [
    {
     "name": "stdout",
     "output_type": "stream",
     "text": [
      "[0.8117385178256391, 0.9710385166416046, 0.8565423825141788]\n"
     ]
    }
   ],
   "source": [
    "popularity_list = []\n",
    "for index in range(len(result['results'])):\n",
    "    popularity_list.append(result['results'][index]['popularity'])\n",
    "print(popularity_list)"
   ]
  },
  {
   "cell_type": "code",
   "execution_count": 23,
   "metadata": {},
   "outputs": [
    {
     "name": "stdout",
     "output_type": "stream",
     "text": [
      "['None', 7.4, 'None']\n"
     ]
    }
   ],
   "source": [
    "rating_list = []\n",
    "for index in range(len(result['results'])):\n",
    "    try:\n",
    "        rating_list.append(result['results'][index]['rating'])\n",
    "    except:\n",
    "        rating_list.append('None')\n",
    "print(rating_list)"
   ]
  },
  {
   "cell_type": "markdown",
   "metadata": {},
   "source": [
    "Parse through the response to get the POI (such as restaurants, bars, etc) details you want (ratings, name, location, etc)"
   ]
  },
  {
   "cell_type": "code",
   "execution_count": 20,
   "metadata": {},
   "outputs": [
    {
     "data": {
      "text/plain": [
       "45.566869345371856"
      ]
     },
     "execution_count": 20,
     "metadata": {},
     "output_type": "execute_result"
    }
   ],
   "source": [
    "latitude"
   ]
  },
  {
   "cell_type": "markdown",
   "metadata": {},
   "source": [
    "Put your parsed results into a DataFrame"
   ]
  },
  {
   "cell_type": "code",
   "execution_count": 22,
   "metadata": {},
   "outputs": [
    {
     "data": {
      "text/html": [
       "<div>\n",
       "<style scoped>\n",
       "    .dataframe tbody tr th:only-of-type {\n",
       "        vertical-align: middle;\n",
       "    }\n",
       "\n",
       "    .dataframe tbody tr th {\n",
       "        vertical-align: top;\n",
       "    }\n",
       "\n",
       "    .dataframe thead th {\n",
       "        text-align: right;\n",
       "    }\n",
       "</style>\n",
       "<table border=\"1\" class=\"dataframe\">\n",
       "  <thead>\n",
       "    <tr style=\"text-align: right;\">\n",
       "      <th></th>\n",
       "      <th>Restaurant name</th>\n",
       "      <th>distance</th>\n",
       "      <th>Rating</th>\n",
       "      <th>Popularity</th>\n",
       "    </tr>\n",
       "  </thead>\n",
       "  <tbody>\n",
       "    <tr>\n",
       "      <th>0</th>\n",
       "      <td>Allô Mon Coco</td>\n",
       "      <td>841</td>\n",
       "      <td>NaN</td>\n",
       "      <td>0.811739</td>\n",
       "    </tr>\n",
       "    <tr>\n",
       "      <th>1</th>\n",
       "      <td>Restaurant Prima Luna</td>\n",
       "      <td>910</td>\n",
       "      <td>7.4</td>\n",
       "      <td>0.971039</td>\n",
       "    </tr>\n",
       "    <tr>\n",
       "      <th>2</th>\n",
       "      <td>Pizzeria Etc</td>\n",
       "      <td>931</td>\n",
       "      <td>NaN</td>\n",
       "      <td>0.856542</td>\n",
       "    </tr>\n",
       "  </tbody>\n",
       "</table>\n",
       "</div>"
      ],
      "text/plain": [
       "         Restaurant name  distance Rating  Popularity\n",
       "0          Allô Mon Coco       841    NaN    0.811739\n",
       "1  Restaurant Prima Luna       910    7.4    0.971039\n",
       "2           Pizzeria Etc       931    NaN    0.856542"
      ]
     },
     "execution_count": 22,
     "metadata": {},
     "output_type": "execute_result"
    }
   ],
   "source": [
    "#\n",
    "restaurants = pd.DataFrame({'station id': ******, 'station latitude': latitude*len(****), 'station longitude': longitude*len(***), 'Restaurant name': restaurant_names,'distance': distances_list, 'Rating': rating_list, 'Popularity': popularity_list})\n",
    "\n",
    "restaurants"
   ]
  },
  {
   "cell_type": "raw",
   "metadata": {},
   "source": []
  }
 ],
 "metadata": {
  "kernelspec": {
   "display_name": "lhl_env",
   "language": "python",
   "name": "lhl_env"
  },
  "language_info": {
   "codemirror_mode": {
    "name": "ipython",
    "version": 3
   },
   "file_extension": ".py",
   "mimetype": "text/x-python",
   "name": "python",
   "nbconvert_exporter": "python",
   "pygments_lexer": "ipython3",
   "version": "3.8.16"
  }
 },
 "nbformat": 4,
 "nbformat_minor": 4
}
